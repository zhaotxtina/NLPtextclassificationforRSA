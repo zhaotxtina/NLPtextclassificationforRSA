{
 "cells": [
  {
   "cell_type": "code",
   "execution_count": 25,
   "metadata": {},
   "outputs": [],
   "source": [
    "import csv\n",
    "import pandas as pd\n",
    "import numpy as np\n",
    "import seaborn as sns\n",
    "import re\n",
    "from nltk.corpus import stopwords\n",
    "import nltk\n",
    "import string\n",
    "import matplotlib.pyplot as plt\n",
    "import random\n",
    "%matplotlib inline\n",
    "import os\n",
    "\n",
    "from sklearn import model_selection, preprocessing, linear_model, naive_bayes, metrics, svm\n",
    "from sklearn.feature_extraction.text import TfidfVectorizer, CountVectorizer, TfidfTransformer\n",
    "from sklearn import decomposition, ensemble\n",
    "from sklearn.metrics import roc_curve, auc\n",
    "from sklearn.model_selection import cross_val_score\n",
    "\n",
    "from sklearn.model_selection import train_test_split\n",
    "from sklearn.naive_bayes import MultinomialNB\n",
    "from sklearn.ensemble import RandomForestClassifier\n",
    "#from nltk.corpus import stopwords\n",
    "from sklearn.svm import LinearSVC\n",
    "from sklearn.linear_model import LogisticRegression\n",
    "from sklearn.pipeline import Pipeline\n",
    "from sklearn.metrics import accuracy_score\n",
    "from sklearn.multiclass import OneVsRestClassifier\n",
    "\n",
    "from sklearn.metrics import classification_report\n",
    "from sklearn.multiclass import OneVsRestClassifier\n",
    "from sklearn.metrics import confusion_matrix\n",
    "\n",
    "import joblib\n",
    "\n",
    "from sklearn.svm import SVC\n",
    "from sklearn.neighbors import KNeighborsClassifier\n",
    "from sklearn.tree import DecisionTreeClassifier\n",
    "from sklearn.ensemble import GradientBoostingClassifier\n",
    "from sklearn.discriminant_analysis import LinearDiscriminantAnalysis\n"
   ]
  },
  {
   "cell_type": "markdown",
   "metadata": {},
   "source": [
    "### Define which phrase to model for"
   ]
  },
  {
   "cell_type": "code",
   "execution_count": 26,
   "metadata": {},
   "outputs": [],
   "source": [
    "# total 7 deletion reason based models\n",
    "group = 1\n",
    "deletionR = 'preventative_screening'\n",
    "#deletionR = 'negation'\n",
    "#deletionR = 'not_doctors_note'\n",
    "#deletionR = 'not_relevant'\n",
    "#deletionR = 'family_history'\n",
    "#deletionR = 'phoneORaddressORother_number'\n",
    "##deletionR = 'PMH' # this one I don't see it from deletion reason list, so don't know how to build a model from it"
   ]
  },
  {
   "cell_type": "code",
   "execution_count": 27,
   "metadata": {},
   "outputs": [],
   "source": [
    "# total 12 phrase-based models\n",
    "#group=2\n",
    "#phrase = 'stroke'\n",
    "#phrase = 'diabetes'\n",
    "#phrase = 'cholesterol'\n",
    "#phrase = 'cad'\n",
    "#phrase = 'hypertension'\n",
    "#phrase = 'aneurysm'\n",
    "#phrase = 'asthma'\n",
    "#phrase = 'cancer'\n",
    "#phrase = 'ckd'\n",
    "#phrase = 'dementia'\n",
    "#phrase = 'depression'\n",
    "#phrase = 'emphysema'"
   ]
  },
  {
   "cell_type": "code",
   "execution_count": 28,
   "metadata": {},
   "outputs": [],
   "source": [
    "# total 10 code based models\n",
    "#group = 3\n",
    "#codereason = 'Code_Model1'\n",
    "#codereason = 'Code_Model2'\n",
    "#codereason = 'Code_Model3'\n",
    "#codereason = 'Code_Cancer'\n",
    "#codereason = 'Code_Cholesterol'\n",
    "#codereason = 'Code_COPD'\n",
    "#codereason = 'Code_Depression'\n",
    "#codereason = 'Code_Diabetes'\n",
    "#codereason = 'Code_Heart'\n",
    "#codereason = 'Code_Kidney'\n"
   ]
  },
  {
   "cell_type": "markdown",
   "metadata": {},
   "source": [
    "### Part 1  Loading the  data "
   ]
  },
  {
   "cell_type": "code",
   "execution_count": 29,
   "metadata": {},
   "outputs": [
    {
     "name": "stderr",
     "output_type": "stream",
     "text": [
      "/opt/conda/lib/python3.7/site-packages/IPython/core/interactiveshell.py:3049: DtypeWarning: Columns (4) have mixed types. Specify dtype option on import or set low_memory=False.\n",
      "  interactivity=interactivity, compiler=compiler, result=result)\n"
     ]
    }
   ],
   "source": [
    "# the data processing and saving the 2000 charts are done in IBCdata_prepare4modeling_April022019.ipynb\n",
    "trainDF=pd.read_csv('ibc_trainingdata_040219.csv')  # pd.read_csv('/home/jovyan/work/TinaZ/ibc_trainingdata_040219.csv')\n",
    "testDF=pd.read_csv('ibc_testingdata_040219.csv')   #   pd.read_csv('/home/jovyan/work/TinaZ/ibc_testingdata_040219.csv')\n"
   ]
  },
  {
   "cell_type": "markdown",
   "metadata": {},
   "source": [
    "### Part 2. Data  processing"
   ]
  },
  {
   "cell_type": "code",
   "execution_count": 30,
   "metadata": {},
   "outputs": [],
   "source": [
    "code_list={}\n",
    "code_list[\"Code_Model1\"]=['I10','E119']\n",
    "code_list[\"Code_Model2\"]=['I2510','E785','K219','F329','I639']\n",
    "code_list[\"Code_Model3\"]=['I739','N183','Z992','B20','I213','R569','I43','J410','I714','R579','E550','I209','J45998','I480','B182','K210','K739']\n",
    "code_list[\"Code_Heart\"]=['I509','I482','I4891','I82401']\n",
    "code_list[\"Code_Depression\"]=['F411','F410','F40240','F458','F409','F4000','F4001','F445','F444','F40243','F446','F4010','F442','F408','F449','F451']\n",
    "code_list[\"Code_Kidney\"]=['N189','N181','N182','E1122','I130','E0822','E1022']\n",
    "code_list[\"Code_Diabetes\"]=['Z794','E109','E119','E139','E089','E099']\n",
    "code_list[\"Code_Cancer\"]=['C801','C50919','C189']\n",
    "code_list[\"Code_COPD\"]=['J449','J45909']\n",
    "code_list[\"Code_Cholesterol\"]=['E780','E785','E782','E789','E7800','E784','E781','E7801','E7881','E882','E783','E786','E7889','E756','E755','E7130']"
   ]
  },
  {
   "cell_type": "code",
   "execution_count": 31,
   "metadata": {},
   "outputs": [],
   "source": [
    "#code_list[codereason]"
   ]
  },
  {
   "cell_type": "code",
   "execution_count": 32,
   "metadata": {
    "scrolled": true
   },
   "outputs": [
    {
     "name": "stdout",
     "output_type": "stream",
     "text": [
      "349267\n",
      "349267\n",
      "349267\n",
      "18127\n",
      "178817\n"
     ]
    },
    {
     "data": {
      "text/html": [
       "<div>\n",
       "<style scoped>\n",
       "    .dataframe tbody tr th:only-of-type {\n",
       "        vertical-align: middle;\n",
       "    }\n",
       "\n",
       "    .dataframe tbody tr th {\n",
       "        vertical-align: top;\n",
       "    }\n",
       "\n",
       "    .dataframe thead th {\n",
       "        text-align: right;\n",
       "    }\n",
       "</style>\n",
       "<table border=\"1\" class=\"dataframe\">\n",
       "  <thead>\n",
       "    <tr style=\"text-align: right;\">\n",
       "      <th></th>\n",
       "      <th>Unnamed: 0</th>\n",
       "      <th>chart_id</th>\n",
       "      <th>code_id</th>\n",
       "      <th>text</th>\n",
       "      <th>deleted_reason</th>\n",
       "      <th>deleted</th>\n",
       "      <th>label</th>\n",
       "      <th>flag</th>\n",
       "      <th>cleaned_data</th>\n",
       "    </tr>\n",
       "  </thead>\n",
       "  <tbody>\n",
       "    <tr>\n",
       "      <th>0</th>\n",
       "      <td>0</td>\n",
       "      <td>002803945_161667176A_2016_001</td>\n",
       "      <td>E6601</td>\n",
       "      <td>e66.01</td>\n",
       "      <td>NaN</td>\n",
       "      <td>NaN</td>\n",
       "      <td>agreed</td>\n",
       "      <td>0</td>\n",
       "      <td>assessment morbid obesity due excess calories ...</td>\n",
       "    </tr>\n",
       "    <tr>\n",
       "      <th>1</th>\n",
       "      <td>1</td>\n",
       "      <td>002803945_161667176A_2016_001</td>\n",
       "      <td>E6601</td>\n",
       "      <td>e66.01</td>\n",
       "      <td>NaN</td>\n",
       "      <td>NaN</td>\n",
       "      <td>agreed</td>\n",
       "      <td>0</td>\n",
       "      <td>ise assessment morbid obesity due excess calor...</td>\n",
       "    </tr>\n",
       "    <tr>\n",
       "      <th>2</th>\n",
       "      <td>2</td>\n",
       "      <td>002803945_161667176A_2016_001</td>\n",
       "      <td>E789</td>\n",
       "      <td>e78.9</td>\n",
       "      <td>NaN</td>\n",
       "      <td>NaN</td>\n",
       "      <td>agreed</td>\n",
       "      <td>0</td>\n",
       "      <td>izures f445 assessment elevated serum choleste...</td>\n",
       "    </tr>\n",
       "    <tr>\n",
       "      <th>3</th>\n",
       "      <td>3</td>\n",
       "      <td>002803945_161667176A_2016_001</td>\n",
       "      <td>F329</td>\n",
       "      <td>f32.9</td>\n",
       "      <td>NaN</td>\n",
       "      <td>NaN</td>\n",
       "      <td>agreed</td>\n",
       "      <td>0</td>\n",
       "      <td>etter meds flared head injury assessmentmajor ...</td>\n",
       "    </tr>\n",
       "    <tr>\n",
       "      <th>4</th>\n",
       "      <td>4</td>\n",
       "      <td>002803945_161667176A_2016_001</td>\n",
       "      <td>F329</td>\n",
       "      <td>Major depression</td>\n",
       "      <td>NaN</td>\n",
       "      <td>NaN</td>\n",
       "      <td>agreed</td>\n",
       "      <td>0</td>\n",
       "      <td>07281977 09192016 0600 pm 336 unspecified abno...</td>\n",
       "    </tr>\n",
       "  </tbody>\n",
       "</table>\n",
       "</div>"
      ],
      "text/plain": [
       "   Unnamed: 0                       chart_id code_id              text  \\\n",
       "0           0  002803945_161667176A_2016_001   E6601            e66.01   \n",
       "1           1  002803945_161667176A_2016_001   E6601            e66.01   \n",
       "2           2  002803945_161667176A_2016_001    E789             e78.9   \n",
       "3           3  002803945_161667176A_2016_001    F329             f32.9   \n",
       "4           4  002803945_161667176A_2016_001    F329  Major depression   \n",
       "\n",
       "  deleted_reason  deleted   label  flag  \\\n",
       "0            NaN      NaN  agreed     0   \n",
       "1            NaN      NaN  agreed     0   \n",
       "2            NaN      NaN  agreed     0   \n",
       "3            NaN      NaN  agreed     0   \n",
       "4            NaN      NaN  agreed     0   \n",
       "\n",
       "                                        cleaned_data  \n",
       "0  assessment morbid obesity due excess calories ...  \n",
       "1  ise assessment morbid obesity due excess calor...  \n",
       "2  izures f445 assessment elevated serum choleste...  \n",
       "3  etter meds flared head injury assessmentmajor ...  \n",
       "4  07281977 09192016 0600 pm 336 unspecified abno...  "
      ]
     },
     "execution_count": 32,
     "metadata": {},
     "output_type": "execute_result"
    }
   ],
   "source": [
    "#import re\n",
    "\n",
    "\n",
    "trainDF = trainDF[pd.notnull(trainDF['cleaned_data'])]\n",
    "print(len(trainDF))\n",
    "trainDF = trainDF[pd.notnull(trainDF['text'])]\n",
    "print(len(trainDF))\n",
    "\n",
    "testDF = testDF[pd.notnull(testDF['cleaned_data'])]\n",
    "print(len(trainDF))\n",
    "testDF = testDF[pd.notnull(testDF['text'])]\n",
    "print(len(testDF))\n",
    "\n",
    "if group==1:\n",
    "# if it's a deletion-based model, use the following to select data\n",
    "\n",
    "    agreeadddata=trainDF[trainDF['flag']==0]\n",
    "## or select trainDF['label']=='agreed' or 'added'\n",
    "    deleteddata=trainDF[trainDF['deleted_reason']==deletionR]\n",
    "    trainDF=pd.concat([agreeadddata,deleteddata])\n",
    "    \n",
    "    # do the same for testing data too\n",
    "#    agreeadddata=testDF[testDF['flag']==0]\n",
    "## or select trainDF['label']=='agreed' or 'added'\n",
    "#    deleteddata=testDF[testDF['deleted_reason']==deletionR]\n",
    "#    testDF=pd.concat([agreeadddata,deleteddata])\n",
    "    \n",
    "    \n",
    "elif group==2:\n",
    "# if it's phrase-based model, use the following way to select data\n",
    "    trainDF = trainDF[trainDF['text'].str.contains(phrase,flags=re.IGNORECASE)]  # here use phrase variable to select data\n",
    "    testDF = testDF[testDF['text'].str.contains(phrase,flags=re.IGNORECASE)]\n",
    "    \n",
    "elif group==3:\n",
    "# if it's code based model, use the following way to select model\n",
    "    trainDF = trainDF[trainDF['code_id'].isin(code_list[codereason])]\n",
    "    testDF = testDF[testDF['code_id'].isin(code_list[codereason])]\n",
    "else:\n",
    "    print('please define a valid group...')\n",
    "\n",
    "#trainDF = trainDF[trainDF['text75'].str.contains(r'^[0-9]')]\n",
    "print(len(trainDF))\n",
    "trainDF.head()"
   ]
  },
  {
   "cell_type": "code",
   "execution_count": 33,
   "metadata": {},
   "outputs": [
    {
     "data": {
      "image/png": "[encoded data removed]",
      "text/plain": [
       "<Figure size 576x432 with 1 Axes>"
      ]
     },
     "metadata": {
      "needs_background": "light"
     },
     "output_type": "display_data"
    },
    {
     "data": {
      "text/plain": [
       "flag\n",
       "0    164980\n",
       "1     13837\n",
       "dtype: int64"
      ]
     },
     "execution_count": 33,
     "metadata": {},
     "output_type": "execute_result"
    }
   ],
   "source": [
    "import matplotlib.pyplot as plt\n",
    "fig = plt.figure(figsize=(8,6))\n",
    "trainDF.groupby('flag').chart_id.count().plot.bar(ylim=0)\n",
    "plt.show()\n",
    "trainDF.groupby(['flag']).size()                 # 0 is agreed or added, 1 is deleted "
   ]
  },
  {
   "cell_type": "code",
   "execution_count": 34,
   "metadata": {
    "scrolled": true
   },
   "outputs": [
    {
     "data": {
      "text/html": [
       "<div>\n",
       "<style scoped>\n",
       "    .dataframe tbody tr th:only-of-type {\n",
       "        vertical-align: middle;\n",
       "    }\n",
       "\n",
       "    .dataframe tbody tr th {\n",
       "        vertical-align: top;\n",
       "    }\n",
       "\n",
       "    .dataframe thead th {\n",
       "        text-align: right;\n",
       "    }\n",
       "</style>\n",
       "<table border=\"1\" class=\"dataframe\">\n",
       "  <thead>\n",
       "    <tr style=\"text-align: right;\">\n",
       "      <th></th>\n",
       "      <th>text75</th>\n",
       "      <th>flag</th>\n",
       "    </tr>\n",
       "  </thead>\n",
       "  <tbody>\n",
       "    <tr>\n",
       "      <th>0</th>\n",
       "      <td>disorder z720 obstructive chronic bronchitis a...</td>\n",
       "      <td>0</td>\n",
       "    </tr>\n",
       "    <tr>\n",
       "      <th>1</th>\n",
       "      <td>initis j310 cough r05 esophageal reflux k219 h...</td>\n",
       "      <td>0</td>\n",
       "    </tr>\n",
       "    <tr>\n",
       "      <th>2</th>\n",
       "      <td>initis j310 cough r05 esophageal reflux k219 h...</td>\n",
       "      <td>0</td>\n",
       "    </tr>\n",
       "    <tr>\n",
       "      <th>3</th>\n",
       "      <td>yperlipidemia e785 mitral regurgitation 1340 m...</td>\n",
       "      <td>0</td>\n",
       "    </tr>\n",
       "    <tr>\n",
       "      <th>4</th>\n",
       "      <td>yperlipidemia e785 mitral fegurgithtion 1340 m...</td>\n",
       "      <td>0</td>\n",
       "    </tr>\n",
       "  </tbody>\n",
       "</table>\n",
       "</div>"
      ],
      "text/plain": [
       "                                              text75  flag\n",
       "0  disorder z720 obstructive chronic bronchitis a...     0\n",
       "1  initis j310 cough r05 esophageal reflux k219 h...     0\n",
       "2  initis j310 cough r05 esophageal reflux k219 h...     0\n",
       "3  yperlipidemia e785 mitral regurgitation 1340 m...     0\n",
       "4  yperlipidemia e785 mitral fegurgithtion 1340 m...     0"
      ]
     },
     "execution_count": 34,
     "metadata": {},
     "output_type": "execute_result"
    }
   ],
   "source": [
    "# select only two columns\n",
    "col = ['cleaned_data','flag']\n",
    "trainDF = trainDF[col]\n",
    "trainDF = trainDF[pd.notnull(trainDF['cleaned_data'])]\n",
    "trainDF.columns=['text75','flag']\n",
    "trainDF.head()\n",
    "testDF=testDF[col]\n",
    "testDF = testDF[pd.notnull(testDF['cleaned_data'])]\n",
    "testDF.columns=['text75','flag']\n",
    "testDF.head()"
   ]
  },
  {
   "cell_type": "markdown",
   "metadata": {},
   "source": [
    "### Part 3. Cross Validation Evaluation   It's not required to run"
   ]
  },
  {
   "cell_type": "code",
   "execution_count": 35,
   "metadata": {},
   "outputs": [],
   "source": [
    "X_train, X_test, y_train, y_test = train_test_split(trainDF['text75'], trainDF['flag'], random_state=42, test_size=0.25, shuffle=True)\n",
    "count_vect = TfidfVectorizer()\n",
    "X_train_counts = count_vect.fit_transform(X_train)\n",
    "tfidf_transformer = TfidfTransformer()\n",
    "X_train_tfidf = tfidf_transformer.fit_transform(X_train_counts)\n",
    "clf = MultinomialNB().fit(X_train_tfidf, y_train)"
   ]
  },
  {
   "cell_type": "code",
   "execution_count": 36,
   "metadata": {},
   "outputs": [
    {
     "data": {
      "text/plain": [
       "(178817, 99373)"
      ]
     },
     "execution_count": 36,
     "metadata": {},
     "output_type": "execute_result"
    }
   ],
   "source": [
    "from sklearn.feature_extraction.text import TfidfVectorizer\n",
    "tfidf = TfidfVectorizer(sublinear_tf=True, min_df=5, norm='l2', encoding='latin-1', ngram_range=(1, 2), stop_words='english')\n",
    "features = tfidf.fit_transform(trainDF.text75)  #.toarray()\n",
    "labels = trainDF.flag\n",
    "features.shape"
   ]
  },
  {
   "cell_type": "code",
   "execution_count": 37,
   "metadata": {},
   "outputs": [
    {
     "name": "stderr",
     "output_type": "stream",
     "text": [
      "/opt/conda/lib/python3.7/site-packages/sklearn/linear_model/logistic.py:433: FutureWarning: Default solver will be changed to 'lbfgs' in 0.22. Specify a solver to silence this warning.\n",
      "  FutureWarning)\n"
     ]
    },
    {
     "data": {
      "image/png": "[encoded data removed]",
      "text/plain": [
       "<Figure size 720x720 with 1 Axes>"
      ]
     },
     "metadata": {
      "needs_background": "light"
     },
     "output_type": "display_data"
    }
   ],
   "source": [
    "models = [\n",
    "    RandomForestClassifier(n_estimators=200, max_depth=3, random_state=0),\n",
    "    LinearSVC(),\n",
    "    MultinomialNB(),\n",
    "    LogisticRegression(random_state=0),\n",
    "]\n",
    "CV = 5\n",
    "cv_df = pd.DataFrame(index=range(CV * len(models)))\n",
    "entries = []\n",
    "for model in models:\n",
    "  model_name = model.__class__.__name__\n",
    "  accuracies = cross_val_score(model, features, labels, scoring='accuracy', cv=CV)\n",
    "  for fold_idx, accuracy in enumerate(accuracies):\n",
    "    entries.append((model_name, fold_idx, accuracy))\n",
    "cv_df = pd.DataFrame(entries, columns=['model_name', 'fold_idx', 'accuracy'])\n",
    "import seaborn as sns\n",
    "plt.figure(figsize = (10,10))\n",
    "sns.boxplot(x='model_name', y='accuracy', data=cv_df,palette=\"mako\")\n",
    "sns.stripplot(x='model_name', y='accuracy', data=cv_df, \n",
    "              size=8, jitter=True, edgecolor=\"gray\", linewidth=2)\n",
    "plt.show()"
   ]
  },
  {
   "cell_type": "code",
   "execution_count": 38,
   "metadata": {},
   "outputs": [
    {
     "data": {
      "text/plain": [
       "model_name\n",
       "LinearSVC                 0.980930\n",
       "LogisticRegression        0.977759\n",
       "MultinomialNB             0.971160\n",
       "RandomForestClassifier    0.922619\n",
       "Name: accuracy, dtype: float64"
      ]
     },
     "execution_count": 38,
     "metadata": {},
     "output_type": "execute_result"
    }
   ],
   "source": [
    "## Model Accuracies \n",
    "cv_df.groupby('model_name').accuracy.mean()"
   ]
  },
  {
   "cell_type": "markdown",
   "metadata": {},
   "source": [
    "### Part 4. Model Building"
   ]
  },
  {
   "cell_type": "code",
   "execution_count": 39,
   "metadata": {},
   "outputs": [],
   "source": [
    "train_x, valid_x, train_y, valid_y = model_selection.train_test_split(trainDF['text75'], trainDF['flag'],random_state=42, test_size=0.25)"
   ]
  },
  {
   "cell_type": "code",
   "execution_count": 40,
   "metadata": {},
   "outputs": [],
   "source": [
    "encoder = preprocessing.LabelEncoder()\n",
    "\n",
    "train_y = encoder.fit_transform(train_y)\n",
    "valid_y = encoder.fit_transform(valid_y)\n",
    "test_y = encoder.fit_transform(testDF['flag'])  # for independent testing on 2000 charts"
   ]
  },
  {
   "cell_type": "code",
   "execution_count": 41,
   "metadata": {
    "scrolled": false
   },
   "outputs": [
    {
     "name": "stdout",
     "output_type": "stream",
     "text": [
      "... Processing\n",
      "Test accuracy is 0.9768258584051001\n",
      "              precision    recall  f1-score   support\n",
      "\n",
      "           0       0.99      0.98      0.99     41781\n",
      "           1       0.77      0.91      0.84      2924\n",
      "\n",
      "   micro avg       0.98      0.98      0.98     44705\n",
      "   macro avg       0.88      0.95      0.91     44705\n",
      "weighted avg       0.98      0.98      0.98     44705\n",
      "\n",
      "threshold accuracy_score recall precision  f1_score tn  fn  fp  tp\n",
      "0.1 0.9608992282742422  0.68 0.93 0.79 39735 230 1518 3222\n",
      "0.2 0.9751705625768929  0.81 0.89 0.85 40517 374 736 3078\n",
      "0.3 0.9780114081198971  0.86 0.86 0.86 40769 499 484 2953\n",
      "0.4 0.9785035230958505  0.89 0.82 0.85 40920 628 333 2824\n",
      "0.5 0.9768258584051001  0.91 0.77 0.84 40999 782 254 2670\n",
      "0.6 0.9746560787383961  0.93 0.72 0.82 41072 952 181 2500\n",
      "0.7 0.9715020691197852  0.95 0.67 0.78 41131 1152 122 2300\n",
      "0.8 0.9669835588860306  0.96 0.59 0.74 41177 1400 76 2052\n",
      "0.9 0.9593557767587518  0.98 0.49 0.65 41211 1775 42 1677\n"
     ]
    },
    {
     "data": {
      "image/png": "[encoded data removed]",
      "text/plain": [
       "<Figure size 432x288 with 2 Axes>"
      ]
     },
     "metadata": {},
     "output_type": "display_data"
    }
   ],
   "source": [
    "# when building negation model, can use ngram because it needs context\n",
    "model_pipeline = Pipeline([\n",
    "              #  ('tfidf',CountVectorizer(token_pattern=r'\\w{3,}', stop_words='english')),\n",
    "              #  ('tfidf', CountVectorizer(analyzer='word', token_pattern=r'\\w{2,}', stop_words='english')),\n",
    "    ('tfidf', TfidfVectorizer(analyzer='word', token_pattern=r'\\w{3,}', stop_words='english',min_df=5)),\n",
    "   #  ('tfidf', TfidfVectorizer(analyzer='word', token_pattern=r'\\w{3,}',ngram_range=(1,2), stop_words='english',min_df=5)),\n",
    "  #   ('tfidf', TfidfVectorizer(analyzer='word', token_pattern=r'\\w{11,}',ngram_range=(1,11), stop_words='english',min_df=5)),\n",
    "  #   ('tfidf', CountVectorizer(analyzer='word', token_pattern=r'\\w{3,}',ngram_range=(1,11), stop_words='english',min_df=5)),\n",
    "                ('clf', OneVsRestClassifier(LogisticRegression(solver='sag'), n_jobs=1)),])\n",
    "                #('clf',OneVsRestClassifier(MultinomialNB(fit_prior=True, class_prior=None))),])\n",
    "                #('clf', OneVsRestClassifier(LinearSVC(), n_jobs=1)),])\n",
    "                #('clf',ensemble.RandomForestClassifier()),])\n",
    "    \n",
    "print('... Processing')\n",
    "model_pipeline.fit(train_x,train_y)\n",
    "\n",
    "#prediction = model_pipeline.predict(valid_x)\n",
    "#print(prediction)\n",
    "\n",
    "pred = model_pipeline.predict_proba(valid_x)\n",
    "#print(pred)\n",
    "y_pred = []\n",
    "for row in pred:\n",
    "    y_pred.append(row[1])\n",
    "y_pred = np.array(y_pred)\n",
    "prediction = np.where(y_pred > 0.5, 1, 0)\n",
    "#print(prediction)\n",
    "\n",
    "print('Test accuracy is {}'.format(accuracy_score(valid_y, prediction)))\n",
    "conf_mat = confusion_matrix(valid_y, prediction)\n",
    "df_cm = pd.DataFrame(conf_mat, range(2),\n",
    "                  range(2))\n",
    "sns.set(font_scale=1.4)#for label size\n",
    "sns.heatmap(df_cm, annot=True, fmt='d')\n",
    "print(classification_report(prediction, valid_y))\n",
    "\n",
    "# below is to use probability to output class prediction, then output all metrics for each threshold\n",
    "print(\"threshold accuracy_score recall precision  f1_score tn  fn  fp  tp\")\n",
    "for thres in [0.1,0.2,0.3,0.4,0.5,0.6,0.7,0.8,0.9]:  #no, cannot use it, this is for binary class only\n",
    "    prediction = np.where(y_pred > thres, 1, 0)\n",
    "        #print(prediction)\n",
    "    conf_mat = confusion_matrix(valid_y, prediction)\n",
    "    tn, fp, fn, tp = conf_mat.ravel()\n",
    "    report = classification_report(valid_y,prediction)\n",
    "    lines = report.split('\\n')\n",
    "    #print(lines[2])\n",
    "    row_data = lines[3].split('      ')\n",
    "    print(thres,accuracy_score(valid_y, prediction),row_data[2],row_data[3],row_data[4], tn, fn, fp, tp)\n"
   ]
  },
  {
   "cell_type": "code",
   "execution_count": 42,
   "metadata": {},
   "outputs": [
    {
     "name": "stdout",
     "output_type": "stream",
     "text": [
      "Test accuracy is 0.5528769239256358\n",
      "              precision    recall  f1-score   support\n",
      "\n",
      "           0       0.99      0.52      0.68     16636\n",
      "           1       0.15      0.96      0.26      1491\n",
      "\n",
      "   micro avg       0.55      0.55      0.55     18127\n",
      "   macro avg       0.57      0.74      0.47     18127\n",
      "weighted avg       0.92      0.55      0.65     18127\n",
      "\n",
      "threshold accuracy_score recall precision  f1_score tn  fn  fp  tp\n",
      "0.1 0.651679814641143  0.91 0.37 0.52 8326 5985 329 3487\n",
      "0.2 0.601864621834832  0.93 0.26 0.40 8479 7041 176 2431\n",
      "0.3 0.5799635902245269  0.95 0.21 0.34 8542 7501 113 1971\n",
      "0.4 0.5656203453412038  0.95 0.18 0.30 8569 7788 86 1684\n",
      "0.5 0.5528769239256358  0.96 0.15 0.26 8593 8043 62 1429\n",
      "0.6 0.5407403321012854  0.97 0.13 0.22 8614 8284 41 1188\n",
      "0.7 0.5286037402769349  0.97 0.10 0.18 8626 8516 29 956\n",
      "0.8 0.5164119821261102  0.97 0.08 0.14 8631 8742 24 730\n",
      "0.9 0.5055442158106692  0.97 0.06 0.10 8640 8948 15 524\n"
     ]
    },
    {
     "data": {
      "image/png": "[encoded data removed]",
      "text/plain": [
       "<Figure size 432x288 with 2 Axes>"
      ]
     },
     "metadata": {},
     "output_type": "display_data"
    }
   ],
   "source": [
    "# testing on the 2000 charts\n",
    "pred = model_pipeline.predict_proba(testDF['text75'])\n",
    "#print(pred)\n",
    "y_pred = []\n",
    "for row in pred:\n",
    "    y_pred.append(row[1])\n",
    "y_pred = np.array(y_pred)\n",
    "prediction = np.where(y_pred > 0.5, 1, 0)\n",
    "#print(prediction)\n",
    "\n",
    "print('Test accuracy is {}'.format(accuracy_score(test_y, prediction)))\n",
    "conf_mat = confusion_matrix(test_y, prediction)\n",
    "df_cm = pd.DataFrame(conf_mat, range(2),\n",
    "                  range(2))\n",
    "sns.set(font_scale=1.4)#for label size\n",
    "sns.heatmap(df_cm, annot=True, fmt='d')\n",
    "print(classification_report(prediction, test_y))\n",
    "\n",
    "# below is to use probability to output class prediction, then output all metrics for each threshold\n",
    "print(\"threshold accuracy_score recall precision  f1_score tn  fn  fp  tp\")\n",
    "for thres in [0.1,0.2,0.3,0.4,0.5,0.6,0.7,0.8,0.9]:  #no, cannot use it, this is for binary class only\n",
    "    prediction = np.where(y_pred > thres, 1, 0)\n",
    "        #print(prediction)\n",
    "    conf_mat = confusion_matrix(test_y, prediction)\n",
    "    tn, fp, fn, tp = conf_mat.ravel()\n",
    "    report = classification_report(test_y,prediction)\n",
    "    lines = report.split('\\n')\n",
    "    #print(lines[2])\n",
    "    row_data = lines[3].split('      ')\n",
    "    print(thres,accuracy_score(test_y, prediction),row_data[2],row_data[3],row_data[4], tn, fn, fp, tp)"
   ]
  },
  {
   "cell_type": "code",
   "execution_count": 43,
   "metadata": {},
   "outputs": [
    {
     "data": {
      "text/plain": [
       "'\\nif group==1:\\n    category=\\'DeletionReason\\'\\n    reason=deletionR\\n    joblib.dump(model_pipeline, \\'../picklefolder_ngrams/{}_{}_LRApril0219.pickle\\'.format(category,reason))\\nelif group==2:\\n    category=\\'Phrase\\'\\n    reason=phrase\\n    joblib.dump(model_pipeline, \\'../picklefolder_ngrams/{}_{}_LRApril0219.pickle\\'.format(category,reason))\\nelif group==3:\\n    #category=\\'Code\\'\\n    reason = codereason\\n    joblib.dump(model_pipeline, \\'../picklefolder_ngrams/{}_LRApril0219.pickle\\'.format(reason))\\nelse:\\n    print(\\'please define group so we know how to save the model...\\')\\n    \\n\\nprint(\"---pickle file dumped\")\\n\\n'"
      ]
     },
     "execution_count": 43,
     "metadata": {},
     "output_type": "execute_result"
    }
   ],
   "source": [
    "# saving pickle files\n",
    "'''\n",
    "if group==1:\n",
    "    category='DeletionReason'\n",
    "    reason=deletionR\n",
    "    joblib.dump(model_pipeline, '../picklefolder_ngrams/{}_{}_LRApril0219.pickle'.format(category,reason))\n",
    "elif group==2:\n",
    "    category='Phrase'\n",
    "    reason=phrase\n",
    "    joblib.dump(model_pipeline, '../picklefolder_ngrams/{}_{}_LRApril0219.pickle'.format(category,reason))\n",
    "elif group==3:\n",
    "    #category='Code'\n",
    "    reason = codereason\n",
    "    joblib.dump(model_pipeline, '../picklefolder_ngrams/{}_LRApril0219.pickle'.format(reason))\n",
    "else:\n",
    "    print('please define group so we know how to save the model...')\n",
    "    \n",
    "\n",
    "print(\"---pickle file dumped\")\n",
    "\n",
    "'''"
   ]
  },
  {
   "cell_type": "code",
   "execution_count": 44,
   "metadata": {},
   "outputs": [
    {
     "name": "stdout",
     "output_type": "stream",
     "text": [
      "... Processing\n"
     ]
    },
    {
     "name": "stderr",
     "output_type": "stream",
     "text": [
      "/opt/conda/lib/python3.7/site-packages/sklearn/ensemble/forest.py:246: FutureWarning: The default value of n_estimators will change from 10 in version 0.20 to 100 in 0.22.\n",
      "  \"10 in version 0.20 to 100 in 0.22.\", FutureWarning)\n"
     ]
    },
    {
     "name": "stdout",
     "output_type": "stream",
     "text": [
      "Test accuracy is 0.9779219326697237\n",
      "              precision    recall  f1-score   support\n",
      "\n",
      "           0       1.00      0.98      0.99     42010\n",
      "           1       0.75      0.96      0.84      2695\n",
      "\n",
      "   micro avg       0.98      0.98      0.98     44705\n",
      "   macro avg       0.87      0.97      0.91     44705\n",
      "weighted avg       0.98      0.98      0.98     44705\n",
      "\n",
      "threshold accuracy_score recall precision  f1_score tn  fn  fp  tp\n",
      "0.1 0.9511016664802595  0.62 0.93 0.75 39303 236 1950 3216\n",
      "0.2 0.9734257912985125  0.79 0.90 0.84 40426 361 827 3091\n",
      "0.3 0.9795324907728442  0.88 0.85 0.87 40840 502 413 2950\n",
      "0.4 0.9805167207247512  0.93 0.81 0.86 41052 670 201 2782\n",
      "0.5 0.9779219326697237  0.96 0.75 0.84 41138 872 115 2580\n",
      "0.6 0.9745666032882228  0.97 0.69 0.81 41182 1066 71 2386\n",
      "0.7 0.9687059613018678  0.98 0.61 0.75 41214 1360 39 2092\n",
      "0.8 0.9606308019237222  0.99 0.50 0.66 41235 1742 18 1710\n",
      "0.9 0.9491332065764456  0.99 0.34 0.51 41243 2264 10 1188\n"
     ]
    },
    {
     "data": {
      "image/png": "[encoded data removed]",
      "text/plain": [
       "<Figure size 432x288 with 2 Axes>"
      ]
     },
     "metadata": {},
     "output_type": "display_data"
    }
   ],
   "source": [
    "# RF method   # if we want to include or compare RF model\n",
    "model_pipeline2 = Pipeline([\n",
    "                #('tfidf',CountVectorizer(token_pattern=r'\\w{3,}', stop_words='english')),\n",
    "                ('tfidf', CountVectorizer(analyzer='word', token_pattern=r'\\w{2,}', stop_words='english')),\n",
    "    #('tfidf', TfidfVectorizer(analyzer='word', token_pattern=r'\\w{3,}', stop_words='english',min_df=5)),\n",
    "    #('tfidf', TfidfVectorizer(analyzer='word', token_pattern=r'\\w{3,}',ngram_range=(1,11), stop_words='english',min_df=5)),\n",
    "    \n",
    "                #('clf', OneVsRestClassifier(LogisticRegression(solver='sag'), n_jobs=1)),])\n",
    "                #('clf',OneVsRestClassifier(MultinomialNB(fit_prior=True, class_prior=None))),])\n",
    "                #('clf', OneVsRestClassifier(LinearSVC(), n_jobs=1)),])\n",
    "                ('clf',ensemble.RandomForestClassifier()),])\n",
    "            \n",
    "             \n",
    "print('... Processing')\n",
    "model_pipeline2.fit(train_x,train_y)\n",
    "#joblib.dump(model_pipeline, './picklefolder_ngrams/PhraseReason_cholestrol.pickle') \n",
    "#print(\"---pickle file dumped\")\n",
    "#print(prediction)\n",
    "pred = model_pipeline2.predict_proba(valid_x)\n",
    "#print(pred)\n",
    "y_pred = []\n",
    "for row in pred:\n",
    "    y_pred.append(row[1])\n",
    "y_pred = np.array(y_pred)\n",
    "prediction = np.where(y_pred > 0.5, 1, 0)\n",
    "#print(prediction)\n",
    "\n",
    "print('Test accuracy is {}'.format(accuracy_score(valid_y, prediction)))\n",
    "conf_mat = confusion_matrix(valid_y, prediction)\n",
    "df_cm = pd.DataFrame(conf_mat, range(2),\n",
    "                  range(2))\n",
    "sns.set(font_scale=1.4)#for label size\n",
    "sns.heatmap(df_cm, annot=True, fmt='d')\n",
    "print(classification_report(prediction, valid_y))\n",
    "\n",
    "# below is to use probability to output class prediction, then output all metrics for each threshold\n",
    "print(\"threshold accuracy_score recall precision  f1_score tn  fn  fp  tp\")\n",
    "for thres in [0.1,0.2,0.3,0.4,0.5,0.6,0.7,0.8,0.9]:  #no, cannot use it, this is for binary class only\n",
    "    prediction = np.where(y_pred > thres, 1, 0)\n",
    "        #print(prediction)\n",
    "    conf_mat = confusion_matrix(valid_y, prediction)\n",
    "    tn, fp, fn, tp = conf_mat.ravel()\n",
    "    report = classification_report(valid_y,prediction)\n",
    "    lines = report.split('\\n')\n",
    "    #print(lines[2])\n",
    "    row_data = lines[3].split('      ')\n",
    "    print(thres,accuracy_score(valid_y, prediction),row_data[2],row_data[3],row_data[4], tn, fn, fp, tp)\n",
    "    \n",
    "\n",
    "# saving pickle files\n",
    "#joblib.dump(model_pipeline, '../picklefolder_ngrams/PhraseReason_{}_RFApril0219.pickle'.format(phrase)) \n",
    "#print(\"---pickle file dumped\")\n",
    "  \n"
   ]
  },
  {
   "cell_type": "code",
   "execution_count": 45,
   "metadata": {},
   "outputs": [
    {
     "name": "stdout",
     "output_type": "stream",
     "text": [
      "Test accuracy is 0.5545870800463397\n",
      "              precision    recall  f1-score   support\n",
      "\n",
      "           0       1.00      0.52      0.68     16649\n",
      "           1       0.15      0.97      0.26      1478\n",
      "\n",
      "   micro avg       0.55      0.55      0.55     18127\n",
      "   macro avg       0.57      0.75      0.47     18127\n",
      "weighted avg       0.93      0.55      0.65     18127\n",
      "\n",
      "threshold accuracy_score recall precision  f1_score tn  fn  fp  tp\n",
      "0.1 0.6329232636398742  0.87 0.35 0.50 8145 6144 510 3328\n",
      "0.2 0.606167595299829  0.92 0.27 0.42 8423 6907 232 2565\n",
      "0.3 0.5834942351188834  0.95 0.22 0.35 8537 7432 118 2040\n",
      "0.4 0.5683234953384454  0.96 0.18 0.30 8589 7759 66 1713\n",
      "0.5 0.5545870800463397  0.97 0.15 0.26 8615 8034 40 1438\n",
      "0.6 0.5420091576101947  0.98 0.13 0.22 8625 8272 30 1200\n",
      "0.7 0.530148397418216  0.98 0.10 0.19 8639 8501 16 971\n",
      "0.8 0.518784134164506  0.98 0.08 0.15 8641 8709 14 763\n",
      "0.9 0.5051580515253489  0.99 0.05 0.10 8648 8963 7 509\n"
     ]
    },
    {
     "data": {
      "image/png": "[encoded data removed]",
      "text/plain": [
       "<Figure size 432x288 with 2 Axes>"
      ]
     },
     "metadata": {},
     "output_type": "display_data"
    }
   ],
   "source": [
    "# testing on the 2000 charts\n",
    "pred = model_pipeline2.predict_proba(testDF['text75'])\n",
    "#print(pred)\n",
    "y_pred = []\n",
    "for row in pred:\n",
    "    y_pred.append(row[1])\n",
    "y_pred = np.array(y_pred)\n",
    "prediction = np.where(y_pred > 0.5, 1, 0)\n",
    "#print(prediction)\n",
    "\n",
    "print('Test accuracy is {}'.format(accuracy_score(test_y, prediction)))\n",
    "conf_mat = confusion_matrix(test_y, prediction)\n",
    "df_cm = pd.DataFrame(conf_mat, range(2),\n",
    "                  range(2))\n",
    "sns.set(font_scale=1.4)#for label size\n",
    "sns.heatmap(df_cm, annot=True, fmt='d')\n",
    "print(classification_report(prediction, test_y))\n",
    "\n",
    "# below is to use probability to output class prediction, then output all metrics for each threshold\n",
    "print(\"threshold accuracy_score recall precision  f1_score tn  fn  fp  tp\")\n",
    "for thres in [0.1,0.2,0.3,0.4,0.5,0.6,0.7,0.8,0.9]:  #no, cannot use it, this is for binary class only\n",
    "    prediction = np.where(y_pred > thres, 1, 0)\n",
    "        #print(prediction)\n",
    "    conf_mat = confusion_matrix(test_y, prediction)\n",
    "    tn, fp, fn, tp = conf_mat.ravel()\n",
    "    report = classification_report(test_y,prediction)\n",
    "    lines = report.split('\\n')\n",
    "    #print(lines[2])\n",
    "    row_data = lines[3].split('      ')\n",
    "    print(thres,accuracy_score(test_y, prediction),row_data[2],row_data[3],row_data[4], tn, fn, fp, tp)"
   ]
  },
  {
   "cell_type": "markdown",
   "metadata": {},
   "source": [
    "####('clf',OneVsRestClassifier(MultinomialNB(fit_prior=True, class_prior=None))),])\n",
    "####('clf', OneVsRestClassifier(LinearSVC(), n_jobs=1)),])\n",
    "####('clf', OneVsRestClassifier(LogisticRegression(solver='sag'), n_jobs=1)),])\n",
    "####('clf',ensemble.RandomForestClassifier()),])"
   ]
  },
  {
   "cell_type": "markdown",
   "metadata": {},
   "source": [
    "### Saving the notebook as html and change the name to the corresponding model"
   ]
  },
  {
   "cell_type": "code",
   "execution_count": 46,
   "metadata": {},
   "outputs": [
    {
     "data": {
      "text/plain": [
       "\"\\nif group==1:\\n    category='DeletionReason'\\n    reason=deletionR\\n    name= category+'_'+reason\\nelif group==2:\\n    category='Phrase'\\n    reason=phrase\\n    name= category+'_'+reason\\nelif group==3:\\n    #category='Code'\\n    reason = codereason\\n    name=reason\\nelse:\\n    print('please define group so we know how to save the model...')\\n    \\n    # please rerun this part after the notebook finished running manually to save the display of the results from above\\n!jupyter nbconvert --to html phrase_code_deletion_based_general_April02.ipynb\\nos.rename('phrase_code_deletion_based_general_April02.html', '{}_April0319.html'.format(name))\\n\""
      ]
     },
     "execution_count": 46,
     "metadata": {},
     "output_type": "execute_result"
    }
   ],
   "source": [
    "'''\n",
    "if group==1:\n",
    "    category='DeletionReason'\n",
    "    reason=deletionR\n",
    "    name= category+'_'+reason\n",
    "elif group==2:\n",
    "    category='Phrase'\n",
    "    reason=phrase\n",
    "    name= category+'_'+reason\n",
    "elif group==3:\n",
    "    #category='Code'\n",
    "    reason = codereason\n",
    "    name=reason\n",
    "else:\n",
    "    print('please define group so we know how to save the model...')\n",
    "    \n",
    "    # please rerun this part after the notebook finished running manually to save the display of the results from above\n",
    "!jupyter nbconvert --to html phrase_code_deletion_based_general_April02.ipynb\n",
    "os.rename('phrase_code_deletion_based_general_April02.html', '{}_April0319.html'.format(name))\n",
    "'''"
   ]
  }
 ],
 "metadata": {
  "kernelspec": {
   "display_name": "Python 3",
   "language": "python",
   "name": "python3"
  },
  "language_info": {
   "codemirror_mode": {
    "name": "ipython",
    "version": 3
   },
   "file_extension": ".py",
   "mimetype": "text/x-python",
   "name": "python",
   "nbconvert_exporter": "python",
   "pygments_lexer": "ipython3",
   "version": "3.6.8"
  }
 },
 "nbformat": 4,
 "nbformat_minor": 2
}
