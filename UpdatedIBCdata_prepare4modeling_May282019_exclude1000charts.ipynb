{
 "cells": [
  {
   "cell_type": "code",
   "execution_count": 1,
   "metadata": {},
   "outputs": [],
   "source": [
    "import csv\n",
    "import pandas as pd\n",
    "import numpy as np\n",
    "import seaborn as sns\n",
    "import re\n",
    "from nltk.corpus import stopwords\n",
    "import nltk\n",
    "import string\n",
    "import matplotlib.pyplot as plt\n",
    "import random\n",
    "%matplotlib inline\n",
    "\n",
    "from sklearn import model_selection, preprocessing, linear_model, naive_bayes, metrics, svm\n",
    "from sklearn.feature_extraction.text import TfidfVectorizer, CountVectorizer, TfidfTransformer\n",
    "from sklearn import decomposition, ensemble\n",
    "from sklearn.metrics import roc_curve, auc\n",
    "from sklearn.model_selection import cross_val_score\n",
    "\n",
    "from sklearn.model_selection import train_test_split\n",
    "from sklearn.naive_bayes import MultinomialNB\n",
    "from sklearn.ensemble import RandomForestClassifier\n",
    "#from nltk.corpus import stopwords\n",
    "from sklearn.svm import LinearSVC\n",
    "from sklearn.linear_model import LogisticRegression\n",
    "from sklearn.pipeline import Pipeline\n",
    "from sklearn.metrics import accuracy_score\n",
    "from sklearn.multiclass import OneVsRestClassifier\n",
    "\n",
    "from sklearn.metrics import classification_report\n",
    "from sklearn.multiclass import OneVsRestClassifier\n",
    "from sklearn.metrics import confusion_matrix\n",
    "\n",
    "import joblib\n"
   ]
  },
  {
   "cell_type": "markdown",
   "metadata": {},
   "source": [
    "### Part 1  prepare for training data "
   ]
  },
  {
   "cell_type": "code",
   "execution_count": 81,
   "metadata": {},
   "outputs": [],
   "source": [
    "#ibc_df = pd.read_csv('/home/jovyan/work/Analytics_Data_training/conditions_output_290419.csv')\n",
    "ibc_df = pd.read_csv('/home/jovyan/work/Analytics_Data_training/conditions_with_chartids_29042019.csv')\n"
   ]
  },
  {
   "cell_type": "code",
   "execution_count": 3,
   "metadata": {},
   "outputs": [
    {
     "data": {
      "text/html": [
       "<div>\n",
       "<style scoped>\n",
       "    .dataframe tbody tr th:only-of-type {\n",
       "        vertical-align: middle;\n",
       "    }\n",
       "\n",
       "    .dataframe tbody tr th {\n",
       "        vertical-align: top;\n",
       "    }\n",
       "\n",
       "    .dataframe thead th {\n",
       "        text-align: right;\n",
       "    }\n",
       "</style>\n",
       "<table border=\"1\" class=\"dataframe\">\n",
       "  <thead>\n",
       "    <tr style=\"text-align: right;\">\n",
       "      <th></th>\n",
       "      <th>Unnamed: 0</th>\n",
       "      <th>chart_id</th>\n",
       "      <th>created_at</th>\n",
       "      <th>submission_id</th>\n",
       "      <th>user_id</th>\n",
       "      <th>code_id</th>\n",
       "      <th>diagnosis_id</th>\n",
       "      <th>isActive</th>\n",
       "      <th>status</th>\n",
       "      <th>ai</th>\n",
       "      <th>...</th>\n",
       "      <th>evidence</th>\n",
       "      <th>selectedText</th>\n",
       "      <th>start</th>\n",
       "      <th>text</th>\n",
       "      <th>75bef</th>\n",
       "      <th>75aft</th>\n",
       "      <th>25wordsbef</th>\n",
       "      <th>25wordsaft</th>\n",
       "      <th>label</th>\n",
       "      <th>flag</th>\n",
       "    </tr>\n",
       "  </thead>\n",
       "  <tbody>\n",
       "    <tr>\n",
       "      <th>0</th>\n",
       "      <td>0</td>\n",
       "      <td>IBXRMA2018_MULT_1216946630010001_HMK_166344375...</td>\n",
       "      <td>2019-04-04T01:34:25.808Z</td>\n",
       "      <td>580f20c4-425f-4923-8b72-7d78e2a8874e</td>\n",
       "      <td>russelle.p.garcia</td>\n",
       "      <td>F341</td>\n",
       "      <td>0a15e297-211e-4337-b990-1ed031e44368</td>\n",
       "      <td>True</td>\n",
       "      <td>NaN</td>\n",
       "      <td>True</td>\n",
       "      <td>...</td>\n",
       "      <td>diagnosis</td>\n",
       "      <td>NaN</td>\n",
       "      <td>8494</td>\n",
       "      <td>Dysthymic disorder</td>\n",
       "      <td>edema, no erythema.   ASSESSMENT   Diagnoses a...</td>\n",
       "      <td>[ICD-10: F34.1], [ICD-9: 300.4], [SNOMED: 786...</td>\n",
       "      <td>no masses, BS normal. Extremities: FROM, no de...</td>\n",
       "      <td>[ICD-10: F34.1], [ICD-9: 300.4], [SNOMED: 786...</td>\n",
       "      <td>agreed</td>\n",
       "      <td>1</td>\n",
       "    </tr>\n",
       "    <tr>\n",
       "      <th>1</th>\n",
       "      <td>1</td>\n",
       "      <td>IBXRMA2018_MULT_1216946630010001_HMK_166344375...</td>\n",
       "      <td>2019-04-04T01:34:25.808Z</td>\n",
       "      <td>580f20c4-425f-4923-8b72-7d78e2a8874e</td>\n",
       "      <td>russelle.p.garcia</td>\n",
       "      <td>F341</td>\n",
       "      <td>c3b4bacd-8b23-4cb1-9637-2d12afd702c3</td>\n",
       "      <td>True</td>\n",
       "      <td>NaN</td>\n",
       "      <td>True</td>\n",
       "      <td>...</td>\n",
       "      <td>diagnosis</td>\n",
       "      <td>NaN</td>\n",
       "      <td>8522</td>\n",
       "      <td>f34.1</td>\n",
       "      <td>MENT   Diagnoses attached to this encounter:  ...</td>\n",
       "      <td>], [ICD-9: 300.4], [SNOMED: 78667006]   Unspec...</td>\n",
       "      <td>normal. Extremities: FROM, no deformities, no ...</td>\n",
       "      <td>], [ICD-9: 300.4], [SNOMED: 78667006]   Unspec...</td>\n",
       "      <td>agreed</td>\n",
       "      <td>1</td>\n",
       "    </tr>\n",
       "    <tr>\n",
       "      <th>2</th>\n",
       "      <td>2</td>\n",
       "      <td>IBXRMA2018_MULT_1216946630010001_HMK_166344375...</td>\n",
       "      <td>2019-04-04T01:34:25.808Z</td>\n",
       "      <td>580f20c4-425f-4923-8b72-7d78e2a8874e</td>\n",
       "      <td>russelle.p.garcia</td>\n",
       "      <td>E039</td>\n",
       "      <td>18833cf3-b8e4-4623-81da-8df94629458a</td>\n",
       "      <td>True</td>\n",
       "      <td>NaN</td>\n",
       "      <td>True</td>\n",
       "      <td>...</td>\n",
       "      <td>diagnosis</td>\n",
       "      <td>NaN</td>\n",
       "      <td>8603</td>\n",
       "      <td>e03.9</td>\n",
       "      <td>, [ICD-9: 300.4], [SNOMED: 78667006]   Unspeci...</td>\n",
       "      <td>], [ICD-9: 244.9], [SNOMED: 40930008]  Mixed h...</td>\n",
       "      <td>ASSESSMENT   Diagnoses attached to this encou...</td>\n",
       "      <td>], [ICD-9: 244.9], [SNOMED: 40930008]  Mixed h...</td>\n",
       "      <td>agreed</td>\n",
       "      <td>1</td>\n",
       "    </tr>\n",
       "    <tr>\n",
       "      <th>3</th>\n",
       "      <td>3</td>\n",
       "      <td>IBXRMA2018_MULT_1216946630010001_HMK_166344375...</td>\n",
       "      <td>2019-04-04T01:34:25.808Z</td>\n",
       "      <td>580f20c4-425f-4923-8b72-7d78e2a8874e</td>\n",
       "      <td>russelle.p.garcia</td>\n",
       "      <td>E039</td>\n",
       "      <td>6a6832d1-4976-4f8f-acdf-36079c004526</td>\n",
       "      <td>True</td>\n",
       "      <td>NaN</td>\n",
       "      <td>True</td>\n",
       "      <td>...</td>\n",
       "      <td>diagnosis</td>\n",
       "      <td>NaN</td>\n",
       "      <td>8567</td>\n",
       "      <td>Unspecified hypothyroidism</td>\n",
       "      <td>Dysthymic disorder [ICD-10: F34.1], [ICD-9: ...</td>\n",
       "      <td>[ICD-10: E03.9], [ICD-9: 244.9], [SNOMED: 409...</td>\n",
       "      <td>no erythema.   ASSESSMENT   Diagnoses attached...</td>\n",
       "      <td>[ICD-10: E03.9], [ICD-9: 244.9], [SNOMED: 409...</td>\n",
       "      <td>agreed</td>\n",
       "      <td>1</td>\n",
       "    </tr>\n",
       "    <tr>\n",
       "      <th>4</th>\n",
       "      <td>4</td>\n",
       "      <td>IBXRMA2018_MULT_1216946630010001_HMK_166344375...</td>\n",
       "      <td>2019-04-04T01:34:25.808Z</td>\n",
       "      <td>580f20c4-425f-4923-8b72-7d78e2a8874e</td>\n",
       "      <td>russelle.p.garcia</td>\n",
       "      <td>E782</td>\n",
       "      <td>cba1d3fb-0c79-479b-a640-8a1886925ad9</td>\n",
       "      <td>True</td>\n",
       "      <td>NaN</td>\n",
       "      <td>True</td>\n",
       "      <td>...</td>\n",
       "      <td>diagnosis</td>\n",
       "      <td>NaN</td>\n",
       "      <td>8647</td>\n",
       "      <td>Mixed hyperlipidemia</td>\n",
       "      <td>cified hypothyroidism [ICD-10: E03.9], [ICD-9:...</td>\n",
       "      <td>[ICD-10: E78.2], [ICD-9: 272.2], [SNOMED: 267...</td>\n",
       "      <td>to this encounter:   Dysthymic disorder [ICD-1...</td>\n",
       "      <td>[ICD-10: E78.2], [ICD-9: 272.2], [SNOMED: 267...</td>\n",
       "      <td>agreed</td>\n",
       "      <td>1</td>\n",
       "    </tr>\n",
       "  </tbody>\n",
       "</table>\n",
       "<p>5 rows × 24 columns</p>\n",
       "</div>"
      ],
      "text/plain": [
       "   Unnamed: 0                                           chart_id  \\\n",
       "0           0  IBXRMA2018_MULT_1216946630010001_HMK_166344375...   \n",
       "1           1  IBXRMA2018_MULT_1216946630010001_HMK_166344375...   \n",
       "2           2  IBXRMA2018_MULT_1216946630010001_HMK_166344375...   \n",
       "3           3  IBXRMA2018_MULT_1216946630010001_HMK_166344375...   \n",
       "4           4  IBXRMA2018_MULT_1216946630010001_HMK_166344375...   \n",
       "\n",
       "                 created_at                         submission_id  \\\n",
       "0  2019-04-04T01:34:25.808Z  580f20c4-425f-4923-8b72-7d78e2a8874e   \n",
       "1  2019-04-04T01:34:25.808Z  580f20c4-425f-4923-8b72-7d78e2a8874e   \n",
       "2  2019-04-04T01:34:25.808Z  580f20c4-425f-4923-8b72-7d78e2a8874e   \n",
       "3  2019-04-04T01:34:25.808Z  580f20c4-425f-4923-8b72-7d78e2a8874e   \n",
       "4  2019-04-04T01:34:25.808Z  580f20c4-425f-4923-8b72-7d78e2a8874e   \n",
       "\n",
       "             user_id code_id                          diagnosis_id  isActive  \\\n",
       "0  russelle.p.garcia    F341  0a15e297-211e-4337-b990-1ed031e44368      True   \n",
       "1  russelle.p.garcia    F341  c3b4bacd-8b23-4cb1-9637-2d12afd702c3      True   \n",
       "2  russelle.p.garcia    E039  18833cf3-b8e4-4623-81da-8df94629458a      True   \n",
       "3  russelle.p.garcia    E039  6a6832d1-4976-4f8f-acdf-36079c004526      True   \n",
       "4  russelle.p.garcia    E782  cba1d3fb-0c79-479b-a640-8a1886925ad9      True   \n",
       "\n",
       "  status    ai ...    evidence selectedText start                        text  \\\n",
       "0    NaN  True ...   diagnosis          NaN  8494          Dysthymic disorder   \n",
       "1    NaN  True ...   diagnosis          NaN  8522                       f34.1   \n",
       "2    NaN  True ...   diagnosis          NaN  8603                       e03.9   \n",
       "3    NaN  True ...   diagnosis          NaN  8567  Unspecified hypothyroidism   \n",
       "4    NaN  True ...   diagnosis          NaN  8647        Mixed hyperlipidemia   \n",
       "\n",
       "                                               75bef  \\\n",
       "0  edema, no erythema.   ASSESSMENT   Diagnoses a...   \n",
       "1  MENT   Diagnoses attached to this encounter:  ...   \n",
       "2  , [ICD-9: 300.4], [SNOMED: 78667006]   Unspeci...   \n",
       "3    Dysthymic disorder [ICD-10: F34.1], [ICD-9: ...   \n",
       "4  cified hypothyroidism [ICD-10: E03.9], [ICD-9:...   \n",
       "\n",
       "                                               75aft  \\\n",
       "0   [ICD-10: F34.1], [ICD-9: 300.4], [SNOMED: 786...   \n",
       "1  ], [ICD-9: 300.4], [SNOMED: 78667006]   Unspec...   \n",
       "2  ], [ICD-9: 244.9], [SNOMED: 40930008]  Mixed h...   \n",
       "3   [ICD-10: E03.9], [ICD-9: 244.9], [SNOMED: 409...   \n",
       "4   [ICD-10: E78.2], [ICD-9: 272.2], [SNOMED: 267...   \n",
       "\n",
       "                                          25wordsbef  \\\n",
       "0  no masses, BS normal. Extremities: FROM, no de...   \n",
       "1  normal. Extremities: FROM, no deformities, no ...   \n",
       "2   ASSESSMENT   Diagnoses attached to this encou...   \n",
       "3  no erythema.   ASSESSMENT   Diagnoses attached...   \n",
       "4  to this encounter:   Dysthymic disorder [ICD-1...   \n",
       "\n",
       "                                          25wordsaft   label flag  \n",
       "0   [ICD-10: F34.1], [ICD-9: 300.4], [SNOMED: 786...  agreed    1  \n",
       "1  ], [ICD-9: 300.4], [SNOMED: 78667006]   Unspec...  agreed    1  \n",
       "2  ], [ICD-9: 244.9], [SNOMED: 40930008]  Mixed h...  agreed    1  \n",
       "3   [ICD-10: E03.9], [ICD-9: 244.9], [SNOMED: 409...  agreed    1  \n",
       "4   [ICD-10: E78.2], [ICD-9: 272.2], [SNOMED: 267...  agreed    1  \n",
       "\n",
       "[5 rows x 24 columns]"
      ]
     },
     "execution_count": 3,
     "metadata": {},
     "output_type": "execute_result"
    }
   ],
   "source": [
    "ibc_df.head()"
   ]
  },
  {
   "cell_type": "code",
   "execution_count": 82,
   "metadata": {},
   "outputs": [
    {
     "data": {
      "text/plain": [
       "Index(['Unnamed: 0', 'chart_id', 'created_at', 'submission_id', 'user_id',\n",
       "       'code_id', 'diagnosis_id', 'isActive', 'status', 'ai', 'annotation_id',\n",
       "       'deleted', 'deleted_reason', 'end', 'evidence', 'selectedText', 'start',\n",
       "       'text', '75bef', '75aft', '25wordsbef', '25wordsaft', 'label', 'flag'],\n",
       "      dtype='object')"
      ]
     },
     "execution_count": 82,
     "metadata": {},
     "output_type": "execute_result"
    }
   ],
   "source": [
    "ibc_df.columns"
   ]
  },
  {
   "cell_type": "code",
   "execution_count": 83,
   "metadata": {},
   "outputs": [
    {
     "data": {
      "text/plain": [
       "added      79814\n",
       "agreed     41794\n",
       "deleted    14919\n",
       "Name: label, dtype: int64"
      ]
     },
     "execution_count": 83,
     "metadata": {},
     "output_type": "execute_result"
    }
   ],
   "source": [
    "ibc_df['label'].value_counts()"
   ]
  },
  {
   "cell_type": "code",
   "execution_count": 84,
   "metadata": {},
   "outputs": [
    {
     "data": {
      "text/plain": [
       "1    121608\n",
       "0     14919\n",
       "Name: flag, dtype: int64"
      ]
     },
     "execution_count": 84,
     "metadata": {},
     "output_type": "execute_result"
    }
   ],
   "source": [
    "ibc_df['flag'].value_counts()"
   ]
  },
  {
   "cell_type": "code",
   "execution_count": 85,
   "metadata": {},
   "outputs": [
    {
     "data": {
      "text/plain": [
       "other                                          9554\n",
       "Wrong DOS                                      8503\n",
       "not_relevant                                   2263\n",
       "incorrect_spec                                 1229\n",
       "Incorrect Specification - Non-Risk Adjusted     775\n",
       "repeated_instance                               712\n",
       "not_doctors_note                                570\n",
       "incorrect_year_of_service                       493\n",
       "preventative_screening                          328\n",
       "negation                                        119\n",
       "family_history                                   85\n",
       "Active Diagnosis Code                            25\n",
       "incorrect_version                                21\n",
       "incorrect_acronym                                11\n",
       "phoneORaddressORother_number                      9\n",
       "Name: deleted_reason, dtype: int64"
      ]
     },
     "execution_count": 85,
     "metadata": {},
     "output_type": "execute_result"
    }
   ],
   "source": [
    "ibc_df['deleted_reason'].value_counts()"
   ]
  },
  {
   "cell_type": "code",
   "execution_count": 86,
   "metadata": {},
   "outputs": [
    {
     "data": {
      "text/plain": [
       "15143"
      ]
     },
     "execution_count": 86,
     "metadata": {},
     "output_type": "execute_result"
    }
   ],
   "source": [
    "8503+2263+1229+775+712+570+493+328+119+85+25+21+11+9"
   ]
  },
  {
   "cell_type": "code",
   "execution_count": 87,
   "metadata": {},
   "outputs": [
    {
     "data": {
      "image/png": "[encoded data removed]",
      "text/plain": [
       "<Figure size 576x432 with 1 Axes>"
      ]
     },
     "metadata": {
      "needs_background": "light"
     },
     "output_type": "display_data"
    },
    {
     "data": {
      "text/plain": [
       "deleted_reason\n",
       "Active Diagnosis Code                            25\n",
       "Incorrect Specification - Non-Risk Adjusted     775\n",
       "Wrong DOS                                      8503\n",
       "family_history                                   85\n",
       "incorrect_acronym                                11\n",
       "incorrect_spec                                 1229\n",
       "incorrect_version                                21\n",
       "incorrect_year_of_service                       493\n",
       "negation                                        119\n",
       "not_doctors_note                                570\n",
       "not_relevant                                   2263\n",
       "other                                          9554\n",
       "phoneORaddressORother_number                      9\n",
       "preventative_screening                          328\n",
       "repeated_instance                               712\n",
       "dtype: int64"
      ]
     },
     "execution_count": 87,
     "metadata": {},
     "output_type": "execute_result"
    }
   ],
   "source": [
    "import matplotlib.pyplot as plt\n",
    "fig = plt.figure(figsize=(8,6))\n",
    "ibc_df.groupby('deleted_reason').flag.count().plot.bar(ylim=0)\n",
    "plt.show()\n",
    "ibc_df.groupby(['deleted_reason']).size()  "
   ]
  },
  {
   "cell_type": "code",
   "execution_count": 88,
   "metadata": {},
   "outputs": [
    {
     "name": "stdout",
     "output_type": "stream",
     "text": [
      "136527\n",
      "133318\n"
     ]
    }
   ],
   "source": [
    "# remove the 4 specific deletion reasons from dataset\n",
    "print(len(ibc_df))  # before removing some data\n",
    "listreason=['incorrect_year_of_service','Incorrect Specification - Non-Risk Adjusted','repeated_instance', 'incorrect_spec']\n",
    "ibc_df=ibc_df[ibc_df['deleted_reason'].isin(listreason)== False]\n",
    "ibc_df['deleted_reason'].unique()\n",
    "print(len(ibc_df)) # a few were removed"
   ]
  },
  {
   "cell_type": "code",
   "execution_count": 89,
   "metadata": {},
   "outputs": [
    {
     "data": {
      "text/plain": [
       "added      79814\n",
       "agreed     40565\n",
       "deleted    12939\n",
       "Name: label, dtype: int64"
      ]
     },
     "execution_count": 89,
     "metadata": {},
     "output_type": "execute_result"
    }
   ],
   "source": [
    "ibc_df['label'].value_counts()"
   ]
  },
  {
   "cell_type": "code",
   "execution_count": 90,
   "metadata": {},
   "outputs": [
    {
     "data": {
      "text/plain": [
       "1    120379\n",
       "0     12939\n",
       "Name: flag, dtype: int64"
      ]
     },
     "execution_count": 90,
     "metadata": {},
     "output_type": "execute_result"
    }
   ],
   "source": [
    "ibc_df['flag'].value_counts()"
   ]
  },
  {
   "cell_type": "code",
   "execution_count": 91,
   "metadata": {},
   "outputs": [
    {
     "data": {
      "text/plain": [
       "other                           9554\n",
       "Wrong DOS                       8503\n",
       "not_relevant                    2263\n",
       "not_doctors_note                 570\n",
       "preventative_screening           328\n",
       "negation                         119\n",
       "family_history                    85\n",
       "Active Diagnosis Code             25\n",
       "incorrect_version                 21\n",
       "incorrect_acronym                 11\n",
       "phoneORaddressORother_number       9\n",
       "Name: deleted_reason, dtype: int64"
      ]
     },
     "execution_count": 91,
     "metadata": {},
     "output_type": "execute_result"
    }
   ],
   "source": [
    "ibc_df['deleted_reason'].value_counts()"
   ]
  },
  {
   "cell_type": "code",
   "execution_count": 92,
   "metadata": {},
   "outputs": [
    {
     "data": {
      "image/png": "[encoded data removed]",
      "text/plain": [
       "<Figure size 576x432 with 1 Axes>"
      ]
     },
     "metadata": {
      "needs_background": "light"
     },
     "output_type": "display_data"
    },
    {
     "data": {
      "text/plain": [
       "deleted_reason\n",
       "Active Diagnosis Code             25\n",
       "Wrong DOS                       8503\n",
       "family_history                    85\n",
       "incorrect_acronym                 11\n",
       "incorrect_version                 21\n",
       "negation                         119\n",
       "not_doctors_note                 570\n",
       "not_relevant                    2263\n",
       "other                           9554\n",
       "phoneORaddressORother_number       9\n",
       "preventative_screening           328\n",
       "dtype: int64"
      ]
     },
     "execution_count": 92,
     "metadata": {},
     "output_type": "execute_result"
    }
   ],
   "source": [
    "import matplotlib.pyplot as plt\n",
    "fig = plt.figure(figsize=(8,6))\n",
    "ibc_df.groupby('deleted_reason').flag.count().plot.bar(ylim=0)\n",
    "plt.show()\n",
    "ibc_df.groupby(['deleted_reason']).size()  "
   ]
  },
  {
   "cell_type": "code",
   "execution_count": 93,
   "metadata": {},
   "outputs": [],
   "source": [
    "# now merger 75bef and 75aft and text to make the whole 75char\n",
    "ibc_df['75char']=ibc_df['75bef']+ibc_df['text']+ibc_df['75aft']"
   ]
  },
  {
   "cell_type": "code",
   "execution_count": 94,
   "metadata": {},
   "outputs": [
    {
     "name": "stderr",
     "output_type": "stream",
     "text": [
      "[nltk_data] Downloading package stopwords to /home/jovyan/nltk_data...\n",
      "[nltk_data]   Package stopwords is already up-to-date!\n"
     ]
    }
   ],
   "source": [
    "# doing some preprocessing or cleaning punctuation and stop words\n",
    "ibc_df= ibc_df.replace(np.nan,'',regex = True)\n",
    "ibc_df=ibc_df\n",
    "ibc_df['text75'] = ibc_df['75char']\n",
    "ibc_df = ibc_df[pd.notnull(ibc_df['text75'])] \n",
    "ibc_df['cleaned_data'] = ibc_df['text75'].apply(lambda x: x.lower())\n",
    "ibc_df['cleaned_data'] = ibc_df['cleaned_data'].apply(lambda x: x.translate(str.maketrans('','',string.punctuation)))\n",
    "\n",
    "# remove stopwords\n",
    "nltk.download('stopwords')\n",
    "stop = stopwords.words('english')\n",
    "\n",
    "ibc_df['cleaned_data']= ibc_df['cleaned_data'].apply(lambda x: ' '.join([word for word in x.split() if word not in (stop)]))\n",
    "ibc_df['cleaned_data']= ibc_df['cleaned_data'].str.findall('\\w{2,}').str.join(' ')"
   ]
  },
  {
   "cell_type": "code",
   "execution_count": 95,
   "metadata": {},
   "outputs": [
    {
     "data": {
      "text/html": [
       "<div>\n",
       "<style scoped>\n",
       "    .dataframe tbody tr th:only-of-type {\n",
       "        vertical-align: middle;\n",
       "    }\n",
       "\n",
       "    .dataframe tbody tr th {\n",
       "        vertical-align: top;\n",
       "    }\n",
       "\n",
       "    .dataframe thead th {\n",
       "        text-align: right;\n",
       "    }\n",
       "</style>\n",
       "<table border=\"1\" class=\"dataframe\">\n",
       "  <thead>\n",
       "    <tr style=\"text-align: right;\">\n",
       "      <th></th>\n",
       "      <th>Unnamed: 0</th>\n",
       "      <th>chart_id</th>\n",
       "      <th>created_at</th>\n",
       "      <th>submission_id</th>\n",
       "      <th>user_id</th>\n",
       "      <th>code_id</th>\n",
       "      <th>diagnosis_id</th>\n",
       "      <th>isActive</th>\n",
       "      <th>status</th>\n",
       "      <th>ai</th>\n",
       "      <th>...</th>\n",
       "      <th>text</th>\n",
       "      <th>75bef</th>\n",
       "      <th>75aft</th>\n",
       "      <th>25wordsbef</th>\n",
       "      <th>25wordsaft</th>\n",
       "      <th>label</th>\n",
       "      <th>flag</th>\n",
       "      <th>75char</th>\n",
       "      <th>text75</th>\n",
       "      <th>cleaned_data</th>\n",
       "    </tr>\n",
       "  </thead>\n",
       "  <tbody>\n",
       "    <tr>\n",
       "      <th>136522</th>\n",
       "      <td>563808</td>\n",
       "      <td>IBXRMA2018_MULT_1200195330010001_HMK_197464373...</td>\n",
       "      <td>2019-03-20T11:03:26.826Z</td>\n",
       "      <td>778a7ce8-c9ef-4d33-9ae9-25176ce75034</td>\n",
       "      <td>h.sathyanarayanamur</td>\n",
       "      <td>E849</td>\n",
       "      <td>a64ef5c7-ad59-4960-a75c-3aaeca244a89</td>\n",
       "      <td>True</td>\n",
       "      <td>undocumented</td>\n",
       "      <td>False</td>\n",
       "      <td>...</td>\n",
       "      <td>Cystic fibrosis</td>\n",
       "      <td>Grill, MaryTheresa 000000001141 07/22/1954 06...</td>\n",
       "      <td>gene05/15/1989Y   carrier   History of polyp ...</td>\n",
       "      <td>Chronic deafness06/06/2017Y   HLD - Hyperlipi...</td>\n",
       "      <td>gene05/15/1989Y   carrier   History of polyp ...</td>\n",
       "      <td>added</td>\n",
       "      <td>1</td>\n",
       "      <td>Grill, MaryTheresa 000000001141 07/22/1954 06...</td>\n",
       "      <td>Grill, MaryTheresa 000000001141 07/22/1954 06...</td>\n",
       "      <td>grill marytheresa 000000001141 07221954 060620...</td>\n",
       "    </tr>\n",
       "    <tr>\n",
       "      <th>136523</th>\n",
       "      <td>563809</td>\n",
       "      <td>IBXRMA2018_MULT_1200195330010001_HMK_197464373...</td>\n",
       "      <td>2019-03-20T11:03:26.826Z</td>\n",
       "      <td>778a7ce8-c9ef-4d33-9ae9-25176ce75034</td>\n",
       "      <td>h.sathyanarayanamur</td>\n",
       "      <td>E849</td>\n",
       "      <td>a855743b-f371-47c4-995d-0c9295acff54</td>\n",
       "      <td>True</td>\n",
       "      <td>undocumented</td>\n",
       "      <td>False</td>\n",
       "      <td>...</td>\n",
       "      <td>Cystic fibrosis</td>\n",
       "      <td>situ   Chronic deafness06/06/2017Y   HLD - H...</td>\n",
       "      <td>gene05/15/1989Y  carrier   History of polyp o...</td>\n",
       "      <td>Problem DescriptionOnset DateChronicClinical S...</td>\n",
       "      <td>gene05/15/1989Y  carrier   History of polyp o...</td>\n",
       "      <td>added</td>\n",
       "      <td>1</td>\n",
       "      <td>situ   Chronic deafness06/06/2017Y   HLD - H...</td>\n",
       "      <td>situ   Chronic deafness06/06/2017Y   HLD - H...</td>\n",
       "      <td>situ chronic deafness06062017y hld hyperlipida...</td>\n",
       "    </tr>\n",
       "    <tr>\n",
       "      <th>136524</th>\n",
       "      <td>563810</td>\n",
       "      <td>IBXRMA2018_MULT_1200195330010001_HMK_197464373...</td>\n",
       "      <td>2019-03-20T11:03:26.826Z</td>\n",
       "      <td>778a7ce8-c9ef-4d33-9ae9-25176ce75034</td>\n",
       "      <td>h.sathyanarayanamur</td>\n",
       "      <td>E849</td>\n",
       "      <td>a79c0e1d-f761-4320-a033-b1ecb6760c5a</td>\n",
       "      <td>True</td>\n",
       "      <td>undocumented</td>\n",
       "      <td>False</td>\n",
       "      <td>...</td>\n",
       "      <td>Cystic fibrosis</td>\n",
       "      <td>situ   Chronic deafness06/06/2017Y   HLD - H...</td>\n",
       "      <td>gene05/15/1989Y  carrier   History of polyp o...</td>\n",
       "      <td>Problem DescriptionOnset DateChronicClinical S...</td>\n",
       "      <td>gene05/15/1989Y  carrier   History of polyp o...</td>\n",
       "      <td>added</td>\n",
       "      <td>1</td>\n",
       "      <td>situ   Chronic deafness06/06/2017Y   HLD - H...</td>\n",
       "      <td>situ   Chronic deafness06/06/2017Y   HLD - H...</td>\n",
       "      <td>situ chronic deafness06062017y hld hyperlipida...</td>\n",
       "    </tr>\n",
       "    <tr>\n",
       "      <th>136525</th>\n",
       "      <td>563811</td>\n",
       "      <td>IBXRMA2018_MULT_1200195330010001_HMK_197464373...</td>\n",
       "      <td>2019-03-20T11:03:26.826Z</td>\n",
       "      <td>778a7ce8-c9ef-4d33-9ae9-25176ce75034</td>\n",
       "      <td>h.sathyanarayanamur</td>\n",
       "      <td>K219</td>\n",
       "      <td>e495e09c-667f-4987-b997-bd2f21ff19b6</td>\n",
       "      <td>True</td>\n",
       "      <td>undocumented</td>\n",
       "      <td>False</td>\n",
       "      <td>...</td>\n",
       "      <td>Gastroesophageal   Y\\nreflux disease</td>\n",
       "      <td></td>\n",
       "      <td>Grill, MaryTheresa  DOB: 07/22/1954   CONTENTS...</td>\n",
       "      <td></td>\n",
       "      <td>NextGen Patient Record   Name: Grill, Mary...</td>\n",
       "      <td>added</td>\n",
       "      <td>1</td>\n",
       "      <td></td>\n",
       "      <td></td>\n",
       "      <td></td>\n",
       "    </tr>\n",
       "    <tr>\n",
       "      <th>136526</th>\n",
       "      <td>563812</td>\n",
       "      <td>IBXRMA2018_MULT_1200195330010001_HMK_197464373...</td>\n",
       "      <td>2019-03-20T11:03:26.826Z</td>\n",
       "      <td>778a7ce8-c9ef-4d33-9ae9-25176ce75034</td>\n",
       "      <td>h.sathyanarayanamur</td>\n",
       "      <td>K219</td>\n",
       "      <td>31bfd563-fd40-4cd4-994f-0a5d1da114c5</td>\n",
       "      <td>True</td>\n",
       "      <td>undocumented</td>\n",
       "      <td>False</td>\n",
       "      <td>...</td>\n",
       "      <td>Gastroesophageal   Y\\nreflux disease</td>\n",
       "      <td></td>\n",
       "      <td>Grill, MaryTheresa  DOB: 07/22/1954   CONTENTS...</td>\n",
       "      <td></td>\n",
       "      <td>NextGen Patient Record   Name: Grill, Mary...</td>\n",
       "      <td>added</td>\n",
       "      <td>1</td>\n",
       "      <td></td>\n",
       "      <td></td>\n",
       "      <td></td>\n",
       "    </tr>\n",
       "  </tbody>\n",
       "</table>\n",
       "<p>5 rows × 27 columns</p>\n",
       "</div>"
      ],
      "text/plain": [
       "        Unnamed: 0                                           chart_id  \\\n",
       "136522      563808  IBXRMA2018_MULT_1200195330010001_HMK_197464373...   \n",
       "136523      563809  IBXRMA2018_MULT_1200195330010001_HMK_197464373...   \n",
       "136524      563810  IBXRMA2018_MULT_1200195330010001_HMK_197464373...   \n",
       "136525      563811  IBXRMA2018_MULT_1200195330010001_HMK_197464373...   \n",
       "136526      563812  IBXRMA2018_MULT_1200195330010001_HMK_197464373...   \n",
       "\n",
       "                      created_at                         submission_id  \\\n",
       "136522  2019-03-20T11:03:26.826Z  778a7ce8-c9ef-4d33-9ae9-25176ce75034   \n",
       "136523  2019-03-20T11:03:26.826Z  778a7ce8-c9ef-4d33-9ae9-25176ce75034   \n",
       "136524  2019-03-20T11:03:26.826Z  778a7ce8-c9ef-4d33-9ae9-25176ce75034   \n",
       "136525  2019-03-20T11:03:26.826Z  778a7ce8-c9ef-4d33-9ae9-25176ce75034   \n",
       "136526  2019-03-20T11:03:26.826Z  778a7ce8-c9ef-4d33-9ae9-25176ce75034   \n",
       "\n",
       "                    user_id code_id                          diagnosis_id  \\\n",
       "136522  h.sathyanarayanamur    E849  a64ef5c7-ad59-4960-a75c-3aaeca244a89   \n",
       "136523  h.sathyanarayanamur    E849  a855743b-f371-47c4-995d-0c9295acff54   \n",
       "136524  h.sathyanarayanamur    E849  a79c0e1d-f761-4320-a033-b1ecb6760c5a   \n",
       "136525  h.sathyanarayanamur    K219  e495e09c-667f-4987-b997-bd2f21ff19b6   \n",
       "136526  h.sathyanarayanamur    K219  31bfd563-fd40-4cd4-994f-0a5d1da114c5   \n",
       "\n",
       "        isActive        status     ai  \\\n",
       "136522      True  undocumented  False   \n",
       "136523      True  undocumented  False   \n",
       "136524      True  undocumented  False   \n",
       "136525      True  undocumented  False   \n",
       "136526      True  undocumented  False   \n",
       "\n",
       "                              ...                          \\\n",
       "136522                        ...                           \n",
       "136523                        ...                           \n",
       "136524                        ...                           \n",
       "136525                        ...                           \n",
       "136526                        ...                           \n",
       "\n",
       "                                        text  \\\n",
       "136522                       Cystic fibrosis   \n",
       "136523                       Cystic fibrosis   \n",
       "136524                       Cystic fibrosis   \n",
       "136525  Gastroesophageal   Y\\nreflux disease   \n",
       "136526  Gastroesophageal   Y\\nreflux disease   \n",
       "\n",
       "                                                    75bef  \\\n",
       "136522   Grill, MaryTheresa 000000001141 07/22/1954 06...   \n",
       "136523    situ   Chronic deafness06/06/2017Y   HLD - H...   \n",
       "136524    situ   Chronic deafness06/06/2017Y   HLD - H...   \n",
       "136525                                                      \n",
       "136526                                                      \n",
       "\n",
       "                                                    75aft  \\\n",
       "136522   gene05/15/1989Y   carrier   History of polyp ...   \n",
       "136523   gene05/15/1989Y  carrier   History of polyp o...   \n",
       "136524   gene05/15/1989Y  carrier   History of polyp o...   \n",
       "136525  Grill, MaryTheresa  DOB: 07/22/1954   CONTENTS...   \n",
       "136526  Grill, MaryTheresa  DOB: 07/22/1954   CONTENTS...   \n",
       "\n",
       "                                               25wordsbef  \\\n",
       "136522   Chronic deafness06/06/2017Y   HLD - Hyperlipi...   \n",
       "136523  Problem DescriptionOnset DateChronicClinical S...   \n",
       "136524  Problem DescriptionOnset DateChronicClinical S...   \n",
       "136525                                                      \n",
       "136526                                                      \n",
       "\n",
       "                                               25wordsaft  label  flag  \\\n",
       "136522   gene05/15/1989Y   carrier   History of polyp ...  added     1   \n",
       "136523   gene05/15/1989Y  carrier   History of polyp o...  added     1   \n",
       "136524   gene05/15/1989Y  carrier   History of polyp o...  added     1   \n",
       "136525      NextGen Patient Record   Name: Grill, Mary...  added     1   \n",
       "136526      NextGen Patient Record   Name: Grill, Mary...  added     1   \n",
       "\n",
       "                                                   75char  \\\n",
       "136522   Grill, MaryTheresa 000000001141 07/22/1954 06...   \n",
       "136523    situ   Chronic deafness06/06/2017Y   HLD - H...   \n",
       "136524    situ   Chronic deafness06/06/2017Y   HLD - H...   \n",
       "136525                                                      \n",
       "136526                                                      \n",
       "\n",
       "                                                   text75  \\\n",
       "136522   Grill, MaryTheresa 000000001141 07/22/1954 06...   \n",
       "136523    situ   Chronic deafness06/06/2017Y   HLD - H...   \n",
       "136524    situ   Chronic deafness06/06/2017Y   HLD - H...   \n",
       "136525                                                      \n",
       "136526                                                      \n",
       "\n",
       "                                             cleaned_data  \n",
       "136522  grill marytheresa 000000001141 07221954 060620...  \n",
       "136523  situ chronic deafness06062017y hld hyperlipida...  \n",
       "136524  situ chronic deafness06062017y hld hyperlipida...  \n",
       "136525                                                     \n",
       "136526                                                     \n",
       "\n",
       "[5 rows x 27 columns]"
      ]
     },
     "execution_count": 95,
     "metadata": {},
     "output_type": "execute_result"
    }
   ],
   "source": [
    "ibc_df.reset_index(drop=True)\n",
    "ibc_df.tail()"
   ]
  },
  {
   "cell_type": "markdown",
   "metadata": {},
   "source": [
    "### set aside 1000 charts as testing charts  from AM's selected 1000 charts"
   ]
  },
  {
   "cell_type": "code",
   "execution_count": 96,
   "metadata": {},
   "outputs": [
    {
     "data": {
      "text/plain": [
       "5970"
      ]
     },
     "execution_count": 96,
     "metadata": {},
     "output_type": "execute_result"
    }
   ],
   "source": [
    "ibc_df['chart_id'].nunique() "
   ]
  },
  {
   "cell_type": "code",
   "execution_count": 97,
   "metadata": {},
   "outputs": [],
   "source": [
    "# 1000 charts\n",
    "chartlist=pd.read_csv('newmodel_charts2.csv')"
   ]
  },
  {
   "cell_type": "code",
   "execution_count": 98,
   "metadata": {},
   "outputs": [
    {
     "data": {
      "text/html": [
       "<div>\n",
       "<style scoped>\n",
       "    .dataframe tbody tr th:only-of-type {\n",
       "        vertical-align: middle;\n",
       "    }\n",
       "\n",
       "    .dataframe tbody tr th {\n",
       "        vertical-align: top;\n",
       "    }\n",
       "\n",
       "    .dataframe thead th {\n",
       "        text-align: right;\n",
       "    }\n",
       "</style>\n",
       "<table border=\"1\" class=\"dataframe\">\n",
       "  <thead>\n",
       "    <tr style=\"text-align: right;\">\n",
       "      <th></th>\n",
       "      <th>Unnamed: 0</th>\n",
       "      <th>chart_id</th>\n",
       "    </tr>\n",
       "  </thead>\n",
       "  <tbody>\n",
       "    <tr>\n",
       "      <th>0</th>\n",
       "      <td>0</td>\n",
       "      <td>IBXRMA2018_MULT_1215988930010001_HMK_203445469...</td>\n",
       "    </tr>\n",
       "    <tr>\n",
       "      <th>1</th>\n",
       "      <td>1</td>\n",
       "      <td>IBXRMA2018_MULT_1216836820010001_HMK_183382865...</td>\n",
       "    </tr>\n",
       "    <tr>\n",
       "      <th>2</th>\n",
       "      <td>2</td>\n",
       "      <td>IBXRMA2018_MULT_1217953950010001_HMK_194369925...</td>\n",
       "    </tr>\n",
       "    <tr>\n",
       "      <th>3</th>\n",
       "      <td>3</td>\n",
       "      <td>IBXRMA2018_MULT_1198751560010001_HMK_178444167...</td>\n",
       "    </tr>\n",
       "    <tr>\n",
       "      <th>4</th>\n",
       "      <td>4</td>\n",
       "      <td>IBXRMA2018_MULT_1218023650010001_HMK_201301197...</td>\n",
       "    </tr>\n",
       "  </tbody>\n",
       "</table>\n",
       "</div>"
      ],
      "text/plain": [
       "   Unnamed: 0                                           chart_id\n",
       "0           0  IBXRMA2018_MULT_1215988930010001_HMK_203445469...\n",
       "1           1  IBXRMA2018_MULT_1216836820010001_HMK_183382865...\n",
       "2           2  IBXRMA2018_MULT_1217953950010001_HMK_194369925...\n",
       "3           3  IBXRMA2018_MULT_1198751560010001_HMK_178444167...\n",
       "4           4  IBXRMA2018_MULT_1218023650010001_HMK_201301197..."
      ]
     },
     "execution_count": 98,
     "metadata": {},
     "output_type": "execute_result"
    }
   ],
   "source": [
    "chartlist.head()"
   ]
  },
  {
   "cell_type": "code",
   "execution_count": 99,
   "metadata": {},
   "outputs": [
    {
     "name": "stdout",
     "output_type": "stream",
     "text": [
      "1044\n",
      "1044\n"
     ]
    }
   ],
   "source": [
    "chart_list=chartlist['chart_id'].tolist()\n",
    "print(len(chart_list))\n",
    "print(len(set(chart_list)))"
   ]
  },
  {
   "cell_type": "code",
   "execution_count": 100,
   "metadata": {},
   "outputs": [
    {
     "name": "stdout",
     "output_type": "stream",
     "text": [
      "5970\n",
      "5146\n"
     ]
    }
   ],
   "source": [
    "# select the data not in this list only\n",
    "print(ibc_df['chart_id'].nunique())\n",
    "traindata=ibc_df[ibc_df['chart_id'].isin(chart_list)==False]\n",
    "print(traindata['chart_id'].nunique())"
   ]
  },
  {
   "cell_type": "code",
   "execution_count": 101,
   "metadata": {},
   "outputs": [
    {
     "data": {
      "text/plain": [
       "array(['other', 'negation', 'preventative_screening', 'not_doctors_note',\n",
       "       'not_relevant', 'family_history', 'incorrect_acronym',\n",
       "       'phoneORaddressORother_number'], dtype=object)"
      ]
     },
     "execution_count": 101,
     "metadata": {},
     "output_type": "execute_result"
    }
   ],
   "source": [
    "traindata[traindata['flag']==0]['deleted_reason'].unique()"
   ]
  },
  {
   "cell_type": "markdown",
   "metadata": {},
   "source": [
    "### Load previous IBC data"
   ]
  },
  {
   "cell_type": "code",
   "execution_count": 102,
   "metadata": {},
   "outputs": [
    {
     "name": "stderr",
     "output_type": "stream",
     "text": [
      "/opt/conda/lib/python3.6/site-packages/IPython/core/interactiveshell.py:3044: DtypeWarning: Columns (7) have mixed types. Specify dtype option on import or set low_memory=False.\n",
      "  interactivity=interactivity, compiler=compiler, result=result)\n"
     ]
    }
   ],
   "source": [
    "trainDFold=pd.read_csv('/home/jovyan/work/Analytics_Data_training/ibc_trainingdata_040219.csv')  #  using prvious dataset \n",
    "testDFold=pd.read_csv('/home/jovyan/work/Analytics_Data_training/ibc_testingdata_040219.csv')\n",
    "allprevious_ibc_df=pd.concat([trainDFold,testDFold])"
   ]
  },
  {
   "cell_type": "code",
   "execution_count": 119,
   "metadata": {},
   "outputs": [
    {
     "name": "stderr",
     "output_type": "stream",
     "text": [
      "/opt/conda/lib/python3.6/site-packages/IPython/core/interactiveshell.py:3044: DtypeWarning: Columns (6) have mixed types. Specify dtype option on import or set low_memory=False.\n",
      "  interactivity=interactivity, compiler=compiler, result=result)\n"
     ]
    }
   ],
   "source": [
    "allprevious_ibc_d2f=pd.read_csv('/home/jovyan/work/Analytics_Data_training/IBC_data_260319_1.csv')"
   ]
  },
  {
   "cell_type": "code",
   "execution_count": 121,
   "metadata": {
    "scrolled": true
   },
   "outputs": [
    {
     "data": {
      "text/plain": [
       "not_relevant                                   63361\n",
       "not_doctors_note                               35074\n",
       "Incorrect Specification - Non-Risk Adjusted    30514\n",
       "negation                                       29691\n",
       "other                                          19345\n",
       "family_history                                 15494\n",
       "preventative_screening                         14616\n",
       "incorrect_spec                                 12728\n",
       "phoneORaddressORother_number                    5250\n",
       "repeated_instance                               5199\n",
       "incorrect_year_of_service                       3370\n",
       "incorrect_acronym                               3172\n",
       "medical_history                                 1201\n",
       "incorrect_version                                  6\n",
       "Name: deleted_reason, dtype: int64"
      ]
     },
     "execution_count": 121,
     "metadata": {},
     "output_type": "execute_result"
    }
   ],
   "source": [
    "allprevious_ibc_d2f['deleted_reason'].value_counts()"
   ]
  },
  {
   "cell_type": "code",
   "execution_count": 137,
   "metadata": {},
   "outputs": [
    {
     "name": "stdout",
     "output_type": "stream",
     "text": [
      "15494\n",
      "223477\n",
      "7113\n",
      "2956\n"
     ]
    }
   ],
   "source": [
    "'''\n",
    "# this is just for family history reason data check\n",
    "test1=allprevious_ibc_d2f[allprevious_ibc_d2f['deleted_reason']=='family_history']\n",
    "\n",
    "test2=allprevious_ibc_d2f[pd.notnull(allprevious_ibc_d2f['deleted_reason'])] \n",
    "\n",
    "test2=test2[pd.notnull(test2['75char'])] \n",
    "test2=test2[test2['deleted_reason']!='family_history']\n",
    "#test2=allprevious_ibc_d2f[allprevious_ibc_d2f['deleted_reason']!='family_history']\n",
    "print(len(test1))\n",
    "print(len(test2))\n",
    "\n",
    "print(len(test1[test1['75char'].str.contains('family history',flags=re.IGNORECASE)]))\n",
    "print(len(test2[test2['75char'].str.contains('family history',flags=re.IGNORECASE)]))\n",
    "'''"
   ]
  },
  {
   "cell_type": "code",
   "execution_count": 104,
   "metadata": {},
   "outputs": [
    {
     "data": {
      "text/plain": [
       "Index(['Unnamed: 0', 'Unnamed: 0.1', 'chart_id', 'code_id', 'text',\n",
       "       'start_offset', 'end_offset', 'deleted_reason', 'deleted', 'label',\n",
       "       '15char', '25char', '50char', '75char', '10word_after', '10word_before',\n",
       "       '50word_after', '50word_before', 'flag', 'text75', 'cleaned_data'],\n",
       "      dtype='object')"
      ]
     },
     "execution_count": 104,
     "metadata": {},
     "output_type": "execute_result"
    }
   ],
   "source": [
    "allprevious_ibc_df.columns"
   ]
  },
  {
   "cell_type": "code",
   "execution_count": 117,
   "metadata": {},
   "outputs": [
    {
     "data": {
      "text/plain": [
       "41025"
      ]
     },
     "execution_count": 117,
     "metadata": {},
     "output_type": "execute_result"
    }
   ],
   "source": [
    "allprevious_ibc_df['chart_id'].nunique()"
   ]
  },
  {
   "cell_type": "code",
   "execution_count": 105,
   "metadata": {},
   "outputs": [
    {
     "data": {
      "text/plain": [
       "1    193800\n",
       "0    173651\n",
       "Name: flag, dtype: int64"
      ]
     },
     "execution_count": 105,
     "metadata": {},
     "output_type": "execute_result"
    }
   ],
   "source": [
    "allprevious_ibc_df['flag'].value_counts()"
   ]
  },
  {
   "cell_type": "code",
   "execution_count": 106,
   "metadata": {},
   "outputs": [
    {
     "data": {
      "text/plain": [
       "deleted    193800\n",
       "added       95563\n",
       "agreed      78088\n",
       "Name: label, dtype: int64"
      ]
     },
     "execution_count": 106,
     "metadata": {},
     "output_type": "execute_result"
    }
   ],
   "source": [
    "allprevious_ibc_df['label'].value_counts()"
   ]
  },
  {
   "cell_type": "code",
   "execution_count": 107,
   "metadata": {},
   "outputs": [],
   "source": [
    "allprevious_ibc_df['flag']=1-allprevious_ibc_df['flag']  # need to reverse the flag, because 1 is agreed, not deleted"
   ]
  },
  {
   "cell_type": "code",
   "execution_count": 108,
   "metadata": {},
   "outputs": [
    {
     "name": "stdout",
     "output_type": "stream",
     "text": [
      "41025\n",
      "5146\n"
     ]
    }
   ],
   "source": [
    "# from ibc 2017 data\n",
    "charttrainlist=allprevious_ibc_df['chart_id'].unique()\n",
    "print(len(charttrainlist))\n",
    "\n",
    "# below is from 5000 charts from recent chart review\n",
    "charttrainnewlist=traindata['chart_id'].unique()\n",
    "print(len(charttrainnewlist))"
   ]
  },
  {
   "cell_type": "code",
   "execution_count": 109,
   "metadata": {},
   "outputs": [
    {
     "name": "stdout",
     "output_type": "stream",
     "text": [
      "0\n"
     ]
    }
   ],
   "source": [
    "# check if there's overlap, there shouldn't be any\n",
    "print(len(list(set(charttrainlist)&set(charttrainnewlist))))   # if is 0, no overlap"
   ]
  },
  {
   "cell_type": "code",
   "execution_count": 110,
   "metadata": {},
   "outputs": [
    {
     "data": {
      "text/plain": [
       "Index(['Unnamed: 0', 'chart_id', 'created_at', 'submission_id', 'user_id',\n",
       "       'code_id', 'diagnosis_id', 'isActive', 'status', 'ai', 'annotation_id',\n",
       "       'deleted', 'deleted_reason', 'end', 'evidence', 'selectedText', 'start',\n",
       "       'text', '75bef', '75aft', '25wordsbef', '25wordsaft', 'label', 'flag',\n",
       "       '75char', 'text75', 'cleaned_data'],\n",
       "      dtype='object')"
      ]
     },
     "execution_count": 110,
     "metadata": {},
     "output_type": "execute_result"
    }
   ],
   "source": [
    "traindata.columns"
   ]
  },
  {
   "cell_type": "code",
   "execution_count": 111,
   "metadata": {},
   "outputs": [
    {
     "data": {
      "text/plain": [
       "Index(['Unnamed: 0', 'Unnamed: 0.1', 'chart_id', 'code_id', 'text',\n",
       "       'start_offset', 'end_offset', 'deleted_reason', 'deleted', 'label',\n",
       "       '15char', '25char', '50char', '75char', '10word_after', '10word_before',\n",
       "       '50word_after', '50word_before', 'flag', 'text75', 'cleaned_data'],\n",
       "      dtype='object')"
      ]
     },
     "execution_count": 111,
     "metadata": {},
     "output_type": "execute_result"
    }
   ],
   "source": [
    "allprevious_ibc_df.columns"
   ]
  },
  {
   "cell_type": "code",
   "execution_count": 112,
   "metadata": {},
   "outputs": [],
   "source": [
    "# select so these two have the same columns\n",
    "traindata=traindata[['chart_id','code_id','start','end','flag','text','deleted_reason','cleaned_data','label']]\n",
    "trainibcold=allprevious_ibc_df[['chart_id','code_id','start_offset','end_offset','flag','text','deleted_reason','cleaned_data','label']]\n",
    "trainibcold.columns=['chart_id','code_id','start','end','flag','text','deleted_reason','cleaned_data','label']"
   ]
  },
  {
   "cell_type": "code",
   "execution_count": 113,
   "metadata": {},
   "outputs": [
    {
     "name": "stdout",
     "output_type": "stream",
     "text": [
      "103254\n",
      "367451\n"
     ]
    }
   ],
   "source": [
    "print(len(traindata))\n",
    "print(len(trainibcold))"
   ]
  },
  {
   "cell_type": "code",
   "execution_count": 114,
   "metadata": {},
   "outputs": [
    {
     "name": "stdout",
     "output_type": "stream",
     "text": [
      "470705\n"
     ]
    }
   ],
   "source": [
    "# now combine these two data\n",
    "alltrainDF=pd.concat([traindata,trainibcold])\n",
    "print(len(alltrainDF))"
   ]
  },
  {
   "cell_type": "code",
   "execution_count": 115,
   "metadata": {},
   "outputs": [
    {
     "data": {
      "text/plain": [
       "467792"
      ]
     },
     "execution_count": 115,
     "metadata": {},
     "output_type": "execute_result"
    }
   ],
   "source": [
    "alltrainDF=alltrainDF[['chart_id','code_id','start','end','flag','text','deleted_reason','cleaned_data','label']].drop_duplicates()\n",
    "len(alltrainDF)"
   ]
  },
  {
   "cell_type": "code",
   "execution_count": 118,
   "metadata": {},
   "outputs": [
    {
     "data": {
      "text/plain": [
       "46171"
      ]
     },
     "execution_count": 118,
     "metadata": {},
     "output_type": "execute_result"
    }
   ],
   "source": [
    "alltrainDF['chart_id'].nunique()"
   ]
  },
  {
   "cell_type": "code",
   "execution_count": 116,
   "metadata": {},
   "outputs": [],
   "source": [
    "alltrainDF.to_csv('traindf_foribcupdated_0528.csv')"
   ]
  },
  {
   "cell_type": "code",
   "execution_count": 41,
   "metadata": {},
   "outputs": [
    {
     "data": {
      "text/plain": [
       "467531"
      ]
     },
     "execution_count": 41,
     "metadata": {},
     "output_type": "execute_result"
    }
   ],
   "source": [
    "# check if there's duplicate\n",
    "testalllen=alltrainDF[['chart_id','code_id','start','end','flag','text']].drop_duplicates()\n",
    "len(testalllen)"
   ]
  },
  {
   "cell_type": "code",
   "execution_count": 54,
   "metadata": {},
   "outputs": [
    {
     "data": {
      "text/plain": [
       "466233"
      ]
     },
     "execution_count": 54,
     "metadata": {},
     "output_type": "execute_result"
    }
   ],
   "source": [
    "testalllen1=alltrainDF[['chart_id','code_id','start','end','flag']].drop_duplicates()\n",
    "len(testalllen1)"
   ]
  },
  {
   "cell_type": "code",
   "execution_count": 55,
   "metadata": {},
   "outputs": [
    {
     "data": {
      "text/plain": [
       "462666"
      ]
     },
     "execution_count": 55,
     "metadata": {},
     "output_type": "execute_result"
    }
   ],
   "source": [
    "testalllen2=alltrainDF[['chart_id','code_id','start','end']].drop_duplicates()\n",
    "len(testalllen2)"
   ]
  },
  {
   "cell_type": "code",
   "execution_count": 56,
   "metadata": {},
   "outputs": [
    {
     "data": {
      "text/plain": [
       "467754"
      ]
     },
     "execution_count": 56,
     "metadata": {},
     "output_type": "execute_result"
    }
   ],
   "source": [
    "alldf=pd.merge(alltrainDF,testalllen2,how = 'inner', on = ['chart_id','code_id','start','end'])\n",
    "len(alldf)"
   ]
  },
  {
   "cell_type": "code",
   "execution_count": 57,
   "metadata": {},
   "outputs": [
    {
     "data": {
      "text/plain": [
       "Index(['chart_id', 'code_id', 'start', 'end', 'flag', 'text', 'deleted_reason',\n",
       "       'cleaned_data'],\n",
       "      dtype='object')"
      ]
     },
     "execution_count": 57,
     "metadata": {},
     "output_type": "execute_result"
    }
   ],
   "source": [
    "alldf.columns"
   ]
  },
  {
   "cell_type": "code",
   "execution_count": 58,
   "metadata": {},
   "outputs": [
    {
     "data": {
      "text/plain": [
       "                                84896\n",
       "not_relevant                    64989\n",
       "not_doctors_note                35494\n",
       "negation                        29750\n",
       "other                           26723\n",
       "family_history                  15537\n",
       "preventative_screening          14859\n",
       "Wrong DOS                        6314\n",
       "phoneORaddressORother_number     5253\n",
       "incorrect_acronym                3171\n",
       "medical_history                  1189\n",
       "incorrect_version                  25\n",
       "Active Diagnosis Code              17\n",
       "Name: deleted_reason, dtype: int64"
      ]
     },
     "execution_count": 58,
     "metadata": {},
     "output_type": "execute_result"
    }
   ],
   "source": [
    "alldf['deleted_reason'].value_counts()"
   ]
  },
  {
   "cell_type": "code",
   "execution_count": 49,
   "metadata": {},
   "outputs": [
    {
     "data": {
      "text/plain": [
       "179537"
      ]
     },
     "execution_count": 49,
     "metadata": {},
     "output_type": "execute_result"
    }
   ],
   "source": [
    "alldf['deleted_reason'].isnull().sum()"
   ]
  },
  {
   "cell_type": "code",
   "execution_count": 52,
   "metadata": {},
   "outputs": [
    {
     "data": {
      "text/plain": [
       "467754"
      ]
     },
     "execution_count": 52,
     "metadata": {},
     "output_type": "execute_result"
    }
   ],
   "source": [
    "64989+35494+29750+26723+15537+14859+6314+5253+3171+1189+25+17+84896+179537"
   ]
  },
  {
   "cell_type": "code",
   "execution_count": null,
   "metadata": {},
   "outputs": [],
   "source": []
  }
 ],
 "metadata": {
  "kernelspec": {
   "display_name": "Python 3",
   "language": "python",
   "name": "python3"
  },
  "language_info": {
   "codemirror_mode": {
    "name": "ipython",
    "version": 3
   },
   "file_extension": ".py",
   "mimetype": "text/x-python",
   "name": "python",
   "nbconvert_exporter": "python",
   "pygments_lexer": "ipython3",
   "version": "3.6.8"
  }
 },
 "nbformat": 4,
 "nbformat_minor": 2
}
