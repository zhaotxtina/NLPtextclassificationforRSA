{
 "cells": [
  {
   "cell_type": "code",
   "execution_count": 84,
   "metadata": {},
   "outputs": [],
   "source": [
    "import csv\n",
    "import pandas as pd\n",
    "import numpy as np\n",
    "import seaborn as sns\n",
    "import re\n",
    "from nltk.corpus import stopwords\n",
    "import nltk\n",
    "import string\n",
    "import matplotlib.pyplot as plt\n",
    "import random\n",
    "%matplotlib inline\n",
    "import os\n",
    "\n",
    "from sklearn import model_selection, preprocessing, linear_model, naive_bayes, metrics, svm\n",
    "from sklearn.feature_extraction.text import TfidfVectorizer, CountVectorizer, TfidfTransformer\n",
    "from sklearn import decomposition, ensemble\n",
    "from sklearn.metrics import roc_curve, auc\n",
    "from sklearn.model_selection import cross_val_score\n",
    "\n",
    "from sklearn.model_selection import train_test_split\n",
    "from sklearn.naive_bayes import MultinomialNB\n",
    "from sklearn.ensemble import RandomForestClassifier\n",
    "#from nltk.corpus import stopwords\n",
    "from sklearn.svm import LinearSVC\n",
    "from sklearn.linear_model import LogisticRegression\n",
    "from sklearn.pipeline import Pipeline\n",
    "from sklearn.metrics import accuracy_score\n",
    "from sklearn.multiclass import OneVsRestClassifier\n",
    "\n",
    "from sklearn.metrics import classification_report\n",
    "from sklearn.multiclass import OneVsRestClassifier\n",
    "from sklearn.metrics import confusion_matrix\n",
    "\n",
    "import joblib\n",
    "\n",
    "from sklearn.svm import SVC\n",
    "from sklearn.neighbors import KNeighborsClassifier\n",
    "from sklearn.tree import DecisionTreeClassifier\n",
    "from sklearn.ensemble import GradientBoostingClassifier\n",
    "from sklearn.discriminant_analysis import LinearDiscriminantAnalysis\n",
    "import os,boto3,sys,glob,json"
   ]
  },
  {
   "cell_type": "markdown",
   "metadata": {},
   "source": [
    "### Part 1  Loading the  data "
   ]
  },
  {
   "cell_type": "code",
   "execution_count": 2,
   "metadata": {},
   "outputs": [
    {
     "name": "stdout",
     "output_type": "stream",
     "text": [
      "58286\n"
     ]
    }
   ],
   "source": [
    "# the data processing and saving the 2000 charts are done in IBCdata_prepare4modeling_April022019.ipynb\n",
    "#trainDF=pd.read_csv('ibc_trainingdata_040219.csv')  # pd.read_csv('/home/jovyan/work/TinaZ/ibc_trainingdata_040219.csv')\n",
    "#testDF=pd.read_csv('ibc_testingdata_040219.csv')   #   pd.read_csv('/home/jovyan/work/TinaZ/ibc_testingdata_040219.csv')\n",
    "#testDF=pd.read_csv('testdata4comp_050619.csv')\n",
    "testDF=pd.read_csv('./model_comparison/complete_test_1000charts_df_0523.csv')\n",
    "print(len(testDF))"
   ]
  },
  {
   "cell_type": "code",
   "execution_count": 3,
   "metadata": {},
   "outputs": [
    {
     "data": {
      "text/plain": [
       "Index(['Unnamed: 0', 'chart_id', 'code_id', 'end_offset', 'flag', 'label',\n",
       "       'start_offset', 'text', 'text75'],\n",
       "      dtype='object')"
      ]
     },
     "execution_count": 3,
     "metadata": {},
     "output_type": "execute_result"
    }
   ],
   "source": [
    "testDF.columns"
   ]
  },
  {
   "cell_type": "code",
   "execution_count": 4,
   "metadata": {},
   "outputs": [],
   "source": [
    "testDF.drop(['Unnamed: 0'],inplace=True, axis=1)"
   ]
  },
  {
   "cell_type": "code",
   "execution_count": 5,
   "metadata": {},
   "outputs": [
    {
     "data": {
      "text/html": [
       "<div>\n",
       "<style scoped>\n",
       "    .dataframe tbody tr th:only-of-type {\n",
       "        vertical-align: middle;\n",
       "    }\n",
       "\n",
       "    .dataframe tbody tr th {\n",
       "        vertical-align: top;\n",
       "    }\n",
       "\n",
       "    .dataframe thead th {\n",
       "        text-align: right;\n",
       "    }\n",
       "</style>\n",
       "<table border=\"1\" class=\"dataframe\">\n",
       "  <thead>\n",
       "    <tr style=\"text-align: right;\">\n",
       "      <th></th>\n",
       "      <th>chart_id</th>\n",
       "      <th>code_id</th>\n",
       "      <th>end_offset</th>\n",
       "      <th>flag</th>\n",
       "      <th>label</th>\n",
       "      <th>start_offset</th>\n",
       "      <th>text</th>\n",
       "      <th>text75</th>\n",
       "    </tr>\n",
       "  </thead>\n",
       "  <tbody>\n",
       "    <tr>\n",
       "      <th>58281</th>\n",
       "      <td>IBXRMA2018_MULT_1164548890010001_HMK_208365363...</td>\n",
       "      <td>I2510</td>\n",
       "      <td>16651.0</td>\n",
       "      <td>0.0</td>\n",
       "      <td>deleted</td>\n",
       "      <td>16572</td>\n",
       "      <td>atherosclerotic heart disease of native corona...</td>\n",
       "      <td>clusion stenosis unspecified carotid artery i6...</td>\n",
       "    </tr>\n",
       "    <tr>\n",
       "      <th>58282</th>\n",
       "      <td>IBXRMA2018_MULT_1216744910010001_HMK_135268510...</td>\n",
       "      <td>G629</td>\n",
       "      <td>30066.0</td>\n",
       "      <td>0.0</td>\n",
       "      <td>deleted</td>\n",
       "      <td>30052</td>\n",
       "      <td>polyneuropathy</td>\n",
       "      <td>time a1c 70 cont treatment dm continue monitor...</td>\n",
       "    </tr>\n",
       "    <tr>\n",
       "      <th>58283</th>\n",
       "      <td>IBXRMA2018_MULT_1216744910010001_HMK_135268510...</td>\n",
       "      <td>G629</td>\n",
       "      <td>29722.0</td>\n",
       "      <td>0.0</td>\n",
       "      <td>deleted</td>\n",
       "      <td>29708</td>\n",
       "      <td>polyneuropathy</td>\n",
       "      <td>ith hyperlipidemia controlled cont treatment d...</td>\n",
       "    </tr>\n",
       "    <tr>\n",
       "      <th>58284</th>\n",
       "      <td>IBXRMA2018_MULT_1197832420010001_HMK_8TF2T50JY...</td>\n",
       "      <td>I10</td>\n",
       "      <td>1782.0</td>\n",
       "      <td>0.0</td>\n",
       "      <td>deleted</td>\n",
       "      <td>1779</td>\n",
       "      <td>i10</td>\n",
       "      <td>hronic kidney disease stage iv 184 benign esse...</td>\n",
       "    </tr>\n",
       "    <tr>\n",
       "      <th>58285</th>\n",
       "      <td>IBXRMA2018_MULT_1197832420010001_HMK_8TF2T50JY...</td>\n",
       "      <td>N19</td>\n",
       "      <td>31172.0</td>\n",
       "      <td>0.0</td>\n",
       "      <td>deleted</td>\n",
       "      <td>31155</td>\n",
       "      <td>renal dysfunction</td>\n",
       "      <td>icd1012510 stable angina pectoris icd4139 hype...</td>\n",
       "    </tr>\n",
       "  </tbody>\n",
       "</table>\n",
       "</div>"
      ],
      "text/plain": [
       "                                                chart_id code_id  end_offset  \\\n",
       "58281  IBXRMA2018_MULT_1164548890010001_HMK_208365363...   I2510     16651.0   \n",
       "58282  IBXRMA2018_MULT_1216744910010001_HMK_135268510...    G629     30066.0   \n",
       "58283  IBXRMA2018_MULT_1216744910010001_HMK_135268510...    G629     29722.0   \n",
       "58284  IBXRMA2018_MULT_1197832420010001_HMK_8TF2T50JY...     I10      1782.0   \n",
       "58285  IBXRMA2018_MULT_1197832420010001_HMK_8TF2T50JY...     N19     31172.0   \n",
       "\n",
       "       flag    label  start_offset  \\\n",
       "58281   0.0  deleted         16572   \n",
       "58282   0.0  deleted         30052   \n",
       "58283   0.0  deleted         29708   \n",
       "58284   0.0  deleted          1779   \n",
       "58285   0.0  deleted         31155   \n",
       "\n",
       "                                                    text  \\\n",
       "58281  atherosclerotic heart disease of native corona...   \n",
       "58282                                     polyneuropathy   \n",
       "58283                                     polyneuropathy   \n",
       "58284                                                i10   \n",
       "58285                                  renal dysfunction   \n",
       "\n",
       "                                                  text75  \n",
       "58281  clusion stenosis unspecified carotid artery i6...  \n",
       "58282  time a1c 70 cont treatment dm continue monitor...  \n",
       "58283  ith hyperlipidemia controlled cont treatment d...  \n",
       "58284  hronic kidney disease stage iv 184 benign esse...  \n",
       "58285  icd1012510 stable angina pectoris icd4139 hype...  "
      ]
     },
     "execution_count": 5,
     "metadata": {},
     "output_type": "execute_result"
    }
   ],
   "source": [
    "testDF.tail()"
   ]
  },
  {
   "cell_type": "code",
   "execution_count": 6,
   "metadata": {},
   "outputs": [
    {
     "data": {
      "text/plain": [
       "0.0    33045\n",
       "1.0    25241\n",
       "Name: flag, dtype: int64"
      ]
     },
     "execution_count": 6,
     "metadata": {},
     "output_type": "execute_result"
    }
   ],
   "source": [
    "testDF['flag'].value_counts()"
   ]
  },
  {
   "cell_type": "code",
   "execution_count": 7,
   "metadata": {},
   "outputs": [
    {
     "data": {
      "text/plain": [
       "deleted    33045\n",
       "added      16100\n",
       "agreed      9141\n",
       "Name: label, dtype: int64"
      ]
     },
     "execution_count": 7,
     "metadata": {},
     "output_type": "execute_result"
    }
   ],
   "source": [
    "testDF['label'].value_counts()"
   ]
  },
  {
   "cell_type": "code",
   "execution_count": 8,
   "metadata": {},
   "outputs": [
    {
     "data": {
      "text/plain": [
       "58286"
      ]
     },
     "execution_count": 8,
     "metadata": {},
     "output_type": "execute_result"
    }
   ],
   "source": [
    "len(testDF)"
   ]
  },
  {
   "cell_type": "code",
   "execution_count": 9,
   "metadata": {},
   "outputs": [
    {
     "data": {
      "text/html": [
       "<div>\n",
       "<style scoped>\n",
       "    .dataframe tbody tr th:only-of-type {\n",
       "        vertical-align: middle;\n",
       "    }\n",
       "\n",
       "    .dataframe tbody tr th {\n",
       "        vertical-align: top;\n",
       "    }\n",
       "\n",
       "    .dataframe thead th {\n",
       "        text-align: right;\n",
       "    }\n",
       "</style>\n",
       "<table border=\"1\" class=\"dataframe\">\n",
       "  <thead>\n",
       "    <tr style=\"text-align: right;\">\n",
       "      <th></th>\n",
       "      <th>chart_id</th>\n",
       "      <th>code_id</th>\n",
       "      <th>end_offset</th>\n",
       "      <th>flag</th>\n",
       "      <th>label</th>\n",
       "      <th>start_offset</th>\n",
       "      <th>text</th>\n",
       "      <th>text75</th>\n",
       "    </tr>\n",
       "  </thead>\n",
       "  <tbody>\n",
       "  </tbody>\n",
       "</table>\n",
       "</div>"
      ],
      "text/plain": [
       "Empty DataFrame\n",
       "Columns: [chart_id, code_id, end_offset, flag, label, start_offset, text, text75]\n",
       "Index: []"
      ]
     },
     "execution_count": 9,
     "metadata": {},
     "output_type": "execute_result"
    }
   ],
   "source": [
    "nulltext=testDF[~pd.notnull(testDF['text'])] \n",
    "nulltext.head()"
   ]
  },
  {
   "cell_type": "code",
   "execution_count": 10,
   "metadata": {},
   "outputs": [],
   "source": [
    "#testDF = testDF[pd.notnull(testDF['text'])] \n",
    "#len(testDF)"
   ]
  },
  {
   "cell_type": "code",
   "execution_count": 11,
   "metadata": {},
   "outputs": [
    {
     "data": {
      "text/html": [
       "<div>\n",
       "<style scoped>\n",
       "    .dataframe tbody tr th:only-of-type {\n",
       "        vertical-align: middle;\n",
       "    }\n",
       "\n",
       "    .dataframe tbody tr th {\n",
       "        vertical-align: top;\n",
       "    }\n",
       "\n",
       "    .dataframe thead th {\n",
       "        text-align: right;\n",
       "    }\n",
       "</style>\n",
       "<table border=\"1\" class=\"dataframe\">\n",
       "  <thead>\n",
       "    <tr style=\"text-align: right;\">\n",
       "      <th></th>\n",
       "      <th>chart_id</th>\n",
       "      <th>code_id</th>\n",
       "      <th>end_offset</th>\n",
       "      <th>flag</th>\n",
       "      <th>label</th>\n",
       "      <th>start_offset</th>\n",
       "      <th>text</th>\n",
       "      <th>text75</th>\n",
       "    </tr>\n",
       "  </thead>\n",
       "  <tbody>\n",
       "    <tr>\n",
       "      <th>48942</th>\n",
       "      <td>IBXRMA2018_MULT_1217369820010001_HMK_159307755...</td>\n",
       "      <td>E782</td>\n",
       "      <td>49.0</td>\n",
       "      <td>1.0</td>\n",
       "      <td>added</td>\n",
       "      <td>21</td>\n",
       "      <td>Mixed hyperlipidemia - E78.2</td>\n",
       "      <td>NaN</td>\n",
       "    </tr>\n",
       "    <tr>\n",
       "      <th>49619</th>\n",
       "      <td>IBXRMA2018_MULT_1217796040010001_HMK_211221367...</td>\n",
       "      <td>E785</td>\n",
       "      <td>79.0</td>\n",
       "      <td>1.0</td>\n",
       "      <td>added</td>\n",
       "      <td>52</td>\n",
       "      <td>Hyperlipidemia, unspecified</td>\n",
       "      <td>NaN</td>\n",
       "    </tr>\n",
       "    <tr>\n",
       "      <th>49620</th>\n",
       "      <td>IBXRMA2018_MULT_1217796040010001_HMK_211221367...</td>\n",
       "      <td>E785</td>\n",
       "      <td>66.0</td>\n",
       "      <td>1.0</td>\n",
       "      <td>added</td>\n",
       "      <td>52</td>\n",
       "      <td>Hyperlipidemia</td>\n",
       "      <td>NaN</td>\n",
       "    </tr>\n",
       "  </tbody>\n",
       "</table>\n",
       "</div>"
      ],
      "text/plain": [
       "                                                chart_id code_id  end_offset  \\\n",
       "48942  IBXRMA2018_MULT_1217369820010001_HMK_159307755...    E782        49.0   \n",
       "49619  IBXRMA2018_MULT_1217796040010001_HMK_211221367...    E785        79.0   \n",
       "49620  IBXRMA2018_MULT_1217796040010001_HMK_211221367...    E785        66.0   \n",
       "\n",
       "       flag  label  start_offset                          text text75  \n",
       "48942   1.0  added            21  Mixed hyperlipidemia - E78.2    NaN  \n",
       "49619   1.0  added            52   Hyperlipidemia, unspecified    NaN  \n",
       "49620   1.0  added            52                Hyperlipidemia    NaN  "
      ]
     },
     "execution_count": 11,
     "metadata": {},
     "output_type": "execute_result"
    }
   ],
   "source": [
    "nulltext=testDF[~pd.notnull(testDF['text75'])] \n",
    "nulltext.head()"
   ]
  },
  {
   "cell_type": "code",
   "execution_count": 12,
   "metadata": {},
   "outputs": [
    {
     "data": {
      "text/plain": [
       "58283"
      ]
     },
     "execution_count": 12,
     "metadata": {},
     "output_type": "execute_result"
    }
   ],
   "source": [
    "testDF = testDF[pd.notnull(testDF['text75'])] \n",
    "len(testDF)"
   ]
  },
  {
   "cell_type": "code",
   "execution_count": 13,
   "metadata": {},
   "outputs": [
    {
     "data": {
      "text/html": [
       "<div>\n",
       "<style scoped>\n",
       "    .dataframe tbody tr th:only-of-type {\n",
       "        vertical-align: middle;\n",
       "    }\n",
       "\n",
       "    .dataframe tbody tr th {\n",
       "        vertical-align: top;\n",
       "    }\n",
       "\n",
       "    .dataframe thead th {\n",
       "        text-align: right;\n",
       "    }\n",
       "</style>\n",
       "<table border=\"1\" class=\"dataframe\">\n",
       "  <thead>\n",
       "    <tr style=\"text-align: right;\">\n",
       "      <th></th>\n",
       "      <th>chart_id</th>\n",
       "      <th>code_id</th>\n",
       "      <th>end_offset</th>\n",
       "      <th>flag</th>\n",
       "      <th>label</th>\n",
       "      <th>start_offset</th>\n",
       "      <th>text</th>\n",
       "      <th>text75</th>\n",
       "    </tr>\n",
       "  </thead>\n",
       "  <tbody>\n",
       "    <tr>\n",
       "      <th>58278</th>\n",
       "      <td>IBXRMA2018_MULT_1164548890010001_HMK_208365363...</td>\n",
       "      <td>I2510</td>\n",
       "      <td>16651.0</td>\n",
       "      <td>0.0</td>\n",
       "      <td>deleted</td>\n",
       "      <td>16572</td>\n",
       "      <td>atherosclerotic heart disease of native corona...</td>\n",
       "      <td>clusion stenosis unspecified carotid artery i6...</td>\n",
       "    </tr>\n",
       "    <tr>\n",
       "      <th>58279</th>\n",
       "      <td>IBXRMA2018_MULT_1216744910010001_HMK_135268510...</td>\n",
       "      <td>G629</td>\n",
       "      <td>30066.0</td>\n",
       "      <td>0.0</td>\n",
       "      <td>deleted</td>\n",
       "      <td>30052</td>\n",
       "      <td>polyneuropathy</td>\n",
       "      <td>time a1c 70 cont treatment dm continue monitor...</td>\n",
       "    </tr>\n",
       "    <tr>\n",
       "      <th>58280</th>\n",
       "      <td>IBXRMA2018_MULT_1216744910010001_HMK_135268510...</td>\n",
       "      <td>G629</td>\n",
       "      <td>29722.0</td>\n",
       "      <td>0.0</td>\n",
       "      <td>deleted</td>\n",
       "      <td>29708</td>\n",
       "      <td>polyneuropathy</td>\n",
       "      <td>ith hyperlipidemia controlled cont treatment d...</td>\n",
       "    </tr>\n",
       "    <tr>\n",
       "      <th>58281</th>\n",
       "      <td>IBXRMA2018_MULT_1197832420010001_HMK_8TF2T50JY...</td>\n",
       "      <td>I10</td>\n",
       "      <td>1782.0</td>\n",
       "      <td>0.0</td>\n",
       "      <td>deleted</td>\n",
       "      <td>1779</td>\n",
       "      <td>i10</td>\n",
       "      <td>hronic kidney disease stage iv 184 benign esse...</td>\n",
       "    </tr>\n",
       "    <tr>\n",
       "      <th>58282</th>\n",
       "      <td>IBXRMA2018_MULT_1197832420010001_HMK_8TF2T50JY...</td>\n",
       "      <td>N19</td>\n",
       "      <td>31172.0</td>\n",
       "      <td>0.0</td>\n",
       "      <td>deleted</td>\n",
       "      <td>31155</td>\n",
       "      <td>renal dysfunction</td>\n",
       "      <td>icd1012510 stable angina pectoris icd4139 hype...</td>\n",
       "    </tr>\n",
       "  </tbody>\n",
       "</table>\n",
       "</div>"
      ],
      "text/plain": [
       "                                                chart_id code_id  end_offset  \\\n",
       "58278  IBXRMA2018_MULT_1164548890010001_HMK_208365363...   I2510     16651.0   \n",
       "58279  IBXRMA2018_MULT_1216744910010001_HMK_135268510...    G629     30066.0   \n",
       "58280  IBXRMA2018_MULT_1216744910010001_HMK_135268510...    G629     29722.0   \n",
       "58281  IBXRMA2018_MULT_1197832420010001_HMK_8TF2T50JY...     I10      1782.0   \n",
       "58282  IBXRMA2018_MULT_1197832420010001_HMK_8TF2T50JY...     N19     31172.0   \n",
       "\n",
       "       flag    label  start_offset  \\\n",
       "58278   0.0  deleted         16572   \n",
       "58279   0.0  deleted         30052   \n",
       "58280   0.0  deleted         29708   \n",
       "58281   0.0  deleted          1779   \n",
       "58282   0.0  deleted         31155   \n",
       "\n",
       "                                                    text  \\\n",
       "58278  atherosclerotic heart disease of native corona...   \n",
       "58279                                     polyneuropathy   \n",
       "58280                                     polyneuropathy   \n",
       "58281                                                i10   \n",
       "58282                                  renal dysfunction   \n",
       "\n",
       "                                                  text75  \n",
       "58278  clusion stenosis unspecified carotid artery i6...  \n",
       "58279  time a1c 70 cont treatment dm continue monitor...  \n",
       "58280  ith hyperlipidemia controlled cont treatment d...  \n",
       "58281  hronic kidney disease stage iv 184 benign esse...  \n",
       "58282  icd1012510 stable angina pectoris icd4139 hype...  "
      ]
     },
     "execution_count": 13,
     "metadata": {},
     "output_type": "execute_result"
    }
   ],
   "source": [
    "testDF=testDF.reset_index(drop=True)\n",
    "testDF.tail()"
   ]
  },
  {
   "cell_type": "code",
   "execution_count": 14,
   "metadata": {},
   "outputs": [
    {
     "data": {
      "text/plain": [
       "798"
      ]
     },
     "execution_count": 14,
     "metadata": {},
     "output_type": "execute_result"
    }
   ],
   "source": [
    "testDF['chart_id'].nunique()"
   ]
  },
  {
   "cell_type": "markdown",
   "metadata": {},
   "source": [
    "### Part 2 Loading all the models or locate the directory"
   ]
  },
  {
   "cell_type": "markdown",
   "metadata": {},
   "source": [
    "#### Part 2.a. Load the 28 pickle files and run them on the testDF with selected chart_ids"
   ]
  },
  {
   "cell_type": "code",
   "execution_count": 15,
   "metadata": {},
   "outputs": [],
   "source": [
    "files=glob.glob(\"../picklefolder_ngrams/refreshed_models/*.pickle\")"
   ]
  },
  {
   "cell_type": "code",
   "execution_count": 16,
   "metadata": {},
   "outputs": [
    {
     "data": {
      "text/plain": [
       "['../picklefolder_ngrams/refreshed_models/Phrase_stroke_LRApril0219.pickle',\n",
       " '../picklefolder_ngrams/refreshed_models/Phrase_emphysema_LRApril0219.pickle',\n",
       " '../picklefolder_ngrams/refreshed_models/Phrase_hypertension_LRApril0219.pickle',\n",
       " '../picklefolder_ngrams/refreshed_models/Phrase_dementia_LRApril0219.pickle',\n",
       " '../picklefolder_ngrams/refreshed_models/Phrase_cholesterol_LRApril0219.pickle',\n",
       " '../picklefolder_ngrams/refreshed_models/Phrase_cad_LRApril0219.pickle',\n",
       " '../picklefolder_ngrams/refreshed_models/Phrase_aneurysm_LRApril0219.pickle',\n",
       " '../picklefolder_ngrams/refreshed_models/Code_COPD_LRApril0219.pickle',\n",
       " '../picklefolder_ngrams/refreshed_models/Code_Depression_LRApril0219.pickle',\n",
       " '../picklefolder_ngrams/refreshed_models/Code_Diabetes_LRApril0219.pickle',\n",
       " '../picklefolder_ngrams/refreshed_models/Code_Heart_LRApril0219.pickle',\n",
       " '../picklefolder_ngrams/refreshed_models/Code_Kidney_LRApril0219.pickle',\n",
       " '../picklefolder_ngrams/refreshed_models/Code_Model1_LRApril0219.pickle',\n",
       " '../picklefolder_ngrams/refreshed_models/Code_Cancer_LRApril0219.pickle',\n",
       " '../picklefolder_ngrams/refreshed_models/Code_Cholesterol_LRApril0219.pickle',\n",
       " '../picklefolder_ngrams/refreshed_models/Code_Model2_LRApril0219.pickle',\n",
       " '../picklefolder_ngrams/refreshed_models/Code_Model3_LRApril0219.pickle',\n",
       " '../picklefolder_ngrams/refreshed_models/Phrase_asthma_LRApril0219.pickle',\n",
       " '../picklefolder_ngrams/refreshed_models/Phrase_cancer_LRApril0219.pickle',\n",
       " '../picklefolder_ngrams/refreshed_models/Phrase_ckd_LRApril0219.pickle',\n",
       " '../picklefolder_ngrams/refreshed_models/Phrase_depression_LRApril0219.pickle',\n",
       " '../picklefolder_ngrams/refreshed_models/Phrase_diabetes_LRApril0219.pickle',\n",
       " '../picklefolder_ngrams/refreshed_models/DeletionReason_family_history_LRApril0219.pickle',\n",
       " '../picklefolder_ngrams/refreshed_models/DeletionReason_negation_LRApril0219.pickle',\n",
       " '../picklefolder_ngrams/refreshed_models/DeletionReason_not_doctors_note_LRApril0219.pickle',\n",
       " '../picklefolder_ngrams/refreshed_models/DeletionReason_not_relevant_LRApril0219.pickle',\n",
       " '../picklefolder_ngrams/refreshed_models/DeletionReason_phoneORaddressORother_number_LRApril0219.pickle',\n",
       " '../picklefolder_ngrams/refreshed_models/DeletionReason_preventative_screening_LRApril0219.pickle']"
      ]
     },
     "execution_count": 16,
     "metadata": {},
     "output_type": "execute_result"
    }
   ],
   "source": [
    "files"
   ]
  },
  {
   "cell_type": "code",
   "execution_count": 17,
   "metadata": {},
   "outputs": [
    {
     "data": {
      "text/plain": [
       "28"
      ]
     },
     "execution_count": 17,
     "metadata": {},
     "output_type": "execute_result"
    }
   ],
   "source": [
    "#files=files[:-1]   # remove the PMH model, only for pipeline folder\n",
    "len(files)"
   ]
  },
  {
   "cell_type": "code",
   "execution_count": 18,
   "metadata": {},
   "outputs": [
    {
     "data": {
      "text/plain": [
       "'Phrase_emphysema_LRApril0219.pickle'"
      ]
     },
     "execution_count": 18,
     "metadata": {},
     "output_type": "execute_result"
    }
   ],
   "source": [
    "files[1].split('/')[3]"
   ]
  },
  {
   "cell_type": "code",
   "execution_count": 19,
   "metadata": {},
   "outputs": [
    {
     "data": {
      "text/plain": [
       "'COPD'"
      ]
     },
     "execution_count": 19,
     "metadata": {},
     "output_type": "execute_result"
    }
   ],
   "source": [
    "files[7].split('/')[3].split('_')[1]"
   ]
  },
  {
   "cell_type": "markdown",
   "metadata": {},
   "source": [
    "### Part 3. Apply models to test data"
   ]
  },
  {
   "cell_type": "code",
   "execution_count": 20,
   "metadata": {},
   "outputs": [],
   "source": [
    "encoder = preprocessing.LabelEncoder()\n",
    "test_y = encoder.fit_transform(testDF['flag'])  "
   ]
  },
  {
   "cell_type": "code",
   "execution_count": 21,
   "metadata": {},
   "outputs": [],
   "source": [
    "code_list={}\n",
    "code_list[\"Model1\"]=['I10','E119']\n",
    "code_list[\"Model2\"]=['I2510','E785','K219','F329','I639']\n",
    "code_list[\"Model3\"]=['I739','N183','Z992','B20','I213','R569','I43','J410','I714','R579','E550','I209','J45998','I480','B182','K210','K739']\n",
    "code_list[\"Heart\"]=['I509','I482','I4891','I82401']\n",
    "code_list[\"Depression\"]=['F411','F410','F40240','F458','F409','F4000','F4001','F445','F444','F40243','F446','F4010','F442','F408','F449','F451']\n",
    "code_list[\"Kidney\"]=['N189','N181','N182','E1122','I130','E0822','E1022']\n",
    "code_list[\"Diabetes\"]=['Z794','E109','E119','E139','E089','E099']\n",
    "code_list[\"Cancer\"]=['C801','C50919','C189']\n",
    "code_list[\"COPD\"]=['J449','J45909']\n",
    "code_list[\"Cholesterol\"]=['E780','E785','E782','E789','E7800','E784','E781','E7801','E7881','E882','E783','E786','E7889','E756','E755','E7130']"
   ]
  },
  {
   "cell_type": "code",
   "execution_count": 22,
   "metadata": {},
   "outputs": [
    {
     "name": "stdout",
     "output_type": "stream",
     "text": [
      "Empty DataFrame\n",
      "Columns: []\n",
      "Index: []\n"
     ]
    }
   ],
   "source": [
    "allpredict=pd.DataFrame()   # create an empty dataframe, to save the prediction result for each model\n",
    "allprob=pd.DataFrame()\n",
    "print(allpredict)"
   ]
  },
  {
   "cell_type": "code",
   "execution_count": 23,
   "metadata": {},
   "outputs": [
    {
     "name": "stderr",
     "output_type": "stream",
     "text": [
      "/opt/conda/lib/python3.6/site-packages/sklearn/base.py:251: UserWarning: Trying to unpickle estimator TfidfTransformer from version 0.19.2 when using version 0.20.2. This might lead to breaking code or invalid results. Use at your own risk.\n",
      "  UserWarning)\n",
      "/opt/conda/lib/python3.6/site-packages/sklearn/base.py:251: UserWarning: Trying to unpickle estimator TfidfVectorizer from version 0.19.2 when using version 0.20.2. This might lead to breaking code or invalid results. Use at your own risk.\n",
      "  UserWarning)\n",
      "/opt/conda/lib/python3.6/site-packages/sklearn/base.py:251: UserWarning: Trying to unpickle estimator LogisticRegression from version 0.19.2 when using version 0.20.2. This might lead to breaking code or invalid results. Use at your own risk.\n",
      "  UserWarning)\n",
      "/opt/conda/lib/python3.6/site-packages/sklearn/base.py:251: UserWarning: Trying to unpickle estimator LabelBinarizer from version 0.19.2 when using version 0.20.2. This might lead to breaking code or invalid results. Use at your own risk.\n",
      "  UserWarning)\n",
      "/opt/conda/lib/python3.6/site-packages/sklearn/base.py:251: UserWarning: Trying to unpickle estimator LogisticRegression from version 0.19.2 when using version 0.20.2. This might lead to breaking code or invalid results. Use at your own risk.\n",
      "  UserWarning)\n",
      "/opt/conda/lib/python3.6/site-packages/sklearn/base.py:251: UserWarning: Trying to unpickle estimator OneVsRestClassifier from version 0.19.2 when using version 0.20.2. This might lead to breaking code or invalid results. Use at your own risk.\n",
      "  UserWarning)\n",
      "/opt/conda/lib/python3.6/site-packages/sklearn/base.py:251: UserWarning: Trying to unpickle estimator Pipeline from version 0.19.2 when using version 0.20.2. This might lead to breaking code or invalid results. Use at your own risk.\n",
      "  UserWarning)\n",
      "/opt/conda/lib/python3.6/site-packages/ipykernel_launcher.py:47: SettingWithCopyWarning: \n",
      "A value is trying to be set on a copy of a slice from a DataFrame.\n",
      "Try using .loc[row_indexer,col_indexer] = value instead\n",
      "\n",
      "See the caveats in the documentation: http://pandas.pydata.org/pandas-docs/stable/indexing.html#indexing-view-versus-copy\n",
      "/opt/conda/lib/python3.6/site-packages/ipykernel_launcher.py:48: SettingWithCopyWarning: \n",
      "A value is trying to be set on a copy of a slice from a DataFrame.\n",
      "Try using .loc[row_indexer,col_indexer] = value instead\n",
      "\n",
      "See the caveats in the documentation: http://pandas.pydata.org/pandas-docs/stable/indexing.html#indexing-view-versus-copy\n",
      "/opt/conda/lib/python3.6/site-packages/ipykernel_launcher.py:49: SettingWithCopyWarning: \n",
      "A value is trying to be set on a copy of a slice from a DataFrame.\n",
      "Try using .loc[row_indexer,col_indexer] = value instead\n",
      "\n",
      "See the caveats in the documentation: http://pandas.pydata.org/pandas-docs/stable/indexing.html#indexing-view-versus-copy\n",
      "/opt/conda/lib/python3.6/site-packages/sklearn/metrics/classification.py:1143: UndefinedMetricWarning: Precision and F-score are ill-defined and being set to 0.0 in labels with no predicted samples.\n",
      "  'precision', 'predicted', average, warn_for)\n",
      "/opt/conda/lib/python3.6/site-packages/sklearn/metrics/classification.py:1143: UndefinedMetricWarning: Precision and F-score are ill-defined and being set to 0.0 in labels with no predicted samples.\n",
      "  'precision', 'predicted', average, warn_for)\n",
      "/opt/conda/lib/python3.6/site-packages/sklearn/metrics/classification.py:1143: UndefinedMetricWarning: Precision and F-score are ill-defined and being set to 0.0 in labels with no predicted samples.\n",
      "  'precision', 'predicted', average, warn_for)\n",
      "/opt/conda/lib/python3.6/site-packages/sklearn/base.py:251: UserWarning: Trying to unpickle estimator TfidfTransformer from version 0.19.2 when using version 0.20.2. This might lead to breaking code or invalid results. Use at your own risk.\n",
      "  UserWarning)\n",
      "/opt/conda/lib/python3.6/site-packages/sklearn/base.py:251: UserWarning: Trying to unpickle estimator TfidfVectorizer from version 0.19.2 when using version 0.20.2. This might lead to breaking code or invalid results. Use at your own risk.\n",
      "  UserWarning)\n",
      "/opt/conda/lib/python3.6/site-packages/sklearn/base.py:251: UserWarning: Trying to unpickle estimator LogisticRegression from version 0.19.2 when using version 0.20.2. This might lead to breaking code or invalid results. Use at your own risk.\n",
      "  UserWarning)\n",
      "/opt/conda/lib/python3.6/site-packages/sklearn/base.py:251: UserWarning: Trying to unpickle estimator LabelBinarizer from version 0.19.2 when using version 0.20.2. This might lead to breaking code or invalid results. Use at your own risk.\n",
      "  UserWarning)\n",
      "/opt/conda/lib/python3.6/site-packages/sklearn/base.py:251: UserWarning: Trying to unpickle estimator LogisticRegression from version 0.19.2 when using version 0.20.2. This might lead to breaking code or invalid results. Use at your own risk.\n",
      "  UserWarning)\n",
      "/opt/conda/lib/python3.6/site-packages/sklearn/base.py:251: UserWarning: Trying to unpickle estimator OneVsRestClassifier from version 0.19.2 when using version 0.20.2. This might lead to breaking code or invalid results. Use at your own risk.\n",
      "  UserWarning)\n",
      "/opt/conda/lib/python3.6/site-packages/sklearn/base.py:251: UserWarning: Trying to unpickle estimator Pipeline from version 0.19.2 when using version 0.20.2. This might lead to breaking code or invalid results. Use at your own risk.\n",
      "  UserWarning)\n"
     ]
    },
    {
     "name": "stdout",
     "output_type": "stream",
     "text": [
      "testing model: ../picklefolder_ngrams/refreshed_models/Phrase_stroke_LRApril0219.pickle\n",
      "accuracy_score  precision recall  f1_score tn  fn  fp  tp\n",
      "0.985714285714   0.00  0.00  0.00 138 2 0 0\n",
      "testing model: ../picklefolder_ngrams/refreshed_models/Phrase_emphysema_LRApril0219.pickle\n",
      "accuracy_score  precision recall  f1_score tn  fn  fp  tp\n",
      "0.677215189873   0.57  0.86  0.68 52 9 42 55\n"
     ]
    },
    {
     "name": "stderr",
     "output_type": "stream",
     "text": [
      "/opt/conda/lib/python3.6/site-packages/sklearn/base.py:251: UserWarning: Trying to unpickle estimator TfidfTransformer from version 0.19.2 when using version 0.20.2. This might lead to breaking code or invalid results. Use at your own risk.\n",
      "  UserWarning)\n",
      "/opt/conda/lib/python3.6/site-packages/sklearn/base.py:251: UserWarning: Trying to unpickle estimator TfidfVectorizer from version 0.19.2 when using version 0.20.2. This might lead to breaking code or invalid results. Use at your own risk.\n",
      "  UserWarning)\n",
      "/opt/conda/lib/python3.6/site-packages/sklearn/base.py:251: UserWarning: Trying to unpickle estimator LogisticRegression from version 0.19.2 when using version 0.20.2. This might lead to breaking code or invalid results. Use at your own risk.\n",
      "  UserWarning)\n",
      "/opt/conda/lib/python3.6/site-packages/sklearn/base.py:251: UserWarning: Trying to unpickle estimator LabelBinarizer from version 0.19.2 when using version 0.20.2. This might lead to breaking code or invalid results. Use at your own risk.\n",
      "  UserWarning)\n",
      "/opt/conda/lib/python3.6/site-packages/sklearn/base.py:251: UserWarning: Trying to unpickle estimator LogisticRegression from version 0.19.2 when using version 0.20.2. This might lead to breaking code or invalid results. Use at your own risk.\n",
      "  UserWarning)\n",
      "/opt/conda/lib/python3.6/site-packages/sklearn/base.py:251: UserWarning: Trying to unpickle estimator OneVsRestClassifier from version 0.19.2 when using version 0.20.2. This might lead to breaking code or invalid results. Use at your own risk.\n",
      "  UserWarning)\n",
      "/opt/conda/lib/python3.6/site-packages/sklearn/base.py:251: UserWarning: Trying to unpickle estimator Pipeline from version 0.19.2 when using version 0.20.2. This might lead to breaking code or invalid results. Use at your own risk.\n",
      "  UserWarning)\n"
     ]
    },
    {
     "name": "stdout",
     "output_type": "stream",
     "text": [
      "testing model: ../picklefolder_ngrams/refreshed_models/Phrase_hypertension_LRApril0219.pickle\n",
      "accuracy_score  precision recall  f1_score tn  fn  fp  tp\n",
      "0.748815165877   0.73  1.00  0.84 507 16 1415 3759\n"
     ]
    },
    {
     "name": "stderr",
     "output_type": "stream",
     "text": [
      "/opt/conda/lib/python3.6/site-packages/sklearn/base.py:251: UserWarning: Trying to unpickle estimator TfidfTransformer from version 0.19.2 when using version 0.20.2. This might lead to breaking code or invalid results. Use at your own risk.\n",
      "  UserWarning)\n",
      "/opt/conda/lib/python3.6/site-packages/sklearn/base.py:251: UserWarning: Trying to unpickle estimator TfidfVectorizer from version 0.19.2 when using version 0.20.2. This might lead to breaking code or invalid results. Use at your own risk.\n",
      "  UserWarning)\n",
      "/opt/conda/lib/python3.6/site-packages/sklearn/base.py:251: UserWarning: Trying to unpickle estimator LogisticRegression from version 0.19.2 when using version 0.20.2. This might lead to breaking code or invalid results. Use at your own risk.\n",
      "  UserWarning)\n",
      "/opt/conda/lib/python3.6/site-packages/sklearn/base.py:251: UserWarning: Trying to unpickle estimator LabelBinarizer from version 0.19.2 when using version 0.20.2. This might lead to breaking code or invalid results. Use at your own risk.\n",
      "  UserWarning)\n",
      "/opt/conda/lib/python3.6/site-packages/sklearn/base.py:251: UserWarning: Trying to unpickle estimator LogisticRegression from version 0.19.2 when using version 0.20.2. This might lead to breaking code or invalid results. Use at your own risk.\n",
      "  UserWarning)\n",
      "/opt/conda/lib/python3.6/site-packages/sklearn/base.py:251: UserWarning: Trying to unpickle estimator OneVsRestClassifier from version 0.19.2 when using version 0.20.2. This might lead to breaking code or invalid results. Use at your own risk.\n",
      "  UserWarning)\n",
      "/opt/conda/lib/python3.6/site-packages/sklearn/base.py:251: UserWarning: Trying to unpickle estimator Pipeline from version 0.19.2 when using version 0.20.2. This might lead to breaking code or invalid results. Use at your own risk.\n",
      "  UserWarning)\n"
     ]
    },
    {
     "name": "stdout",
     "output_type": "stream",
     "text": [
      "testing model: ../picklefolder_ngrams/refreshed_models/Phrase_dementia_LRApril0219.pickle\n",
      "accuracy_score  precision recall  f1_score tn  fn  fp  tp\n",
      "0.697222222222   0.55  0.92  0.69 130 11 98 121\n"
     ]
    },
    {
     "name": "stderr",
     "output_type": "stream",
     "text": [
      "/opt/conda/lib/python3.6/site-packages/sklearn/base.py:251: UserWarning: Trying to unpickle estimator TfidfTransformer from version 0.19.2 when using version 0.20.2. This might lead to breaking code or invalid results. Use at your own risk.\n",
      "  UserWarning)\n",
      "/opt/conda/lib/python3.6/site-packages/sklearn/base.py:251: UserWarning: Trying to unpickle estimator TfidfVectorizer from version 0.19.2 when using version 0.20.2. This might lead to breaking code or invalid results. Use at your own risk.\n",
      "  UserWarning)\n",
      "/opt/conda/lib/python3.6/site-packages/sklearn/base.py:251: UserWarning: Trying to unpickle estimator LogisticRegression from version 0.19.2 when using version 0.20.2. This might lead to breaking code or invalid results. Use at your own risk.\n",
      "  UserWarning)\n",
      "/opt/conda/lib/python3.6/site-packages/sklearn/base.py:251: UserWarning: Trying to unpickle estimator LabelBinarizer from version 0.19.2 when using version 0.20.2. This might lead to breaking code or invalid results. Use at your own risk.\n",
      "  UserWarning)\n",
      "/opt/conda/lib/python3.6/site-packages/sklearn/base.py:251: UserWarning: Trying to unpickle estimator LogisticRegression from version 0.19.2 when using version 0.20.2. This might lead to breaking code or invalid results. Use at your own risk.\n",
      "  UserWarning)\n",
      "/opt/conda/lib/python3.6/site-packages/sklearn/base.py:251: UserWarning: Trying to unpickle estimator OneVsRestClassifier from version 0.19.2 when using version 0.20.2. This might lead to breaking code or invalid results. Use at your own risk.\n",
      "  UserWarning)\n",
      "/opt/conda/lib/python3.6/site-packages/sklearn/base.py:251: UserWarning: Trying to unpickle estimator Pipeline from version 0.19.2 when using version 0.20.2. This might lead to breaking code or invalid results. Use at your own risk.\n",
      "  UserWarning)\n"
     ]
    },
    {
     "name": "stdout",
     "output_type": "stream",
     "text": [
      "testing model: ../picklefolder_ngrams/refreshed_models/Phrase_cholesterol_LRApril0219.pickle\n",
      "accuracy_score  precision recall  f1_score tn  fn  fp  tp\n",
      "0.814047909054   0.53  0.94  0.68 1529 30 428 476\n"
     ]
    },
    {
     "name": "stderr",
     "output_type": "stream",
     "text": [
      "/opt/conda/lib/python3.6/site-packages/sklearn/base.py:251: UserWarning: Trying to unpickle estimator TfidfTransformer from version 0.19.2 when using version 0.20.2. This might lead to breaking code or invalid results. Use at your own risk.\n",
      "  UserWarning)\n",
      "/opt/conda/lib/python3.6/site-packages/sklearn/base.py:251: UserWarning: Trying to unpickle estimator TfidfVectorizer from version 0.19.2 when using version 0.20.2. This might lead to breaking code or invalid results. Use at your own risk.\n",
      "  UserWarning)\n",
      "/opt/conda/lib/python3.6/site-packages/sklearn/base.py:251: UserWarning: Trying to unpickle estimator LogisticRegression from version 0.19.2 when using version 0.20.2. This might lead to breaking code or invalid results. Use at your own risk.\n",
      "  UserWarning)\n",
      "/opt/conda/lib/python3.6/site-packages/sklearn/base.py:251: UserWarning: Trying to unpickle estimator LabelBinarizer from version 0.19.2 when using version 0.20.2. This might lead to breaking code or invalid results. Use at your own risk.\n",
      "  UserWarning)\n",
      "/opt/conda/lib/python3.6/site-packages/sklearn/base.py:251: UserWarning: Trying to unpickle estimator LogisticRegression from version 0.19.2 when using version 0.20.2. This might lead to breaking code or invalid results. Use at your own risk.\n",
      "  UserWarning)\n",
      "/opt/conda/lib/python3.6/site-packages/sklearn/base.py:251: UserWarning: Trying to unpickle estimator OneVsRestClassifier from version 0.19.2 when using version 0.20.2. This might lead to breaking code or invalid results. Use at your own risk.\n",
      "  UserWarning)\n",
      "/opt/conda/lib/python3.6/site-packages/sklearn/base.py:251: UserWarning: Trying to unpickle estimator Pipeline from version 0.19.2 when using version 0.20.2. This might lead to breaking code or invalid results. Use at your own risk.\n",
      "  UserWarning)\n"
     ]
    },
    {
     "name": "stdout",
     "output_type": "stream",
     "text": [
      "testing model: ../picklefolder_ngrams/refreshed_models/Phrase_cad_LRApril0219.pickle\n",
      "accuracy_score  precision recall  f1_score tn  fn  fp  tp\n",
      "0.786868686869   0.59  0.89  0.71 521 33 178 258\n"
     ]
    },
    {
     "name": "stderr",
     "output_type": "stream",
     "text": [
      "/opt/conda/lib/python3.6/site-packages/sklearn/base.py:251: UserWarning: Trying to unpickle estimator TfidfTransformer from version 0.19.2 when using version 0.20.2. This might lead to breaking code or invalid results. Use at your own risk.\n",
      "  UserWarning)\n",
      "/opt/conda/lib/python3.6/site-packages/sklearn/base.py:251: UserWarning: Trying to unpickle estimator TfidfVectorizer from version 0.19.2 when using version 0.20.2. This might lead to breaking code or invalid results. Use at your own risk.\n",
      "  UserWarning)\n",
      "/opt/conda/lib/python3.6/site-packages/sklearn/base.py:251: UserWarning: Trying to unpickle estimator LogisticRegression from version 0.19.2 when using version 0.20.2. This might lead to breaking code or invalid results. Use at your own risk.\n",
      "  UserWarning)\n",
      "/opt/conda/lib/python3.6/site-packages/sklearn/base.py:251: UserWarning: Trying to unpickle estimator LabelBinarizer from version 0.19.2 when using version 0.20.2. This might lead to breaking code or invalid results. Use at your own risk.\n",
      "  UserWarning)\n",
      "/opt/conda/lib/python3.6/site-packages/sklearn/base.py:251: UserWarning: Trying to unpickle estimator LogisticRegression from version 0.19.2 when using version 0.20.2. This might lead to breaking code or invalid results. Use at your own risk.\n",
      "  UserWarning)\n",
      "/opt/conda/lib/python3.6/site-packages/sklearn/base.py:251: UserWarning: Trying to unpickle estimator OneVsRestClassifier from version 0.19.2 when using version 0.20.2. This might lead to breaking code or invalid results. Use at your own risk.\n",
      "  UserWarning)\n",
      "/opt/conda/lib/python3.6/site-packages/sklearn/base.py:251: UserWarning: Trying to unpickle estimator Pipeline from version 0.19.2 when using version 0.20.2. This might lead to breaking code or invalid results. Use at your own risk.\n",
      "  UserWarning)\n"
     ]
    },
    {
     "name": "stdout",
     "output_type": "stream",
     "text": [
      "testing model: ../picklefolder_ngrams/refreshed_models/Phrase_aneurysm_LRApril0219.pickle\n",
      "accuracy_score  precision recall  f1_score tn  fn  fp  tp\n",
      "0.812636165577   0.62  0.84  0.71 267 20 66 106\n"
     ]
    },
    {
     "name": "stderr",
     "output_type": "stream",
     "text": [
      "/opt/conda/lib/python3.6/site-packages/sklearn/base.py:251: UserWarning: Trying to unpickle estimator CountVectorizer from version 0.19.2 when using version 0.20.2. This might lead to breaking code or invalid results. Use at your own risk.\n",
      "  UserWarning)\n",
      "/opt/conda/lib/python3.6/site-packages/sklearn/base.py:251: UserWarning: Trying to unpickle estimator LogisticRegression from version 0.19.2 when using version 0.20.2. This might lead to breaking code or invalid results. Use at your own risk.\n",
      "  UserWarning)\n",
      "/opt/conda/lib/python3.6/site-packages/sklearn/base.py:251: UserWarning: Trying to unpickle estimator LabelBinarizer from version 0.19.2 when using version 0.20.2. This might lead to breaking code or invalid results. Use at your own risk.\n",
      "  UserWarning)\n",
      "/opt/conda/lib/python3.6/site-packages/sklearn/base.py:251: UserWarning: Trying to unpickle estimator LogisticRegression from version 0.19.2 when using version 0.20.2. This might lead to breaking code or invalid results. Use at your own risk.\n",
      "  UserWarning)\n",
      "/opt/conda/lib/python3.6/site-packages/sklearn/base.py:251: UserWarning: Trying to unpickle estimator OneVsRestClassifier from version 0.19.2 when using version 0.20.2. This might lead to breaking code or invalid results. Use at your own risk.\n",
      "  UserWarning)\n",
      "/opt/conda/lib/python3.6/site-packages/sklearn/base.py:251: UserWarning: Trying to unpickle estimator Pipeline from version 0.19.2 when using version 0.20.2. This might lead to breaking code or invalid results. Use at your own risk.\n",
      "  UserWarning)\n"
     ]
    },
    {
     "name": "stdout",
     "output_type": "stream",
     "text": [
      "testing model: ../picklefolder_ngrams/refreshed_models/Code_COPD_LRApril0219.pickle\n",
      "accuracy_score  precision recall  f1_score tn  fn  fp  tp\n",
      "0.731631382316   0.72  0.93  0.81 264 72 359 911\n"
     ]
    },
    {
     "name": "stderr",
     "output_type": "stream",
     "text": [
      "/opt/conda/lib/python3.6/site-packages/sklearn/base.py:251: UserWarning: Trying to unpickle estimator CountVectorizer from version 0.19.2 when using version 0.20.2. This might lead to breaking code or invalid results. Use at your own risk.\n",
      "  UserWarning)\n",
      "/opt/conda/lib/python3.6/site-packages/sklearn/base.py:251: UserWarning: Trying to unpickle estimator LogisticRegression from version 0.19.2 when using version 0.20.2. This might lead to breaking code or invalid results. Use at your own risk.\n",
      "  UserWarning)\n",
      "/opt/conda/lib/python3.6/site-packages/sklearn/base.py:251: UserWarning: Trying to unpickle estimator LabelBinarizer from version 0.19.2 when using version 0.20.2. This might lead to breaking code or invalid results. Use at your own risk.\n",
      "  UserWarning)\n",
      "/opt/conda/lib/python3.6/site-packages/sklearn/base.py:251: UserWarning: Trying to unpickle estimator LogisticRegression from version 0.19.2 when using version 0.20.2. This might lead to breaking code or invalid results. Use at your own risk.\n",
      "  UserWarning)\n",
      "/opt/conda/lib/python3.6/site-packages/sklearn/base.py:251: UserWarning: Trying to unpickle estimator OneVsRestClassifier from version 0.19.2 when using version 0.20.2. This might lead to breaking code or invalid results. Use at your own risk.\n",
      "  UserWarning)\n",
      "/opt/conda/lib/python3.6/site-packages/sklearn/base.py:251: UserWarning: Trying to unpickle estimator Pipeline from version 0.19.2 when using version 0.20.2. This might lead to breaking code or invalid results. Use at your own risk.\n",
      "  UserWarning)\n"
     ]
    },
    {
     "name": "stdout",
     "output_type": "stream",
     "text": [
      "testing model: ../picklefolder_ngrams/refreshed_models/Code_Depression_LRApril0219.pickle\n",
      "accuracy_score  precision recall  f1_score tn  fn  fp  tp\n",
      "0.849256900212   0.42  0.88  0.57 707 13 129 93\n"
     ]
    },
    {
     "name": "stderr",
     "output_type": "stream",
     "text": [
      "/opt/conda/lib/python3.6/site-packages/sklearn/base.py:251: UserWarning: Trying to unpickle estimator CountVectorizer from version 0.19.2 when using version 0.20.2. This might lead to breaking code or invalid results. Use at your own risk.\n",
      "  UserWarning)\n",
      "/opt/conda/lib/python3.6/site-packages/sklearn/base.py:251: UserWarning: Trying to unpickle estimator LogisticRegression from version 0.19.2 when using version 0.20.2. This might lead to breaking code or invalid results. Use at your own risk.\n",
      "  UserWarning)\n",
      "/opt/conda/lib/python3.6/site-packages/sklearn/base.py:251: UserWarning: Trying to unpickle estimator LabelBinarizer from version 0.19.2 when using version 0.20.2. This might lead to breaking code or invalid results. Use at your own risk.\n",
      "  UserWarning)\n",
      "/opt/conda/lib/python3.6/site-packages/sklearn/base.py:251: UserWarning: Trying to unpickle estimator LogisticRegression from version 0.19.2 when using version 0.20.2. This might lead to breaking code or invalid results. Use at your own risk.\n",
      "  UserWarning)\n",
      "/opt/conda/lib/python3.6/site-packages/sklearn/base.py:251: UserWarning: Trying to unpickle estimator OneVsRestClassifier from version 0.19.2 when using version 0.20.2. This might lead to breaking code or invalid results. Use at your own risk.\n",
      "  UserWarning)\n",
      "/opt/conda/lib/python3.6/site-packages/sklearn/base.py:251: UserWarning: Trying to unpickle estimator Pipeline from version 0.19.2 when using version 0.20.2. This might lead to breaking code or invalid results. Use at your own risk.\n",
      "  UserWarning)\n"
     ]
    },
    {
     "name": "stdout",
     "output_type": "stream",
     "text": [
      "testing model: ../picklefolder_ngrams/refreshed_models/Code_Diabetes_LRApril0219.pickle\n",
      "accuracy_score  precision recall  f1_score tn  fn  fp  tp\n",
      "0.786102484472   0.58  0.85  0.69 2837 221 881 1213\n"
     ]
    },
    {
     "name": "stderr",
     "output_type": "stream",
     "text": [
      "/opt/conda/lib/python3.6/site-packages/sklearn/base.py:251: UserWarning: Trying to unpickle estimator CountVectorizer from version 0.19.2 when using version 0.20.2. This might lead to breaking code or invalid results. Use at your own risk.\n",
      "  UserWarning)\n",
      "/opt/conda/lib/python3.6/site-packages/sklearn/base.py:251: UserWarning: Trying to unpickle estimator LogisticRegression from version 0.19.2 when using version 0.20.2. This might lead to breaking code or invalid results. Use at your own risk.\n",
      "  UserWarning)\n",
      "/opt/conda/lib/python3.6/site-packages/sklearn/base.py:251: UserWarning: Trying to unpickle estimator LabelBinarizer from version 0.19.2 when using version 0.20.2. This might lead to breaking code or invalid results. Use at your own risk.\n",
      "  UserWarning)\n",
      "/opt/conda/lib/python3.6/site-packages/sklearn/base.py:251: UserWarning: Trying to unpickle estimator LogisticRegression from version 0.19.2 when using version 0.20.2. This might lead to breaking code or invalid results. Use at your own risk.\n",
      "  UserWarning)\n",
      "/opt/conda/lib/python3.6/site-packages/sklearn/base.py:251: UserWarning: Trying to unpickle estimator OneVsRestClassifier from version 0.19.2 when using version 0.20.2. This might lead to breaking code or invalid results. Use at your own risk.\n",
      "  UserWarning)\n",
      "/opt/conda/lib/python3.6/site-packages/sklearn/base.py:251: UserWarning: Trying to unpickle estimator Pipeline from version 0.19.2 when using version 0.20.2. This might lead to breaking code or invalid results. Use at your own risk.\n",
      "  UserWarning)\n"
     ]
    },
    {
     "name": "stdout",
     "output_type": "stream",
     "text": [
      "testing model: ../picklefolder_ngrams/refreshed_models/Code_Heart_LRApril0219.pickle\n",
      "accuracy_score  precision recall  f1_score tn  fn  fp  tp\n",
      "0.750670241287   0.58  0.87  0.70 1044 91 467 636\n"
     ]
    },
    {
     "name": "stderr",
     "output_type": "stream",
     "text": [
      "/opt/conda/lib/python3.6/site-packages/sklearn/base.py:251: UserWarning: Trying to unpickle estimator CountVectorizer from version 0.19.2 when using version 0.20.2. This might lead to breaking code or invalid results. Use at your own risk.\n",
      "  UserWarning)\n",
      "/opt/conda/lib/python3.6/site-packages/sklearn/base.py:251: UserWarning: Trying to unpickle estimator LogisticRegression from version 0.19.2 when using version 0.20.2. This might lead to breaking code or invalid results. Use at your own risk.\n",
      "  UserWarning)\n",
      "/opt/conda/lib/python3.6/site-packages/sklearn/base.py:251: UserWarning: Trying to unpickle estimator LabelBinarizer from version 0.19.2 when using version 0.20.2. This might lead to breaking code or invalid results. Use at your own risk.\n",
      "  UserWarning)\n",
      "/opt/conda/lib/python3.6/site-packages/sklearn/base.py:251: UserWarning: Trying to unpickle estimator LogisticRegression from version 0.19.2 when using version 0.20.2. This might lead to breaking code or invalid results. Use at your own risk.\n",
      "  UserWarning)\n",
      "/opt/conda/lib/python3.6/site-packages/sklearn/base.py:251: UserWarning: Trying to unpickle estimator OneVsRestClassifier from version 0.19.2 when using version 0.20.2. This might lead to breaking code or invalid results. Use at your own risk.\n",
      "  UserWarning)\n",
      "/opt/conda/lib/python3.6/site-packages/sklearn/base.py:251: UserWarning: Trying to unpickle estimator Pipeline from version 0.19.2 when using version 0.20.2. This might lead to breaking code or invalid results. Use at your own risk.\n",
      "  UserWarning)\n"
     ]
    },
    {
     "name": "stdout",
     "output_type": "stream",
     "text": [
      "testing model: ../picklefolder_ngrams/refreshed_models/Code_Kidney_LRApril0219.pickle\n",
      "accuracy_score  precision recall  f1_score tn  fn  fp  tp\n",
      "0.658476658477   0.62  0.86  0.72 177 57 221 359\n"
     ]
    },
    {
     "name": "stderr",
     "output_type": "stream",
     "text": [
      "/opt/conda/lib/python3.6/site-packages/sklearn/base.py:251: UserWarning: Trying to unpickle estimator CountVectorizer from version 0.19.2 when using version 0.20.2. This might lead to breaking code or invalid results. Use at your own risk.\n",
      "  UserWarning)\n",
      "/opt/conda/lib/python3.6/site-packages/sklearn/base.py:251: UserWarning: Trying to unpickle estimator LogisticRegression from version 0.19.2 when using version 0.20.2. This might lead to breaking code or invalid results. Use at your own risk.\n",
      "  UserWarning)\n",
      "/opt/conda/lib/python3.6/site-packages/sklearn/base.py:251: UserWarning: Trying to unpickle estimator LabelBinarizer from version 0.19.2 when using version 0.20.2. This might lead to breaking code or invalid results. Use at your own risk.\n",
      "  UserWarning)\n",
      "/opt/conda/lib/python3.6/site-packages/sklearn/base.py:251: UserWarning: Trying to unpickle estimator LogisticRegression from version 0.19.2 when using version 0.20.2. This might lead to breaking code or invalid results. Use at your own risk.\n",
      "  UserWarning)\n",
      "/opt/conda/lib/python3.6/site-packages/sklearn/base.py:251: UserWarning: Trying to unpickle estimator OneVsRestClassifier from version 0.19.2 when using version 0.20.2. This might lead to breaking code or invalid results. Use at your own risk.\n",
      "  UserWarning)\n",
      "/opt/conda/lib/python3.6/site-packages/sklearn/base.py:251: UserWarning: Trying to unpickle estimator Pipeline from version 0.19.2 when using version 0.20.2. This might lead to breaking code or invalid results. Use at your own risk.\n",
      "  UserWarning)\n"
     ]
    },
    {
     "name": "stdout",
     "output_type": "stream",
     "text": [
      "testing model: ../picklefolder_ngrams/refreshed_models/Code_Model1_LRApril0219.pickle\n",
      "accuracy_score  precision recall  f1_score tn  fn  fp  tp\n",
      "0.742946450605   0.68  0.96  0.79 2976 253 2872 6056\n"
     ]
    },
    {
     "name": "stderr",
     "output_type": "stream",
     "text": [
      "/opt/conda/lib/python3.6/site-packages/sklearn/base.py:251: UserWarning: Trying to unpickle estimator CountVectorizer from version 0.19.2 when using version 0.20.2. This might lead to breaking code or invalid results. Use at your own risk.\n",
      "  UserWarning)\n",
      "/opt/conda/lib/python3.6/site-packages/sklearn/base.py:251: UserWarning: Trying to unpickle estimator LogisticRegression from version 0.19.2 when using version 0.20.2. This might lead to breaking code or invalid results. Use at your own risk.\n",
      "  UserWarning)\n",
      "/opt/conda/lib/python3.6/site-packages/sklearn/base.py:251: UserWarning: Trying to unpickle estimator LabelBinarizer from version 0.19.2 when using version 0.20.2. This might lead to breaking code or invalid results. Use at your own risk.\n",
      "  UserWarning)\n",
      "/opt/conda/lib/python3.6/site-packages/sklearn/base.py:251: UserWarning: Trying to unpickle estimator LogisticRegression from version 0.19.2 when using version 0.20.2. This might lead to breaking code or invalid results. Use at your own risk.\n",
      "  UserWarning)\n",
      "/opt/conda/lib/python3.6/site-packages/sklearn/base.py:251: UserWarning: Trying to unpickle estimator OneVsRestClassifier from version 0.19.2 when using version 0.20.2. This might lead to breaking code or invalid results. Use at your own risk.\n",
      "  UserWarning)\n",
      "/opt/conda/lib/python3.6/site-packages/sklearn/base.py:251: UserWarning: Trying to unpickle estimator Pipeline from version 0.19.2 when using version 0.20.2. This might lead to breaking code or invalid results. Use at your own risk.\n",
      "  UserWarning)\n"
     ]
    },
    {
     "name": "stdout",
     "output_type": "stream",
     "text": [
      "testing model: ../picklefolder_ngrams/refreshed_models/Code_Cancer_LRApril0219.pickle\n",
      "accuracy_score  precision recall  f1_score tn  fn  fp  tp\n",
      "0.925522252498   0.49  0.76  0.60 958 19 63 61\n"
     ]
    },
    {
     "name": "stderr",
     "output_type": "stream",
     "text": [
      "/opt/conda/lib/python3.6/site-packages/sklearn/base.py:251: UserWarning: Trying to unpickle estimator CountVectorizer from version 0.19.2 when using version 0.20.2. This might lead to breaking code or invalid results. Use at your own risk.\n",
      "  UserWarning)\n",
      "/opt/conda/lib/python3.6/site-packages/sklearn/base.py:251: UserWarning: Trying to unpickle estimator LogisticRegression from version 0.19.2 when using version 0.20.2. This might lead to breaking code or invalid results. Use at your own risk.\n",
      "  UserWarning)\n",
      "/opt/conda/lib/python3.6/site-packages/sklearn/base.py:251: UserWarning: Trying to unpickle estimator LabelBinarizer from version 0.19.2 when using version 0.20.2. This might lead to breaking code or invalid results. Use at your own risk.\n",
      "  UserWarning)\n",
      "/opt/conda/lib/python3.6/site-packages/sklearn/base.py:251: UserWarning: Trying to unpickle estimator LogisticRegression from version 0.19.2 when using version 0.20.2. This might lead to breaking code or invalid results. Use at your own risk.\n",
      "  UserWarning)\n",
      "/opt/conda/lib/python3.6/site-packages/sklearn/base.py:251: UserWarning: Trying to unpickle estimator OneVsRestClassifier from version 0.19.2 when using version 0.20.2. This might lead to breaking code or invalid results. Use at your own risk.\n",
      "  UserWarning)\n",
      "/opt/conda/lib/python3.6/site-packages/sklearn/base.py:251: UserWarning: Trying to unpickle estimator Pipeline from version 0.19.2 when using version 0.20.2. This might lead to breaking code or invalid results. Use at your own risk.\n",
      "  UserWarning)\n"
     ]
    },
    {
     "name": "stdout",
     "output_type": "stream",
     "text": [
      "testing model: ../picklefolder_ngrams/refreshed_models/Code_Cholesterol_LRApril0219.pickle\n",
      "accuracy_score  precision recall  f1_score tn  fn  fp  tp\n",
      "0.790971113369   0.75  0.98  0.85 1495 87 1353 3954\n"
     ]
    },
    {
     "name": "stderr",
     "output_type": "stream",
     "text": [
      "/opt/conda/lib/python3.6/site-packages/sklearn/base.py:251: UserWarning: Trying to unpickle estimator CountVectorizer from version 0.19.2 when using version 0.20.2. This might lead to breaking code or invalid results. Use at your own risk.\n",
      "  UserWarning)\n",
      "/opt/conda/lib/python3.6/site-packages/sklearn/base.py:251: UserWarning: Trying to unpickle estimator LogisticRegression from version 0.19.2 when using version 0.20.2. This might lead to breaking code or invalid results. Use at your own risk.\n",
      "  UserWarning)\n",
      "/opt/conda/lib/python3.6/site-packages/sklearn/base.py:251: UserWarning: Trying to unpickle estimator LabelBinarizer from version 0.19.2 when using version 0.20.2. This might lead to breaking code or invalid results. Use at your own risk.\n",
      "  UserWarning)\n",
      "/opt/conda/lib/python3.6/site-packages/sklearn/base.py:251: UserWarning: Trying to unpickle estimator LogisticRegression from version 0.19.2 when using version 0.20.2. This might lead to breaking code or invalid results. Use at your own risk.\n",
      "  UserWarning)\n",
      "/opt/conda/lib/python3.6/site-packages/sklearn/base.py:251: UserWarning: Trying to unpickle estimator OneVsRestClassifier from version 0.19.2 when using version 0.20.2. This might lead to breaking code or invalid results. Use at your own risk.\n",
      "  UserWarning)\n",
      "/opt/conda/lib/python3.6/site-packages/sklearn/base.py:251: UserWarning: Trying to unpickle estimator Pipeline from version 0.19.2 when using version 0.20.2. This might lead to breaking code or invalid results. Use at your own risk.\n",
      "  UserWarning)\n"
     ]
    },
    {
     "name": "stdout",
     "output_type": "stream",
     "text": [
      "testing model: ../picklefolder_ngrams/refreshed_models/Code_Model2_LRApril0219.pickle\n",
      "accuracy_score  precision recall  f1_score tn  fn  fp  tp\n",
      "0.786014781126   0.76  0.95  0.84 1855 247 1635 5058\n"
     ]
    },
    {
     "name": "stderr",
     "output_type": "stream",
     "text": [
      "/opt/conda/lib/python3.6/site-packages/sklearn/base.py:251: UserWarning: Trying to unpickle estimator CountVectorizer from version 0.19.2 when using version 0.20.2. This might lead to breaking code or invalid results. Use at your own risk.\n",
      "  UserWarning)\n",
      "/opt/conda/lib/python3.6/site-packages/sklearn/base.py:251: UserWarning: Trying to unpickle estimator LogisticRegression from version 0.19.2 when using version 0.20.2. This might lead to breaking code or invalid results. Use at your own risk.\n",
      "  UserWarning)\n",
      "/opt/conda/lib/python3.6/site-packages/sklearn/base.py:251: UserWarning: Trying to unpickle estimator LabelBinarizer from version 0.19.2 when using version 0.20.2. This might lead to breaking code or invalid results. Use at your own risk.\n",
      "  UserWarning)\n",
      "/opt/conda/lib/python3.6/site-packages/sklearn/base.py:251: UserWarning: Trying to unpickle estimator LogisticRegression from version 0.19.2 when using version 0.20.2. This might lead to breaking code or invalid results. Use at your own risk.\n",
      "  UserWarning)\n",
      "/opt/conda/lib/python3.6/site-packages/sklearn/base.py:251: UserWarning: Trying to unpickle estimator OneVsRestClassifier from version 0.19.2 when using version 0.20.2. This might lead to breaking code or invalid results. Use at your own risk.\n",
      "  UserWarning)\n",
      "/opt/conda/lib/python3.6/site-packages/sklearn/base.py:251: UserWarning: Trying to unpickle estimator Pipeline from version 0.19.2 when using version 0.20.2. This might lead to breaking code or invalid results. Use at your own risk.\n",
      "  UserWarning)\n"
     ]
    },
    {
     "name": "stdout",
     "output_type": "stream",
     "text": [
      "testing model: ../picklefolder_ngrams/refreshed_models/Code_Model3_LRApril0219.pickle\n",
      "accuracy_score  precision recall  f1_score tn  fn  fp  tp\n",
      "0.831700413673   0.67  0.96  0.79 2405 64 709 1415\n"
     ]
    },
    {
     "name": "stderr",
     "output_type": "stream",
     "text": [
      "/opt/conda/lib/python3.6/site-packages/sklearn/base.py:251: UserWarning: Trying to unpickle estimator TfidfTransformer from version 0.19.2 when using version 0.20.2. This might lead to breaking code or invalid results. Use at your own risk.\n",
      "  UserWarning)\n",
      "/opt/conda/lib/python3.6/site-packages/sklearn/base.py:251: UserWarning: Trying to unpickle estimator TfidfVectorizer from version 0.19.2 when using version 0.20.2. This might lead to breaking code or invalid results. Use at your own risk.\n",
      "  UserWarning)\n",
      "/opt/conda/lib/python3.6/site-packages/sklearn/base.py:251: UserWarning: Trying to unpickle estimator LogisticRegression from version 0.19.2 when using version 0.20.2. This might lead to breaking code or invalid results. Use at your own risk.\n",
      "  UserWarning)\n",
      "/opt/conda/lib/python3.6/site-packages/sklearn/base.py:251: UserWarning: Trying to unpickle estimator LabelBinarizer from version 0.19.2 when using version 0.20.2. This might lead to breaking code or invalid results. Use at your own risk.\n",
      "  UserWarning)\n",
      "/opt/conda/lib/python3.6/site-packages/sklearn/base.py:251: UserWarning: Trying to unpickle estimator LogisticRegression from version 0.19.2 when using version 0.20.2. This might lead to breaking code or invalid results. Use at your own risk.\n",
      "  UserWarning)\n",
      "/opt/conda/lib/python3.6/site-packages/sklearn/base.py:251: UserWarning: Trying to unpickle estimator OneVsRestClassifier from version 0.19.2 when using version 0.20.2. This might lead to breaking code or invalid results. Use at your own risk.\n",
      "  UserWarning)\n",
      "/opt/conda/lib/python3.6/site-packages/sklearn/base.py:251: UserWarning: Trying to unpickle estimator Pipeline from version 0.19.2 when using version 0.20.2. This might lead to breaking code or invalid results. Use at your own risk.\n",
      "  UserWarning)\n"
     ]
    },
    {
     "name": "stdout",
     "output_type": "stream",
     "text": [
      "testing model: ../picklefolder_ngrams/refreshed_models/Phrase_asthma_LRApril0219.pickle\n",
      "accuracy_score  precision recall  f1_score tn  fn  fp  tp\n",
      "0.657672849916   0.57  0.98  0.72 127 5 198 263\n"
     ]
    },
    {
     "name": "stderr",
     "output_type": "stream",
     "text": [
      "/opt/conda/lib/python3.6/site-packages/sklearn/base.py:251: UserWarning: Trying to unpickle estimator TfidfTransformer from version 0.19.2 when using version 0.20.2. This might lead to breaking code or invalid results. Use at your own risk.\n",
      "  UserWarning)\n",
      "/opt/conda/lib/python3.6/site-packages/sklearn/base.py:251: UserWarning: Trying to unpickle estimator TfidfVectorizer from version 0.19.2 when using version 0.20.2. This might lead to breaking code or invalid results. Use at your own risk.\n",
      "  UserWarning)\n",
      "/opt/conda/lib/python3.6/site-packages/sklearn/base.py:251: UserWarning: Trying to unpickle estimator LogisticRegression from version 0.19.2 when using version 0.20.2. This might lead to breaking code or invalid results. Use at your own risk.\n",
      "  UserWarning)\n",
      "/opt/conda/lib/python3.6/site-packages/sklearn/base.py:251: UserWarning: Trying to unpickle estimator LabelBinarizer from version 0.19.2 when using version 0.20.2. This might lead to breaking code or invalid results. Use at your own risk.\n",
      "  UserWarning)\n",
      "/opt/conda/lib/python3.6/site-packages/sklearn/base.py:251: UserWarning: Trying to unpickle estimator LogisticRegression from version 0.19.2 when using version 0.20.2. This might lead to breaking code or invalid results. Use at your own risk.\n",
      "  UserWarning)\n",
      "/opt/conda/lib/python3.6/site-packages/sklearn/base.py:251: UserWarning: Trying to unpickle estimator OneVsRestClassifier from version 0.19.2 when using version 0.20.2. This might lead to breaking code or invalid results. Use at your own risk.\n",
      "  UserWarning)\n",
      "/opt/conda/lib/python3.6/site-packages/sklearn/base.py:251: UserWarning: Trying to unpickle estimator Pipeline from version 0.19.2 when using version 0.20.2. This might lead to breaking code or invalid results. Use at your own risk.\n",
      "  UserWarning)\n"
     ]
    },
    {
     "name": "stdout",
     "output_type": "stream",
     "text": [
      "testing model: ../picklefolder_ngrams/refreshed_models/Phrase_cancer_LRApril0219.pickle\n",
      "accuracy_score  precision recall  f1_score tn  fn  fp  tp\n",
      "0.897321428571   0.34  0.61  0.44 1345 39 122 62\n"
     ]
    },
    {
     "name": "stderr",
     "output_type": "stream",
     "text": [
      "/opt/conda/lib/python3.6/site-packages/sklearn/base.py:251: UserWarning: Trying to unpickle estimator TfidfTransformer from version 0.19.2 when using version 0.20.2. This might lead to breaking code or invalid results. Use at your own risk.\n",
      "  UserWarning)\n",
      "/opt/conda/lib/python3.6/site-packages/sklearn/base.py:251: UserWarning: Trying to unpickle estimator TfidfVectorizer from version 0.19.2 when using version 0.20.2. This might lead to breaking code or invalid results. Use at your own risk.\n",
      "  UserWarning)\n",
      "/opt/conda/lib/python3.6/site-packages/sklearn/base.py:251: UserWarning: Trying to unpickle estimator LogisticRegression from version 0.19.2 when using version 0.20.2. This might lead to breaking code or invalid results. Use at your own risk.\n",
      "  UserWarning)\n",
      "/opt/conda/lib/python3.6/site-packages/sklearn/base.py:251: UserWarning: Trying to unpickle estimator LabelBinarizer from version 0.19.2 when using version 0.20.2. This might lead to breaking code or invalid results. Use at your own risk.\n",
      "  UserWarning)\n",
      "/opt/conda/lib/python3.6/site-packages/sklearn/base.py:251: UserWarning: Trying to unpickle estimator LogisticRegression from version 0.19.2 when using version 0.20.2. This might lead to breaking code or invalid results. Use at your own risk.\n",
      "  UserWarning)\n",
      "/opt/conda/lib/python3.6/site-packages/sklearn/base.py:251: UserWarning: Trying to unpickle estimator OneVsRestClassifier from version 0.19.2 when using version 0.20.2. This might lead to breaking code or invalid results. Use at your own risk.\n",
      "  UserWarning)\n",
      "/opt/conda/lib/python3.6/site-packages/sklearn/base.py:251: UserWarning: Trying to unpickle estimator Pipeline from version 0.19.2 when using version 0.20.2. This might lead to breaking code or invalid results. Use at your own risk.\n",
      "  UserWarning)\n"
     ]
    },
    {
     "name": "stdout",
     "output_type": "stream",
     "text": [
      "testing model: ../picklefolder_ngrams/refreshed_models/Phrase_ckd_LRApril0219.pickle\n",
      "accuracy_score  precision recall  f1_score tn  fn  fp  tp\n",
      "0.602870813397   0.56  1.00  0.72 42 1 165 210\n"
     ]
    },
    {
     "name": "stderr",
     "output_type": "stream",
     "text": [
      "/opt/conda/lib/python3.6/site-packages/sklearn/base.py:251: UserWarning: Trying to unpickle estimator TfidfTransformer from version 0.19.2 when using version 0.20.2. This might lead to breaking code or invalid results. Use at your own risk.\n",
      "  UserWarning)\n",
      "/opt/conda/lib/python3.6/site-packages/sklearn/base.py:251: UserWarning: Trying to unpickle estimator TfidfVectorizer from version 0.19.2 when using version 0.20.2. This might lead to breaking code or invalid results. Use at your own risk.\n",
      "  UserWarning)\n",
      "/opt/conda/lib/python3.6/site-packages/sklearn/base.py:251: UserWarning: Trying to unpickle estimator LogisticRegression from version 0.19.2 when using version 0.20.2. This might lead to breaking code or invalid results. Use at your own risk.\n",
      "  UserWarning)\n",
      "/opt/conda/lib/python3.6/site-packages/sklearn/base.py:251: UserWarning: Trying to unpickle estimator LabelBinarizer from version 0.19.2 when using version 0.20.2. This might lead to breaking code or invalid results. Use at your own risk.\n",
      "  UserWarning)\n",
      "/opt/conda/lib/python3.6/site-packages/sklearn/base.py:251: UserWarning: Trying to unpickle estimator LogisticRegression from version 0.19.2 when using version 0.20.2. This might lead to breaking code or invalid results. Use at your own risk.\n",
      "  UserWarning)\n",
      "/opt/conda/lib/python3.6/site-packages/sklearn/base.py:251: UserWarning: Trying to unpickle estimator OneVsRestClassifier from version 0.19.2 when using version 0.20.2. This might lead to breaking code or invalid results. Use at your own risk.\n",
      "  UserWarning)\n",
      "/opt/conda/lib/python3.6/site-packages/sklearn/base.py:251: UserWarning: Trying to unpickle estimator Pipeline from version 0.19.2 when using version 0.20.2. This might lead to breaking code or invalid results. Use at your own risk.\n",
      "  UserWarning)\n"
     ]
    },
    {
     "name": "stdout",
     "output_type": "stream",
     "text": [
      "testing model: ../picklefolder_ngrams/refreshed_models/Phrase_depression_LRApril0219.pickle\n",
      "accuracy_score  precision recall  f1_score tn  fn  fp  tp\n",
      "0.852090032154   0.61  0.76  0.67 870 60 124 190\n"
     ]
    },
    {
     "name": "stderr",
     "output_type": "stream",
     "text": [
      "/opt/conda/lib/python3.6/site-packages/sklearn/base.py:251: UserWarning: Trying to unpickle estimator TfidfTransformer from version 0.19.2 when using version 0.20.2. This might lead to breaking code or invalid results. Use at your own risk.\n",
      "  UserWarning)\n",
      "/opt/conda/lib/python3.6/site-packages/sklearn/base.py:251: UserWarning: Trying to unpickle estimator TfidfVectorizer from version 0.19.2 when using version 0.20.2. This might lead to breaking code or invalid results. Use at your own risk.\n",
      "  UserWarning)\n",
      "/opt/conda/lib/python3.6/site-packages/sklearn/base.py:251: UserWarning: Trying to unpickle estimator LogisticRegression from version 0.19.2 when using version 0.20.2. This might lead to breaking code or invalid results. Use at your own risk.\n",
      "  UserWarning)\n",
      "/opt/conda/lib/python3.6/site-packages/sklearn/base.py:251: UserWarning: Trying to unpickle estimator LabelBinarizer from version 0.19.2 when using version 0.20.2. This might lead to breaking code or invalid results. Use at your own risk.\n",
      "  UserWarning)\n",
      "/opt/conda/lib/python3.6/site-packages/sklearn/base.py:251: UserWarning: Trying to unpickle estimator LogisticRegression from version 0.19.2 when using version 0.20.2. This might lead to breaking code or invalid results. Use at your own risk.\n",
      "  UserWarning)\n",
      "/opt/conda/lib/python3.6/site-packages/sklearn/base.py:251: UserWarning: Trying to unpickle estimator OneVsRestClassifier from version 0.19.2 when using version 0.20.2. This might lead to breaking code or invalid results. Use at your own risk.\n",
      "  UserWarning)\n",
      "/opt/conda/lib/python3.6/site-packages/sklearn/base.py:251: UserWarning: Trying to unpickle estimator Pipeline from version 0.19.2 when using version 0.20.2. This might lead to breaking code or invalid results. Use at your own risk.\n",
      "  UserWarning)\n"
     ]
    },
    {
     "name": "stdout",
     "output_type": "stream",
     "text": [
      "testing model: ../picklefolder_ngrams/refreshed_models/Phrase_diabetes_LRApril0219.pickle\n",
      "accuracy_score  precision recall  f1_score tn  fn  fp  tp\n",
      "0.743117010816   0.63  0.95  0.75 1422 88 957 1601\n"
     ]
    },
    {
     "name": "stderr",
     "output_type": "stream",
     "text": [
      "/opt/conda/lib/python3.6/site-packages/sklearn/base.py:251: UserWarning: Trying to unpickle estimator TfidfTransformer from version 0.19.2 when using version 0.20.2. This might lead to breaking code or invalid results. Use at your own risk.\n",
      "  UserWarning)\n",
      "/opt/conda/lib/python3.6/site-packages/sklearn/base.py:251: UserWarning: Trying to unpickle estimator TfidfVectorizer from version 0.19.2 when using version 0.20.2. This might lead to breaking code or invalid results. Use at your own risk.\n",
      "  UserWarning)\n",
      "/opt/conda/lib/python3.6/site-packages/sklearn/base.py:251: UserWarning: Trying to unpickle estimator LogisticRegression from version 0.19.2 when using version 0.20.2. This might lead to breaking code or invalid results. Use at your own risk.\n",
      "  UserWarning)\n",
      "/opt/conda/lib/python3.6/site-packages/sklearn/base.py:251: UserWarning: Trying to unpickle estimator LabelBinarizer from version 0.19.2 when using version 0.20.2. This might lead to breaking code or invalid results. Use at your own risk.\n",
      "  UserWarning)\n",
      "/opt/conda/lib/python3.6/site-packages/sklearn/base.py:251: UserWarning: Trying to unpickle estimator LogisticRegression from version 0.19.2 when using version 0.20.2. This might lead to breaking code or invalid results. Use at your own risk.\n",
      "  UserWarning)\n",
      "/opt/conda/lib/python3.6/site-packages/sklearn/base.py:251: UserWarning: Trying to unpickle estimator OneVsRestClassifier from version 0.19.2 when using version 0.20.2. This might lead to breaking code or invalid results. Use at your own risk.\n",
      "  UserWarning)\n",
      "/opt/conda/lib/python3.6/site-packages/sklearn/base.py:251: UserWarning: Trying to unpickle estimator Pipeline from version 0.19.2 when using version 0.20.2. This might lead to breaking code or invalid results. Use at your own risk.\n",
      "  UserWarning)\n"
     ]
    },
    {
     "name": "stdout",
     "output_type": "stream",
     "text": [
      "testing model: ../picklefolder_ngrams/refreshed_models/DeletionReason_family_history_LRApril0219.pickle\n",
      "accuracy_score  precision recall  f1_score tn  fn  fp  tp\n",
      "0.477137415713   0.45  1.00  0.62 2608 37 30437 25201\n"
     ]
    },
    {
     "name": "stderr",
     "output_type": "stream",
     "text": [
      "/opt/conda/lib/python3.6/site-packages/sklearn/base.py:251: UserWarning: Trying to unpickle estimator TfidfTransformer from version 0.19.2 when using version 0.20.2. This might lead to breaking code or invalid results. Use at your own risk.\n",
      "  UserWarning)\n",
      "/opt/conda/lib/python3.6/site-packages/sklearn/base.py:251: UserWarning: Trying to unpickle estimator TfidfVectorizer from version 0.19.2 when using version 0.20.2. This might lead to breaking code or invalid results. Use at your own risk.\n",
      "  UserWarning)\n",
      "/opt/conda/lib/python3.6/site-packages/sklearn/base.py:251: UserWarning: Trying to unpickle estimator LogisticRegression from version 0.19.2 when using version 0.20.2. This might lead to breaking code or invalid results. Use at your own risk.\n",
      "  UserWarning)\n",
      "/opt/conda/lib/python3.6/site-packages/sklearn/base.py:251: UserWarning: Trying to unpickle estimator LabelBinarizer from version 0.19.2 when using version 0.20.2. This might lead to breaking code or invalid results. Use at your own risk.\n",
      "  UserWarning)\n",
      "/opt/conda/lib/python3.6/site-packages/sklearn/base.py:251: UserWarning: Trying to unpickle estimator LogisticRegression from version 0.19.2 when using version 0.20.2. This might lead to breaking code or invalid results. Use at your own risk.\n",
      "  UserWarning)\n",
      "/opt/conda/lib/python3.6/site-packages/sklearn/base.py:251: UserWarning: Trying to unpickle estimator OneVsRestClassifier from version 0.19.2 when using version 0.20.2. This might lead to breaking code or invalid results. Use at your own risk.\n",
      "  UserWarning)\n",
      "/opt/conda/lib/python3.6/site-packages/sklearn/base.py:251: UserWarning: Trying to unpickle estimator Pipeline from version 0.19.2 when using version 0.20.2. This might lead to breaking code or invalid results. Use at your own risk.\n",
      "  UserWarning)\n"
     ]
    },
    {
     "name": "stdout",
     "output_type": "stream",
     "text": [
      "testing model: ../picklefolder_ngrams/refreshed_models/DeletionReason_negation_LRApril0219.pickle\n",
      "accuracy_score  precision recall  f1_score tn  fn  fp  tp\n",
      "0.511727261809   0.47  1.00  0.64 4667 80 28378 25158\n"
     ]
    },
    {
     "name": "stderr",
     "output_type": "stream",
     "text": [
      "/opt/conda/lib/python3.6/site-packages/sklearn/base.py:251: UserWarning: Trying to unpickle estimator TfidfTransformer from version 0.19.2 when using version 0.20.2. This might lead to breaking code or invalid results. Use at your own risk.\n",
      "  UserWarning)\n",
      "/opt/conda/lib/python3.6/site-packages/sklearn/base.py:251: UserWarning: Trying to unpickle estimator TfidfVectorizer from version 0.19.2 when using version 0.20.2. This might lead to breaking code or invalid results. Use at your own risk.\n",
      "  UserWarning)\n",
      "/opt/conda/lib/python3.6/site-packages/sklearn/base.py:251: UserWarning: Trying to unpickle estimator LogisticRegression from version 0.19.2 when using version 0.20.2. This might lead to breaking code or invalid results. Use at your own risk.\n",
      "  UserWarning)\n",
      "/opt/conda/lib/python3.6/site-packages/sklearn/base.py:251: UserWarning: Trying to unpickle estimator LabelBinarizer from version 0.19.2 when using version 0.20.2. This might lead to breaking code or invalid results. Use at your own risk.\n",
      "  UserWarning)\n",
      "/opt/conda/lib/python3.6/site-packages/sklearn/base.py:251: UserWarning: Trying to unpickle estimator LogisticRegression from version 0.19.2 when using version 0.20.2. This might lead to breaking code or invalid results. Use at your own risk.\n",
      "  UserWarning)\n",
      "/opt/conda/lib/python3.6/site-packages/sklearn/base.py:251: UserWarning: Trying to unpickle estimator OneVsRestClassifier from version 0.19.2 when using version 0.20.2. This might lead to breaking code or invalid results. Use at your own risk.\n",
      "  UserWarning)\n",
      "/opt/conda/lib/python3.6/site-packages/sklearn/base.py:251: UserWarning: Trying to unpickle estimator Pipeline from version 0.19.2 when using version 0.20.2. This might lead to breaking code or invalid results. Use at your own risk.\n",
      "  UserWarning)\n"
     ]
    },
    {
     "name": "stdout",
     "output_type": "stream",
     "text": [
      "testing model: ../picklefolder_ngrams/refreshed_models/DeletionReason_not_doctors_note_LRApril0219.pickle\n",
      "accuracy_score  precision recall  f1_score tn  fn  fp  tp\n",
      "0.538407425836   0.48  0.99  0.65 6277 135 26768 25103\n"
     ]
    },
    {
     "name": "stderr",
     "output_type": "stream",
     "text": [
      "/opt/conda/lib/python3.6/site-packages/sklearn/base.py:251: UserWarning: Trying to unpickle estimator TfidfTransformer from version 0.19.2 when using version 0.20.2. This might lead to breaking code or invalid results. Use at your own risk.\n",
      "  UserWarning)\n",
      "/opt/conda/lib/python3.6/site-packages/sklearn/base.py:251: UserWarning: Trying to unpickle estimator TfidfVectorizer from version 0.19.2 when using version 0.20.2. This might lead to breaking code or invalid results. Use at your own risk.\n",
      "  UserWarning)\n",
      "/opt/conda/lib/python3.6/site-packages/sklearn/base.py:251: UserWarning: Trying to unpickle estimator LogisticRegression from version 0.19.2 when using version 0.20.2. This might lead to breaking code or invalid results. Use at your own risk.\n",
      "  UserWarning)\n",
      "/opt/conda/lib/python3.6/site-packages/sklearn/base.py:251: UserWarning: Trying to unpickle estimator LabelBinarizer from version 0.19.2 when using version 0.20.2. This might lead to breaking code or invalid results. Use at your own risk.\n",
      "  UserWarning)\n",
      "/opt/conda/lib/python3.6/site-packages/sklearn/base.py:251: UserWarning: Trying to unpickle estimator LogisticRegression from version 0.19.2 when using version 0.20.2. This might lead to breaking code or invalid results. Use at your own risk.\n",
      "  UserWarning)\n",
      "/opt/conda/lib/python3.6/site-packages/sklearn/base.py:251: UserWarning: Trying to unpickle estimator OneVsRestClassifier from version 0.19.2 when using version 0.20.2. This might lead to breaking code or invalid results. Use at your own risk.\n",
      "  UserWarning)\n",
      "/opt/conda/lib/python3.6/site-packages/sklearn/base.py:251: UserWarning: Trying to unpickle estimator Pipeline from version 0.19.2 when using version 0.20.2. This might lead to breaking code or invalid results. Use at your own risk.\n",
      "  UserWarning)\n"
     ]
    },
    {
     "name": "stdout",
     "output_type": "stream",
     "text": [
      "testing model: ../picklefolder_ngrams/refreshed_models/DeletionReason_not_relevant_LRApril0219.pickle\n",
      "accuracy_score  precision recall  f1_score tn  fn  fp  tp\n",
      "0.639037112022   0.55  0.98  0.70 12460 453 20585 24785\n"
     ]
    },
    {
     "name": "stderr",
     "output_type": "stream",
     "text": [
      "/opt/conda/lib/python3.6/site-packages/sklearn/base.py:251: UserWarning: Trying to unpickle estimator TfidfTransformer from version 0.19.2 when using version 0.20.2. This might lead to breaking code or invalid results. Use at your own risk.\n",
      "  UserWarning)\n",
      "/opt/conda/lib/python3.6/site-packages/sklearn/base.py:251: UserWarning: Trying to unpickle estimator TfidfVectorizer from version 0.19.2 when using version 0.20.2. This might lead to breaking code or invalid results. Use at your own risk.\n",
      "  UserWarning)\n",
      "/opt/conda/lib/python3.6/site-packages/sklearn/base.py:251: UserWarning: Trying to unpickle estimator LogisticRegression from version 0.19.2 when using version 0.20.2. This might lead to breaking code or invalid results. Use at your own risk.\n",
      "  UserWarning)\n",
      "/opt/conda/lib/python3.6/site-packages/sklearn/base.py:251: UserWarning: Trying to unpickle estimator LabelBinarizer from version 0.19.2 when using version 0.20.2. This might lead to breaking code or invalid results. Use at your own risk.\n",
      "  UserWarning)\n",
      "/opt/conda/lib/python3.6/site-packages/sklearn/base.py:251: UserWarning: Trying to unpickle estimator LogisticRegression from version 0.19.2 when using version 0.20.2. This might lead to breaking code or invalid results. Use at your own risk.\n",
      "  UserWarning)\n",
      "/opt/conda/lib/python3.6/site-packages/sklearn/base.py:251: UserWarning: Trying to unpickle estimator OneVsRestClassifier from version 0.19.2 when using version 0.20.2. This might lead to breaking code or invalid results. Use at your own risk.\n",
      "  UserWarning)\n",
      "/opt/conda/lib/python3.6/site-packages/sklearn/base.py:251: UserWarning: Trying to unpickle estimator Pipeline from version 0.19.2 when using version 0.20.2. This might lead to breaking code or invalid results. Use at your own risk.\n",
      "  UserWarning)\n"
     ]
    },
    {
     "name": "stdout",
     "output_type": "stream",
     "text": [
      "testing model: ../picklefolder_ngrams/refreshed_models/DeletionReason_phoneORaddressORother_number_LRApril0219.pickle\n",
      "accuracy_score  precision recall  f1_score tn  fn  fp  tp\n",
      "0.458487037387   0.44  1.00  0.62 1489 5 31556 25233\n"
     ]
    },
    {
     "name": "stderr",
     "output_type": "stream",
     "text": [
      "/opt/conda/lib/python3.6/site-packages/sklearn/base.py:251: UserWarning: Trying to unpickle estimator TfidfTransformer from version 0.19.2 when using version 0.20.2. This might lead to breaking code or invalid results. Use at your own risk.\n",
      "  UserWarning)\n",
      "/opt/conda/lib/python3.6/site-packages/sklearn/base.py:251: UserWarning: Trying to unpickle estimator TfidfVectorizer from version 0.19.2 when using version 0.20.2. This might lead to breaking code or invalid results. Use at your own risk.\n",
      "  UserWarning)\n",
      "/opt/conda/lib/python3.6/site-packages/sklearn/base.py:251: UserWarning: Trying to unpickle estimator LogisticRegression from version 0.19.2 when using version 0.20.2. This might lead to breaking code or invalid results. Use at your own risk.\n",
      "  UserWarning)\n",
      "/opt/conda/lib/python3.6/site-packages/sklearn/base.py:251: UserWarning: Trying to unpickle estimator LabelBinarizer from version 0.19.2 when using version 0.20.2. This might lead to breaking code or invalid results. Use at your own risk.\n",
      "  UserWarning)\n",
      "/opt/conda/lib/python3.6/site-packages/sklearn/base.py:251: UserWarning: Trying to unpickle estimator LogisticRegression from version 0.19.2 when using version 0.20.2. This might lead to breaking code or invalid results. Use at your own risk.\n",
      "  UserWarning)\n",
      "/opt/conda/lib/python3.6/site-packages/sklearn/base.py:251: UserWarning: Trying to unpickle estimator OneVsRestClassifier from version 0.19.2 when using version 0.20.2. This might lead to breaking code or invalid results. Use at your own risk.\n",
      "  UserWarning)\n",
      "/opt/conda/lib/python3.6/site-packages/sklearn/base.py:251: UserWarning: Trying to unpickle estimator Pipeline from version 0.19.2 when using version 0.20.2. This might lead to breaking code or invalid results. Use at your own risk.\n",
      "  UserWarning)\n"
     ]
    },
    {
     "name": "stdout",
     "output_type": "stream",
     "text": [
      "testing model: ../picklefolder_ngrams/refreshed_models/DeletionReason_preventative_screening_LRApril0219.pickle\n",
      "accuracy_score  precision recall  f1_score tn  fn  fp  tp\n",
      "0.48307396668   0.46  1.00  0.63 3000 83 30045 25155\n"
     ]
    }
   ],
   "source": [
    "f = open(\"refreshedmodeltestscore_0524.txt\", \"w+\")  # save all the score to this file\n",
    "\n",
    "\n",
    "for i in range(len(files)):\n",
    "    indexdf=pd.DataFrame()    # create a dataframe, otherwise can use testDF for merging to obtain the prediction matched to index\n",
    "# because for some model testing, we only select partial data, like phrase-based model, code-based model\n",
    "    model_pipeline = joblib.load(files[i])\n",
    "    f = open(\"refreshedmodeltestscore_0524.txt\", \"a+\")\n",
    "    # deletion model\n",
    "    if(files[i].split('/')[3].startswith('D')):\n",
    "        try:\n",
    "            testDF1=testDF   # no selection, run for all instances\n",
    "            indexdf[i]= [1 for i in range(len(testDF))]\n",
    "        except:\n",
    "            print('no data for this model')\n",
    "        \n",
    "    elif(files[i].split('/')[3].startswith('P')):\n",
    "    # if it's phrase-based model, use the following way to select data\n",
    "        \n",
    "        phrase=files[i].split('/')[3].split('_')[1]\n",
    "        try:\n",
    "            testDF1 = testDF[testDF['text'].str.contains(phrase,flags=re.IGNORECASE)]\n",
    "            temp=testDF1.index.tolist()\n",
    "            indexdf[i]=[1 if i in (temp) else 0 for i in range(len(testDF))]\n",
    "        except:\n",
    "            print('no data for this model')\n",
    "\n",
    "    elif(files[i].split('/')[3].startswith('C')):\n",
    "    # if it's code based model, use the following way to select model\n",
    "        codereason=files[i].split('/')[3].split('_')[1]\n",
    "        try:\n",
    "            testDF1 = testDF[testDF['code_id'].isin(code_list[codereason])]\n",
    "            temp=testDF1.index.tolist()\n",
    "            indexdf[i]=[1 if i in (temp) else 0 for i in range(len(testDF))]\n",
    "        except:\n",
    "            print('no data for this model')\n",
    "    else:\n",
    "        print('not a valid/good model name probably...')\n",
    "\n",
    "    #print(files[i])\n",
    "    # how to put the prediction on the right index?\n",
    "    try:\n",
    "        test=testDF1['text75']\n",
    "        prediction = model_pipeline.predict(test)\n",
    "        proba = model_pipeline.predict_proba(test)[:,1]\n",
    "        \n",
    "        testDF1['key']=testDF1.index\n",
    "        testDF1['pred']=prediction\n",
    "        testDF1['prob']= proba\n",
    "\n",
    "        indexdf['key']=indexdf.index\n",
    "        merged=pd.merge(indexdf,testDF1,on='key',how='outer')  # maintain the position of the perdiction, match to the right index\n",
    "        allpredict[i]=merged['pred']    # save the prediction to corresponding dataframe\n",
    "        allprob[i]=merged['prob']   # save the probability\n",
    "\n",
    "        # the following just generate accuracy report for each model\n",
    "        conf_mat = confusion_matrix(testDF1['flag'], (1-prediction))\n",
    "        df_cm = pd.DataFrame(conf_mat, range(2),\n",
    "                      range(2))\n",
    "        tn, fp, fn, tp = conf_mat.ravel()\n",
    "        report = classification_report(testDF1['flag'], (1-prediction))\n",
    "        lines = report.split('\\n')\n",
    "        #print(lines[2])\n",
    "        row_data = lines[3].split('     ')\n",
    "        print(\"testing model:\",(files[i]))\n",
    "        print(\"accuracy_score  precision recall  f1_score tn  fn  fp  tp\")\n",
    "        print(accuracy_score(testDF1['flag'],(1-prediction)),row_data[2],row_data[3],row_data[4], tn, fn, fp, tp) \n",
    "\n",
    "        f.write(\"testing model: %s\\n\" % files[i])\n",
    "        f.write(\"accuracy_score  precision recall f1_score tn  fn  fp  tp\\n\")\n",
    "        f.write(\"%f %f %f %f %f %f %f %f \\n\" % (accuracy_score(testDF1['flag'],(1-prediction)),float(row_data[2]),float(row_data[3]),float(row_data[4]), tn, fn, fp, tp))\n",
    "        f.write(\"..............................\\n\")\n",
    "    except:\n",
    "        print('something is wrong in the above process')\n",
    "#print(allpredict)\n",
    "#f.close()"
   ]
  },
  {
   "cell_type": "markdown",
   "metadata": {},
   "source": [
    "####  Part 2.b. Now get the prediction and probability dataframes and merge with testDF which has all the chart_id etc info"
   ]
  },
  {
   "cell_type": "code",
   "execution_count": 24,
   "metadata": {},
   "outputs": [
    {
     "data": {
      "text/plain": [
       "0     58143\n",
       "1     58125\n",
       "2     52586\n",
       "3     57923\n",
       "4     55820\n",
       "5     57293\n",
       "6     57824\n",
       "7     56677\n",
       "8     57341\n",
       "9     53131\n",
       "10    56045\n",
       "11    57469\n",
       "12    46126\n",
       "13    57182\n",
       "14    51394\n",
       "15    49488\n",
       "16    53690\n",
       "17    57690\n",
       "18    56715\n",
       "19    57865\n",
       "20    57039\n",
       "21    54215\n",
       "22        0\n",
       "23        0\n",
       "24        0\n",
       "25        0\n",
       "26        0\n",
       "27        0\n",
       "dtype: int64"
      ]
     },
     "execution_count": 24,
     "metadata": {},
     "output_type": "execute_result"
    }
   ],
   "source": [
    "allpredict.isnull().sum()  # a lot of nulls because not all data are run for each model, but for deletion model, all are run"
   ]
  },
  {
   "cell_type": "code",
   "execution_count": 25,
   "metadata": {},
   "outputs": [
    {
     "data": {
      "text/html": [
       "<div>\n",
       "<style scoped>\n",
       "    .dataframe tbody tr th:only-of-type {\n",
       "        vertical-align: middle;\n",
       "    }\n",
       "\n",
       "    .dataframe tbody tr th {\n",
       "        vertical-align: top;\n",
       "    }\n",
       "\n",
       "    .dataframe thead th {\n",
       "        text-align: right;\n",
       "    }\n",
       "</style>\n",
       "<table border=\"1\" class=\"dataframe\">\n",
       "  <thead>\n",
       "    <tr style=\"text-align: right;\">\n",
       "      <th></th>\n",
       "      <th>0</th>\n",
       "      <th>1</th>\n",
       "      <th>2</th>\n",
       "      <th>3</th>\n",
       "      <th>4</th>\n",
       "      <th>5</th>\n",
       "      <th>6</th>\n",
       "      <th>7</th>\n",
       "      <th>8</th>\n",
       "      <th>9</th>\n",
       "      <th>...</th>\n",
       "      <th>18</th>\n",
       "      <th>19</th>\n",
       "      <th>20</th>\n",
       "      <th>21</th>\n",
       "      <th>22</th>\n",
       "      <th>23</th>\n",
       "      <th>24</th>\n",
       "      <th>25</th>\n",
       "      <th>26</th>\n",
       "      <th>27</th>\n",
       "    </tr>\n",
       "  </thead>\n",
       "  <tbody>\n",
       "    <tr>\n",
       "      <th>0</th>\n",
       "      <td>NaN</td>\n",
       "      <td>NaN</td>\n",
       "      <td>0.0</td>\n",
       "      <td>NaN</td>\n",
       "      <td>NaN</td>\n",
       "      <td>NaN</td>\n",
       "      <td>NaN</td>\n",
       "      <td>NaN</td>\n",
       "      <td>NaN</td>\n",
       "      <td>NaN</td>\n",
       "      <td>...</td>\n",
       "      <td>NaN</td>\n",
       "      <td>NaN</td>\n",
       "      <td>NaN</td>\n",
       "      <td>NaN</td>\n",
       "      <td>0</td>\n",
       "      <td>0</td>\n",
       "      <td>0</td>\n",
       "      <td>0</td>\n",
       "      <td>0</td>\n",
       "      <td>0</td>\n",
       "    </tr>\n",
       "    <tr>\n",
       "      <th>1</th>\n",
       "      <td>NaN</td>\n",
       "      <td>NaN</td>\n",
       "      <td>NaN</td>\n",
       "      <td>NaN</td>\n",
       "      <td>NaN</td>\n",
       "      <td>NaN</td>\n",
       "      <td>NaN</td>\n",
       "      <td>NaN</td>\n",
       "      <td>NaN</td>\n",
       "      <td>NaN</td>\n",
       "      <td>...</td>\n",
       "      <td>NaN</td>\n",
       "      <td>NaN</td>\n",
       "      <td>NaN</td>\n",
       "      <td>NaN</td>\n",
       "      <td>0</td>\n",
       "      <td>0</td>\n",
       "      <td>0</td>\n",
       "      <td>0</td>\n",
       "      <td>1</td>\n",
       "      <td>0</td>\n",
       "    </tr>\n",
       "    <tr>\n",
       "      <th>2</th>\n",
       "      <td>NaN</td>\n",
       "      <td>NaN</td>\n",
       "      <td>0.0</td>\n",
       "      <td>NaN</td>\n",
       "      <td>NaN</td>\n",
       "      <td>NaN</td>\n",
       "      <td>NaN</td>\n",
       "      <td>NaN</td>\n",
       "      <td>NaN</td>\n",
       "      <td>NaN</td>\n",
       "      <td>...</td>\n",
       "      <td>NaN</td>\n",
       "      <td>NaN</td>\n",
       "      <td>NaN</td>\n",
       "      <td>NaN</td>\n",
       "      <td>0</td>\n",
       "      <td>0</td>\n",
       "      <td>0</td>\n",
       "      <td>0</td>\n",
       "      <td>0</td>\n",
       "      <td>0</td>\n",
       "    </tr>\n",
       "    <tr>\n",
       "      <th>3</th>\n",
       "      <td>NaN</td>\n",
       "      <td>NaN</td>\n",
       "      <td>NaN</td>\n",
       "      <td>NaN</td>\n",
       "      <td>NaN</td>\n",
       "      <td>NaN</td>\n",
       "      <td>NaN</td>\n",
       "      <td>NaN</td>\n",
       "      <td>NaN</td>\n",
       "      <td>NaN</td>\n",
       "      <td>...</td>\n",
       "      <td>NaN</td>\n",
       "      <td>NaN</td>\n",
       "      <td>NaN</td>\n",
       "      <td>NaN</td>\n",
       "      <td>0</td>\n",
       "      <td>0</td>\n",
       "      <td>0</td>\n",
       "      <td>0</td>\n",
       "      <td>0</td>\n",
       "      <td>0</td>\n",
       "    </tr>\n",
       "    <tr>\n",
       "      <th>4</th>\n",
       "      <td>NaN</td>\n",
       "      <td>NaN</td>\n",
       "      <td>NaN</td>\n",
       "      <td>NaN</td>\n",
       "      <td>NaN</td>\n",
       "      <td>NaN</td>\n",
       "      <td>NaN</td>\n",
       "      <td>NaN</td>\n",
       "      <td>NaN</td>\n",
       "      <td>NaN</td>\n",
       "      <td>...</td>\n",
       "      <td>NaN</td>\n",
       "      <td>NaN</td>\n",
       "      <td>NaN</td>\n",
       "      <td>NaN</td>\n",
       "      <td>0</td>\n",
       "      <td>0</td>\n",
       "      <td>0</td>\n",
       "      <td>0</td>\n",
       "      <td>0</td>\n",
       "      <td>0</td>\n",
       "    </tr>\n",
       "  </tbody>\n",
       "</table>\n",
       "<p>5 rows × 28 columns</p>\n",
       "</div>"
      ],
      "text/plain": [
       "   0   1    2   3   4   5   6   7   8   9  ...  18  19  20  21  22  23  24  \\\n",
       "0 NaN NaN  0.0 NaN NaN NaN NaN NaN NaN NaN ... NaN NaN NaN NaN   0   0   0   \n",
       "1 NaN NaN  NaN NaN NaN NaN NaN NaN NaN NaN ... NaN NaN NaN NaN   0   0   0   \n",
       "2 NaN NaN  0.0 NaN NaN NaN NaN NaN NaN NaN ... NaN NaN NaN NaN   0   0   0   \n",
       "3 NaN NaN  NaN NaN NaN NaN NaN NaN NaN NaN ... NaN NaN NaN NaN   0   0   0   \n",
       "4 NaN NaN  NaN NaN NaN NaN NaN NaN NaN NaN ... NaN NaN NaN NaN   0   0   0   \n",
       "\n",
       "   25  26  27  \n",
       "0   0   0   0  \n",
       "1   0   1   0  \n",
       "2   0   0   0  \n",
       "3   0   0   0  \n",
       "4   0   0   0  \n",
       "\n",
       "[5 rows x 28 columns]"
      ]
     },
     "execution_count": 25,
     "metadata": {},
     "output_type": "execute_result"
    }
   ],
   "source": [
    "allpredict.head()"
   ]
  },
  {
   "cell_type": "code",
   "execution_count": 26,
   "metadata": {},
   "outputs": [
    {
     "data": {
      "text/html": [
       "<div>\n",
       "<style scoped>\n",
       "    .dataframe tbody tr th:only-of-type {\n",
       "        vertical-align: middle;\n",
       "    }\n",
       "\n",
       "    .dataframe tbody tr th {\n",
       "        vertical-align: top;\n",
       "    }\n",
       "\n",
       "    .dataframe thead th {\n",
       "        text-align: right;\n",
       "    }\n",
       "</style>\n",
       "<table border=\"1\" class=\"dataframe\">\n",
       "  <thead>\n",
       "    <tr style=\"text-align: right;\">\n",
       "      <th></th>\n",
       "      <th>0</th>\n",
       "      <th>1</th>\n",
       "      <th>2</th>\n",
       "      <th>3</th>\n",
       "      <th>4</th>\n",
       "      <th>5</th>\n",
       "      <th>6</th>\n",
       "      <th>7</th>\n",
       "      <th>8</th>\n",
       "      <th>9</th>\n",
       "      <th>...</th>\n",
       "      <th>18</th>\n",
       "      <th>19</th>\n",
       "      <th>20</th>\n",
       "      <th>21</th>\n",
       "      <th>22</th>\n",
       "      <th>23</th>\n",
       "      <th>24</th>\n",
       "      <th>25</th>\n",
       "      <th>26</th>\n",
       "      <th>27</th>\n",
       "    </tr>\n",
       "  </thead>\n",
       "  <tbody>\n",
       "    <tr>\n",
       "      <th>0</th>\n",
       "      <td>NaN</td>\n",
       "      <td>NaN</td>\n",
       "      <td>0.113764</td>\n",
       "      <td>NaN</td>\n",
       "      <td>NaN</td>\n",
       "      <td>NaN</td>\n",
       "      <td>NaN</td>\n",
       "      <td>NaN</td>\n",
       "      <td>NaN</td>\n",
       "      <td>NaN</td>\n",
       "      <td>...</td>\n",
       "      <td>NaN</td>\n",
       "      <td>NaN</td>\n",
       "      <td>NaN</td>\n",
       "      <td>NaN</td>\n",
       "      <td>0.008170</td>\n",
       "      <td>0.036722</td>\n",
       "      <td>0.046403</td>\n",
       "      <td>0.221087</td>\n",
       "      <td>0.024644</td>\n",
       "      <td>0.018220</td>\n",
       "    </tr>\n",
       "    <tr>\n",
       "      <th>1</th>\n",
       "      <td>NaN</td>\n",
       "      <td>NaN</td>\n",
       "      <td>NaN</td>\n",
       "      <td>NaN</td>\n",
       "      <td>NaN</td>\n",
       "      <td>NaN</td>\n",
       "      <td>NaN</td>\n",
       "      <td>NaN</td>\n",
       "      <td>NaN</td>\n",
       "      <td>NaN</td>\n",
       "      <td>...</td>\n",
       "      <td>NaN</td>\n",
       "      <td>NaN</td>\n",
       "      <td>NaN</td>\n",
       "      <td>NaN</td>\n",
       "      <td>0.013850</td>\n",
       "      <td>0.058010</td>\n",
       "      <td>0.056316</td>\n",
       "      <td>0.126772</td>\n",
       "      <td>0.586640</td>\n",
       "      <td>0.031730</td>\n",
       "    </tr>\n",
       "    <tr>\n",
       "      <th>2</th>\n",
       "      <td>NaN</td>\n",
       "      <td>NaN</td>\n",
       "      <td>0.095343</td>\n",
       "      <td>NaN</td>\n",
       "      <td>NaN</td>\n",
       "      <td>NaN</td>\n",
       "      <td>NaN</td>\n",
       "      <td>NaN</td>\n",
       "      <td>NaN</td>\n",
       "      <td>NaN</td>\n",
       "      <td>...</td>\n",
       "      <td>NaN</td>\n",
       "      <td>NaN</td>\n",
       "      <td>NaN</td>\n",
       "      <td>NaN</td>\n",
       "      <td>0.001922</td>\n",
       "      <td>0.005785</td>\n",
       "      <td>0.002761</td>\n",
       "      <td>0.027563</td>\n",
       "      <td>0.000697</td>\n",
       "      <td>0.002077</td>\n",
       "    </tr>\n",
       "    <tr>\n",
       "      <th>3</th>\n",
       "      <td>NaN</td>\n",
       "      <td>NaN</td>\n",
       "      <td>NaN</td>\n",
       "      <td>NaN</td>\n",
       "      <td>NaN</td>\n",
       "      <td>NaN</td>\n",
       "      <td>NaN</td>\n",
       "      <td>NaN</td>\n",
       "      <td>NaN</td>\n",
       "      <td>NaN</td>\n",
       "      <td>...</td>\n",
       "      <td>NaN</td>\n",
       "      <td>NaN</td>\n",
       "      <td>NaN</td>\n",
       "      <td>NaN</td>\n",
       "      <td>0.011222</td>\n",
       "      <td>0.090504</td>\n",
       "      <td>0.011301</td>\n",
       "      <td>0.079710</td>\n",
       "      <td>0.044617</td>\n",
       "      <td>0.005878</td>\n",
       "    </tr>\n",
       "    <tr>\n",
       "      <th>4</th>\n",
       "      <td>NaN</td>\n",
       "      <td>NaN</td>\n",
       "      <td>NaN</td>\n",
       "      <td>NaN</td>\n",
       "      <td>NaN</td>\n",
       "      <td>NaN</td>\n",
       "      <td>NaN</td>\n",
       "      <td>NaN</td>\n",
       "      <td>NaN</td>\n",
       "      <td>NaN</td>\n",
       "      <td>...</td>\n",
       "      <td>NaN</td>\n",
       "      <td>NaN</td>\n",
       "      <td>NaN</td>\n",
       "      <td>NaN</td>\n",
       "      <td>0.010372</td>\n",
       "      <td>0.049678</td>\n",
       "      <td>0.042067</td>\n",
       "      <td>0.182428</td>\n",
       "      <td>0.468713</td>\n",
       "      <td>0.018043</td>\n",
       "    </tr>\n",
       "  </tbody>\n",
       "</table>\n",
       "<p>5 rows × 28 columns</p>\n",
       "</div>"
      ],
      "text/plain": [
       "   0   1         2   3   4   5   6   7   8   9     ...     18  19  20  21  \\\n",
       "0 NaN NaN  0.113764 NaN NaN NaN NaN NaN NaN NaN    ...    NaN NaN NaN NaN   \n",
       "1 NaN NaN       NaN NaN NaN NaN NaN NaN NaN NaN    ...    NaN NaN NaN NaN   \n",
       "2 NaN NaN  0.095343 NaN NaN NaN NaN NaN NaN NaN    ...    NaN NaN NaN NaN   \n",
       "3 NaN NaN       NaN NaN NaN NaN NaN NaN NaN NaN    ...    NaN NaN NaN NaN   \n",
       "4 NaN NaN       NaN NaN NaN NaN NaN NaN NaN NaN    ...    NaN NaN NaN NaN   \n",
       "\n",
       "         22        23        24        25        26        27  \n",
       "0  0.008170  0.036722  0.046403  0.221087  0.024644  0.018220  \n",
       "1  0.013850  0.058010  0.056316  0.126772  0.586640  0.031730  \n",
       "2  0.001922  0.005785  0.002761  0.027563  0.000697  0.002077  \n",
       "3  0.011222  0.090504  0.011301  0.079710  0.044617  0.005878  \n",
       "4  0.010372  0.049678  0.042067  0.182428  0.468713  0.018043  \n",
       "\n",
       "[5 rows x 28 columns]"
      ]
     },
     "execution_count": 26,
     "metadata": {},
     "output_type": "execute_result"
    }
   ],
   "source": [
    "allprob.head() #QC"
   ]
  },
  {
   "cell_type": "code",
   "execution_count": 27,
   "metadata": {},
   "outputs": [
    {
     "data": {
      "text/plain": [
       "58283"
      ]
     },
     "execution_count": 27,
     "metadata": {},
     "output_type": "execute_result"
    }
   ],
   "source": [
    "len(allpredict)"
   ]
  },
  {
   "cell_type": "code",
   "execution_count": 28,
   "metadata": {},
   "outputs": [
    {
     "data": {
      "text/plain": [
       "58283"
      ]
     },
     "execution_count": 28,
     "metadata": {},
     "output_type": "execute_result"
    }
   ],
   "source": [
    "len(testDF)"
   ]
  },
  {
   "cell_type": "code",
   "execution_count": 29,
   "metadata": {},
   "outputs": [
    {
     "data": {
      "text/plain": [
       "58283"
      ]
     },
     "execution_count": 29,
     "metadata": {},
     "output_type": "execute_result"
    }
   ],
   "source": [
    "# the data frame for predictions from each model\n",
    "#merge to testDF to keep the Nan, which means not omputed for that instance\n",
    "#testDF2=pd.concat([testDF,allpredict],axis=1)\n",
    "#len(testDF2)\n",
    "testDF['index']=testDF.index\n",
    "allpredict['index']=allpredict.index\n",
    "df_pred = pd.merge(testDF,allpredict, how='left', on = 'index')\n",
    "len(df_pred)"
   ]
  },
  {
   "cell_type": "code",
   "execution_count": 30,
   "metadata": {},
   "outputs": [
    {
     "data": {
      "text/html": [
       "<div>\n",
       "<style scoped>\n",
       "    .dataframe tbody tr th:only-of-type {\n",
       "        vertical-align: middle;\n",
       "    }\n",
       "\n",
       "    .dataframe tbody tr th {\n",
       "        vertical-align: top;\n",
       "    }\n",
       "\n",
       "    .dataframe thead th {\n",
       "        text-align: right;\n",
       "    }\n",
       "</style>\n",
       "<table border=\"1\" class=\"dataframe\">\n",
       "  <thead>\n",
       "    <tr style=\"text-align: right;\">\n",
       "      <th></th>\n",
       "      <th>chart_id</th>\n",
       "      <th>code_id</th>\n",
       "      <th>end_offset</th>\n",
       "      <th>flag</th>\n",
       "      <th>label</th>\n",
       "      <th>start_offset</th>\n",
       "      <th>text</th>\n",
       "      <th>text75</th>\n",
       "      <th>key</th>\n",
       "      <th>pred</th>\n",
       "      <th>...</th>\n",
       "      <th>18</th>\n",
       "      <th>19</th>\n",
       "      <th>20</th>\n",
       "      <th>21</th>\n",
       "      <th>22</th>\n",
       "      <th>23</th>\n",
       "      <th>24</th>\n",
       "      <th>25</th>\n",
       "      <th>26</th>\n",
       "      <th>27</th>\n",
       "    </tr>\n",
       "  </thead>\n",
       "  <tbody>\n",
       "    <tr>\n",
       "      <th>58278</th>\n",
       "      <td>IBXRMA2018_MULT_1164548890010001_HMK_208365363...</td>\n",
       "      <td>I2510</td>\n",
       "      <td>16651.0</td>\n",
       "      <td>0.0</td>\n",
       "      <td>deleted</td>\n",
       "      <td>16572</td>\n",
       "      <td>atherosclerotic heart disease of native corona...</td>\n",
       "      <td>clusion stenosis unspecified carotid artery i6...</td>\n",
       "      <td>58278</td>\n",
       "      <td>0</td>\n",
       "      <td>...</td>\n",
       "      <td>NaN</td>\n",
       "      <td>NaN</td>\n",
       "      <td>NaN</td>\n",
       "      <td>NaN</td>\n",
       "      <td>0</td>\n",
       "      <td>0</td>\n",
       "      <td>0</td>\n",
       "      <td>0</td>\n",
       "      <td>0</td>\n",
       "      <td>0</td>\n",
       "    </tr>\n",
       "    <tr>\n",
       "      <th>58279</th>\n",
       "      <td>IBXRMA2018_MULT_1216744910010001_HMK_135268510...</td>\n",
       "      <td>G629</td>\n",
       "      <td>30066.0</td>\n",
       "      <td>0.0</td>\n",
       "      <td>deleted</td>\n",
       "      <td>30052</td>\n",
       "      <td>polyneuropathy</td>\n",
       "      <td>time a1c 70 cont treatment dm continue monitor...</td>\n",
       "      <td>58279</td>\n",
       "      <td>0</td>\n",
       "      <td>...</td>\n",
       "      <td>NaN</td>\n",
       "      <td>NaN</td>\n",
       "      <td>NaN</td>\n",
       "      <td>NaN</td>\n",
       "      <td>0</td>\n",
       "      <td>0</td>\n",
       "      <td>0</td>\n",
       "      <td>0</td>\n",
       "      <td>0</td>\n",
       "      <td>0</td>\n",
       "    </tr>\n",
       "    <tr>\n",
       "      <th>58280</th>\n",
       "      <td>IBXRMA2018_MULT_1216744910010001_HMK_135268510...</td>\n",
       "      <td>G629</td>\n",
       "      <td>29722.0</td>\n",
       "      <td>0.0</td>\n",
       "      <td>deleted</td>\n",
       "      <td>29708</td>\n",
       "      <td>polyneuropathy</td>\n",
       "      <td>ith hyperlipidemia controlled cont treatment d...</td>\n",
       "      <td>58280</td>\n",
       "      <td>0</td>\n",
       "      <td>...</td>\n",
       "      <td>NaN</td>\n",
       "      <td>NaN</td>\n",
       "      <td>NaN</td>\n",
       "      <td>NaN</td>\n",
       "      <td>0</td>\n",
       "      <td>0</td>\n",
       "      <td>0</td>\n",
       "      <td>0</td>\n",
       "      <td>0</td>\n",
       "      <td>0</td>\n",
       "    </tr>\n",
       "    <tr>\n",
       "      <th>58281</th>\n",
       "      <td>IBXRMA2018_MULT_1197832420010001_HMK_8TF2T50JY...</td>\n",
       "      <td>I10</td>\n",
       "      <td>1782.0</td>\n",
       "      <td>0.0</td>\n",
       "      <td>deleted</td>\n",
       "      <td>1779</td>\n",
       "      <td>i10</td>\n",
       "      <td>hronic kidney disease stage iv 184 benign esse...</td>\n",
       "      <td>58281</td>\n",
       "      <td>0</td>\n",
       "      <td>...</td>\n",
       "      <td>NaN</td>\n",
       "      <td>NaN</td>\n",
       "      <td>NaN</td>\n",
       "      <td>NaN</td>\n",
       "      <td>0</td>\n",
       "      <td>0</td>\n",
       "      <td>0</td>\n",
       "      <td>0</td>\n",
       "      <td>0</td>\n",
       "      <td>0</td>\n",
       "    </tr>\n",
       "    <tr>\n",
       "      <th>58282</th>\n",
       "      <td>IBXRMA2018_MULT_1197832420010001_HMK_8TF2T50JY...</td>\n",
       "      <td>N19</td>\n",
       "      <td>31172.0</td>\n",
       "      <td>0.0</td>\n",
       "      <td>deleted</td>\n",
       "      <td>31155</td>\n",
       "      <td>renal dysfunction</td>\n",
       "      <td>icd1012510 stable angina pectoris icd4139 hype...</td>\n",
       "      <td>58282</td>\n",
       "      <td>0</td>\n",
       "      <td>...</td>\n",
       "      <td>NaN</td>\n",
       "      <td>NaN</td>\n",
       "      <td>NaN</td>\n",
       "      <td>NaN</td>\n",
       "      <td>0</td>\n",
       "      <td>0</td>\n",
       "      <td>0</td>\n",
       "      <td>0</td>\n",
       "      <td>0</td>\n",
       "      <td>0</td>\n",
       "    </tr>\n",
       "  </tbody>\n",
       "</table>\n",
       "<p>5 rows × 40 columns</p>\n",
       "</div>"
      ],
      "text/plain": [
       "                                                chart_id code_id  end_offset  \\\n",
       "58278  IBXRMA2018_MULT_1164548890010001_HMK_208365363...   I2510     16651.0   \n",
       "58279  IBXRMA2018_MULT_1216744910010001_HMK_135268510...    G629     30066.0   \n",
       "58280  IBXRMA2018_MULT_1216744910010001_HMK_135268510...    G629     29722.0   \n",
       "58281  IBXRMA2018_MULT_1197832420010001_HMK_8TF2T50JY...     I10      1782.0   \n",
       "58282  IBXRMA2018_MULT_1197832420010001_HMK_8TF2T50JY...     N19     31172.0   \n",
       "\n",
       "       flag    label  start_offset  \\\n",
       "58278   0.0  deleted         16572   \n",
       "58279   0.0  deleted         30052   \n",
       "58280   0.0  deleted         29708   \n",
       "58281   0.0  deleted          1779   \n",
       "58282   0.0  deleted         31155   \n",
       "\n",
       "                                                    text  \\\n",
       "58278  atherosclerotic heart disease of native corona...   \n",
       "58279                                     polyneuropathy   \n",
       "58280                                     polyneuropathy   \n",
       "58281                                                i10   \n",
       "58282                                  renal dysfunction   \n",
       "\n",
       "                                                  text75    key  pred ...  18  \\\n",
       "58278  clusion stenosis unspecified carotid artery i6...  58278     0 ... NaN   \n",
       "58279  time a1c 70 cont treatment dm continue monitor...  58279     0 ... NaN   \n",
       "58280  ith hyperlipidemia controlled cont treatment d...  58280     0 ... NaN   \n",
       "58281  hronic kidney disease stage iv 184 benign esse...  58281     0 ... NaN   \n",
       "58282  icd1012510 stable angina pectoris icd4139 hype...  58282     0 ... NaN   \n",
       "\n",
       "       19  20  21  22  23  24  25  26  27  \n",
       "58278 NaN NaN NaN   0   0   0   0   0   0  \n",
       "58279 NaN NaN NaN   0   0   0   0   0   0  \n",
       "58280 NaN NaN NaN   0   0   0   0   0   0  \n",
       "58281 NaN NaN NaN   0   0   0   0   0   0  \n",
       "58282 NaN NaN NaN   0   0   0   0   0   0  \n",
       "\n",
       "[5 rows x 40 columns]"
      ]
     },
     "execution_count": 30,
     "metadata": {},
     "output_type": "execute_result"
    }
   ],
   "source": [
    "df_pred.tail()"
   ]
  },
  {
   "cell_type": "code",
   "execution_count": 31,
   "metadata": {},
   "outputs": [
    {
     "name": "stdout",
     "output_type": "stream",
     "text": [
      "58283\n"
     ]
    }
   ],
   "source": [
    "# now the data frame with probabilities\n",
    "testDF['index']=testDF.index\n",
    "allprob['index']=allprob.index\n",
    "df_prob = pd.merge(testDF,allprob, how='left', on = 'index')\n",
    "print(len(df_prob))"
   ]
  },
  {
   "cell_type": "markdown",
   "metadata": {},
   "source": [
    "#### Part 2.c. Now combine the prediction from 28 models to make one prediction,it's actually an or operation, but here using sum()"
   ]
  },
  {
   "cell_type": "code",
   "execution_count": 32,
   "metadata": {},
   "outputs": [
    {
     "data": {
      "text/html": [
       "<div>\n",
       "<style scoped>\n",
       "    .dataframe tbody tr th:only-of-type {\n",
       "        vertical-align: middle;\n",
       "    }\n",
       "\n",
       "    .dataframe tbody tr th {\n",
       "        vertical-align: top;\n",
       "    }\n",
       "\n",
       "    .dataframe thead th {\n",
       "        text-align: right;\n",
       "    }\n",
       "</style>\n",
       "<table border=\"1\" class=\"dataframe\">\n",
       "  <thead>\n",
       "    <tr style=\"text-align: right;\">\n",
       "      <th></th>\n",
       "      <th>0</th>\n",
       "      <th>1</th>\n",
       "      <th>2</th>\n",
       "      <th>3</th>\n",
       "      <th>4</th>\n",
       "      <th>5</th>\n",
       "      <th>6</th>\n",
       "      <th>7</th>\n",
       "      <th>8</th>\n",
       "      <th>9</th>\n",
       "      <th>...</th>\n",
       "      <th>19</th>\n",
       "      <th>20</th>\n",
       "      <th>21</th>\n",
       "      <th>22</th>\n",
       "      <th>23</th>\n",
       "      <th>24</th>\n",
       "      <th>25</th>\n",
       "      <th>26</th>\n",
       "      <th>27</th>\n",
       "      <th>index</th>\n",
       "    </tr>\n",
       "  </thead>\n",
       "  <tbody>\n",
       "    <tr>\n",
       "      <th>0</th>\n",
       "      <td>NaN</td>\n",
       "      <td>NaN</td>\n",
       "      <td>0.113764</td>\n",
       "      <td>NaN</td>\n",
       "      <td>NaN</td>\n",
       "      <td>NaN</td>\n",
       "      <td>NaN</td>\n",
       "      <td>NaN</td>\n",
       "      <td>NaN</td>\n",
       "      <td>NaN</td>\n",
       "      <td>...</td>\n",
       "      <td>NaN</td>\n",
       "      <td>NaN</td>\n",
       "      <td>NaN</td>\n",
       "      <td>0.008170</td>\n",
       "      <td>0.036722</td>\n",
       "      <td>0.046403</td>\n",
       "      <td>0.221087</td>\n",
       "      <td>0.024644</td>\n",
       "      <td>0.018220</td>\n",
       "      <td>0</td>\n",
       "    </tr>\n",
       "    <tr>\n",
       "      <th>1</th>\n",
       "      <td>NaN</td>\n",
       "      <td>NaN</td>\n",
       "      <td>NaN</td>\n",
       "      <td>NaN</td>\n",
       "      <td>NaN</td>\n",
       "      <td>NaN</td>\n",
       "      <td>NaN</td>\n",
       "      <td>NaN</td>\n",
       "      <td>NaN</td>\n",
       "      <td>NaN</td>\n",
       "      <td>...</td>\n",
       "      <td>NaN</td>\n",
       "      <td>NaN</td>\n",
       "      <td>NaN</td>\n",
       "      <td>0.013850</td>\n",
       "      <td>0.058010</td>\n",
       "      <td>0.056316</td>\n",
       "      <td>0.126772</td>\n",
       "      <td>0.586640</td>\n",
       "      <td>0.031730</td>\n",
       "      <td>1</td>\n",
       "    </tr>\n",
       "    <tr>\n",
       "      <th>2</th>\n",
       "      <td>NaN</td>\n",
       "      <td>NaN</td>\n",
       "      <td>0.095343</td>\n",
       "      <td>NaN</td>\n",
       "      <td>NaN</td>\n",
       "      <td>NaN</td>\n",
       "      <td>NaN</td>\n",
       "      <td>NaN</td>\n",
       "      <td>NaN</td>\n",
       "      <td>NaN</td>\n",
       "      <td>...</td>\n",
       "      <td>NaN</td>\n",
       "      <td>NaN</td>\n",
       "      <td>NaN</td>\n",
       "      <td>0.001922</td>\n",
       "      <td>0.005785</td>\n",
       "      <td>0.002761</td>\n",
       "      <td>0.027563</td>\n",
       "      <td>0.000697</td>\n",
       "      <td>0.002077</td>\n",
       "      <td>2</td>\n",
       "    </tr>\n",
       "    <tr>\n",
       "      <th>3</th>\n",
       "      <td>NaN</td>\n",
       "      <td>NaN</td>\n",
       "      <td>NaN</td>\n",
       "      <td>NaN</td>\n",
       "      <td>NaN</td>\n",
       "      <td>NaN</td>\n",
       "      <td>NaN</td>\n",
       "      <td>NaN</td>\n",
       "      <td>NaN</td>\n",
       "      <td>NaN</td>\n",
       "      <td>...</td>\n",
       "      <td>NaN</td>\n",
       "      <td>NaN</td>\n",
       "      <td>NaN</td>\n",
       "      <td>0.011222</td>\n",
       "      <td>0.090504</td>\n",
       "      <td>0.011301</td>\n",
       "      <td>0.079710</td>\n",
       "      <td>0.044617</td>\n",
       "      <td>0.005878</td>\n",
       "      <td>3</td>\n",
       "    </tr>\n",
       "    <tr>\n",
       "      <th>4</th>\n",
       "      <td>NaN</td>\n",
       "      <td>NaN</td>\n",
       "      <td>NaN</td>\n",
       "      <td>NaN</td>\n",
       "      <td>NaN</td>\n",
       "      <td>NaN</td>\n",
       "      <td>NaN</td>\n",
       "      <td>NaN</td>\n",
       "      <td>NaN</td>\n",
       "      <td>NaN</td>\n",
       "      <td>...</td>\n",
       "      <td>NaN</td>\n",
       "      <td>NaN</td>\n",
       "      <td>NaN</td>\n",
       "      <td>0.010372</td>\n",
       "      <td>0.049678</td>\n",
       "      <td>0.042067</td>\n",
       "      <td>0.182428</td>\n",
       "      <td>0.468713</td>\n",
       "      <td>0.018043</td>\n",
       "      <td>4</td>\n",
       "    </tr>\n",
       "  </tbody>\n",
       "</table>\n",
       "<p>5 rows × 29 columns</p>\n",
       "</div>"
      ],
      "text/plain": [
       "    0   1         2   3   4   5   6   7   8   9  ...    19  20  21        22  \\\n",
       "0 NaN NaN  0.113764 NaN NaN NaN NaN NaN NaN NaN  ...   NaN NaN NaN  0.008170   \n",
       "1 NaN NaN       NaN NaN NaN NaN NaN NaN NaN NaN  ...   NaN NaN NaN  0.013850   \n",
       "2 NaN NaN  0.095343 NaN NaN NaN NaN NaN NaN NaN  ...   NaN NaN NaN  0.001922   \n",
       "3 NaN NaN       NaN NaN NaN NaN NaN NaN NaN NaN  ...   NaN NaN NaN  0.011222   \n",
       "4 NaN NaN       NaN NaN NaN NaN NaN NaN NaN NaN  ...   NaN NaN NaN  0.010372   \n",
       "\n",
       "         23        24        25        26        27  index  \n",
       "0  0.036722  0.046403  0.221087  0.024644  0.018220      0  \n",
       "1  0.058010  0.056316  0.126772  0.586640  0.031730      1  \n",
       "2  0.005785  0.002761  0.027563  0.000697  0.002077      2  \n",
       "3  0.090504  0.011301  0.079710  0.044617  0.005878      3  \n",
       "4  0.049678  0.042067  0.182428  0.468713  0.018043      4  \n",
       "\n",
       "[5 rows x 29 columns]"
      ]
     },
     "execution_count": 32,
     "metadata": {},
     "output_type": "execute_result"
    }
   ],
   "source": [
    "allprob.head()"
   ]
  },
  {
   "cell_type": "code",
   "execution_count": 33,
   "metadata": {},
   "outputs": [],
   "source": [
    "allpredictNan=allpredict   # keep the original NaN if that row is not computed for that model\n",
    "allpredict=allpredict.fillna(0) # fill the NaNs by zero , for computation I need to fill Nan to a number 0 "
   ]
  },
  {
   "cell_type": "code",
   "execution_count": 34,
   "metadata": {},
   "outputs": [
    {
     "data": {
      "text/html": [
       "<div>\n",
       "<style scoped>\n",
       "    .dataframe tbody tr th:only-of-type {\n",
       "        vertical-align: middle;\n",
       "    }\n",
       "\n",
       "    .dataframe tbody tr th {\n",
       "        vertical-align: top;\n",
       "    }\n",
       "\n",
       "    .dataframe thead th {\n",
       "        text-align: right;\n",
       "    }\n",
       "</style>\n",
       "<table border=\"1\" class=\"dataframe\">\n",
       "  <thead>\n",
       "    <tr style=\"text-align: right;\">\n",
       "      <th></th>\n",
       "      <th>0</th>\n",
       "      <th>1</th>\n",
       "      <th>2</th>\n",
       "      <th>3</th>\n",
       "      <th>4</th>\n",
       "      <th>5</th>\n",
       "      <th>6</th>\n",
       "      <th>7</th>\n",
       "      <th>8</th>\n",
       "      <th>9</th>\n",
       "      <th>...</th>\n",
       "      <th>19</th>\n",
       "      <th>20</th>\n",
       "      <th>21</th>\n",
       "      <th>22</th>\n",
       "      <th>23</th>\n",
       "      <th>24</th>\n",
       "      <th>25</th>\n",
       "      <th>26</th>\n",
       "      <th>27</th>\n",
       "      <th>index</th>\n",
       "    </tr>\n",
       "  </thead>\n",
       "  <tbody>\n",
       "    <tr>\n",
       "      <th>0</th>\n",
       "      <td>NaN</td>\n",
       "      <td>NaN</td>\n",
       "      <td>0.0</td>\n",
       "      <td>NaN</td>\n",
       "      <td>NaN</td>\n",
       "      <td>NaN</td>\n",
       "      <td>NaN</td>\n",
       "      <td>NaN</td>\n",
       "      <td>NaN</td>\n",
       "      <td>NaN</td>\n",
       "      <td>...</td>\n",
       "      <td>NaN</td>\n",
       "      <td>NaN</td>\n",
       "      <td>NaN</td>\n",
       "      <td>0</td>\n",
       "      <td>0</td>\n",
       "      <td>0</td>\n",
       "      <td>0</td>\n",
       "      <td>0</td>\n",
       "      <td>0</td>\n",
       "      <td>0</td>\n",
       "    </tr>\n",
       "    <tr>\n",
       "      <th>1</th>\n",
       "      <td>NaN</td>\n",
       "      <td>NaN</td>\n",
       "      <td>NaN</td>\n",
       "      <td>NaN</td>\n",
       "      <td>NaN</td>\n",
       "      <td>NaN</td>\n",
       "      <td>NaN</td>\n",
       "      <td>NaN</td>\n",
       "      <td>NaN</td>\n",
       "      <td>NaN</td>\n",
       "      <td>...</td>\n",
       "      <td>NaN</td>\n",
       "      <td>NaN</td>\n",
       "      <td>NaN</td>\n",
       "      <td>0</td>\n",
       "      <td>0</td>\n",
       "      <td>0</td>\n",
       "      <td>0</td>\n",
       "      <td>1</td>\n",
       "      <td>0</td>\n",
       "      <td>1</td>\n",
       "    </tr>\n",
       "    <tr>\n",
       "      <th>2</th>\n",
       "      <td>NaN</td>\n",
       "      <td>NaN</td>\n",
       "      <td>0.0</td>\n",
       "      <td>NaN</td>\n",
       "      <td>NaN</td>\n",
       "      <td>NaN</td>\n",
       "      <td>NaN</td>\n",
       "      <td>NaN</td>\n",
       "      <td>NaN</td>\n",
       "      <td>NaN</td>\n",
       "      <td>...</td>\n",
       "      <td>NaN</td>\n",
       "      <td>NaN</td>\n",
       "      <td>NaN</td>\n",
       "      <td>0</td>\n",
       "      <td>0</td>\n",
       "      <td>0</td>\n",
       "      <td>0</td>\n",
       "      <td>0</td>\n",
       "      <td>0</td>\n",
       "      <td>2</td>\n",
       "    </tr>\n",
       "    <tr>\n",
       "      <th>3</th>\n",
       "      <td>NaN</td>\n",
       "      <td>NaN</td>\n",
       "      <td>NaN</td>\n",
       "      <td>NaN</td>\n",
       "      <td>NaN</td>\n",
       "      <td>NaN</td>\n",
       "      <td>NaN</td>\n",
       "      <td>NaN</td>\n",
       "      <td>NaN</td>\n",
       "      <td>NaN</td>\n",
       "      <td>...</td>\n",
       "      <td>NaN</td>\n",
       "      <td>NaN</td>\n",
       "      <td>NaN</td>\n",
       "      <td>0</td>\n",
       "      <td>0</td>\n",
       "      <td>0</td>\n",
       "      <td>0</td>\n",
       "      <td>0</td>\n",
       "      <td>0</td>\n",
       "      <td>3</td>\n",
       "    </tr>\n",
       "    <tr>\n",
       "      <th>4</th>\n",
       "      <td>NaN</td>\n",
       "      <td>NaN</td>\n",
       "      <td>NaN</td>\n",
       "      <td>NaN</td>\n",
       "      <td>NaN</td>\n",
       "      <td>NaN</td>\n",
       "      <td>NaN</td>\n",
       "      <td>NaN</td>\n",
       "      <td>NaN</td>\n",
       "      <td>NaN</td>\n",
       "      <td>...</td>\n",
       "      <td>NaN</td>\n",
       "      <td>NaN</td>\n",
       "      <td>NaN</td>\n",
       "      <td>0</td>\n",
       "      <td>0</td>\n",
       "      <td>0</td>\n",
       "      <td>0</td>\n",
       "      <td>0</td>\n",
       "      <td>0</td>\n",
       "      <td>4</td>\n",
       "    </tr>\n",
       "  </tbody>\n",
       "</table>\n",
       "<p>5 rows × 29 columns</p>\n",
       "</div>"
      ],
      "text/plain": [
       "    0   1    2   3   4   5   6   7   8   9  ...    19  20  21  22  23  24  25  \\\n",
       "0 NaN NaN  0.0 NaN NaN NaN NaN NaN NaN NaN  ...   NaN NaN NaN   0   0   0   0   \n",
       "1 NaN NaN  NaN NaN NaN NaN NaN NaN NaN NaN  ...   NaN NaN NaN   0   0   0   0   \n",
       "2 NaN NaN  0.0 NaN NaN NaN NaN NaN NaN NaN  ...   NaN NaN NaN   0   0   0   0   \n",
       "3 NaN NaN  NaN NaN NaN NaN NaN NaN NaN NaN  ...   NaN NaN NaN   0   0   0   0   \n",
       "4 NaN NaN  NaN NaN NaN NaN NaN NaN NaN NaN  ...   NaN NaN NaN   0   0   0   0   \n",
       "\n",
       "   26  27  index  \n",
       "0   0   0      0  \n",
       "1   1   0      1  \n",
       "2   0   0      2  \n",
       "3   0   0      3  \n",
       "4   0   0      4  \n",
       "\n",
       "[5 rows x 29 columns]"
      ]
     },
     "execution_count": 34,
     "metadata": {},
     "output_type": "execute_result"
    }
   ],
   "source": [
    "allpredictNan.head()"
   ]
  },
  {
   "cell_type": "code",
   "execution_count": 35,
   "metadata": {},
   "outputs": [
    {
     "data": {
      "text/html": [
       "<div>\n",
       "<style scoped>\n",
       "    .dataframe tbody tr th:only-of-type {\n",
       "        vertical-align: middle;\n",
       "    }\n",
       "\n",
       "    .dataframe tbody tr th {\n",
       "        vertical-align: top;\n",
       "    }\n",
       "\n",
       "    .dataframe thead th {\n",
       "        text-align: right;\n",
       "    }\n",
       "</style>\n",
       "<table border=\"1\" class=\"dataframe\">\n",
       "  <thead>\n",
       "    <tr style=\"text-align: right;\">\n",
       "      <th></th>\n",
       "      <th>0</th>\n",
       "      <th>1</th>\n",
       "      <th>2</th>\n",
       "      <th>3</th>\n",
       "      <th>4</th>\n",
       "      <th>5</th>\n",
       "      <th>6</th>\n",
       "      <th>7</th>\n",
       "      <th>8</th>\n",
       "      <th>9</th>\n",
       "      <th>...</th>\n",
       "      <th>18</th>\n",
       "      <th>19</th>\n",
       "      <th>20</th>\n",
       "      <th>21</th>\n",
       "      <th>22</th>\n",
       "      <th>23</th>\n",
       "      <th>24</th>\n",
       "      <th>25</th>\n",
       "      <th>26</th>\n",
       "      <th>27</th>\n",
       "    </tr>\n",
       "  </thead>\n",
       "  <tbody>\n",
       "    <tr>\n",
       "      <th>0</th>\n",
       "      <td>0.0</td>\n",
       "      <td>0.0</td>\n",
       "      <td>0.0</td>\n",
       "      <td>0.0</td>\n",
       "      <td>0.0</td>\n",
       "      <td>0.0</td>\n",
       "      <td>0.0</td>\n",
       "      <td>0.0</td>\n",
       "      <td>0.0</td>\n",
       "      <td>0.0</td>\n",
       "      <td>...</td>\n",
       "      <td>0.0</td>\n",
       "      <td>0.0</td>\n",
       "      <td>0.0</td>\n",
       "      <td>0.0</td>\n",
       "      <td>0</td>\n",
       "      <td>0</td>\n",
       "      <td>0</td>\n",
       "      <td>0</td>\n",
       "      <td>0</td>\n",
       "      <td>0</td>\n",
       "    </tr>\n",
       "    <tr>\n",
       "      <th>1</th>\n",
       "      <td>0.0</td>\n",
       "      <td>0.0</td>\n",
       "      <td>0.0</td>\n",
       "      <td>0.0</td>\n",
       "      <td>0.0</td>\n",
       "      <td>0.0</td>\n",
       "      <td>0.0</td>\n",
       "      <td>0.0</td>\n",
       "      <td>0.0</td>\n",
       "      <td>0.0</td>\n",
       "      <td>...</td>\n",
       "      <td>0.0</td>\n",
       "      <td>0.0</td>\n",
       "      <td>0.0</td>\n",
       "      <td>0.0</td>\n",
       "      <td>0</td>\n",
       "      <td>0</td>\n",
       "      <td>0</td>\n",
       "      <td>0</td>\n",
       "      <td>1</td>\n",
       "      <td>0</td>\n",
       "    </tr>\n",
       "    <tr>\n",
       "      <th>2</th>\n",
       "      <td>0.0</td>\n",
       "      <td>0.0</td>\n",
       "      <td>0.0</td>\n",
       "      <td>0.0</td>\n",
       "      <td>0.0</td>\n",
       "      <td>0.0</td>\n",
       "      <td>0.0</td>\n",
       "      <td>0.0</td>\n",
       "      <td>0.0</td>\n",
       "      <td>0.0</td>\n",
       "      <td>...</td>\n",
       "      <td>0.0</td>\n",
       "      <td>0.0</td>\n",
       "      <td>0.0</td>\n",
       "      <td>0.0</td>\n",
       "      <td>0</td>\n",
       "      <td>0</td>\n",
       "      <td>0</td>\n",
       "      <td>0</td>\n",
       "      <td>0</td>\n",
       "      <td>0</td>\n",
       "    </tr>\n",
       "    <tr>\n",
       "      <th>3</th>\n",
       "      <td>0.0</td>\n",
       "      <td>0.0</td>\n",
       "      <td>0.0</td>\n",
       "      <td>0.0</td>\n",
       "      <td>0.0</td>\n",
       "      <td>0.0</td>\n",
       "      <td>0.0</td>\n",
       "      <td>0.0</td>\n",
       "      <td>0.0</td>\n",
       "      <td>0.0</td>\n",
       "      <td>...</td>\n",
       "      <td>0.0</td>\n",
       "      <td>0.0</td>\n",
       "      <td>0.0</td>\n",
       "      <td>0.0</td>\n",
       "      <td>0</td>\n",
       "      <td>0</td>\n",
       "      <td>0</td>\n",
       "      <td>0</td>\n",
       "      <td>0</td>\n",
       "      <td>0</td>\n",
       "    </tr>\n",
       "    <tr>\n",
       "      <th>4</th>\n",
       "      <td>0.0</td>\n",
       "      <td>0.0</td>\n",
       "      <td>0.0</td>\n",
       "      <td>0.0</td>\n",
       "      <td>0.0</td>\n",
       "      <td>0.0</td>\n",
       "      <td>0.0</td>\n",
       "      <td>0.0</td>\n",
       "      <td>0.0</td>\n",
       "      <td>0.0</td>\n",
       "      <td>...</td>\n",
       "      <td>0.0</td>\n",
       "      <td>0.0</td>\n",
       "      <td>0.0</td>\n",
       "      <td>0.0</td>\n",
       "      <td>0</td>\n",
       "      <td>0</td>\n",
       "      <td>0</td>\n",
       "      <td>0</td>\n",
       "      <td>0</td>\n",
       "      <td>0</td>\n",
       "    </tr>\n",
       "  </tbody>\n",
       "</table>\n",
       "<p>5 rows × 28 columns</p>\n",
       "</div>"
      ],
      "text/plain": [
       "    0    1    2    3    4    5    6    7    8    9  ...   18   19   20   21  \\\n",
       "0  0.0  0.0  0.0  0.0  0.0  0.0  0.0  0.0  0.0  0.0 ...  0.0  0.0  0.0  0.0   \n",
       "1  0.0  0.0  0.0  0.0  0.0  0.0  0.0  0.0  0.0  0.0 ...  0.0  0.0  0.0  0.0   \n",
       "2  0.0  0.0  0.0  0.0  0.0  0.0  0.0  0.0  0.0  0.0 ...  0.0  0.0  0.0  0.0   \n",
       "3  0.0  0.0  0.0  0.0  0.0  0.0  0.0  0.0  0.0  0.0 ...  0.0  0.0  0.0  0.0   \n",
       "4  0.0  0.0  0.0  0.0  0.0  0.0  0.0  0.0  0.0  0.0 ...  0.0  0.0  0.0  0.0   \n",
       "\n",
       "   22  23  24  25  26  27  \n",
       "0   0   0   0   0   0   0  \n",
       "1   0   0   0   0   1   0  \n",
       "2   0   0   0   0   0   0  \n",
       "3   0   0   0   0   0   0  \n",
       "4   0   0   0   0   0   0  \n",
       "\n",
       "[5 rows x 28 columns]"
      ]
     },
     "execution_count": 35,
     "metadata": {},
     "output_type": "execute_result"
    }
   ],
   "source": [
    "#allpredict=allpredictNan\n",
    "#allpredict=allpredict.fillna(0)\n",
    "allpredict.drop(['index'],inplace=True, axis=1)  # need to drop this column\n",
    "allpredict.head()"
   ]
  },
  {
   "cell_type": "code",
   "execution_count": 36,
   "metadata": {},
   "outputs": [],
   "source": [
    "# sum across the row and if any is greater than 0, it's a deletion\n",
    "# important, this is how I combine prediction from each model and give the one prediction\n",
    "\n",
    "allpredict['Sum'] = allpredict.sum(axis = 1, skipna = True) \n",
    "df_pred['all_model_pred']=[1 if allpredict['Sum'].iloc[i]>=1 else 0 for i in range(len(allpredict))] "
   ]
  },
  {
   "cell_type": "code",
   "execution_count": 37,
   "metadata": {},
   "outputs": [
    {
     "name": "stdout",
     "output_type": "stream",
     "text": [
      "22753\n",
      "58283\n"
     ]
    }
   ],
   "source": [
    "# check how many 1s are predicted \n",
    "allpredict1=df_pred['all_model_pred']\n",
    "print(sum(allpredict1))  # predicted as delete\n",
    "print(len(allpredict1))  #  total instances"
   ]
  },
  {
   "cell_type": "code",
   "execution_count": 38,
   "metadata": {},
   "outputs": [],
   "source": [
    "# if drop column 19 which is deletion_phone model, see if it can improve accuracy"
   ]
  },
  {
   "cell_type": "code",
   "execution_count": 39,
   "metadata": {},
   "outputs": [
    {
     "data": {
      "text/html": [
       "<div>\n",
       "<style scoped>\n",
       "    .dataframe tbody tr th:only-of-type {\n",
       "        vertical-align: middle;\n",
       "    }\n",
       "\n",
       "    .dataframe tbody tr th {\n",
       "        vertical-align: top;\n",
       "    }\n",
       "\n",
       "    .dataframe thead th {\n",
       "        text-align: right;\n",
       "    }\n",
       "</style>\n",
       "<table border=\"1\" class=\"dataframe\">\n",
       "  <thead>\n",
       "    <tr style=\"text-align: right;\">\n",
       "      <th></th>\n",
       "      <th>chart_id</th>\n",
       "      <th>code_id</th>\n",
       "      <th>end_offset</th>\n",
       "      <th>flag</th>\n",
       "      <th>label</th>\n",
       "      <th>start_offset</th>\n",
       "      <th>text</th>\n",
       "      <th>text75</th>\n",
       "      <th>key</th>\n",
       "      <th>pred</th>\n",
       "      <th>...</th>\n",
       "      <th>19</th>\n",
       "      <th>20</th>\n",
       "      <th>21</th>\n",
       "      <th>22</th>\n",
       "      <th>23</th>\n",
       "      <th>24</th>\n",
       "      <th>25</th>\n",
       "      <th>26</th>\n",
       "      <th>27</th>\n",
       "      <th>all_model_pred</th>\n",
       "    </tr>\n",
       "  </thead>\n",
       "  <tbody>\n",
       "    <tr>\n",
       "      <th>58278</th>\n",
       "      <td>IBXRMA2018_MULT_1164548890010001_HMK_208365363...</td>\n",
       "      <td>I2510</td>\n",
       "      <td>16651.0</td>\n",
       "      <td>0.0</td>\n",
       "      <td>deleted</td>\n",
       "      <td>16572</td>\n",
       "      <td>atherosclerotic heart disease of native corona...</td>\n",
       "      <td>clusion stenosis unspecified carotid artery i6...</td>\n",
       "      <td>58278</td>\n",
       "      <td>0</td>\n",
       "      <td>...</td>\n",
       "      <td>NaN</td>\n",
       "      <td>NaN</td>\n",
       "      <td>NaN</td>\n",
       "      <td>0</td>\n",
       "      <td>0</td>\n",
       "      <td>0</td>\n",
       "      <td>0</td>\n",
       "      <td>0</td>\n",
       "      <td>0</td>\n",
       "      <td>0</td>\n",
       "    </tr>\n",
       "    <tr>\n",
       "      <th>58279</th>\n",
       "      <td>IBXRMA2018_MULT_1216744910010001_HMK_135268510...</td>\n",
       "      <td>G629</td>\n",
       "      <td>30066.0</td>\n",
       "      <td>0.0</td>\n",
       "      <td>deleted</td>\n",
       "      <td>30052</td>\n",
       "      <td>polyneuropathy</td>\n",
       "      <td>time a1c 70 cont treatment dm continue monitor...</td>\n",
       "      <td>58279</td>\n",
       "      <td>0</td>\n",
       "      <td>...</td>\n",
       "      <td>NaN</td>\n",
       "      <td>NaN</td>\n",
       "      <td>NaN</td>\n",
       "      <td>0</td>\n",
       "      <td>0</td>\n",
       "      <td>0</td>\n",
       "      <td>0</td>\n",
       "      <td>0</td>\n",
       "      <td>0</td>\n",
       "      <td>0</td>\n",
       "    </tr>\n",
       "    <tr>\n",
       "      <th>58280</th>\n",
       "      <td>IBXRMA2018_MULT_1216744910010001_HMK_135268510...</td>\n",
       "      <td>G629</td>\n",
       "      <td>29722.0</td>\n",
       "      <td>0.0</td>\n",
       "      <td>deleted</td>\n",
       "      <td>29708</td>\n",
       "      <td>polyneuropathy</td>\n",
       "      <td>ith hyperlipidemia controlled cont treatment d...</td>\n",
       "      <td>58280</td>\n",
       "      <td>0</td>\n",
       "      <td>...</td>\n",
       "      <td>NaN</td>\n",
       "      <td>NaN</td>\n",
       "      <td>NaN</td>\n",
       "      <td>0</td>\n",
       "      <td>0</td>\n",
       "      <td>0</td>\n",
       "      <td>0</td>\n",
       "      <td>0</td>\n",
       "      <td>0</td>\n",
       "      <td>0</td>\n",
       "    </tr>\n",
       "    <tr>\n",
       "      <th>58281</th>\n",
       "      <td>IBXRMA2018_MULT_1197832420010001_HMK_8TF2T50JY...</td>\n",
       "      <td>I10</td>\n",
       "      <td>1782.0</td>\n",
       "      <td>0.0</td>\n",
       "      <td>deleted</td>\n",
       "      <td>1779</td>\n",
       "      <td>i10</td>\n",
       "      <td>hronic kidney disease stage iv 184 benign esse...</td>\n",
       "      <td>58281</td>\n",
       "      <td>0</td>\n",
       "      <td>...</td>\n",
       "      <td>NaN</td>\n",
       "      <td>NaN</td>\n",
       "      <td>NaN</td>\n",
       "      <td>0</td>\n",
       "      <td>0</td>\n",
       "      <td>0</td>\n",
       "      <td>0</td>\n",
       "      <td>0</td>\n",
       "      <td>0</td>\n",
       "      <td>0</td>\n",
       "    </tr>\n",
       "    <tr>\n",
       "      <th>58282</th>\n",
       "      <td>IBXRMA2018_MULT_1197832420010001_HMK_8TF2T50JY...</td>\n",
       "      <td>N19</td>\n",
       "      <td>31172.0</td>\n",
       "      <td>0.0</td>\n",
       "      <td>deleted</td>\n",
       "      <td>31155</td>\n",
       "      <td>renal dysfunction</td>\n",
       "      <td>icd1012510 stable angina pectoris icd4139 hype...</td>\n",
       "      <td>58282</td>\n",
       "      <td>0</td>\n",
       "      <td>...</td>\n",
       "      <td>NaN</td>\n",
       "      <td>NaN</td>\n",
       "      <td>NaN</td>\n",
       "      <td>0</td>\n",
       "      <td>0</td>\n",
       "      <td>0</td>\n",
       "      <td>0</td>\n",
       "      <td>0</td>\n",
       "      <td>0</td>\n",
       "      <td>0</td>\n",
       "    </tr>\n",
       "  </tbody>\n",
       "</table>\n",
       "<p>5 rows × 41 columns</p>\n",
       "</div>"
      ],
      "text/plain": [
       "                                                chart_id code_id  end_offset  \\\n",
       "58278  IBXRMA2018_MULT_1164548890010001_HMK_208365363...   I2510     16651.0   \n",
       "58279  IBXRMA2018_MULT_1216744910010001_HMK_135268510...    G629     30066.0   \n",
       "58280  IBXRMA2018_MULT_1216744910010001_HMK_135268510...    G629     29722.0   \n",
       "58281  IBXRMA2018_MULT_1197832420010001_HMK_8TF2T50JY...     I10      1782.0   \n",
       "58282  IBXRMA2018_MULT_1197832420010001_HMK_8TF2T50JY...     N19     31172.0   \n",
       "\n",
       "       flag    label  start_offset  \\\n",
       "58278   0.0  deleted         16572   \n",
       "58279   0.0  deleted         30052   \n",
       "58280   0.0  deleted         29708   \n",
       "58281   0.0  deleted          1779   \n",
       "58282   0.0  deleted         31155   \n",
       "\n",
       "                                                    text  \\\n",
       "58278  atherosclerotic heart disease of native corona...   \n",
       "58279                                     polyneuropathy   \n",
       "58280                                     polyneuropathy   \n",
       "58281                                                i10   \n",
       "58282                                  renal dysfunction   \n",
       "\n",
       "                                                  text75    key  pred  \\\n",
       "58278  clusion stenosis unspecified carotid artery i6...  58278     0   \n",
       "58279  time a1c 70 cont treatment dm continue monitor...  58279     0   \n",
       "58280  ith hyperlipidemia controlled cont treatment d...  58280     0   \n",
       "58281  hronic kidney disease stage iv 184 benign esse...  58281     0   \n",
       "58282  icd1012510 stable angina pectoris icd4139 hype...  58282     0   \n",
       "\n",
       "            ...        19  20  21  22  23  24  25  26  27  all_model_pred  \n",
       "58278       ...       NaN NaN NaN   0   0   0   0   0   0               0  \n",
       "58279       ...       NaN NaN NaN   0   0   0   0   0   0               0  \n",
       "58280       ...       NaN NaN NaN   0   0   0   0   0   0               0  \n",
       "58281       ...       NaN NaN NaN   0   0   0   0   0   0               0  \n",
       "58282       ...       NaN NaN NaN   0   0   0   0   0   0               0  \n",
       "\n",
       "[5 rows x 41 columns]"
      ]
     },
     "execution_count": 39,
     "metadata": {},
     "output_type": "execute_result"
    }
   ],
   "source": [
    "df_pred.tail()  \n",
    "#all_model_pred is check any model output is 1 for that instance"
   ]
  },
  {
   "cell_type": "markdown",
   "metadata": {},
   "source": [
    "#### Change the columns names from number to the correponding model name"
   ]
  },
  {
   "cell_type": "code",
   "execution_count": 40,
   "metadata": {},
   "outputs": [
    {
     "data": {
      "text/plain": [
       "Index([    'chart_id',      'code_id',   'end_offset',         'flag',\n",
       "              'label', 'start_offset',         'text',       'text75',\n",
       "                'key',         'pred',         'prob',        'index',\n",
       "                    0,              1,              2,              3,\n",
       "                    4,              5,              6,              7,\n",
       "                    8,              9,             10,             11,\n",
       "                   12,             13,             14,             15,\n",
       "                   16,             17,             18,             19,\n",
       "                   20,             21,             22,             23,\n",
       "                   24,             25,             26,             27],\n",
       "      dtype='object')"
      ]
     },
     "execution_count": 40,
     "metadata": {},
     "output_type": "execute_result"
    }
   ],
   "source": [
    "df_prob.columns"
   ]
  },
  {
   "cell_type": "code",
   "execution_count": 41,
   "metadata": {},
   "outputs": [],
   "source": [
    "# drop the key and predict prob temp columns\n",
    "df_pred.drop(['key','pred','prob'],inplace=True, axis=1)\n",
    "df_prob.drop(['key','pred','prob'],inplace=True, axis=1)"
   ]
  },
  {
   "cell_type": "code",
   "execution_count": 42,
   "metadata": {},
   "outputs": [
    {
     "data": {
      "text/plain": [
       "['../picklefolder_ngrams/refreshed_models/Phrase_stroke_LRApril0219.pickle',\n",
       " '../picklefolder_ngrams/refreshed_models/Phrase_emphysema_LRApril0219.pickle',\n",
       " '../picklefolder_ngrams/refreshed_models/Phrase_hypertension_LRApril0219.pickle',\n",
       " '../picklefolder_ngrams/refreshed_models/Phrase_dementia_LRApril0219.pickle',\n",
       " '../picklefolder_ngrams/refreshed_models/Phrase_cholesterol_LRApril0219.pickle',\n",
       " '../picklefolder_ngrams/refreshed_models/Phrase_cad_LRApril0219.pickle',\n",
       " '../picklefolder_ngrams/refreshed_models/Phrase_aneurysm_LRApril0219.pickle',\n",
       " '../picklefolder_ngrams/refreshed_models/Code_COPD_LRApril0219.pickle',\n",
       " '../picklefolder_ngrams/refreshed_models/Code_Depression_LRApril0219.pickle',\n",
       " '../picklefolder_ngrams/refreshed_models/Code_Diabetes_LRApril0219.pickle',\n",
       " '../picklefolder_ngrams/refreshed_models/Code_Heart_LRApril0219.pickle',\n",
       " '../picklefolder_ngrams/refreshed_models/Code_Kidney_LRApril0219.pickle',\n",
       " '../picklefolder_ngrams/refreshed_models/Code_Model1_LRApril0219.pickle',\n",
       " '../picklefolder_ngrams/refreshed_models/Code_Cancer_LRApril0219.pickle',\n",
       " '../picklefolder_ngrams/refreshed_models/Code_Cholesterol_LRApril0219.pickle',\n",
       " '../picklefolder_ngrams/refreshed_models/Code_Model2_LRApril0219.pickle',\n",
       " '../picklefolder_ngrams/refreshed_models/Code_Model3_LRApril0219.pickle',\n",
       " '../picklefolder_ngrams/refreshed_models/Phrase_asthma_LRApril0219.pickle',\n",
       " '../picklefolder_ngrams/refreshed_models/Phrase_cancer_LRApril0219.pickle',\n",
       " '../picklefolder_ngrams/refreshed_models/Phrase_ckd_LRApril0219.pickle',\n",
       " '../picklefolder_ngrams/refreshed_models/Phrase_depression_LRApril0219.pickle',\n",
       " '../picklefolder_ngrams/refreshed_models/Phrase_diabetes_LRApril0219.pickle',\n",
       " '../picklefolder_ngrams/refreshed_models/DeletionReason_family_history_LRApril0219.pickle',\n",
       " '../picklefolder_ngrams/refreshed_models/DeletionReason_negation_LRApril0219.pickle',\n",
       " '../picklefolder_ngrams/refreshed_models/DeletionReason_not_doctors_note_LRApril0219.pickle',\n",
       " '../picklefolder_ngrams/refreshed_models/DeletionReason_not_relevant_LRApril0219.pickle',\n",
       " '../picklefolder_ngrams/refreshed_models/DeletionReason_phoneORaddressORother_number_LRApril0219.pickle',\n",
       " '../picklefolder_ngrams/refreshed_models/DeletionReason_preventative_screening_LRApril0219.pickle']"
      ]
     },
     "execution_count": 42,
     "metadata": {},
     "output_type": "execute_result"
    }
   ],
   "source": [
    "files"
   ]
  },
  {
   "cell_type": "code",
   "execution_count": 43,
   "metadata": {},
   "outputs": [],
   "source": [
    "# rename the number columns to columns names\n",
    "\n",
    "col_dict = {0: 'Phrase_stroke', 1: 'Phrase_emphysema',2:'Phrase_hypertension',3:'Phrase_dementia',4:'Phrase_cholesterol',\n",
    "           5:'Phrase_cad',6:'Phrase_aneurysm',7:'Code_COPD',8:'Code_Depression',9:'Code_Diabetes',10:'Code_Heart',\n",
    "           11:'Code_Kidney',12:'Code_Model1',13:'Code_Cancer',14:'Code_Cholesterol',15:'Code_Model2',\n",
    "           16:'Code_Model3',17:'Phrase_asthma',18:'Phrase_cancer',19:'Phrase_ckd',20:'Phrase_depression',21:'Phrase_diabetes',\n",
    "            22:'DeletionReason_family_history',23:'DeletionReason_negation',24:'DeletionReason_not_doctors_note',\n",
    "           25:'DeletionReason_not_relevant',26:'DeletionReason_phoneORaddressORother_number',27:'DeletionReason_preventative_screening'\n",
    "           }   ## key→old name, value→new name\n",
    "\n",
    "df_pred.columns = [col_dict.get(x, x) for x in df_pred.columns]\n",
    "df_prob.columns = [col_dict.get(x, x) for x in df_prob.columns]"
   ]
  },
  {
   "cell_type": "code",
   "execution_count": 85,
   "metadata": {},
   "outputs": [
    {
     "data": {
      "text/plain": [
       "Index(['chart_id', 'code_id', 'end_offset', 'flag', 'label', 'start_offset',\n",
       "       'text', 'text75', 'index', 'Phrase_stroke', 'Phrase_emphysema',\n",
       "       'Phrase_hypertension', 'Phrase_dementia', 'Phrase_cholesterol',\n",
       "       'Phrase_cad', 'Phrase_aneurysm', 'Code_COPD', 'Code_Depression',\n",
       "       'Code_Diabetes', 'Code_Heart', 'Code_Kidney', 'Code_Model1',\n",
       "       'Code_Cancer', 'Code_Cholesterol', 'Code_Model2', 'Code_Model3',\n",
       "       'Phrase_asthma', 'Phrase_cancer', 'Phrase_ckd', 'Phrase_depression',\n",
       "       'Phrase_diabetes', 'DeletionReason_family_history',\n",
       "       'DeletionReason_negation', 'DeletionReason_not_doctors_note',\n",
       "       'DeletionReason_not_relevant',\n",
       "       'DeletionReason_phoneORaddressORother_number',\n",
       "       'DeletionReason_preventative_screening', 'all_model_pred'],\n",
       "      dtype='object')"
      ]
     },
     "execution_count": 85,
     "metadata": {},
     "output_type": "execute_result"
    }
   ],
   "source": [
    "df_pred.columns"
   ]
  },
  {
   "cell_type": "code",
   "execution_count": 86,
   "metadata": {},
   "outputs": [
    {
     "data": {
      "text/plain": [
       "2"
      ]
     },
     "execution_count": 86,
     "metadata": {},
     "output_type": "execute_result"
    }
   ],
   "source": [
    "df_pred['DeletionReason_family_history'].nunique()"
   ]
  },
  {
   "cell_type": "code",
   "execution_count": 87,
   "metadata": {},
   "outputs": [
    {
     "data": {
      "text/plain": [
       "0    55638\n",
       "1     2645\n",
       "Name: DeletionReason_family_history, dtype: int64"
      ]
     },
     "execution_count": 87,
     "metadata": {},
     "output_type": "execute_result"
    }
   ],
   "source": [
    "df_pred['DeletionReason_family_history'].value_counts()"
   ]
  },
  {
   "cell_type": "code",
   "execution_count": 98,
   "metadata": {},
   "outputs": [
    {
     "data": {
      "text/plain": [
       "1773"
      ]
     },
     "execution_count": 98,
     "metadata": {},
     "output_type": "execute_result"
    }
   ],
   "source": [
    "len(df_pred[df_pred['text75'].str.contains('family history',flags=re.IGNORECASE)])"
   ]
  },
  {
   "cell_type": "code",
   "execution_count": 102,
   "metadata": {},
   "outputs": [
    {
     "name": "stdout",
     "output_type": "stream",
     "text": [
      "391\n"
     ]
    }
   ],
   "source": [
    "#selectkeep_drfamhis=df_pred[df_pred['DeletionReason_family_history']==0]\n",
    "#print(len(selectkeep_drfamhis[selectkeep_drfamhis['text75'].str.contains('family history',flags=re.IGNORECASE)]))"
   ]
  },
  {
   "cell_type": "code",
   "execution_count": 101,
   "metadata": {},
   "outputs": [
    {
     "data": {
      "text/plain": [
       "2645"
      ]
     },
     "execution_count": 101,
     "metadata": {},
     "output_type": "execute_result"
    }
   ],
   "source": [
    "#select_drfamhis=df_pred[df_pred['DeletionReason_family_history']==1]\n",
    "#len(select_drfamhis)"
   ]
  },
  {
   "cell_type": "code",
   "execution_count": 100,
   "metadata": {},
   "outputs": [
    {
     "data": {
      "text/plain": [
       "1382"
      ]
     },
     "execution_count": 100,
     "metadata": {},
     "output_type": "execute_result"
    }
   ],
   "source": [
    "#len(select_drfamhis[select_drfamhis['text75'].str.contains('family history',flags=re.IGNORECASE)])"
   ]
  },
  {
   "cell_type": "code",
   "execution_count": 95,
   "metadata": {},
   "outputs": [
    {
     "data": {
      "text/plain": [
       "'rrhoidectomy colonoscopy 2015 family history mother deceased 53 yrs chronic obstructive pulmonary disease father deceased 79 yrs chronic obstructive pulmonary disease coronary'"
      ]
     },
     "execution_count": 95,
     "metadata": {},
     "output_type": "execute_result"
    }
   ],
   "source": [
    "#select_drfamhis['text75'].iloc[100]"
   ]
  },
  {
   "cell_type": "code",
   "execution_count": 92,
   "metadata": {},
   "outputs": [],
   "source": [
    "#select_drfamhis.to_csv('predictedexample_familyhistory.csv')"
   ]
  },
  {
   "cell_type": "code",
   "execution_count": 45,
   "metadata": {},
   "outputs": [
    {
     "data": {
      "text/plain": [
       "Index(['chart_id', 'code_id', 'end_offset', 'flag', 'label', 'start_offset',\n",
       "       'text', 'text75', 'index', 'Phrase_stroke', 'Phrase_emphysema',\n",
       "       'Phrase_hypertension', 'Phrase_dementia', 'Phrase_cholesterol',\n",
       "       'Phrase_cad', 'Phrase_aneurysm', 'Code_COPD', 'Code_Depression',\n",
       "       'Code_Diabetes', 'Code_Heart', 'Code_Kidney', 'Code_Model1',\n",
       "       'Code_Cancer', 'Code_Cholesterol', 'Code_Model2', 'Code_Model3',\n",
       "       'Phrase_asthma', 'Phrase_cancer', 'Phrase_ckd', 'Phrase_depression',\n",
       "       'Phrase_diabetes', 'DeletionReason_family_history',\n",
       "       'DeletionReason_negation', 'DeletionReason_not_doctors_note',\n",
       "       'DeletionReason_not_relevant',\n",
       "       'DeletionReason_phoneORaddressORother_number',\n",
       "       'DeletionReason_preventative_screening'],\n",
       "      dtype='object')"
      ]
     },
     "execution_count": 45,
     "metadata": {},
     "output_type": "execute_result"
    }
   ],
   "source": [
    "df_prob.columns"
   ]
  },
  {
   "cell_type": "markdown",
   "metadata": {},
   "source": [
    "#### change the columns names and also compare the probability and prediction to see if they match"
   ]
  },
  {
   "cell_type": "code",
   "execution_count": 46,
   "metadata": {},
   "outputs": [],
   "source": [
    "#df_pred.rename(columns={'start': 'start_offset', 'end': 'end_offset'}, inplace=True)"
   ]
  },
  {
   "cell_type": "code",
   "execution_count": 47,
   "metadata": {},
   "outputs": [
    {
     "data": {
      "text/html": [
       "<div>\n",
       "<style scoped>\n",
       "    .dataframe tbody tr th:only-of-type {\n",
       "        vertical-align: middle;\n",
       "    }\n",
       "\n",
       "    .dataframe tbody tr th {\n",
       "        vertical-align: top;\n",
       "    }\n",
       "\n",
       "    .dataframe thead th {\n",
       "        text-align: right;\n",
       "    }\n",
       "</style>\n",
       "<table border=\"1\" class=\"dataframe\">\n",
       "  <thead>\n",
       "    <tr style=\"text-align: right;\">\n",
       "      <th></th>\n",
       "      <th>chart_id</th>\n",
       "      <th>start_offset</th>\n",
       "      <th>end_offset</th>\n",
       "      <th>DeletionReason_phoneORaddressORother_number</th>\n",
       "    </tr>\n",
       "  </thead>\n",
       "  <tbody>\n",
       "    <tr>\n",
       "      <th>0</th>\n",
       "      <td>IBXRMA2018_MULT_1163297620010001_HMK_179342168...</td>\n",
       "      <td>1391</td>\n",
       "      <td>1403.0</td>\n",
       "      <td>0</td>\n",
       "    </tr>\n",
       "    <tr>\n",
       "      <th>1</th>\n",
       "      <td>IBXRMA2018_MULT_1163297620010001_HMK_179342168...</td>\n",
       "      <td>3817</td>\n",
       "      <td>3819.0</td>\n",
       "      <td>1</td>\n",
       "    </tr>\n",
       "    <tr>\n",
       "      <th>2</th>\n",
       "      <td>IBXRMA2018_MULT_1163297620010001_HMK_179342168...</td>\n",
       "      <td>13537</td>\n",
       "      <td>13549.0</td>\n",
       "      <td>0</td>\n",
       "    </tr>\n",
       "    <tr>\n",
       "      <th>3</th>\n",
       "      <td>IBXRMA2018_MULT_1163297620010001_HMK_179342168...</td>\n",
       "      <td>14636</td>\n",
       "      <td>14639.0</td>\n",
       "      <td>0</td>\n",
       "    </tr>\n",
       "    <tr>\n",
       "      <th>4</th>\n",
       "      <td>IBXRMA2018_MULT_1163297620010001_HMK_179342168...</td>\n",
       "      <td>14723</td>\n",
       "      <td>14725.0</td>\n",
       "      <td>0</td>\n",
       "    </tr>\n",
       "  </tbody>\n",
       "</table>\n",
       "</div>"
      ],
      "text/plain": [
       "                                            chart_id  start_offset  \\\n",
       "0  IBXRMA2018_MULT_1163297620010001_HMK_179342168...          1391   \n",
       "1  IBXRMA2018_MULT_1163297620010001_HMK_179342168...          3817   \n",
       "2  IBXRMA2018_MULT_1163297620010001_HMK_179342168...         13537   \n",
       "3  IBXRMA2018_MULT_1163297620010001_HMK_179342168...         14636   \n",
       "4  IBXRMA2018_MULT_1163297620010001_HMK_179342168...         14723   \n",
       "\n",
       "   end_offset  DeletionReason_phoneORaddressORother_number  \n",
       "0      1403.0                                            0  \n",
       "1      3819.0                                            1  \n",
       "2     13549.0                                            0  \n",
       "3     14639.0                                            0  \n",
       "4     14725.0                                            0  "
      ]
     },
     "execution_count": 47,
     "metadata": {},
     "output_type": "execute_result"
    }
   ],
   "source": [
    "df_pred[['chart_id','start_offset','end_offset','DeletionReason_phoneORaddressORother_number']].head()"
   ]
  },
  {
   "cell_type": "code",
   "execution_count": 48,
   "metadata": {},
   "outputs": [
    {
     "data": {
      "text/html": [
       "<div>\n",
       "<style scoped>\n",
       "    .dataframe tbody tr th:only-of-type {\n",
       "        vertical-align: middle;\n",
       "    }\n",
       "\n",
       "    .dataframe tbody tr th {\n",
       "        vertical-align: top;\n",
       "    }\n",
       "\n",
       "    .dataframe thead th {\n",
       "        text-align: right;\n",
       "    }\n",
       "</style>\n",
       "<table border=\"1\" class=\"dataframe\">\n",
       "  <thead>\n",
       "    <tr style=\"text-align: right;\">\n",
       "      <th></th>\n",
       "      <th>chart_id</th>\n",
       "      <th>start_offset</th>\n",
       "      <th>end_offset</th>\n",
       "      <th>DeletionReason_phoneORaddressORother_number</th>\n",
       "    </tr>\n",
       "  </thead>\n",
       "  <tbody>\n",
       "    <tr>\n",
       "      <th>0</th>\n",
       "      <td>IBXRMA2018_MULT_1163297620010001_HMK_179342168...</td>\n",
       "      <td>1391</td>\n",
       "      <td>1403.0</td>\n",
       "      <td>0.024644</td>\n",
       "    </tr>\n",
       "    <tr>\n",
       "      <th>1</th>\n",
       "      <td>IBXRMA2018_MULT_1163297620010001_HMK_179342168...</td>\n",
       "      <td>3817</td>\n",
       "      <td>3819.0</td>\n",
       "      <td>0.586640</td>\n",
       "    </tr>\n",
       "    <tr>\n",
       "      <th>2</th>\n",
       "      <td>IBXRMA2018_MULT_1163297620010001_HMK_179342168...</td>\n",
       "      <td>13537</td>\n",
       "      <td>13549.0</td>\n",
       "      <td>0.000697</td>\n",
       "    </tr>\n",
       "    <tr>\n",
       "      <th>3</th>\n",
       "      <td>IBXRMA2018_MULT_1163297620010001_HMK_179342168...</td>\n",
       "      <td>14636</td>\n",
       "      <td>14639.0</td>\n",
       "      <td>0.044617</td>\n",
       "    </tr>\n",
       "    <tr>\n",
       "      <th>4</th>\n",
       "      <td>IBXRMA2018_MULT_1163297620010001_HMK_179342168...</td>\n",
       "      <td>14723</td>\n",
       "      <td>14725.0</td>\n",
       "      <td>0.468713</td>\n",
       "    </tr>\n",
       "  </tbody>\n",
       "</table>\n",
       "</div>"
      ],
      "text/plain": [
       "                                            chart_id  start_offset  \\\n",
       "0  IBXRMA2018_MULT_1163297620010001_HMK_179342168...          1391   \n",
       "1  IBXRMA2018_MULT_1163297620010001_HMK_179342168...          3817   \n",
       "2  IBXRMA2018_MULT_1163297620010001_HMK_179342168...         13537   \n",
       "3  IBXRMA2018_MULT_1163297620010001_HMK_179342168...         14636   \n",
       "4  IBXRMA2018_MULT_1163297620010001_HMK_179342168...         14723   \n",
       "\n",
       "   end_offset  DeletionReason_phoneORaddressORother_number  \n",
       "0      1403.0                                     0.024644  \n",
       "1      3819.0                                     0.586640  \n",
       "2     13549.0                                     0.000697  \n",
       "3     14639.0                                     0.044617  \n",
       "4     14725.0                                     0.468713  "
      ]
     },
     "execution_count": 48,
     "metadata": {},
     "output_type": "execute_result"
    }
   ],
   "source": [
    "#df_prob.rename(columns={'start': 'start_offset', 'end': 'end_offset'}, inplace=True)\n",
    "df_prob[['chart_id','start_offset','end_offset','DeletionReason_phoneORaddressORother_number']].head()  #ok make sense"
   ]
  },
  {
   "cell_type": "code",
   "execution_count": 49,
   "metadata": {},
   "outputs": [
    {
     "name": "stdout",
     "output_type": "stream",
     "text": [
      "798\n",
      "798\n"
     ]
    }
   ],
   "source": [
    "print(len(set(df_pred['chart_id'].tolist())))\n",
    "print(len(set(df_prob['chart_id'].tolist())))   # 813 unique chart ids"
   ]
  },
  {
   "cell_type": "markdown",
   "metadata": {},
   "source": [
    "### Part 4. Compare with pipeline feedback and do some tweak and compare again"
   ]
  },
  {
   "cell_type": "code",
   "execution_count": 50,
   "metadata": {},
   "outputs": [
    {
     "data": {
      "text/plain": [
       "deleted    33045\n",
       "added      16097\n",
       "agreed      9141\n",
       "Name: label, dtype: int64"
      ]
     },
     "execution_count": 50,
     "metadata": {},
     "output_type": "execute_result"
    }
   ],
   "source": [
    "df_pred['label'].value_counts()"
   ]
  },
  {
   "cell_type": "code",
   "execution_count": 51,
   "metadata": {},
   "outputs": [
    {
     "data": {
      "text/plain": [
       "0.0    33045\n",
       "1.0    25238\n",
       "Name: flag, dtype: int64"
      ]
     },
     "execution_count": 51,
     "metadata": {},
     "output_type": "execute_result"
    }
   ],
   "source": [
    "df_pred['flag'].value_counts()  # 1 is agree+added 0 is deletion  for true values"
   ]
  },
  {
   "cell_type": "code",
   "execution_count": 52,
   "metadata": {},
   "outputs": [
    {
     "data": {
      "text/plain": [
       "0    35530\n",
       "1    22753\n",
       "Name: all_model_pred, dtype: int64"
      ]
     },
     "execution_count": 52,
     "metadata": {},
     "output_type": "execute_result"
    }
   ],
   "source": [
    "df_pred['all_model_pred'].value_counts()  # perdicted 0 is agree, 1 is deletion. so need to reverse below"
   ]
  },
  {
   "cell_type": "code",
   "execution_count": 54,
   "metadata": {},
   "outputs": [],
   "source": [
    "df_pred.to_csv('refreshed_allmodel_pred_withcoder_0527.csv')"
   ]
  },
  {
   "cell_type": "code",
   "execution_count": 53,
   "metadata": {},
   "outputs": [
    {
     "name": "stdout",
     "output_type": "stream",
     "text": [
      "Test accuracy is 0.7659694936774016\n",
      "              precision    recall  f1-score   support\n",
      "\n",
      "         0.0       0.93      0.64      0.76     33045\n",
      "         1.0       0.66      0.93      0.78     25238\n",
      "\n",
      "   micro avg       0.77      0.77      0.77     58283\n",
      "   macro avg       0.79      0.79      0.77     58283\n",
      "weighted avg       0.81      0.77      0.76     58283\n",
      "\n",
      "accuracy_score  precision recall  f1_score tn  fn  fp  tp\n",
      "0.765969493677   0.66  0.93  0.78 21079 1674 11966 23564\n"
     ]
    },
    {
     "data": {
      "image/png": "[encoded data removed]",
      "text/plain": [
       "<Figure size 432x288 with 2 Axes>"
      ]
     },
     "metadata": {},
     "output_type": "display_data"
    }
   ],
   "source": [
    "# \n",
    "print('Test accuracy is {}'.format(accuracy_score(df_pred['flag'], (1-df_pred['all_model_pred']))))\n",
    "conf_mat = confusion_matrix(df_pred['flag'], (1-df_pred['all_model_pred']))\n",
    "df_cm = pd.DataFrame(conf_mat, range(2),\n",
    "                  range(2))\n",
    "sns.set(font_scale=1.4)#for label size\n",
    "sns.heatmap(df_cm, annot=True, fmt='d')\n",
    "print(classification_report(df_pred['flag'],(1-df_pred['all_model_pred'])))\n",
    "\n",
    "\n",
    "#conf_mat = confusion_matrix(test_y, allpredict1)\n",
    "tn, fp, fn, tp = conf_mat.ravel()\n",
    "report = classification_report(df_pred['flag'], (1-df_pred['all_model_pred']))\n",
    "lines = report.split('\\n')\n",
    "    #print(lines[2])\n",
    "row_data = lines[3].split('     ')\n",
    "print(\"accuracy_score  precision recall  f1_score tn  fn  fp  tp\")\n",
    "print(accuracy_score(df_pred['flag'], (1-df_pred['all_model_pred'])),row_data[2],row_data[3],row_data[4], tn, fn, fp, tp)\n",
    "\n",
    "f = open(\"refreshedmodeltestscore_0524.txt\", \"a+\")\n",
    "f.write(\"..............................\\n\")\n",
    "f.write(\"Combine 28 models accuracy score:\\n\")\n",
    "f.write(\"accuracy_score  precision recall f1_score tn  fn  fp  tp\\n\")\n",
    "f.write(\"%f %f %f %f %f %f %f %f \\n\" % (accuracy_score(df_pred['flag'],(1-df_pred['all_model_pred'])),float(row_data[2]),float(row_data[3]),float(row_data[4]), tn, fn, fp, tp))\n",
    "f.write(\"..............................\\n\")   \n",
    "\n",
    "f.close()"
   ]
  },
  {
   "cell_type": "markdown",
   "metadata": {},
   "source": [
    "### Part 5 Not very related section: Checking on text where the text is the code, and see how many add/agreed/deleted"
   ]
  },
  {
   "cell_type": "code",
   "execution_count": 55,
   "metadata": {},
   "outputs": [
    {
     "data": {
      "text/plain": [
       "5622"
      ]
     },
     "execution_count": 55,
     "metadata": {},
     "output_type": "execute_result"
    }
   ],
   "source": [
    "df_pred['text'].nunique()"
   ]
  },
  {
   "cell_type": "code",
   "execution_count": null,
   "metadata": {},
   "outputs": [],
   "source": [
    "code_list={}\n",
    "code_list[\"Model1\"]=['I10','E119']\n",
    "code_list[\"Model2\"]=['I2510','E785','K219','F329','I639']\n",
    "code_list[\"Model3\"]=['I739','N183','Z992','B20','I213','R569','I43','J410','I714','R579','E550','I209','J45998','I480','B182','K210','K739']\n",
    "code_list[\"Heart\"]=['I509','I482','I4891','I82401']\n",
    "code_list[\"Depression\"]=['F411','F410','F40240','F458','F409','F4000','F4001','F445','F444','F40243','F446','F4010','F442','F408','F449','F451']\n",
    "code_list[\"Kidney\"]=['N189','N181','N182','E1122','I130','E0822','E1022']\n",
    "code_list[\"Diabetes\"]=['Z794','E109','E119','E139','E089','E099']\n",
    "code_list[\"Cancer\"]=['C801','C50919','C189']\n",
    "code_list[\"COPD\"]=['J449','J45909']\n",
    "code_list[\"Cholesterol\"]=['E780','E785','E782','E789','E7800','E784','E781','E7801','E7881','E882','E783','E786','E7889','E756','E755','E7130']"
   ]
  },
  {
   "cell_type": "code",
   "execution_count": 73,
   "metadata": {},
   "outputs": [
    {
     "name": "stdout",
     "output_type": "stream",
     "text": [
      "['I10', 'E119', 'I2510', 'E785', 'K219', 'F329', 'I639', 'I739', 'N183', 'Z992', 'B20', 'I213', 'R569', 'I43', 'J410', 'I714', 'R579', 'E550', 'I209', 'J45998', 'I480', 'B182', 'K210', 'K739', 'I509', 'I482', 'I4891', 'I82401', 'F411', 'F410', 'F40240', 'F458', 'F409', 'F4000', 'F4001', 'F445', 'F444', 'F40243', 'F446', 'F4010', 'F442', 'F408', 'F449', 'F451', 'N189', 'N181', 'N182', 'E1122', 'I130', 'E0822', 'E1022', 'Z794', 'E109', 'E119', 'E139', 'E089', 'E099', 'C801', 'C50919', 'C189', 'J449', 'J45909', 'E780', 'E785', 'E782', 'E789', 'E7800', 'E784', 'E781', 'E7801', 'E7881', 'E882', 'E783', 'E786', 'E7889', 'E756', 'E755', 'E7130']\n",
      "total code ids :  78\n"
     ]
    }
   ],
   "source": [
    "# put all code in one list\n",
    "# getting list of all codes from code_list dict\n",
    "from functools import reduce\n",
    "code_id_list=[]\n",
    "for key in code_list.keys():\n",
    "    code_id_list.append(code_list[key])\n",
    "code_id_list = reduce(lambda x,y: x+y,code_id_list)\n",
    "print (code_id_list)\n",
    "print ('total code ids : ',len(code_id_list)) "
   ]
  },
  {
   "cell_type": "code",
   "execution_count": 67,
   "metadata": {},
   "outputs": [
    {
     "name": "stdout",
     "output_type": "stream",
     "text": [
      "['i10', 'e119', 'i2510', 'e785', 'k219', 'f329', 'i639', 'i739', 'n183', 'z992', 'b20', 'i213', 'r569', 'i43', 'j410', 'i714', 'r579', 'e550', 'i209', 'j45998', 'i480', 'b182', 'k210', 'k739', 'i509', 'i482', 'i4891', 'i82401', 'f411', 'f410', 'f40240', 'f458', 'f409', 'f4000', 'f4001', 'f445', 'f444', 'f40243', 'f446', 'f4010', 'f442', 'f408', 'f449', 'f451', 'n189', 'n181', 'n182', 'e1122', 'i130', 'e0822', 'e1022', 'z794', 'e109', 'e119', 'e139', 'e089', 'e099', 'c801', 'c50919', 'c189', 'j449', 'j45909', 'e780', 'e785', 'e782', 'e789', 'e7800', 'e784', 'e781', 'e7801', 'e7881', 'e882', 'e783', 'e786', 'e7889', 'e756', 'e755', 'e7130']\n"
     ]
    }
   ],
   "source": [
    "code_id_list2= [x.lower() for x in code_id_list]\n",
    "print(code_id_list2)"
   ]
  },
  {
   "cell_type": "code",
   "execution_count": 74,
   "metadata": {},
   "outputs": [
    {
     "name": "stdout",
     "output_type": "stream",
     "text": [
      "['I10', 'E119', 'I2510', 'E785', 'K219', 'F329', 'I639', 'I739', 'N183', 'Z992', 'B20', 'I213', 'R569', 'I43', 'J410', 'I714', 'R579', 'E550', 'I209', 'J45998', 'I480', 'B182', 'K210', 'K739', 'I509', 'I482', 'I4891', 'I82401', 'F411', 'F410', 'F40240', 'F458', 'F409', 'F4000', 'F4001', 'F445', 'F444', 'F40243', 'F446', 'F4010', 'F442', 'F408', 'F449', 'F451', 'N189', 'N181', 'N182', 'E1122', 'I130', 'E0822', 'E1022', 'Z794', 'E109', 'E119', 'E139', 'E089', 'E099', 'C801', 'C50919', 'C189', 'J449', 'J45909', 'E780', 'E785', 'E782', 'E789', 'E7800', 'E784', 'E781', 'E7801', 'E7881', 'E882', 'E783', 'E786', 'E7889', 'E756', 'E755', 'E7130', 'i10', 'e119', 'i2510', 'e785', 'k219', 'f329', 'i639', 'i739', 'n183', 'z992', 'b20', 'i213', 'r569', 'i43', 'j410', 'i714', 'r579', 'e550', 'i209', 'j45998', 'i480', 'b182', 'k210', 'k739', 'i509', 'i482', 'i4891', 'i82401', 'f411', 'f410', 'f40240', 'f458', 'f409', 'f4000', 'f4001', 'f445', 'f444', 'f40243', 'f446', 'f4010', 'f442', 'f408', 'f449', 'f451', 'n189', 'n181', 'n182', 'e1122', 'i130', 'e0822', 'e1022', 'z794', 'e109', 'e119', 'e139', 'e089', 'e099', 'c801', 'c50919', 'c189', 'j449', 'j45909', 'e780', 'e785', 'e782', 'e789', 'e7800', 'e784', 'e781', 'e7801', 'e7881', 'e882', 'e783', 'e786', 'e7889', 'e756', 'e755', 'e7130']\n"
     ]
    }
   ],
   "source": [
    "code_id_list.extend(code_id_list2)\n",
    "print(code_id_list)"
   ]
  },
  {
   "cell_type": "code",
   "execution_count": 75,
   "metadata": {},
   "outputs": [
    {
     "name": "stdout",
     "output_type": "stream",
     "text": [
      "58283\n",
      "662\n"
     ]
    }
   ],
   "source": [
    "# now select those with the above code ids in the text\n",
    "print(len(df_pred))\n",
    "select_df_pred=df_pred[df_pred['text'].isin(code_id_list)==True]\n",
    "print(len(select_df_pred))"
   ]
  },
  {
   "cell_type": "code",
   "execution_count": 76,
   "metadata": {},
   "outputs": [
    {
     "data": {
      "text/plain": [
       "agreed     382\n",
       "added      207\n",
       "deleted     73\n",
       "Name: label, dtype: int64"
      ]
     },
     "execution_count": 76,
     "metadata": {},
     "output_type": "execute_result"
    }
   ],
   "source": [
    "select_df_pred['label'].value_counts()"
   ]
  },
  {
   "cell_type": "code",
   "execution_count": 77,
   "metadata": {},
   "outputs": [],
   "source": [
    "# now use 6000 charts with coder feedback data\n",
    "codeoutput=pd.read_csv('/home/jovyan/work/Analytics_Data_training/conditions_with_chartids_29042019.csv')"
   ]
  },
  {
   "cell_type": "code",
   "execution_count": 78,
   "metadata": {},
   "outputs": [
    {
     "data": {
      "text/plain": [
       "Index(['Unnamed: 0', 'chart_id', 'created_at', 'submission_id', 'user_id',\n",
       "       'code_id', 'diagnosis_id', 'isActive', 'status', 'ai', 'annotation_id',\n",
       "       'deleted', 'deleted_reason', 'end', 'evidence', 'selectedText', 'start',\n",
       "       'text', '75bef', '75aft', '25wordsbef', '25wordsaft', 'label', 'flag'],\n",
       "      dtype='object')"
      ]
     },
     "execution_count": 78,
     "metadata": {},
     "output_type": "execute_result"
    }
   ],
   "source": [
    "codeoutput.columns"
   ]
  },
  {
   "cell_type": "code",
   "execution_count": 79,
   "metadata": {},
   "outputs": [
    {
     "name": "stdout",
     "output_type": "stream",
     "text": [
      "136527\n"
     ]
    }
   ],
   "source": [
    "print(len(codeoutput))"
   ]
  },
  {
   "cell_type": "code",
   "execution_count": 81,
   "metadata": {},
   "outputs": [
    {
     "data": {
      "text/plain": [
       "added      79814\n",
       "agreed     41794\n",
       "deleted    14919\n",
       "Name: label, dtype: int64"
      ]
     },
     "execution_count": 81,
     "metadata": {},
     "output_type": "execute_result"
    }
   ],
   "source": [
    "codeoutput['label'].value_counts()"
   ]
  },
  {
   "cell_type": "code",
   "execution_count": 82,
   "metadata": {},
   "outputs": [
    {
     "name": "stdout",
     "output_type": "stream",
     "text": [
      "3333\n"
     ]
    }
   ],
   "source": [
    "select_6000df_pred=codeoutput[codeoutput['text'].isin(code_id_list)==True]\n",
    "print(len(select_6000df_pred))"
   ]
  },
  {
   "cell_type": "code",
   "execution_count": 83,
   "metadata": {},
   "outputs": [
    {
     "data": {
      "text/plain": [
       "agreed     1833\n",
       "added      1015\n",
       "deleted     485\n",
       "Name: label, dtype: int64"
      ]
     },
     "execution_count": 83,
     "metadata": {},
     "output_type": "execute_result"
    }
   ],
   "source": [
    "select_6000df_pred['label'].value_counts()"
   ]
  },
  {
   "cell_type": "code",
   "execution_count": null,
   "metadata": {},
   "outputs": [],
   "source": []
  }
 ],
 "metadata": {
  "kernelspec": {
   "display_name": "Python 3",
   "language": "python",
   "name": "python3"
  },
  "language_info": {
   "codemirror_mode": {
    "name": "ipython",
    "version": 3
   },
   "file_extension": ".py",
   "mimetype": "text/x-python",
   "name": "python",
   "nbconvert_exporter": "python",
   "pygments_lexer": "ipython3",
   "version": "3.6.8"
  }
 },
 "nbformat": 4,
 "nbformat_minor": 2
}
