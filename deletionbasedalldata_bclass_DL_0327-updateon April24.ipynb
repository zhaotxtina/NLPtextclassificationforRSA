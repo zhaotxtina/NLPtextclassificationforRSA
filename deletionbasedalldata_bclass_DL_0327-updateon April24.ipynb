{
 "cells": [
  {
   "cell_type": "code",
   "execution_count": 4,
   "metadata": {},
   "outputs": [
    {
     "name": "stdout",
     "output_type": "stream",
     "text": [
      "Collecting joblib\n",
      "\u001b[?25l  Downloading https://files.pythonhosted.org/packages/cd/c1/50a758e8247561e58cb87305b1e90b171b8c767b15b12a1734001f41d356/joblib-0.13.2-py2.py3-none-any.whl (278kB)\n",
      "\u001b[K    100% |████████████████████████████████| 286kB 27.6MB/s ta 0:00:01\n",
      "\u001b[?25hInstalling collected packages: joblib\n",
      "Successfully installed joblib-0.13.2\n"
     ]
    }
   ],
   "source": [
    "!pip install joblib"
   ]
  },
  {
   "cell_type": "code",
   "execution_count": 5,
   "metadata": {},
   "outputs": [],
   "source": [
    "import csv\n",
    "import pandas as pd\n",
    "import numpy as np\n",
    "import seaborn as sns\n",
    "import re\n",
    "from nltk.corpus import stopwords\n",
    "import nltk\n",
    "import string\n",
    "import matplotlib.pyplot as plt\n",
    "import random\n",
    "%matplotlib inline\n",
    "\n",
    "from sklearn import model_selection, preprocessing, linear_model, naive_bayes, metrics, svm\n",
    "from sklearn.feature_extraction.text import TfidfVectorizer, CountVectorizer, TfidfTransformer\n",
    "from sklearn import decomposition, ensemble\n",
    "from sklearn.metrics import roc_curve, auc\n",
    "from sklearn.model_selection import cross_val_score\n",
    "\n",
    "from sklearn.model_selection import train_test_split\n",
    "from sklearn.naive_bayes import MultinomialNB\n",
    "from sklearn.ensemble import RandomForestClassifier\n",
    "#from nltk.corpus import stopwords\n",
    "from sklearn.svm import LinearSVC\n",
    "from sklearn.linear_model import LogisticRegression\n",
    "from sklearn.pipeline import Pipeline\n",
    "from sklearn.metrics import accuracy_score\n",
    "from sklearn.multiclass import OneVsRestClassifier\n",
    "\n",
    "from sklearn.metrics import classification_report\n",
    "from sklearn.multiclass import OneVsRestClassifier\n",
    "from sklearn.metrics import confusion_matrix\n",
    "\n",
    "import joblib\n"
   ]
  },
  {
   "cell_type": "markdown",
   "metadata": {},
   "source": [
    "### Part 1  prepare for training data "
   ]
  },
  {
   "cell_type": "code",
   "execution_count": 6,
   "metadata": {},
   "outputs": [
    {
     "name": "stderr",
     "output_type": "stream",
     "text": [
      "/opt/conda/lib/python3.7/site-packages/IPython/core/interactiveshell.py:3049: DtypeWarning: Columns (6) have mixed types. Specify dtype option on import or set low_memory=False.\n",
      "  interactivity=interactivity, compiler=compiler, result=result)\n"
     ]
    },
    {
     "name": "stdout",
     "output_type": "stream",
     "text": [
      "419262\n"
     ]
    }
   ],
   "source": [
    "ibc_df = pd.read_csv('/home/jovyan/work/Model_Training_Data/IBC_data_260319_1.csv')\n",
    "print(len(ibc_df))"
   ]
  },
  {
   "cell_type": "code",
   "execution_count": 7,
   "metadata": {},
   "outputs": [
    {
     "data": {
      "text/plain": [
       "array([nan, 'not_doctors_note', 'phoneORaddressORother_number',\n",
       "       'not_relevant', 'preventative_screening', 'negation', 'other',\n",
       "       'family_history', 'incorrect_year_of_service',\n",
       "       'Incorrect Specification - Non-Risk Adjusted', 'incorrect_acronym',\n",
       "       'repeated_instance', 'incorrect_spec', 'medical_history',\n",
       "       'incorrect_version'], dtype=object)"
      ]
     },
     "execution_count": 7,
     "metadata": {},
     "output_type": "execute_result"
    }
   ],
   "source": [
    "ibc_df['deleted_reason'].unique()"
   ]
  },
  {
   "cell_type": "code",
   "execution_count": 8,
   "metadata": {},
   "outputs": [],
   "source": [
    "listreason=['incorrect_year_of_service','Incorrect Specification - Non-Risk Adjusted','repeated_instance', 'incorrect_spec']"
   ]
  },
  {
   "cell_type": "code",
   "execution_count": 9,
   "metadata": {},
   "outputs": [
    {
     "data": {
      "text/plain": [
       "array([nan, 'not_doctors_note', 'phoneORaddressORother_number',\n",
       "       'not_relevant', 'preventative_screening', 'negation', 'other',\n",
       "       'family_history', 'incorrect_acronym', 'medical_history',\n",
       "       'incorrect_version'], dtype=object)"
      ]
     },
     "execution_count": 9,
     "metadata": {},
     "output_type": "execute_result"
    }
   ],
   "source": [
    "ibc_df=ibc_df[ibc_df['deleted_reason'].isin(listreason)== False]\n",
    "ibc_df['deleted_reason'].unique()"
   ]
  },
  {
   "cell_type": "raw",
   "metadata": {},
   "source": [
    "ibc_df.head()"
   ]
  },
  {
   "cell_type": "code",
   "execution_count": 10,
   "metadata": {},
   "outputs": [
    {
     "name": "stdout",
     "output_type": "stream",
     "text": [
      "41025\n",
      "41025\n"
     ]
    }
   ],
   "source": [
    "list1=ibc_df['chart_id'].unique()\n",
    "print(len(list1))   # \n",
    "print(len(set(list1)))  # number of unique charts in this dataset"
   ]
  },
  {
   "cell_type": "code",
   "execution_count": 11,
   "metadata": {},
   "outputs": [
    {
     "name": "stdout",
     "output_type": "stream",
     "text": [
      "367451\n"
     ]
    }
   ],
   "source": [
    "# doing some preprocessing or cleaning punctuation and stop words\n",
    "ibc_df= ibc_df.replace(np.nan,'',regex = True)\n",
    "print(len(ibc_df))"
   ]
  },
  {
   "cell_type": "code",
   "execution_count": 12,
   "metadata": {},
   "outputs": [
    {
     "name": "stdout",
     "output_type": "stream",
     "text": [
      "367451\n"
     ]
    }
   ],
   "source": [
    "trainDF=ibc_df\n",
    "trainDF['text75'] = trainDF['75char']\n",
    "trainDF = trainDF[pd.notnull(trainDF['text75'])]\n",
    "print(len(trainDF))"
   ]
  },
  {
   "cell_type": "code",
   "execution_count": 13,
   "metadata": {},
   "outputs": [],
   "source": [
    "import string\n",
    "trainDF['cleaned_data'] = trainDF['text75'].apply(lambda x: x.lower())\n",
    "trainDF['cleaned_data'] = trainDF['cleaned_data'].apply(lambda x: x.translate(str.maketrans('','',string.punctuation)))"
   ]
  },
  {
   "cell_type": "code",
   "execution_count": 14,
   "metadata": {},
   "outputs": [
    {
     "name": "stderr",
     "output_type": "stream",
     "text": [
      "[nltk_data] Downloading package stopwords to /home/jovyan/nltk_data...\n",
      "[nltk_data]   Unzipping corpora/stopwords.zip.\n"
     ]
    }
   ],
   "source": [
    "nltk.download('stopwords')\n",
    "stop = stopwords.words('english')\n",
    "\n",
    "trainDF['cleaned_data']= trainDF['cleaned_data'].apply(lambda x: ' '.join([word for word in x.split() if word not in (stop)]))\n",
    "trainDF['cleaned_data']=trainDF['cleaned_data'].str.findall('\\w{2,}').str.join(' ')"
   ]
  },
  {
   "cell_type": "code",
   "execution_count": 15,
   "metadata": {},
   "outputs": [
    {
     "data": {
      "text/html": [
       "<div>\n",
       "<style scoped>\n",
       "    .dataframe tbody tr th:only-of-type {\n",
       "        vertical-align: middle;\n",
       "    }\n",
       "\n",
       "    .dataframe tbody tr th {\n",
       "        vertical-align: top;\n",
       "    }\n",
       "\n",
       "    .dataframe thead th {\n",
       "        text-align: right;\n",
       "    }\n",
       "</style>\n",
       "<table border=\"1\" class=\"dataframe\">\n",
       "  <thead>\n",
       "    <tr style=\"text-align: right;\">\n",
       "      <th></th>\n",
       "      <th>Unnamed: 0</th>\n",
       "      <th>chart_id</th>\n",
       "      <th>code_id</th>\n",
       "      <th>text</th>\n",
       "      <th>start_offset</th>\n",
       "      <th>end_offset</th>\n",
       "      <th>deleted_reason</th>\n",
       "      <th>deleted</th>\n",
       "      <th>label</th>\n",
       "      <th>15char</th>\n",
       "      <th>25char</th>\n",
       "      <th>50char</th>\n",
       "      <th>75char</th>\n",
       "      <th>10word_after</th>\n",
       "      <th>10word_before</th>\n",
       "      <th>50word_after</th>\n",
       "      <th>50word_before</th>\n",
       "      <th>flag</th>\n",
       "      <th>text75</th>\n",
       "      <th>cleaned_data</th>\n",
       "    </tr>\n",
       "  </thead>\n",
       "  <tbody>\n",
       "    <tr>\n",
       "      <th>0</th>\n",
       "      <td>0</td>\n",
       "      <td>002803945_161667176A_2016_001</td>\n",
       "      <td>E6601</td>\n",
       "      <td>e66.01</td>\n",
       "      <td>14251</td>\n",
       "      <td>14257</td>\n",
       "      <td></td>\n",
       "      <td></td>\n",
       "      <td>agreed</td>\n",
       "      <td>cess calories (E66.01).</td>\n",
       "      <td>due to excess calories (E66.01).             ...</td>\n",
       "      <td>sessment   Morbid obesity due to excess calori...</td>\n",
       "      <td>.7).                   Assessment   Morbid obe...</td>\n",
       "      <td>[[').', 'Assessment', 'Traumatic', 'brain', 'i...</td>\n",
       "      <td>[['Fibromyalgia', '(M79.7).', 'Assessment', 'M...</td>\n",
       "      <td>[[').', 'Assessment', 'Traumatic', 'brain', 'i...</td>\n",
       "      <td>[['Assessment/Plan', '#', 'Detail', 'Type', 'D...</td>\n",
       "      <td>0</td>\n",
       "      <td>.7).                   Assessment   Morbid obe...</td>\n",
       "      <td>assessment morbid obesity due excess calories ...</td>\n",
       "    </tr>\n",
       "    <tr>\n",
       "      <th>1</th>\n",
       "      <td>1</td>\n",
       "      <td>002803945_161667176A_2016_001</td>\n",
       "      <td>E6601</td>\n",
       "      <td>e66.01</td>\n",
       "      <td>22445</td>\n",
       "      <td>22451</td>\n",
       "      <td></td>\n",
       "      <td></td>\n",
       "      <td>agreed</td>\n",
       "      <td>cess calories (E66.01).        Impre</td>\n",
       "      <td>due to excess calories (E66.01).        Impre...</td>\n",
       "      <td>sessment   Morbid obesity due to excess calori...</td>\n",
       "      <td>ise.                   Assessment   Morbid obe...</td>\n",
       "      <td>[[').', 'Impression', 'encouraged', 'to', 'die...</td>\n",
       "      <td>[['-diet', 'exercise.', 'Assessment', 'Morbid'...</td>\n",
       "      <td>[[').', 'Impression', 'encouraged', 'to', 'die...</td>\n",
       "      <td>[['Impression', 'seeing', 'pain', 'management,...</td>\n",
       "      <td>0</td>\n",
       "      <td>ise.                   Assessment   Morbid obe...</td>\n",
       "      <td>ise assessment morbid obesity due excess calor...</td>\n",
       "    </tr>\n",
       "    <tr>\n",
       "      <th>2</th>\n",
       "      <td>2</td>\n",
       "      <td>002803945_161667176A_2016_001</td>\n",
       "      <td>E789</td>\n",
       "      <td>e78.9</td>\n",
       "      <td>14501</td>\n",
       "      <td>14506</td>\n",
       "      <td></td>\n",
       "      <td></td>\n",
       "      <td>agreed</td>\n",
       "      <td>m cholesterol (E78.9).</td>\n",
       "      <td>vated serum cholesterol (E78.9).              ...</td>\n",
       "      <td>Assessment   Elevated serum cholester...</td>\n",
       "      <td>izures (F44.5).                   Assessment  ...</td>\n",
       "      <td>[[').', 'Assessment', 'Anxiety', '(F41.9).', '...</td>\n",
       "      <td>[['sequela', '(S06.9X9S).', 'Assessment', 'Pse...</td>\n",
       "      <td>[[').', 'Assessment', 'Anxiety', '(F41.9).', '...</td>\n",
       "      <td>[['chronic', 'depression--multitude', 'sx', 's...</td>\n",
       "      <td>0</td>\n",
       "      <td>izures (F44.5).                   Assessment  ...</td>\n",
       "      <td>izures f445 assessment elevated serum choleste...</td>\n",
       "    </tr>\n",
       "    <tr>\n",
       "      <th>3</th>\n",
       "      <td>3</td>\n",
       "      <td>002803945_161667176A_2016_001</td>\n",
       "      <td>F329</td>\n",
       "      <td>f32.9</td>\n",
       "      <td>21557</td>\n",
       "      <td>21562</td>\n",
       "      <td></td>\n",
       "      <td></td>\n",
       "      <td>agreed</td>\n",
       "      <td>sion, chronic (F32.9).   Impression</td>\n",
       "      <td>jor depression, chronic (F32.9).   Impressions...</td>\n",
       "      <td>ad injury.   AssessmentMajor depression, chron...</td>\n",
       "      <td>etter w meds, flared w head injury.   Assessme...</td>\n",
       "      <td>[[').', 'Impressionstable,', 'cont', 'Rx.', 'A...</td>\n",
       "      <td>[['w', 'meds,', 'flared', 'w', 'head', 'injury...</td>\n",
       "      <td>[[').', 'Impressionstable,', 'cont', 'Rx.', 'A...</td>\n",
       "      <td>[['accupuncturist,pain', 'management.', 'Asses...</td>\n",
       "      <td>0</td>\n",
       "      <td>etter w meds, flared w head injury.   Assessme...</td>\n",
       "      <td>etter meds flared head injury assessmentmajor ...</td>\n",
       "    </tr>\n",
       "    <tr>\n",
       "      <th>4</th>\n",
       "      <td>4</td>\n",
       "      <td>002803945_161667176A_2016_001</td>\n",
       "      <td>F329</td>\n",
       "      <td>Major depression</td>\n",
       "      <td>17574</td>\n",
       "      <td>17590</td>\n",
       "      <td></td>\n",
       "      <td></td>\n",
       "      <td>agreed</td>\n",
       "      <td>pap finding   Major depression,08/10/2016  ch</td>\n",
       "      <td>abnormal  pap finding   Major depression,08/1...</td>\n",
       "      <td>:00 PM 3/36   unspecified abnormal  pap findin...</td>\n",
       "      <td>07/28/1977 09/19/2016 06:00 PM 3/36   unspeci...</td>\n",
       "      <td>[[',08/10/2016', 'chronic', 'Left-sided', 'wea...</td>\n",
       "      <td>[['I.', '07/28/1977', '09/19/2016', '06:00', '...</td>\n",
       "      <td>[[',08/10/2016', 'chronic', 'Left-sided', 'wea...</td>\n",
       "      <td>[['on', '05/04/2014.', 'Hallucination', '08/10...</td>\n",
       "      <td>0</td>\n",
       "      <td>07/28/1977 09/19/2016 06:00 PM 3/36   unspeci...</td>\n",
       "      <td>07281977 09192016 0600 pm 336 unspecified abno...</td>\n",
       "    </tr>\n",
       "  </tbody>\n",
       "</table>\n",
       "</div>"
      ],
      "text/plain": [
       "   Unnamed: 0                       chart_id code_id              text  \\\n",
       "0           0  002803945_161667176A_2016_001   E6601            e66.01   \n",
       "1           1  002803945_161667176A_2016_001   E6601            e66.01   \n",
       "2           2  002803945_161667176A_2016_001    E789             e78.9   \n",
       "3           3  002803945_161667176A_2016_001    F329             f32.9   \n",
       "4           4  002803945_161667176A_2016_001    F329  Major depression   \n",
       "\n",
       "   start_offset  end_offset deleted_reason deleted   label  \\\n",
       "0         14251       14257                         agreed   \n",
       "1         22445       22451                         agreed   \n",
       "2         14501       14506                         agreed   \n",
       "3         21557       21562                         agreed   \n",
       "4         17574       17590                         agreed   \n",
       "\n",
       "                                           15char  \\\n",
       "0            cess calories (E66.01).                \n",
       "1            cess calories (E66.01).        Impre   \n",
       "2             m cholesterol (E78.9).                \n",
       "3             sion, chronic (F32.9).   Impression   \n",
       "4   pap finding   Major depression,08/10/2016  ch   \n",
       "\n",
       "                                              25char  \\\n",
       "0   due to excess calories (E66.01).             ...   \n",
       "1   due to excess calories (E66.01).        Impre...   \n",
       "2  vated serum cholesterol (E78.9).              ...   \n",
       "3  jor depression, chronic (F32.9).   Impressions...   \n",
       "4   abnormal  pap finding   Major depression,08/1...   \n",
       "\n",
       "                                              50char  \\\n",
       "0  sessment   Morbid obesity due to excess calori...   \n",
       "1  sessment   Morbid obesity due to excess calori...   \n",
       "2           Assessment   Elevated serum cholester...   \n",
       "3  ad injury.   AssessmentMajor depression, chron...   \n",
       "4  :00 PM 3/36   unspecified abnormal  pap findin...   \n",
       "\n",
       "                                              75char  \\\n",
       "0  .7).                   Assessment   Morbid obe...   \n",
       "1  ise.                   Assessment   Morbid obe...   \n",
       "2  izures (F44.5).                   Assessment  ...   \n",
       "3  etter w meds, flared w head injury.   Assessme...   \n",
       "4   07/28/1977 09/19/2016 06:00 PM 3/36   unspeci...   \n",
       "\n",
       "                                        10word_after  \\\n",
       "0  [[').', 'Assessment', 'Traumatic', 'brain', 'i...   \n",
       "1  [[').', 'Impression', 'encouraged', 'to', 'die...   \n",
       "2  [[').', 'Assessment', 'Anxiety', '(F41.9).', '...   \n",
       "3  [[').', 'Impressionstable,', 'cont', 'Rx.', 'A...   \n",
       "4  [[',08/10/2016', 'chronic', 'Left-sided', 'wea...   \n",
       "\n",
       "                                       10word_before  \\\n",
       "0  [['Fibromyalgia', '(M79.7).', 'Assessment', 'M...   \n",
       "1  [['-diet', 'exercise.', 'Assessment', 'Morbid'...   \n",
       "2  [['sequela', '(S06.9X9S).', 'Assessment', 'Pse...   \n",
       "3  [['w', 'meds,', 'flared', 'w', 'head', 'injury...   \n",
       "4  [['I.', '07/28/1977', '09/19/2016', '06:00', '...   \n",
       "\n",
       "                                        50word_after  \\\n",
       "0  [[').', 'Assessment', 'Traumatic', 'brain', 'i...   \n",
       "1  [[').', 'Impression', 'encouraged', 'to', 'die...   \n",
       "2  [[').', 'Assessment', 'Anxiety', '(F41.9).', '...   \n",
       "3  [[').', 'Impressionstable,', 'cont', 'Rx.', 'A...   \n",
       "4  [[',08/10/2016', 'chronic', 'Left-sided', 'wea...   \n",
       "\n",
       "                                       50word_before  flag  \\\n",
       "0  [['Assessment/Plan', '#', 'Detail', 'Type', 'D...     0   \n",
       "1  [['Impression', 'seeing', 'pain', 'management,...     0   \n",
       "2  [['chronic', 'depression--multitude', 'sx', 's...     0   \n",
       "3  [['accupuncturist,pain', 'management.', 'Asses...     0   \n",
       "4  [['on', '05/04/2014.', 'Hallucination', '08/10...     0   \n",
       "\n",
       "                                              text75  \\\n",
       "0  .7).                   Assessment   Morbid obe...   \n",
       "1  ise.                   Assessment   Morbid obe...   \n",
       "2  izures (F44.5).                   Assessment  ...   \n",
       "3  etter w meds, flared w head injury.   Assessme...   \n",
       "4   07/28/1977 09/19/2016 06:00 PM 3/36   unspeci...   \n",
       "\n",
       "                                        cleaned_data  \n",
       "0  assessment morbid obesity due excess calories ...  \n",
       "1  ise assessment morbid obesity due excess calor...  \n",
       "2  izures f445 assessment elevated serum choleste...  \n",
       "3  etter meds flared head injury assessmentmajor ...  \n",
       "4  07281977 09192016 0600 pm 336 unspecified abno...  "
      ]
     },
     "execution_count": 15,
     "metadata": {},
     "output_type": "execute_result"
    }
   ],
   "source": [
    "trainDF.head()"
   ]
  },
  {
   "cell_type": "code",
   "execution_count": 16,
   "metadata": {},
   "outputs": [
    {
     "data": {
      "image/png": "[encoded data removed]",
      "text/plain": [
       "<Figure size 576x432 with 1 Axes>"
      ]
     },
     "metadata": {
      "needs_background": "light"
     },
     "output_type": "display_data"
    },
    {
     "data": {
      "text/plain": [
       "flag\n",
       "0    173651\n",
       "1    193800\n",
       "dtype: int64"
      ]
     },
     "execution_count": 16,
     "metadata": {},
     "output_type": "execute_result"
    }
   ],
   "source": [
    "import matplotlib.pyplot as plt\n",
    "fig = plt.figure(figsize=(8,6))\n",
    "trainDF.groupby('flag').flag.count().plot.bar(ylim=0)\n",
    "plt.show()\n",
    "trainDF.groupby(['flag']).size()                 # 0 is agreed+added, 1 is deleted "
   ]
  },
  {
   "cell_type": "code",
   "execution_count": 17,
   "metadata": {
    "scrolled": true
   },
   "outputs": [
    {
     "data": {
      "image/png": "[encoded data removed]",
      "text/plain": [
       "<Figure size 576x432 with 1 Axes>"
      ]
     },
     "metadata": {
      "needs_background": "light"
     },
     "output_type": "display_data"
    },
    {
     "data": {
      "text/plain": [
       "label\n",
       "added       95563\n",
       "agreed      78088\n",
       "deleted    193800\n",
       "dtype: int64"
      ]
     },
     "execution_count": 17,
     "metadata": {},
     "output_type": "execute_result"
    }
   ],
   "source": [
    "fig = plt.figure(figsize=(8,6))\n",
    "trainDF.groupby('label').flag.count().plot.bar(ylim=0)\n",
    "plt.show()\n",
    "trainDF.groupby(['label']).size()  "
   ]
  },
  {
   "cell_type": "code",
   "execution_count": 73,
   "metadata": {},
   "outputs": [
    {
     "name": "stdout",
     "output_type": "stream",
     "text": [
      "18127\n",
      "349324\n"
     ]
    }
   ],
   "source": [
    "'''\n",
    "# randomly generate  a list \n",
    "import random\n",
    "save4testibclist = random.sample(set(list1), 2000)  # set aside 2000 charts for testing\n",
    "train_df_4test = trainDF[trainDF['chart_id'].isin(save4testibclist)]\n",
    "print(len(train_df_4test))\n",
    "train_df_4train = trainDF[trainDF['chart_id'].isin(save4testibclist)== False]\n",
    "print(len(train_df_4train))\n",
    "'''"
   ]
  },
  {
   "cell_type": "code",
   "execution_count": 110,
   "metadata": {},
   "outputs": [
    {
     "name": "stdout",
     "output_type": "stream",
     "text": [
      "['IBXRMA2018_MULT_1216758780010001_HMK_226380918A_JUANITA_HUFFMAN_002821294_2017', 'IBXRMA2018_MULT_1254954930010001_HMK_246463926D2_GLADYS_CHANNELL_002805322_2017', 'IBXRMA2018_MULT_1217830920010001_HMK_342367786A_MARLENE_BAGNULL_002811508_2017', 'IBXRMA2018_MULT_1253367080010002_HMK_189401272A_ELEANOR_PEREIRA_002805178_2017', 'IBXRMA2018_MULT_1207317550010001_HMK_185289449A_HENRY_MIOSKIE_002811377_2017_pmh', 'IBXRMA2018_MULT_1217830140010001_HMK_187246027A_MILDRED_MINSTER_003061466_2017_20180529105848', 'IBXRMA2018_MULT_1221276150010001_HMK_167625202A_JODIE_ROCCO_002807673_2017', 'IBXRMA2018_MULT_1216904610010001_HMK_178345518D_LUCY_ROSENBERGER_002809074_2017', 'IBXRMA2018_MULT_1216863920010001_HMK_193323160A_FRANCES_CAHILL_002811552_2017_20180517111958', 'IBXRMA2018_MULT_1216933150010001_HMK_185422063A_JOANNE_MATURO_002804973_2017', 'ibxrma2018_mult_1216986020010001_hmk_197105254d_phyllis_teti_002808236_2017', 'IBXRMA2018_MULT_1205167390010001_HMK_160660206A_CHRISTINE_OBST_002804524_2017', 'IBXRMA2018_MULT_1217459210010001_HMK_099241262A_MARIE_BRESLIN_002818412_2017', 'IBXRMA2018_MULT_1163733500010001_HMK_169320848A_JOHN_WILLIAMS_002813165_2017', 'IBXRMA2018_MULT_1216851370010001_HMK_211269790A_NORMA_COYLE_003018942_2017', 'IBXRMA2018_MULT_1216957050010001_HMK_203406501A_JUDY_MURPHY_002804124_2017', 'IBXRMA2018_MULT_1216106400010001_HMK_169347233A_ANTHONY_MARTINELLI_003018942_2017', 'IBXRMA2018_MULT_1224597990010001_HMK_176422286A_LINDA_DONAHUE_003390370_2017_20180607100957', 'IBXRMA2018_MULT_1217049240010001_HMK_054423873A_ROOSEVELT_MARTIN_002805018_2017_20180814161931', 'IBXRMA2018_MULT_1230730510010001_HMK_194369542A_LARRY_ESHBACH_002804738_2017', 'IBXRMA2018_MULT_1217641700010001_HMK_175404859A_DONALD_STINE_003002552_2017_20180517153844', 'IBXRMA2018_MULT_1217555080010001_HMK_180360483A_MARGARET_DOOLEY_003021623_2017', 'IBXRMA2018_MULT_1217101630010001_HMK_128185681A_CLARENCE_MOSS_002806284_2017', 'IBXRMA2018_MULT_1217575070010001_HMK_173267371A_WILLIAM_FIELDS_002804172_2017_pmh', 'IBXRMA2018_MULT_1216885130010001_HMK_181367471A_KAROL_COHEN_002813347_2017', 'IBXRMA2018_MULT_1216870460010001_HMK_180305380B_PATRICIA_PAONE_002810878_2017_20180831083454', 'IBXRMA2018_MULT_1216831540010001_HMK_097621461A_HAN_WOO_002812337_2017', 'IBXRMA2018_MULT_1164236850010001_HMK_197349062A_PAUL_CROWELL_002805068_2017_20180502102856', 'IBXRMA2018_MULT_1217611550010001_HMK_173308897A_EVELYN_CRABILL_002815498_2017_20180627200035', 'IBXRMA2018_MULT_1217496870010001_HMK_166341818A_GERALD_LONG_002813619_2017', 'IBXRMA2018_MULT_1217766510010001_HMK_193248605A_ELEANOR_FLEMING_002805068_2017_20180502105616', 'IBXRMA2018_MULT_1217833290010001_HMK_207229021A_GEORGE_CHABALKO_002816737_2017', 'IBXRMA2018_MULT_1217545390010001_HMK_162380869A_DAVID_AFFLERBACH_002806751_2017', 'IBXRMA2018_MULT_1217550810010001_HMK_167324991A_MICHAEL_CAMAROTA_002818556_2017', 'IBXRMA2018_MULT_1231482960010001_HMK_202601151T_CHUN_PARK_002812337_2017', 'IBXRMA2018_MULT_1249196660010001_HMK_160489525A_THOMAS_MCDONNELL_002803937_2017', 'IBXRMA2018_MULT_1202357830010001_HMK_166446187A_THOMAS_DELPIZZO_002811510_2017', 'IBXRMA2018_MULT_1217595000010001_HMK_179268758A_MARGARET_KENWORTHY_002811558_2017_20180702090731', 'IBXRMA2018_MULT_1230252290010001_HMK_135440816A_THERESA_DEELEY_002813146_2017', 'IBXRMA2018_MULT_1217135120010001_HMK_198129969A_ELIZABETH_HEMPHILL_002812986_2017', 'IBXRMA2018_MULT_1200092790010001_HMK_362525480A_JACQUELINE_GILLIARD_003059751_2017_20180706090937', 'IBXRMA2018_MULT_1166014510010001_HMK_179342044A_JOANN_MCCOLGAN_003290808_2017', 'IBXRMA2018_MULT_1217125920010001_HMK_205182877D_MARY_MICHAEL_002812415_2017', 'IBXRMA2018_MULT_1217542550010001_HMK_160301276A_MICHAEL_MONTINI_002885736_2017', 'IBXRMA2018_MULT_1230306610010001_HMK_161541327A_KAREN_TRUSH_002804740_2017', 'IBXRMA2018_MULT_1233565540010001_HMK_203140306D_IMMACULATE_PACITTI_002822386_2017', '002807250_159402158A_2016_001', 'IBXRMA2018_MULT_1216953310010001_HMK_204328752A_IDA_HARRINGTON_002813364_2017_20180615200806', 'IBXRMA2018_MULT_1217000460010001_HMK_140282876A_KATHRYN_VEITCH_003531447_2017', 'IBXRMA2018_MULT_1217468730010001_HMK_164289612A_JEAN_METZ_002808540_2017_20180810141148', 'IBXRMA2018_MULT_1206903120010001_HMK_176427812A_DEBRA_GRAVELY_002811510_2017', '002817970_203240363A_2016_001', 'IBXRMA2018_MULT_1164927430010001_HMK_161361329A_VERA_REINERT_002819158_2017', 'IBXRMA2018_MULT_1218364680010001_HMK_194368807A_NANCY_GILBOY_002819507_2017', 'IBXRMA2018_MULT_1252991330010001_HMK_187288603A_KATHERINE_SANTONI_002807673_2017', 'IBXRMA2018_MULT_1218022930010001_HMK_209262716A_GEORGE_ONIMUS_002810887_2017_20180614102747', 'IBXRMA2018_MULT_1217015620010001_HMK_169321715A_RICHARD_HAZZARD_002820655_2017_20180706134324', 'IBXRMA2018_MULT_1217080510010001_HMK_167306952A_JAMES_PEARSON_002804905_2017', 'IBXRMA2018_MULT_1207447080010002_HMK_210480011A_PATRICK_FITZGERALD_002819447_2017_20180702090242', 'IBXRMA2018_MULT_1217428160010001_HMK_182305227A_ELSIE_REIMENSCHNEIDER_002816446_2017', 'IBXRMA2018_MULT_1204719910010001_HMK_209467033A_MARGARET_ORKOWSKI_003172442_2017', 'IBXRMA2018_MULT_1217807820010001_HMK_201327460A_RICHARD_SMITH_002822847_2017', 'IBXRMA2018_MULT_1217036570010001_HMK_185267342A_JUNE_GRIFFITH_002812581_2017', 'IBXRMA2018_MULT_1218072150010001_HMK_193409639A_DEIDRA_NOLAND_002810426_2017', 'IBXRMA2018_MULT_1217427160010001_HMK_171302494A_RONALD_VANLENTEN_002814695_2017', 'IBXRMA2018_MULT_1218119210010001_HMK_203523407A_STEVEN_KLINE_002804172_2017', 'IBXRMA2018_MULT_1252423650010001_HMK_183342668A_PATRICIA_POVAZAN_002809845_2017', 'ibxrma2018_mult_1216824240010001_hmk_199264249a_william_cooper_002804730_2017', 'IBXRMA2018_MULT_1216752470010001_HMK_183169398A_ELEANOR_WEBER_003128227_2017_20180705200709', 'IBXRMA2018_MULT_1217470410010001_HMK_160260340D_DORIS_JONES_002808301_2017_20180511092112', 'IBXRMA2018_MULT_1218081030010001_HMK_206145838D6_ELEANOR_DAVITT_002804172_2017', 'IBXRMA2018_MULT_1217635300010001_HMK_182269985A_FRANCES_WENGER_002805385_2017', 'IBXRMA2018_MULT_1216852160010001_HMK_169320587A_JOHANNA_PHENEGER_003464610_2017', 'IBXRMA2018_MULT_1218085110010001_HMK_197185099A_DORIS_SLUTSKY_002807434_2017', 'IBXRMA2018_MULT_1216831010010001_HMK_203320173A_RALPH_DAMBROSIO_002819447_2017_20180620151816', 'IBXRMA2018_MULT_1216992040010001_HMK_162305276A_MARIANNA_DELGAISO_002808842_2017_20180905105829', 'IBXRMA2018_MULT_1218051240010001_HMK_197322538A_MARIE_CALIMAN_002814365_2017', 'ibxrma2018_mult_1217809930010001_hmk_184682336a_melissa_culpepper_002808111_2017', 'ibxrma2018_mult_1215940680010001_hmk_182480159a_richard_aleszczyk_002814612_2017', 'IBXRMA2018_MULT_1217766880010001_HMK_209244809A_FRANK_MOYER_002809906_2017', 'IBXRMA2018_MULT_1203814480010001_HMK_204400530A_JUDITH_GREEN_002805068_2017_20180502105437', 'IBXRMA2018_MULT_1217523360010001_HMK_109247152A_DOLORES_DONLON_002811506_2017', 'IBXRMA2018_MULT_1217023410010001_HMK_165462495A_KENNETH_CITRINO_002805178_2017', 'ibxrma2018_mult_1163540550010001_hmk_167284003a_mary_irvin_002808333_2017', 'IBXRMA2018_MULT_1217102530010001_HMK_194368945A_JOHN_WILLIAMS_002813830_2017', 'IBXRMA2018_MULT_1212725220010002_HMK_164426316A_FRANK_HOFFMAN_002821572_2017_20180712100611', 'IBXRMA2018_MULT_1218115110010001_HMK_187321635A_MARGARET_CAUTI_002884394_2017', 'IBXRMA2018_MULT_1217452070010001_HMK_175306896A_PATRICIA_MEYRICK_002819607_2017', 'IBXRMA2018_MULT_1216860530010001_HMK_199263531A_JOAN_DISALVO_002805198_2017', 'IBXRMA2018_MULT_1254713070010001_HMK_188301282A_NANCY_TITHER_002821983_2017', 'IBXRMA2018_MULT_1236343530010001_HMK_190563110A_LISA_JONES_002805287_2017', 'IBXRMA2018_MULT_1216456450010001_HMK_209404987T_ROBERT_GOLDSMITH_002806552_2017_20180702134552', 'IBXRMA2018_MULT_1217353740010001_HMK_142244731T_LEE_BENNER_002818412_2017', 'IBXRMA2018_MULT_1217479240010001_HMK_160243992A_LYDIA_MATTEO_002816786_2017', 'IBXRMA2018_MULT_1217355040010001_HMK_160249096A_DOLORES_WHITE_002816242_2017', 'IBXRMA2018_MULT_1220932750010001_HMK_162409593A_OSCEOLA_WILLIAMS_002806564_2017_20180816144306', 'IBXRMA2018_MULT_1216869490010001_HMK_191308638A_AGNES_DUMAS_002808842_2017_20180911094836', 'IBXRMA2018_MULT_1216881400010001_HMK_142243758A_JAMES_MITCHELL_002804060_2017', 'IBXRMA2018_MULT_1254954470010001_HMK_WA192164996_ANNE_MAGUIRE_002808893_2017', 'IBXRMA2018_MULT_1216775720010001_HMK_180547890A_JOAN_CIMORELLI_002803937_2017', 'IBXRMA2018_MULT_1163471480010001_HMK_200425334A_ROSEMARY_LYNCH_002804060_2017', 'IBXRMA2018_MULT_1216746630010001_HMK_139263638A_GEORGE_BALL_002812709_2017_20180504111932', 'IBXRMA2018_MULT_1216933360010001_HMK_218443068A_KATHLEEN_WILLIAMSON_002805464_2017', 'IBXRMA2018_MULT_1217927230010001_HMK_195362708A_IRENE_SCHOFIELD_002819158_2017', '002820699_A200264727_2016_001', 'IBXRMA2018_MULT_1218073580010001_HMK_203502103A_SEUNG_CHUNG_002805282_2017', 'IBXRMA2018_MULT_1216963260010001_HMK_159384473A_RICHARD_BROWN_002809547_2017', 'IBXRMA2018_MULT_1222818390010001_HMK_170563424A_MANI_ABRAHAM_002812614_2017', 'IBXRMA2018_MULT_1265749690010001_HMK_173404237A_PETER_MCGONIGLE_002808967_2017', 'IBXRMA2018_MULT_1217786270010001_HMK_249347941A_WILLIE_SAMUEL_002807103_2017', 'IBXRMA2018_MULT_1256071300010001_HMK_182427094C1_JOSEPH_GOLDEN_002805286_2017', 'ibxrma2018_mult_1180362940010001_hmk_166609399a_brian_diehl_002811506_2017', 'IBXRMA2018_MULT_1217073870010001_HMK_174321440A_FILOMENA_RUSSO_002820498_2017_20180802134446', 'IBXRMA2018_MULT_1216097840010001_HMK_122282643B6_THERESA_SMALLACOMBE_002805068_2017_20180502150942', 'IBXRMA2018_MULT_1217060940010001_HMK_166071884D_CARRIE_MCCLURE_002822847_2017', 'IBXRMA2018_MULT_1233727130010001_HMK_093586567A_OWEN_ROCK_002808118_2017', 'IBXRMA2018_MULT_1217101230010001_HMK_202344177A_CAROL_MAIDEN_002804172_2017', 'IBXRMA2018_MULT_1230735940010001_HMK_199288130A_FRANCES_EGGLESTON_002811535_2017', 'IBXRMA2018_MULT_1217463680010001_HMK_175360804A_NANCY_HENNESSEY_002818556_2017', 'IBXRMA2018_MULT_1217569530010001_HMK_166389216A_MICHAEL_BROWN_002804171_2017_20180827200151', 'IBXRMA2018_MULT_1202736640010001_HMK_163628828A_THERESA_MCDONALD-TRAORE_002812416_2017', 'IBXRMA2018_MULT_1217781870010001_HMK_204186383A_GEORGE_COULTON_002803909_2017', 'IBXRMA2018_MULT_1203888710010001_HMK_207401424A_JAMES_SKILTON_002813095_2017', 'IBXRMA2018_MULT_1216849670010001_HMK_177229533B_FRANCES_BARKOCY_002809097_2017', 'IBXRMA2018_MULT_1217020600010001_HMK_173283196A_LORETTA_DADURA_002819158_2017', 'IBXRMA2018_MULT_1217629160010001_HMK_175368546A_JOHN_WACHOWICZ_002804552_2017_20180614200155', 'IBXRMA2018_MULT_1217418460010001_HMK_177288779A_MARION_PRONIO_002806469_2017', 'IBXRMA2018_MULT_1209015680010001_HMK_201405498A_JOHN_STUNKARD_002805068_2017_20180502150940', 'IBXRMA2018_MULT_1216990640010001_HMK_159288173A_ANN_KACZMARCZYK_002820655_2017_20180712125858', 'IBXRMA2018_MULT_1224395100010001_HMK_182421503A_TOINETTIE_JAMES_002805287_2017', 'IBXRMA2018_MULT_1217639160010001_HMK_159262232A_JOANNA_STELLABOTTE_002807673_2017', 'IBXRMA2018_MULT_1217943800010001_HMK_586548372A_BACH_DAO_002804962_2017', 'IBXRMA2018_MULT_1216964030010001_HMK_199263939A_GERARD_MURRAY_002822472_2017', 'ibxrma2018_mult_1216892310010001_hmk_191346210a_james_ellinger_002822218_2017', 'IBXRMA2018_MULT_1255123790010001_HMK_186363905A_WILLIAM_RINIER_002806284_2017', 'IBXRMA2018_MULT_1218042180010001_HMK_204286120A_ELLAFAY_FEICK_002813665_2017', 'IBXRMA2018_MULT_1230758850010001_HMK_209304055A_EDITH_SNYDER_002811551_2017_20180501154023', 'IBXRMA2018_MULT_1216720890010001_HMK_202289637A_JAY_COFFIN_002806284_2017', 'IBXRMA2018_MULT_1217952110010001_HMK_209303621A_DIANA_VISCO_002810882_2017_20180510093217', 'IBXRMA2018_MULT_1262458660010002_HMK_580845333A_LAURA_ORTIZ_002817222_2017', 'IBXRMA2018_MULT_1218088270010001_HMK_199220529A_CLAIR_LONG_002806751_2017', 'IBXRMA2018_MULT_1218095520010001_HMK_210342508A_LINDA_WALKER_002820655_2017_20180815125211', 'IBXRMA2018_MULT_1216112070010001_HMK_180301203A_JESSIE_BOYKIN_002815034_2017', 'IBXRMA2018_MULT_1217031750010001_HMK_159366020A_ANTHONY_KLARMAN_002806469_2017', 'IBXRMA2018_MULT_1217194430010001_HMK_174327252A_ROSE_DOLAN_002804168_2017', 'IBXRMA2018_MULT_1255393430010001_HMK_038307350A_ALVA_JACKSON-CLEMONS_003304535_2017_20180718092533', 'IBXRMA2018_MULT_1218113090010001_HMK_183164144D_ELSIE_HASENMAYER_002805068_2017_20180502105702', 'IBXRMA2018_MULT_1223644410010001_HMK_208404402A_EDWARD_EVANS_002813095_2017', '003172442_173340654A_2016_001', 'IBXRMA2018_MULT_1217932560010001_HMK_432982342A_NYLA_BROWN_002804060_2017', 'IBXRMA2018_MULT_1217996600010001_HMK_MA103302197_JUDITH_PETERS_002803937_2017', 'IBXRMA2018_MULT_1217770360010001_HMK_192260281A_FLORENCE_KING_002885776_2017', 'IBXRMA2018_MULT_1217965150010001_HMK_195329894A_CAROL_ANTRIM_002804599_2017', 'IBXRMA2018_MULT_1216888560010001_HMK_196281029A_JANICE_BAUMAN_002803909_2017_pmh', 'IBXRMA2018_MULT_1218073570010001_HMK_208129247D_GLADYS_STEINSLOFER_002805003_2017', 'IBXRMA2018_MULT_1217109520010001_HMK_171263377A_CHARLES_DUSSELL_002805068_2017_20180501093540', 'IBXRMA2018_MULT_1217008700010001_HMK_204468571A_EUGENE_SCHMOLTZE_002807250_2017', 'IBXRMA2018_MULT_1217183770010001_HMK_176405273A_CATHERINE_DALEY_003401408_2017', 'IBXRMA2018_MULT_1205137810010001_HMK_159460823A_ELIZABETH_DIDANIELS_002804172_2017', 'IBXRMA2018_MULT_1240453920010001_HMK_158427771T_JANET_KEMPF_002812702_2017_20180509121548', 'IBXRMA2018_MULT_1217082290010001_HMK_201305549A_DOMENICO_CACIA_002804976_2017_20180904095043', 'ibxrma2018_mult_1217518010010001_hmk_170523020a_andrew_weinfeld_002804844_2017', 'IBXRMA2018_MULT_1217785860010001_HMK_207125905A_CONCETTA_SASSANI_002812413_2017', 'IBXRMA2018_MULT_1216868230010001_HMK_182363196A_LILIANNE_AGER_002813144_2017', 'IBXRMA2018_MULT_1231082840010001_HMK_143266218A_BARBARA_CASSEDY_002821702_2017', 'IBXRMA2018_MULT_1216931090010001_HMK_181367373A_MILES_WAGNER_002818075_2017_20180621200731', 'IBXRMA2018_MULT_1196339770010001_HMK_165409912A_MARIAN_SMOTHERS_002811535_2017', 'ibxrma2018_mult_1222680670010001_hmk_175368150a_ida_brearey_003045996_2017', '002884091_197300483A_2016_001', 'IBXRMA2018_MULT_1270097250010001_HMK_136340068A_DENNIS_DRAGON_002809776_2017', 'IBXRMA2018_MULT_1216783540010001_HMK_179223162A_EVELYN_WENGER-RAFFIER_002812702_2017_20180501154023', 'IBXRMA2018_MULT_1216891590010001_HMK_196285135A_JAMES_DOYLE_002812310_2017', 'IBXRMA2018_MULT_1231158200010001_HMK_177365007A_EMANUEL_JOHNSON_002809205_2017', 'IBXRMA2018_MULT_1216871480010001_HMK_210302628A_JOSEPH_PULKOWSKI_002822469_2017_20180607101902', 'IBXRMA2018_MULT_1219703330010001_HMK_167486176A_MONICA_CHARLES_002821340_2017', 'IBXRMA2018_MULT_1218018050010001_HMK_201349506A_GARY_ROBERTS_002809018_2017', 'IBXRMA2018_MULT_1217473720010001_HMK_177268988A_JAMES_FERGUSON_002818412_2017', 'IBXRMA2018_MULT_1198870770010001_HMK_060460916A_DANA_BARRON_002808118_2017', 'IBXRMA2018_MULT_1216839450010001_HMK_159325383A_MAUREEN_BAKER_002813095_2017', 'IBXRMA2018_MULT_1217486880010001_HMK_181307497A_SHIRL_LASSEN_002809845_2017', 'IBXRMA2018_MULT_1230619330010001_HMK_192225467A_JEANETTE_SHOAP_002821983_2017', 'IBXRMA2018_MULT_1234949250010001_HMK_211325993A_DONALD_HADRICK_002822469_2017_20180620161321', 'ibxrma2018_mult_1217568420010001_hmk_162269876a_loretta_held_002814612_2017', 'IBXRMA2018_MULT_1217139230010001_HMK_192380567A_JAMES_OMARA_002885776_2017', 'IBXRMA2018_MULT_1216761950010001_HMK_175628724A_JOHN_LAYE_002812614_2017', 'IBXRMA2018_MULT_1258209670010001_HMK_164428680A_PAMELA_RAGSDALE_002805158_2017', 'ibxrma2018_mult_1217819740010001_hmk_209264113a_vera_schorr_002809278_2017', 'IBXRMA2018_MULT_1217457730010001_HMK_097365672A_NANCY_POWELL_002813095_2017', 'IBXRMA2018_MULT_1216749420010001_HMK_041689336A_ARMINDA_MORGANHEIRA_002819158_2017', 'ibxrma2018_mult_1216711340010001_hmk_196285170a_anna_schofield_003148556_2017', 'IBXRMA2018_MULT_1217436520010001_HMK_173226769A_MARION_DIGENOVA_003748727_2017', 'ibxrma2018_mult_1218115710010001_hmk_211201949a_rita_fries_002822472_2017', 'ibxrma2018_mult_1216881760010001_hmk_184342504a_robert_harlow_002805285_2017', 'IBXRMA2018_MULT_1217597080010001_HMK_171346493A_JOHN_HASSON_002813097_2017', 'IBXRMA2018_MULT_1217169860010001_HMK_169349058D_ANNA_ROFRANO_002804172_2017', 'IBXRMA2018_MULT_1216743430010001_HMK_205146486A_MARY_GIANNONE_002807673_2017', 'IBXRMA2018_MULT_1217908330010002_HMK_202341573A_GUY_IARUSSI_002811224_2017_20180626092655', 'IBXRMA2018_MULT_1217779550010001_HMK_208264009A_WILLIAM_BANI_002804624_2017_20180530081418', 'IBXRMA2018_MULT_1217846270010001_HMK_202309802A_MARIE_HODGE_002810426_2017', 'IBXRMA2018_MULT_1217061030010001_HMK_204187856A_ANGELINE_CHICCO_002809205_2017', 'IBXRMA2018_MULT_1217935390010001_HMK_225680634A_LEWIS_EVANS_002815744_2017', 'IBXRMA2018_MULT_1222818690010001_HMK_170563424B_LATA_ABRAHAM_002812614_2017', 'IBXRMA2018_MULT_1218015570010001_HMK_200303386A_ESTELLE_ABOWITZ_002804905_2017', 'IBXRMA2018_MULT_1217922840010001_HMK_197360842A_ANNA_BEERS_002821619_2017', 'IBXRMA2018_MULT_1216781740010001_HMK_210604001A_ROLAND_ONAWOLA_002810897_2017', 'IBXRMA2018_MULT_1218366260010001_HMK_203148442A_CHARLES_GILLESPIE_002808404_2017', 'IBXRMA2018_MULT_1218081430010001_HMK_248584500A_EMILIE_WESTON_002811550_2017_20180702091621', 'IBXRMA2018_MULT_1230656780010001_HMK_177269614A_BARBARA_MILLAR_002807250_2017', 'IBXRMA2018_MULT_1216707590010001_HMK_202229991A_JRONALD_MARTIN_002809666_2017_20180927200238', 'ibxrma2018_mult_1216938620010001_hmk_181388542a_anita_lieberman_002805015_2017', 'IBXRMA2018_MULT_1213023180010001_HMK_180429744A_JOAN_TORPEY_002885736_2017', 'IBXRMA2018_MULT_1234516970010001_HMK_127425157T_KENRICK_CAMPBELL_002810890_2017_20180905091934', 'IBXRMA2018_MULT_1217851730010001_HMK_206142256D_MARY_DAILEY_002804506_2017_20180804200026', 'IBXRMA2018_MULT_1216102360010001_HMK_162307975A_JOHN_AMENTA_002820440_2017', 'IBXRMA2018_MULT_1216127330010001_HMK_209344401A_KEVIN_RANKIN_002816755_2017_pmh', 'IBXRMA2018_MULT_1216125320010001_HMK_205343041A_PATRICIA_SCHMIDT_002811217_2017', 'IBXRMA2018_MULT_1217021130010001_HMK_173340480A_DIANE_AITKEN_002807884_2017', 'IBXRMA2018_MULT_1216764260010001_HMK_196369316D_MARILYN_LOCKE_002812425_2017', 'IBXRMA2018_MULT_1218059240010001_HMK_207642970A_ASTERIOS_MOUSDRAKAS_002807883_2017', 'IBXRMA2018_MULT_1218101690010001_HMK_205380032A_JAMES_RHOADS_002811251_2017', 'IBXRMA2018_MULT_1216937550010001_HMK_200386985A_TYRONE_CARTER_002810752_2017', 'IBXRMA2018_MULT_1216769280010001_HMK_162308273A_DONALD_DEIBERT_002804645_2017', 'IBXRMA2018_MULT_1217977780010001_HMK_191249164A_SHIRLEY_KELLY_002804172_2017', 'IBXRMA2018_MULT_1206014800010001_HMK_207408269A_ELIZABETH_MEUSSNER_002811551_2017_20180524124939', 'IBXRMA2018_MULT_1188055630010001_HMK_168301467A_JAMES_HUGHES_002808118_2017', 'IBXRMA2018_MULT_1217973550010001_HMK_197324801A_ANTOINETTE_OKOORIAN_002805042_2017', 'IBXRMA2018_MULT_1225810940010001_HMK_168240098A_DARWIN_OVERHOLT_002803924_2017', 'IBXRMA2018_MULT_1217374120010001_HMK_172242219A_ELVIRA_BUTTERHOF_002822472_2017', 'IBXRMA2018_MULT_1217086570010001_HMK_166380260A_RAYMOND_FISHER_002811550_2017_20180917153633', 'IBXRMA2018_MULT_1230949210010002_HMK_163364051A_COOPER_RUSSELL_002807435_2017', 'IBXRMA2018_MULT_1216829670010001_HMK_200301199A_EVELYN_MCCORKLE_002805465_2017', 'ibxrma2018_mult_1222211330010001_hmk_210342283a_theresa_gussin_002822472_2017', 'IBXRMA2018_MULT_1272978780010001_HMK_166422400A_WILLIAM_KENYON_002804172_2017', 'IBXRMA2018_MULT_1217535780010001_HMK_172264554A_JOAN_CARANGO_003031212_2017', 'IBXRMA2018_MULT_1217952230010001_HMK_201300678A_CARMEN_PANTO_002807238_2017', 'IBXRMA2018_MULT_1217844060010001_HMK_209243890A_DOLORES_FRASSETTA_003387287_2017', 'IBXRMA2018_MULT_1216998960010001_HMK_188484660A_YVONNE_DOYLE_002805204_2017', 'IBXRMA2018_MULT_1202268210010001_HMK_173546042A_ROBERT_EVANS_002989218_2017', 'ibxrma2018_mult_1217783170010001_hmk_196287333a_joseph_laverty_002806260_2017', 'ibxrma2018_mult_1230074050010001_hmk_166425590a_linda_white_002805152_2017', 'IBXRMA2018_MULT_1217995950010001_HMK_194368855A_EDNA_ECKMAN_002813096_2017', 'IBXRMA2018_MULT_1275159400010001_HMK_611387699A_JOHNPEPPAR_GONZALES_002816479_2017', 'IBXRMA2018_MULT_1218365030010001_HMK_196282035A_DANIEL_MARCOCCI_002821294_2017', 'IBXRMA2018_MULT_1217074350010001_HMK_209240910A_CHARLES_WEISS_003531447_2017', 'IBXRMA2018_MULT_1217076820010001_HMK_159240660A_JUNE_GAMBLE_002813097_2017', 'IBXRMA2018_MULT_1254713440010001_HMK_212768266A_SANG_LEE_002805068_2017_20180502111106', 'IBXRMA2018_MULT_1218100700010001_HMK_210302740D_TERESA_PRIOR_002821598_2017', 'IBXRMA2018_MULT_1216929430010001_HMK_180408269A_YOLAN_BORDNER_002812424_2017', 'IBXRMA2018_MULT_1218035040010001_HMK_316144513D_MARGUERITE_HAYES_002810621_2017', 'IBXRMA2018_MULT_1216979360010001_HMK_159282248A_FRANK_HARRAR_002813627_2017', 'IBXRMA2018_MULT_1217096450010001_HMK_191287053D_WINIFRED_GEIST_002807102_2017', 'ibxrma2018_mult_1217119330010001_hmk_203185939d_dorothy_foy_002805152_2017', 'IBXRMA2018_MULT_1163721950010001_HMK_207267231A_JOSEPH_MULLEN_002807614_2017_20180607145801', 'IBXRMA2018_MULT_1214303220010001_HMK_528462359A_HOWARD_WHITE_003173098_2017_20180816144229', 'IBXRMA2018_MULT_1217832690010001_HMK_201303462A_SHERYL_BANKS_002805178_2017', 'IBXRMA2018_MULT_1217428790010001_HMK_175305798A_CHARLES_WHITFIELD_002804506_2017_20180807200247', 'IBXRMA2018_MULT_1216870860010001_HMK_163327201A_WILLIAM_ONEILL_002813347_2017', 'IBXRMA2018_MULT_1216980500010001_HMK_173260215A_CARMELLA_SARRO_002805442_2017', 'IBXRMA2018_MULT_1217570360010001_HMK_175385974A_JOSEPH_WENGER_003387287_2017', 'IBXRMA2018_MULT_1163250880010001_HMK_176368772A_GEORGE_MEAGHER_002804901_2017', 'IBXRMA2018_MULT_1216835860010001_HMK_194382150A_JANETTE_GLYNN_002819158_2017', 'IBXRMA2018_MULT_1270643280010001_HMK_288325980A_DALE_KESSLER_003173098_2017_20180712130004', 'IBXRMA2018_MULT_1216776430010001_HMK_160389431A_BRUCE_BRINKMAN_002804901_2017', 'IBXRMA2018_MULT_1217371430010001_HMK_149305713A_MARY_BEYER_002804905_2017', 'ibxrma2018_mult_1213846730010001_hmk_257844870a_frank_cannady_002822472_2017', 'IBXRMA2018_MULT_1216703160010001_HMK_193402846A_ROSS_CLARK_002810990_2017', 'IBXRMA2018_MULT_1211384640010002_HMK_184342948A_HARRY_SCHWOYER_002810129_2017_20180813200111', 'IBXRMA2018_MULT_1216811880010001_HMK_195385985A_HELEN_SIMMONS-VANLUE_002805805_2017', 'IBXRMA2018_MULT_1217521160010001_HMK_166423497A_RODGER_CHILDS_002811507_2017', 'IBXRMA2018_MULT_1217506740010001_HMK_166627778A_JOHN_HENRY_002817119_2017', 'IBXRMA2018_MULT_1204228510010001_HMK_162445730T_DIANE_LUCISANO_002807102_2017', 'IBXRMA2018_MULT_1217733930010001_HMK_103968812A_XIAO_JIANG_002811460_2017', 'IBXRMA2018_MULT_1231440240010001_HMK_170327892A_SALVATORE_GUARINO_002805068_2017_20180502105716', 'IBXRMA2018_MULT_1218106550010001_HMK_208302742A_ROBERT_WALENTIS_002804060_2017', 'ibxrma2018_mult_1217369370010001_hmk_169305804a_ruby_cheeseborough_002814612_2017', 'IBXRMA2018_MULT_1267851770010001_HMK_145402918A_LYDIA_BEHAR_002821340_2017', 'IBXRMA2018_MULT_1274463880010002_HMK_169488313A_HENRY_BRIMMAGE_002810945_2017', 'IBXRMA2018_MULT_1217117900010001_HMK_161368468A_NANCY_VICARIO_002821614_2017', 'IBXRMA2018_MULT_1253280160010001_HMK_194302862A_RONALD_MCGONIGLE_002817119_2017', 'IBXRMA2018_MULT_1217366740010001_HMK_165369044A_LOWELL_THEIL_002823143_2017_20180727200050', 'ibxrma2018_mult_1217908300010001_hmk_202320135a_vincent_feisel_002803945_2017', 'ibxrma2018_mult_1231440890010001_hmk_188263428a_lois_kuscin_002804844_2017', 'IBXRMA2018_MULT_1217959800010001_HMK_189347323A_AEDWIN_MAUGER_002819305_2017', 'IBXRMA2018_MULT_1270491800010001_HMK_182427302A_PATRICK_QUINN_002804135_2017', 'IBXRMA2018_MULT_1163401540010001_HMK_169320192A_ROLAND_MOORE_002812704_2017_20180517153450', 'IBXRMA2018_MULT_1219253970010001_HMK_159329762A_DOLORES_ECKLEY_002817931_2017', 'ibxrma2018_mult_1201855900010002_hmk_101347772d_marge_yeuroukis_002819123_2017', 'IBXRMA2018_MULT_1201569860010001_HMK_169401340A_JAMES_DAY_002807250_2017', 'IBXRMA2018_MULT_1217581210010001_HMK_172260986A_FREEDERICK_YOUELL_002805350_2017', 'IBXRMA2018_MULT_1216819650010001_HMK_176423747D2_BARBARA_DRAKE_002812685_2017', 'IBXRMA2018_MULT_1218096740010001_HMK_264589527D6_SUSAN_SWARTZ_002820655_2017_20180810140402', 'IBXRMA2018_MULT_1218569760010001_HMK_209269274A_NAOMI_LAREMORE_002805204_2017', 'IBXRMA2018_MULT_1238543740010001_HMK_159565439A_LINDSAY_RYAN_002807434_2017', 'IBXRMA2018_MULT_1216872340010001_HMK_191303239A_BARBARA_MCCARDLE_003396944_2017', 'IBXRMA2018_MULT_1219624360010001_HMK_188467393A_CINDY_MILLER_002885973_2017', 'IBXRMA2018_MULT_1217438790010001_HMK_159031372A_RICHARD_WEBB_002821652_2017_pmh', 'IBXRMA2018_MULT_1217388060010001_HMK_163360363A_BARBARA_OLIVER_002808403_2017', 'IBXRMA2018_MULT_1217070440010001_HMK_101265317A_JOHN_BOHUSH_002808695_2017_20180622092735', 'IBXRMA2018_MULT_1218047940010001_HMK_204386736A_SUSAN_YANKOSKY_002805068_2017_20180502151149', 'IBXRMA2018_MULT_1217179100010001_HMK_163205230A_TRUMAN_KRESGE_002806751_2017', '002821614_188464814A_2016_001', 'IBXRMA2018_MULT_1216744180010001_HMK_497548225A_MARGARET_WELLS_002815132_2017', 'IBXRMA2018_MULT_1216701780010001_HMK_175380891A_HARVEY_BEALE_002812418_2017', 'IBXRMA2018_MULT_1218066120010001_HMK_204324156B_MARY_SITI_002805068_2017_20180502151152', 'ibxrma2018_mult_1217117830010001_hmk_164269943a_bridget_devinney_002813508_2017', 'IBXRMA2018_MULT_1196501200010001_HMK_189400796A_EDWARD_KRAVITZ_002885973_2017', 'IBXRMA2018_MULT_1216768030010001_HMK_167306174A_SHARON_BUCHHOLZ_002809547_2017', 'ibxrma2018_mult_1217186640010001_hmk_182426061a_mary_owens-frye_002808329_2017', 'IBXRMA2018_MULT_1217952850010001_HMK_209261165A_BARRY_SCHWARTZ_002804905_2017', 'IBXRMA2018_MULT_1216701640010001_HMK_192229874D4_MARYJANE_ROBINSON_003384532_2017_20180904200133', 'IBXRMA2018_MULT_1218049510010001_HMK_MA239729910_THOMAS_KOHN_002804976_2017_20180517122041', 'IBXRMA2018_MULT_1218082810010001_HMK_190265324D_THEA_BAUS_002816500_2017', 'IBXRMA2018_MULT_1216867690010001_HMK_188300923A_WENDY_ROSENBERGER_002811509_2017', 'IBXRMA2018_MULT_1230442090010001_HMK_135365187A_HERMAN_SCHMIT_002804060_2017', 'IBXRMA2018_MULT_1218016280010001_HMK_210304636A_MARYJEAN_VOGT_002804595_2017_20180710200128', 'IBXRMA2018_MULT_1252475300010001_HMK_194384749A_DOROTHY_DRISSEL_002804599_2017', 'IBXRMA2018_MULT_1232376920010001_HMK_175587875A_VENUS_CRAWFORD-MACK_002810945_2017', 'IBXRMA2018_MULT_1217059110010001_HMK_183306881A_RICHARD_MOLCHANY_002805068_2017_20180502150347', 'ibxrma2018_mult_1231614720010001_hmk_231286865d_lillie_garlick_002808254_2017', 'IBXRMA2018_MULT_1217638850010001_HMK_163286096A_JOAN_DOUGHERTY_002808695_2017_20180716111820', 'IBXRMA2018_MULT_1217545470010001_HMK_170366706A_FRANCIS_KELLY_002804595_2017_20180710200128', 'ibxrma2018_mult_1218010200010001_hmk_192242109a_robert_mcmichael_002808333_2017', 'IBXRMA2018_MULT_1218108820010001_HMK_186246664A_GERALD_HAMMEL_002813097_2017', 'IBXRMA2018_MULT_1216860350010001_HMK_179229376A_JUNE_WENTZ_002817931_2017', 'IBXRMA2018_MULT_1218019210010001_HMK_211326774A_NANCY_MAYBERRY_002813364_2017_20180626200628', 'IBXRMA2018_MULT_1230980830010001_HMK_190364752A_PHYLLIS_OLSZEWSKI_002804172_2017', 'IBXRMA2018_MULT_1217128170010001_HMK_209268657A_GLORIA_ALEXANDROWICZ_002812623_2017', 'ibxrma2018_mult_1214001540010001_hmk_345547662a_domingo_dayrit_002805015_2017', 'IBXRMA2018_MULT_1217861630010001_HMK_578769415A_MANUELA_WHALEN_002812702_2017_20180518103248', 'IBXRMA2018_MULT_1217959900010001_HMK_202247340A_GLORIA_BERTONIS_002821340_2017', 'IBXRMA2018_MULT_1217427580010001_HMK_173307533A_CATHIE_WHITLOCK_002807812_2017', 'IBXRMA2018_MULT_1216984880010001_HMK_168467737A_JANIS_GIORDANO_002816697_2017', 'IBXRMA2018_MULT_1217051300010001_HMK_582424112A_ESTHER_WHEELER_002821340_2017', 'IBXRMA2018_MULT_1216114560010001_HMK_185320818A_NICHOLAS_DIARENZO_002812352_2017_20180713092902', 'IBXRMA2018_MULT_1217107290010001_HMK_191268680A_MARY_MANGAN_002810466_2017_20180529105259', 'ibxrma2018_mult_1217547300010001_hmk_172265016a_joseph_yanek_002806260_2017', 'IBXRMA2018_MULT_1218007070010001_HMK_194228891D_ELIZABETH_SYLVESTER_003002552_2017_20180517153917', 'IBXRMA2018_MULT_1217095840010001_HMK_205286104A_CATHERINE_HUNT_002821455_2017', 'IBXRMA2018_MULT_1218053280010001_HMK_194308714A_LARRY_GERHART_002818742_2017', 'IBXRMA2018_MULT_1219576670010001_HMK_141461511T_JAYNE_JACOBUS_002814428_2017', 'IBXRMA2018_MULT_1217506250010001_HMK_174329372A_CYNTHIA_ZENGOLEWICZ_002804524_2017', 'fu_002813808_121673078001_2017_96_227_221_65_20180617165812', 'IBXRMA2018_MULT_1217089790010001_HMK_191348272A_WILLIAM_WALSH_002864784_2017_pmh', 'IBXRMA2018_MULT_1217517680010001_HMK_167328364A_LINDA_RICCHINI_002815461_2017', 'IBXRMA2018_MULT_1217375690010001_HMK_176322425A_JOHN_MCANENEY_002805068_2017_20180502112644', 'IBXRMA2018_MULT_1217549990010001_HMK_181305438A_WALTER_KELLER_002821652_2017', 'IBXRMA2018_MULT_1217812570010001_HMK_183308192A_CHARLES_KAUFFMAN_002811122_2017', 'IBXRMA2018_MULT_1217010110010001_HMK_162409643A_SANDRA_STEUBER_002812623_2017', 'ibxrma2018_mult_1216781690010001_hmk_193528664a_efthimios_karagiannis_002808332_2017', 'IBXRMA2018_MULT_1253638800010001_HMK_582987680A_RAFAEL_MARTE_002810129_2017_20180813200111', 'IBXRMA2018_MULT_1218019040010001_HMK_187321983A_DUANE_MARSTELLER_002811306_2017_20180601150649', 'IBXRMA2018_MULT_1217856880010001_HMK_195265359B_NANCY_FRITCHMAN_002810109_2017_20180817200501', 'IBXRMA2018_MULT_1216853300010001_HMK_182268895A_HELEN_RYAN_003018942_2017', 'IBXRMA2018_MULT_1198628800010001_HMK_561882364T_STEPHEN_ROSS_002812710_2017_20180516105331', 'IBXRMA2018_MULT_1216796350010001_HMK_173404449A_EILEEN_CANDELA_002819450_2017', 'IBXRMA2018_MULT_1217967470010001_HMK_188307058A_SUSAN_SCOTT_002816848_2017', 'ibxrma2018_mult_1231121210010001_hmk_051327925a_marianne_pensak_002805285_2017', 'IBXRMA2018_MULT_1217116650010001_HMK_196282590A_STELLA_PARRY_002812705_2017_20180517153549', 'IBXRMA2018_MULT_1216782130010001_HMK_179345703A_GAIL_KUPCHINSKAS_002804557_2017', 'IBXRMA2018_MULT_1216929710010001_HMK_206361902A_LINDA_MILLER_002810332_2017', 'IBXRMA2018_MULT_1218356370010001_HMK_138346229A_ELIZABETH_SLOAN_002807673_2017', 'IBXRMA2018_MULT_1217622010010001_HMK_180343299D_MARIE_HARRIS_003021773_2017', 'IBXRMA2018_MULT_1217470440010001_HMK_165105949D_DOROTHY_NOBLE_003020116_2017_20180718200255', 'ibxrma2018_mult_1216900040010001_hmk_167200041a_victoria_ringer_002806260_2017', 'IBXRMA2018_MULT_1216911600010001_HMK_177322608A_JOHN_HAVRILLA_002805178_2017', 'IBXRMA2018_MULT_1259835620010001_HMK_175383971B_KATHLEEN_KEHAN_002814428_2017', 'IBXRMA2018_MULT_1218090220010001_HMK_207285625A_JOSEPH_SHUMAN_002806751_2017', 'IBXRMA2018_MULT_1231268920010001_HMK_187281793A_JACOBUS_CORNISH_002807250_2017', 'IBXRMA2018_MULT_1217083710010001_HMK_183262452A_HELEN_FIORE_002812413_2017', 'IBXRMA2018_MULT_1216892840010001_HMK_159260220A_GEORGE_KING_002804213_2017', 'IBXRMA2018_MULT_1264505550010002_HMK_175480859A_LINDA_LEE_002805068_2017_20180502111108', 'IBXRMA2018_MULT_1217006010010001_HMK_175467584A_LINDA_CARTLIDGE_002812624_2017', 'IBXRMA2018_MULT_1218060080010001_HMK_318405653A_JOAN_PETERSON_002818014_2017', 'IBXRMA2018_MULT_1223357060010001_HMK_194401170A_JEFFREY_REINHART_002806751_2017', 'IBXRMA2018_MULT_1217817310010001_HMK_201301344A_JOHN_DEVOS_003013010_2017_20180713092839', 'IBXRMA2018_MULT_1212946040010001_HMK_176428872A_DONNA_BADMAN_002811511_2017', 'IBXRMA2018_MULT_1217828220010001_HMK_207406157A_JOAN_CONDELLO_002813219_2017', 'IBXRMA2018_MULT_1216868750010001_HMK_196549414A_GIULIANA_STROZZIERI_002805198_2017', 'IBXRMA2018_MULT_1218062020010001_HMK_207267471A_ZELDA_ORNSTEIN_003186821_2017', 'IBXRMA2018_MULT_1217368020010001_HMK_166349439A_GEORGE_AYRTON_002807250_2017', 'IBXRMA2018_MULT_1217077920010001_HMK_181221855A_DORA_PACITTI_002811305_2017', 'IBXRMA2018_MULT_1216694140010001_HMK_172264796A_CAROLINE_CAREY_003020116_2017_20180618200952', 'IBXRMA2018_MULT_1218076110010001_HMK_284365939A_MAUREEN_ROBERTS_002814428_2017', 'IBXRMA2018_MULT_1217636570010001_HMK_173281430A_ELLEN_MCDONOUGH_002817931_2017', 'ibxrma2018_mult_1217940830010001_hmk_211167539d_edith_pugh_002808254_2017', 'IBXRMA2018_MULT_1216755220010001_HMK_179505436A_NELSON_BAPTISTA_002805068_2017_20180502102918', 'IBXRMA2018_MULT_1216861570010001_HMK_206288292A_ELIZABETH_SMITH_002805068_2017_20180502151003', 'IBXRMA2018_MULT_1216801450010001_HMK_175187084A_EDWARD_FLORES_002816737_2017', 'IBXRMA2018_MULT_1232707420010001_HMK_195368365A_JAMES_EISENHART_002806751_2017', 'IBXRMA2018_MULT_1216735510010001_HMK_211327457A_JAMES_LYNCH_002813097_2017', 'IBXRMA2018_MULT_1218064280010001_HMK_203269566B_MARLENE_GELBER_002807883_2017', 'IBXRMA2018_MULT_1217776140010001_HMK_197285943A_RODNEY_ALDERFER_002822054_2017', 'IBXRMA2018_MULT_1217953310010001_HMK_193324687A_JOSEPH_FIDURA_002885736_2017', 'IBXRMA2018_MULT_1231357330010001_HMK_186243260D_JOAN_GRUBB_002813097_2017', 'IBXRMA2018_MULT_1217512850010001_HMK_180163348D_LILLIE_LEWIS_002810945_2017', 'IBXRMA2018_MULT_1217450690010001_HMK_167343044A_DONALD_HAY_002811306_2017_20180606160637', 'IBXRMA2018_MULT_1217636860010001_HMK_172443515A_ANITA_SHELLY_002813364_2017_20180709200147', 'IBXRMA2018_MULT_1217117810010001_HMK_208265076A_HENRY_DIPIETRO_002805068_2017_20180502105529', 'IBXRMA2018_MULT_1176644570010001_HMK_058629218A_EMMA_YELINA_002807883_2017', 'IBXRMA2018_MULT_1218059410010001_HMK_A198125829_CATHERINE_MONK_002804060_2017', 'IBXRMA2018_MULT_1216882830010001_HMK_159349510T_WILLIAM_EBERHARD_002808856_2017_20180804200026', 'IBXRMA2018_MULT_1216793700010001_HMK_169322698A_RICHARD_JARRETT_002813236_2017', 'ibxrma2018_mult_1217474810010001_hmk_103301825a_mary_cronauer_002818824_2017', 'IBXRMA2018_MULT_1217378250010001_HMK_179344945A_GLADYS_JAMES_002818075_2017_20180606160637', 'IBXRMA2018_MULT_1217620810010001_HMK_182349857A_JOAN_LOGUE_002806559_2017_20180718093153', 'IBXRMA2018_MULT_1216981500010001_HMK_209145571A_FRANCES_MCKINNEY_002811563_2017_20180524124903', 'IBXRMA2018_MULT_1230959350010001_HMK_236608149A_ROBERT_LEGG_002814428_2017', 'IBXRMA2018_MULT_1216791760010001_HMK_161366357A_JAMES_REED_002821909_2017', 'IBXRMA2018_MULT_1216892860010001_HMK_166283481A_MARTIN_BAKER_002811551_2017_20180503173055', 'ibxrma2018_mult_1217796540010001_hmk_572284577d_jane_shafer_002813755_2017', 'IBXRMA2018_MULT_1217620290010001_HMK_182248820A_RITA_COLONNA_002804973_2017', 'IBXRMA2018_MULT_1216115210010001_HMK_186225671A_JOHN_BILYK_002809547_2017', 'IBXRMA2018_MULT_1216760820010001_HMK_199262482A_NORMAN_BASEMAN_003566856_2017', 'IBXRMA2018_MULT_1218023930010001_HMK_206304046A_LARRY_CORRELL_002811720_2017', 'IBXRMA2018_MULT_1217359470010001_HMK_161366508A_MARY_ADAMS_002803964_2017', 'IBXRMA2018_MULT_1216777170010001_HMK_175268501B_SOLITA_TAFUR_002818412_2017', 'IBXRMA2018_MULT_1217975880010001_HMK_201340563A_ARLENE_BIONDO_002805198_2017', 'IBXRMA2018_MULT_1256140960010001_HMK_196204555D_JEANNE_SMITH_002813470_2017', 'IBXRMA2018_MULT_1216755020010001_HMK_184342603A_JAY_HAYES_002811507_2017', 'IBXRMA2018_MULT_1217540020010001_HMK_169203808D_CAROLYN_DUDLIK_002808972_2017', 'IBXRMA2018_MULT_1218059100010001_HMK_185324168A_MARY_BUSH_002808118_2017', 'IBXRMA2018_MULT_1213814160010001_HMK_247688095A_RUTH_JOHNSON_002810362_2017', 'IBXRMA2018_MULT_1217001550010001_HMK_166349212T_ROGER_HARTMAN_002813058_2017_20180608200341', 'IBXRMA2018_MULT_1217858960010001_HMK_207267260A_DANIEL_BRESLIN_002804976_2017_20180517122536', 'IBXRMA2018_MULT_1218025200010001_HMK_196286525A_PETER_KREMER_002810890_2017_20180517122057', 'IBXRMA2018_MULT_1217619350010001_HMK_173309743A_RICHARD_HARWATH_002811550_2017_20180917153641', 'ibxrma2018_mult_1217632000010001_hmk_148603817a_peter_clayton_002803945_2017', 'IBXRMA2018_MULT_1216129350010001_HMK_227623669A_LINDA_LEWIS_002812614_2017', 'IBXRMA2018_MULT_1218098210010001_HMK_187329313A_ROSALIND_HENDERSON_002808298_2017_20180502083328', 'IBXRMA2018_MULT_1164588350010001_HMK_176369507A_JAMES_MOORE_002818075_2017_20180608200341', 'IBXRMA2018_MULT_1200231850010001_HMK_188420824A_MICHAEL_DALEANDRO_002812426_2017', 'IBXRMA2018_MULT_1216759650010001_HMK_180426637A_KENNETH_BURNS_002805198_2017', 'IBXRMA2018_MULT_1218097680010001_HMK_198308167A_SUSAN_HANSON_002804172_2017', 'IBXRMA2018_MULT_1253919400010001_HMK_171442430A_THOMAS_VISCONTO_002885776_2017', 'IBXRMA2018_MULT_1217132280010001_HMK_195289151A_JANE_MILLER_002808476_2017', 'IBXRMA2018_MULT_1218071440010001_HMK_197362547A_KATHLEEN_MYERS_002811721_2017', 'IBXRMA2018_MULT_1205239710010001_HMK_165409302A_JEFFREY_DAVIS_002812416_2017', 'IBXRMA2018_MULT_1216105770010001_HMK_168325026A_JOHN_KRONBERGER_002804725_2017', 'IBXRMA2018_MULT_1256064760010001_HMK_194424892T_DAVID_PORTER_002813100_2017', 'IBXRMA2018_MULT_1216843100010001_HMK_169468986A_DAVID_DEMBICKI_002811506_2017', 'IBXRMA2018_MULT_1230336520010001_HMK_195443132A_LINDA_CEPHAS_002812614_2017', 'IBXRMA2018_MULT_1216838000010001_HMK_172380586A_OLIVER_BARNES_002805287_2017', 'IBXRMA2018_MULT_1216868330010001_HMK_179320063A_HENRY_UMSTETTER_002807389_2017_20180709200147', 'IBXRMA2018_MULT_1219676220010001_HMK_183462180A_MATTHEW_TROXELL_002806751_2017', 'IBXRMA2018_MULT_1216696410010001_HMK_122325049A_MARVIN_KRAUT_002817931_2017', 'IBXRMA2018_MULT_1217944820010001_HMK_202240297A_DOROTHY_WISLER_003173100_2017', 'IBXRMA2018_MULT_1230845480010001_HMK_201340375A_DENNIS_CARR_002819158_2017', 'IBXRMA2018_MULT_1224803060010001_HMK_174401575A_EDWARD_HARDY_002806362_2017', 'ibxrma2018_mult_1216806770010001_hmk_160323898a_elizabeth_nader_002807434_2017', 'IBXRMA2018_MULT_1216785810010001_HMK_065245103A_PEARL_SCHWARTZ_002822847_2017', 'ibxrma2018_mult_1217850680010001_hmk_186262569a_joanne_mahaffey_002806260_2017', 'IBXRMA2018_MULT_1196633720010001_HMK_209401483A_JOSEPH_JOHNSON_002805018_2017_20180827090902', 'IBXRMA2018_MULT_1218114710010001_HMK_275467111A_JOHN_NAPIER_002805805_2017', 'ibxrma2018_mult_1216856670010001_hmk_200387421a_alain_schott_002804844_2017', 'IBXRMA2018_MULT_1210370410010001_HMK_340426708A_RONALD_KLEIN_002819823_2017', 'IBXRMA2018_MULT_1256456800010001_HMK_201368162A_RAYMOND_SEELS_002806551_2017_20180807160408', 'IBXRMA2018_MULT_1217149220010001_HMK_208127404A_GRACE_BROWN_003018269_2017', 'IBXRMA2018_MULT_1217636730010001_HMK_168465431A_RICHARD_MILES_002804166_2017', 'IBXRMA2018_MULT_1217983690010001_HMK_211307680A_FREIDA_SQUIRREL_002806552_2017_20180809142048', 'IBXRMA2018_MULT_1217130950010001_HMK_201365757A_MARIA_PERO_002804595_2017_20180710200128', 'IBXRMA2018_MULT_1216947760010001_HMK_185287325A_PATRICIA_BUCKWALTER_002804624_2017_20180607095848', 'IBXRMA2018_MULT_1231324730010001_HMK_190348511A_GEORGE_WOODARD_002805287_2017', 'IBXRMA2018_MULT_1217766650010001_HMK_208468246A_MARGARET_HALL_002805453_2017_20180824114859', 'ibxrma2018_mult_1216855080010001_hmk_207129785d_rita_sanelli_003343687_2017', 'IBXRMA2018_MULT_1216900870010001_HMK_194461288B_CATERINA_COLLOI_002813144_2017', 'IBXRMA2018_MULT_1256064370010001_HMK_186428392A_EARL_RITTER_002822901_2017', 'IBXRMA2018_MULT_1217087630010001_HMK_224569412A_SHIELDS_CARTER_002809124_2017_20180702090531', 'IBXRMA2018_MULT_1217773600010001_HMK_200263340D_MARY_BLAZOSKY_002808404_2017', 'IBXRMA2018_MULT_1218085060010001_HMK_250528441A_EVERLENA_KINLAW_002810362_2017', 'IBXRMA2018_MULT_1218095390010001_HMK_205340363A_JUDITH_POWERS_002812626_2017', 'IBXRMA2018_MULT_1183813850010001_HMK_185408383A_BETSY_HART_002812986_2017', 'IBXRMA2018_MULT_1272978980010001_HMK_193307752A_JOYCE_ROBERTSON_002812614_2017', 'IBXRMA2018_MULT_1217839280010001_HMK_A160160681_JAMES_PARVIN_002805068_2017_20180502150446', 'IBXRMA2018_MULT_1217121420010001_HMK_306463583A_JOHN_ROBLING_002804905_2017', 'IBXRMA2018_MULT_1218098510010001_HMK_186284775D_ANNA_WREN_002804166_2017_pmh', 'ibxrma2018_mult_1218064770010001_hmk_284428973a_sharron_rex_002805947_2017', 'IBXRMA2018_MULT_1217839550010001_HMK_211165173A_JOHN_MCCONNELL_002823034_2017_20180522090708', 'IBXRMA2018_MULT_1202509060010001_HMK_166380855A_ANTHONY_COPPOLA_002820498_2017_20180618155835', 'IBXRMA2018_MULT_1236145600010001_HMK_163329658A_REGINALD_BISHOP_002811512_2017', 'IBXRMA2018_MULT_1217994410010001_HMK_196404442C2_WILLIAM_SMITH_003018942_2017', 'IBXRMA2018_MULT_1217489420010001_HMK_167346829A_LAWRENCE_SCHAFFER_002818412_2017', 'IBXRMA2018_MULT_1217775620010001_HMK_249465809A_QUINCY_ROBINSON_003166443_2017_20180612095817', 'ibxrma2018_mult_1217534820010001_hmk_159288091a_lawrence_boyle_002804684_2017', 'IBXRMA2018_MULT_1223418540010001_HMK_198403289A_RICHARD_GREAVES_002812614_2017', 'IBXRMA2018_MULT_1231100370010001_HMK_180362233A_MILTON_MEDINA_002805275_2017', 'IBXRMA2018_MULT_1252313430010001_HMK_136424097A_DAWN_HEATH_002807862_2017', 'IBXRMA2018_MULT_1216121920010001_HMK_199347049A_MARISA_PONZEK_002819158_2017', 'IBXRMA2018_MULT_1217581410010001_HMK_034010897D_ROWENA_SCANNELL_002822847_2017', '002821183_121407188A_2016_001', 'IBXRMA2018_MULT_1216950840010001_HMK_176268545A_MARY_MIRAGLIA_002811551_2017_20180529105850', 'IBXRMA2018_MULT_1217081690010001_HMK_184303539A_JOHN_REHFUSS_002822472_2017_pmh', 'IBXRMA2018_MULT_1217592600010001_HMK_042282988A_EMILY_JOHNSON_002812427_2017', 'IBXRMA2018_MULT_1222662110010001_HMK_205389479A_JUDITH_NEWHOUSE_002813100_2017', 'IBXRMA2018_MULT_1202740430010001_HMK_188423343A_JAMES_MANDOLLA_002821513_2017_20180724200047', 'IBXRMA2018_MULT_1217795490010001_HMK_204180597B_EVELYN_OLIVER_002821340_2017', 'IBXRMA2018_MULT_1217556320010001_HMK_147227966D_ROSALEEN_DURBOROW_002810129_2017_20180810200133', 'IBXRMA2018_MULT_1200062700010001_HMK_188423362A_ARLENE_GRIFFIN_002807673_2017', 'IBXRMA2018_MULT_1216756890010001_HMK_198344890A_MARGARET_FINKBINER_002885736_2017', 'IBXRMA2018_MULT_1203904840010001_HMK_162447406T_MICHAEL_PARISI_002813541_2017', 'IBXRMA2018_MULT_1205171940010001_HMK_161365045A_ROSEMARIE_RITTER_002807434_2017', 'IBXRMA2018_MULT_1230669020010001_HMK_202187013A_JEANETTE_PATRO_002812614_2017', 'IBXRMA2018_MULT_1197914820010001_HMK_236742892T_JAMES_BORSTEIN_002806283_2017', 'IBXRMA2018_MULT_1216781230010001_HMK_190345485A_GERALD_BEYER_002805165_2017', 'ibxrma2018_mult_1217859400010001_hmk_197322585a_blanche_burton-lyles_002819123_2017', 'IBXRMA2018_MULT_1205535050010002_HMK_181421580T_MARYELLEN_COLMAN_002813095_2017', 'IBXRMA2018_MULT_1217027910010001_HMK_205385195A_MARTHA_JOHNSON_002805018_2017_20180827090903', 'IBXRMA2018_MULT_1216845200010001_HMK_201128452A_EDWARD_PASTORE_002809288_2017', 'IBXRMA2018_MULT_1216986230010001_HMK_186265738A_MARYANN_HEPLER_002819368_2017', 'IBXRMA2018_MULT_1217420910010001_HMK_171223045A_FRANK_COLUCCI_002808075_2017', 'IBXRMA2018_MULT_1216870790010001_HMK_180329961A_ETHEL_BAUERSMITH_002804738_2017', 'IBXRMA2018_MULT_1216916360010001_HMK_185324641A_EDWARD_MASON_002808558_2017', 'IBXRMA2018_MULT_1198130180010001_HMK_205740446A_ELAINE_JARRETT_002806552_2017_20180710112207', 'IBXRMA2018_MULT_1211261730010001_HMK_188420065A_SHIRLEY_BASS_002811721_2017', 'IBXRMA2018_MULT_1163646480010001_HMK_190402003A_DONNA_TRIGLIA_002807884_2017', 'IBXRMA2018_MULT_1216868690010001_HMK_205306607A_JOSEPH_WAKEFOOSE_002813095_2017', '002885776_188425543A_2016_001', 'IBXRMA2018_MULT_1217133500010001_HMK_186320847A_DOROTHY_FILIPPINI_002811557_2017_20180612095320', 'IBXRMA2018_MULT_1216977780010001_HMK_200608584A_NANCY_RAYMER_002808025_2017', 'IBXRMA2018_MULT_1218032610010001_HMK_208264444A_GORDON_KULP_002811511_2017', 'ibxrma2018_mult_1217977070010001_hmk_197364114b_geraldine_mackellar_002884091_2017', 'IBXRMA2018_MULT_1266477030010001_HMK_211280762A_ELWOOD_ROBINSON_002812425_2017', 'IBXRMA2018_MULT_1217936640010001_HMK_207341413A_MARYANN_PAONE_002804738_2017', 'IBXRMA2018_MULT_1217041750010001_HMK_173342537A_EDMOND_LOSCO_002885736_2017', 'ibxrma2018_mult_1178163770010001_hmk_172440825a_ronald_prescott_002808236_2017', 'IBXRMA2018_MULT_1217630950010001_HMK_166344285A_EDITH_BAKER_002804524_2017', 'ibxrma2018_mult_1216115270010001_hmk_186300431a_charles_berry_002805152_2017', 'IBXRMA2018_MULT_1217640960010001_HMK_182266369A_FLOYD_BRADLEY_002809547_2017', 'IBXRMA2018_MULT_1217159970010001_HMK_175384652A_ROBERT_SIPES_002803937_2017', 'IBXRMA2018_MULT_1217479390010001_HMK_181240926A_CHARLES_KRATZ_002811506_2017', 'IBXRMA2018_MULT_1217631660010001_HMK_159308561A_THOMAS_CARMODY_002811305_2017', 'IBXRMA2018_MULT_1217538570010001_HMK_175309757A_KATHLEEN_RUCKER_002808967_2017', 'IBXRMA2018_MULT_1216930230010001_HMK_029323493A_JAMES_PERRY_002805068_2017_20180502150336', 'ibxrma2018_mult_1218366250010001_hmk_203146066a_helen_tertel_003045996_2017', 'IBXRMA2018_MULT_1218100750010001_HMK_203148190A_HARRY_SHABOIAN_002811551_2017_20180618090126', 'IBXRMA2018_MULT_1216800510010001_HMK_225268124D_ETHEL_DAVIS_002812614_2017', 'IBXRMA2018_MULT_1217826500010001_HMK_188349221B_DOLORES_CRUDUP_002805205_2017', 'IBXRMA2018_MULT_1232068380010001_HMK_196404329A_RUDOLPH_BEST_002806556_2017_20180607104304', 'ibxrma2018_mult_1217855530010001_hmk_576241975a_marietta_wong_002804684_2017', 'IBXRMA2018_MULT_1217092690010001_HMK_081364056A_BARBARA_KERTIS_002810550_2017', 'IBXRMA2018_MULT_1233957600010001_HMK_263305215A_MADELINE_KRAEGEL_002805068_2017_20180502111100', 'ibxrma2018_mult_1270901660010001_hmk_172308707a_earl_seeker_002806260_2017', 'IBXRMA2018_MULT_1213489010010001_HMK_205369639A_DENNIS_HISSEM_003172442_2017', 'IBXRMA2018_MULT_1217483930010001_HMK_168325710A_DOROTHY_DONNELLY_002803937_2017', 'IBXRMA2018_MULT_1217496890010001_HMK_175280404A_ROBERT_MCCAFFERTY_002805068_2017_20180502110951', 'IBXRMA2018_MULT_1216114640010001_HMK_185344797A_CATHERINE_FLOUNDERS_002808320_2017_20180702090254', 'IBXRMA2018_MULT_1217371480010001_HMK_149269955A_CAROLYN_SANVILLE_002805068_2017_20180501093637', 'IBXRMA2018_MULT_1217129950010001_HMK_169288254A_DONALD_SENIOR_002811509_2017', 'IBXRMA2018_MULT_1217073790010001_HMK_187280503A_KATHLEEN_LIGHTKEP_002812059_2017', 'IBXRMA2018_MULT_1217426550010001_HMK_141266538A_BETTY_GOTTSCHALK_002807250_2017', 'IBXRMA2018_MULT_1218097930010001_HMK_186242135A_MILDRED_MORTON_003012219_2017_20180628201246', 'IBXRMA2018_MULT_1219612110010001_HMK_165461285A_JOSEPH_HEFFRON_002811550_2017_20180622093114', 'IBXRMA2018_MULT_1224654960010001_HMK_199425895A_ELLEN_SACKS_002812413_2017', 'IBXRMA2018_MULT_1217984570010001_HMK_208441594A_CAROLINE_WEST_002804139_2017', 'IBXRMA2018_MULT_1231274420010001_HMK_187283589A_RUTH_ESCOURT_003147994_2017_20180611070522', 'IBXRMA2018_MULT_1217099580010001_HMK_199286015B_MARCELLE_HILKEVICH_002884091_2017', 'IBXRMA2018_MULT_1217853810010001_HMK_211204232A_JAMES_SMITH_002981233_2017_20180517153812', 'IBXRMA2018_MULT_1217082810010001_HMK_160322458A_BARBARA_CLEMMONS_002805250_2017_20180612200207', 'IBXRMA2018_MULT_1218011880010001_HMK_478383843B6_ROBERTA_DUNN_002818412_2017', 'IBXRMA2018_MULT_1217550610010001_HMK_173341948A_AGNES_STAKELBECK_003061466_2017_20180622094134', 'IBXRMA2018_MULT_1216117740010001_HMK_203349735D_PIETRENA_CIPOLLA_002806199_2017', 'IBXRMA2018_MULT_1217016720010001_HMK_174640038A_JAMES_SASINOWSKI_002885736_2017', 'IBXRMA2018_MULT_1216705130010001_HMK_169304908A_ROBERT_GIFFEAR_002811253_2017', 'IBXRMA2018_MULT_1217185140010001_HMK_149422295A_BARBARA_BRANCHE_002803945_2017', 'IBXRMA2018_MULT_1217802730010001_HMK_203324791A_ELIZABETH_KYLE_002820630_2017_20180713120342', 'IBXRMA2018_MULT_1207389120010001_HMK_199423956A_THOMAS_BOLAND_002814069_2017', 'ibxrma2018_mult_1216709740010001_hmk_165209935d_edna_cochran_002822472_2017', 'IBXRMA2018_MULT_1217108740010001_HMK_202340531B1_COSTA_RODRIGUEZ_002808118_2017', 'IBXRMA2018_MULT_1217352700010001_HMK_179223901D_LUCY_WARREN_002812614_2017', 'IBXRMA2018_MULT_1217772050010001_HMK_520305209A_KENT_DOUGLASS_003186821_2017', 'IBXRMA2018_MULT_1216722560010001_HMK_203187713D_GEORGETTE_HOFFMASTER_002822417_2017', 'IBXRMA2018_MULT_1223977050010001_HMK_069281823A_MARY_EGAN_003003534_2017', 'ibxrma2018_mult_1230256090010001_hmk_155222491a_ivan_fearen_002803945_2017', 'IBXRMA2018_MULT_1216943200010001_HMK_208405381A_SHARON_COOPERSTEIN_002804524_2017', 'IBXRMA2018_MULT_1234991000010001_HMK_208508629A_VIOLET_COLE_002809472_2017', 'IBXRMA2018_MULT_1217783240010001_HMK_205344583A_GEORGE_GLATT_002811494_2017', 'IBXRMA2018_MULT_1230839190010001_HMK_206140554A_JOSEPH_VALLEY_002811886_2017', 'IBXRMA2018_MULT_1236984650010001_HMK_162340743A_ALETHIA_KNOX_002818014_2017', 'IBXRMA2018_MULT_1217610180010001_HMK_166095524D_JEAN_FLOHR_002812059_2017_pmh', 'ibxrma2018_mult_1218192580010001_hmk_163426521a_john_obrien_002814044_2017', 'IBXRMA2018_MULT_1217382560010001_HMK_167348606A_ROBERTA_METZ_002813740_2017', 'IBXRMA2018_MULT_1217075000010001_HMK_160321538A_MARIA_RUSNAK_002819158_2017', 'IBXRMA2018_MULT_1217040800010001_HMK_191309193A_GERALDINE_BARLOW_002804506_2017_20180730200252', 'IBXRMA2018_MULT_1216973220010001_HMK_169269381A_JOSEPH_BROWNE_002818014_2017', 'IBXRMA2018_MULT_1217007770010001_HMK_192444984A_FRANCESCO_ADAMO_002808301_2017_20180507090028', '003189221_209266101A_2016_001', 'ibxrma2018_mult_1216754600010001_hmk_168202878d_joan_monahan_002813508_2017', 'IBXRMA2018_MULT_1222815500010001_HMK_184402093A_GEORGE_WILSON_002804148_2017', 'IBXRMA2018_MULT_1217366120010001_HMK_090322026A_LEONA_DANGELO_002809074_2017', 'IBXRMA2018_MULT_1232376210010001_HMK_170365752A_PATRICIA_BIRNEY_002811886_2017', 'IBXRMA2018_MULT_1217160170010001_HMK_A196249483_FRANCIS_GILLARD_002808118_2017', 'ibxrma2018_mult_1216895560010001_hmk_172245138d_helen_zacco_002804844_2017', 'IBXRMA2018_MULT_1216096950010001_HMK_059362129A_JUDITH_GISTER_002818006_2017', 'IBXRMA2018_MULT_1216868410010001_HMK_MA159287608_MARIE_MOLCHEN_002811558_2017_20180529105922', 'IBXRMA2018_MULT_1210196740010001_HMK_173343353A_JUDITH_SHELDON_002813095_2017', 'IBXRMA2018_MULT_1217085440010001_HMK_159325651A_ALTA_WENGER_002809074_2017', 'IBXRMA2018_MULT_1217542740010001_HMK_175309662A_BARBARA_LASHER_002805464_2017', 'IBXRMA2018_MULT_1217021950010001_HMK_187401759T_SCOTT_BARDSLEY_002805105_2017_20180511091645', 'IBXRMA2018_MULT_1216724600010001_HMK_204428484A_JOHN_FINK_002805068_2017_20180502105446', 'IBXRMA2018_MULT_1217862230010001_HMK_228425181D_INDIA_WAKE_003069945_2017', 'IBXRMA2018_MULT_1218017580010001_HMK_201304749A_RAYMOND_MCCAFFREY_002810878_2017_20180601095929', 'IBXRMA2018_MULT_1216753810010001_HMK_205265278A_WESLEY_DIETZ_003102386_2017', 'IBXRMA2018_MULT_1218361710010001_HMK_177386083A_LESLIE_CONNERY_002803937_2017', 'IBXRMA2018_MULT_1216944560010001_HMK_160340655A_TIMOTHY_HEALY_003172442_2017', 'IBXRMA2018_MULT_1217409390010001_HMK_159469101A_JOSEPH_ERNANDES_002885736_2017', 'IBXRMA2018_MULT_1216957590010001_HMK_136306883A_GEORGE_HINTON_002819064_2017', 'IBXRMA2018_MULT_1203249430010001_HMK_166340476A_HARRY_HARPER_003172442_2017', 'IBXRMA2018_MULT_1216934310010001_HMK_166285239A_MARILYN_DICENZO_002814924_2017', 'IBXRMA2018_MULT_1217570390010001_HMK_165146761A_PAULINE_STEINMEYER_002812427_2017', 'IBXRMA2018_MULT_1217357030010001_HMK_182248638A_WILLIAM_LIEBEL_002817931_2017', 'IBXRMA2018_MULT_1270097620010001_HMK_176607809A_KEVIN_MCMICHAEL_002805453_2017_20180814161957', 'IBXRMA2018_MULT_1217492700010001_HMK_171300300A_JEANETTE_ANDERSON_002806552_2017_20180605124400', 'IBXRMA2018_MULT_1222687440010001_HMK_162421858T_JEFFREY_SHAAK_002806751_2017', 'IBXRMA2018_MULT_1217923280010001_HMK_197328804A_MARC_LEVIN_002819823_2017', 'IBXRMA2018_MULT_1217352440010001_HMK_169269882A_WILLIAM_WREN_003387287_2017', 'IBXRMA2018_MULT_1218099410010001_HMK_207263859A_LAWRENCE_PIASECKI_002812709_2017_20180516105211', 'IBXRMA2018_MULT_1230754340010001_HMK_161427581A_ROBERT_FAZZINA_002804828_2017', 'IBXRMA2018_MULT_1217040760010001_HMK_167542045A_DONNA_PAWLING_002811506_2017', 'IBXRMA2018_MULT_1217086340010001_HMK_235481479B_DOROTHY_FRIDLEY_002813097_2017', 'IBXRMA2018_MULT_1164531420010001_HMK_142584445A_HENRY_LAWRENCE_003401408_2017', 'IBXRMA2018_MULT_1217370540010001_HMK_161364072A_PATRICIA_ALLEN_002806552_2017_20180605124353', 'IBXRMA2018_MULT_1217499930010001_HMK_110286078D2_CAROL_ZWIEBEL_002812411_2017', 'IBXRMA2018_MULT_1218102770010001_HMK_201221365A_BLANCHE_PACE_002815461_2017', 'IBXRMA2018_MULT_1217517930010001_HMK_176409203D_ELLA_LEVE_002823208_2017_20180829200213', 'IBXRMA2018_MULT_1218046940010001_HMK_196426703A_MARIA_SANTOS_003611766_2017_20180618200952', 'IBXRMA2018_MULT_1229714600010001_HMK_197327036A_LOUIS_VARILLO_002805198_2017', 'IBXRMA2018_MULT_1216926710010001_HMK_226549571D_LEONA_GAY_002808050_2017', 'ibxrma2018_mult_1216827940010001_hmk_178525320a_deborah_jones_002808329_2017', 'ibxrma2018_mult_1216715240010001_hmk_192367667a_karen_brill_002805393_2017', 'IBXRMA2018_MULT_1231490300010001_HMK_164524452A_CHUEN_LAU_002811460_2017', 'IBXRMA2018_MULT_1259305800010001_HMK_177441449A_LYNNE_PAUL_002805068_2017_20180502150544', 'IBXRMA2018_MULT_1208183610010001_HMK_195400673A_THERESA_WILKS_002807250_2017', 'IBXRMA2018_MULT_1200455720010001_HMK_171601214T_HEUNG_CHI_002812337_2017', 'IBXRMA2018_MULT_1196367160010001_HMK_169408753A_JOHN_HYKEL_002810884_2017_20180507090329', 'ibxrma2018_mult_1196243770010001_hmk_081422561t_jonathan_walters_002808333_2017', 'IBXRMA2018_MULT_1262132780010001_HMK_155465370A_LINDA_CUTLER_002814428_2017', 'ibxrma2018_mult_1230656810010001_hmk_179401208a_charlotte_davis_002822472_2017', 'IBXRMA2018_MULT_1217372680010001_HMK_169302319A_TIA_MOFFITT_002822847_2017', 'IBXRMA2018_MULT_1262132900010001_HMK_206425612A_EDWARD_JOHNSON_003670798_2017_20180711200104', 'IBXRMA2018_MULT_1217133640010001_HMK_161287064A_RITA_FROEDER_002820655_2017_20180628111450', 'IBXRMA2018_MULT_1261970610010001_HMK_175383971A_JOSEPH_KEHAN_002814428_2017', 'IBXRMA2018_MULT_1217000170010001_HMK_186188918D_BERTHA_CASSIDY_002804424_2017', 'ibxrma2018_mult_1219676770010001_hmk_045806197a_akm_haque_002806260_2017', 'IBXRMA2018_MULT_1230220930010001_HMK_226206362A_ANNIS_WOODLEY_003637607_2017', 'IBXRMA2018_MULT_1216861930010001_HMK_187283725A_WILLIAM_DUNFEE_002811068_2017', 'IBXRMA2018_MULT_1265760050010001_HMK_199764044A_VLADIMIR_SNEZHKO_002820750_2017', 'IBXRMA2018_MULT_1217852510010001_HMK_199345065A_CARL_WEIRICK_002817119_2017', 'IBXRMA2018_MULT_1218042180010001_HMK_204286120A_ELLAFAY_FEICK_002803841_2017', 'IBXRMA2018_MULT_1217543280010001_HMK_167304268A_FRED_FINKEY_002809472_2017', 'IBXRMA2018_MULT_1218078850010001_HMK_211285885B6_MILDRED_EDMONDS_002804524_2017', 'IBXRMA2018_MULT_1217546960010001_HMK_166224449A_RAYMOND_KRAFT_002885191_2017', 'IBXRMA2018_MULT_1217854670010001_HMK_204221490A_JAMES_JACKSON_002811721_2017', 'IBXRMA2018_MULT_1218038650010001_HMK_205142704A_MARGARETTA_KELLY_002815461_2017', 'IBXRMA2018_MULT_1218029080010001_HMK_207147949A_ANTHONY_FALCONE_002808403_2017', 'IBXRMA2018_MULT_1217550010010001_HMK_167305416A_CHARLES_BLOOM_002808404_2017', 'IBXRMA2018_MULT_1217496830010001_HMK_139406624A_CHARLES_WISNIEWSKI_002807085_2017', 'IBXRMA2018_MULT_1216112800010001_HMK_181300518A_DOLORES_TARASCHI_002813095_2017', 'ibxrma2018_mult_1216844720010001_hmk_139243564a_peter_ott_002813755_2017', 'IBXRMA2018_MULT_1217612770010001_HMK_178329967A_JAMES_BOYLE_002819158_2017', 'IBXRMA2018_MULT_1216880860010001_HMK_210320806A_WILLIAM_RAHILL_002806284_2017', 'IBXRMA2018_MULT_1164599470010001_HMK_192202173A_EDWARD_MOORE_002804645_2017', 'IBXRMA2018_MULT_1212870810010001_HMK_172425624A_JOYCE_ADAMS_002816013_2017_20180831200407', 'IBXRMA2018_MULT_1203617390010001_HMK_176423602A_ALBERTA_MYERS_002810884_2017_20180607145819', 'IBXRMA2018_MULT_1217115260010001_HMK_180149435A_MARY_WIKTORCHIK_002811753_2017', 'ibxrma2018_mult_1217621640010001_hmk_177307433a_jean_panco_002822472_2017', 'IBXRMA2018_MULT_1216979000010001_HMK_200506935A_PAULA_MCKENLEY_002807614_2017_20180603215723', 'IBXRMA2018_MULT_1218072890010001_HMK_204243638D_ROSEANNA_AMICONE_002820655_2017_20180605124357', 'IBXRMA2018_MULT_1253887630010001_HMK_188425010A_JOHN_MCMASTER_002822652_2017_20180904200133', 'IBXRMA2018_MULT_1217604970010001_HMK_171344564B_CAROL_MIKESELL_002811509_2017', 'IBXRMA2018_MULT_1216714980010001_HMK_174368975T_JOANNE_FIELD_003128105_2017_20180627105053', 'IBXRMA2018_MULT_1217482710010001_HMK_182201764C2_THERESA_DEGOTHSEIR_003018942_2017', 'IBXRMA2018_MULT_1216848060010001_HMK_187183944D_ANNE_PATTERSON_002805068_2017_20180501093625', 'IBXRMA2018_MULT_1218097070010001_HMK_193301743A_CATHERINE_SWARTZ_002812449_2017', 'IBXRMA2018_MULT_1217537780010001_HMK_160248058A_RITA_VENANGO_002821598_2017', 'IBXRMA2018_MULT_1204976560010001_HMK_126345718B_SHARON_THORYK_002814900_2017', 'IBXRMA2018_MULT_1216128680010001_HMK_213309904A_VIRGINIA_ALLABAND_002810889_2017_20180507090043', 'IBXRMA2018_MULT_1253309880010001_HMK_187349315A_CLARENCE_RISSMILLER_002804599_2017', 'IBXRMA2018_MULT_1217784810010001_HMK_211388372A_JOAN_NICKERSON_002811721_2017', 'IBXRMA2018_MULT_1231770160010002_HMK_422421841D_BARBARA_PETTWAY_002806544_2017_20180501154023', 'IBXRMA2018_MULT_1217126100010001_HMK_192382935A_GARY_STAFFIERI_002812616_2017', 'IBXRMA2018_MULT_1216881360010001_HMK_165284217A_DOLORES_MAERSCH_002806751_2017', 'IBXRMA2018_MULT_1217519120010001_HMK_079186393A_EDWIN_OSTROW_002805068_2017_20180502145144', '002820699_163227879A_2016_001', 'IBXRMA2018_MULT_1216871360010001_HMK_155306831B_EMILY_ALLISON_002807337_2017', 'IBXRMA2018_MULT_1230618910010001_HMK_163363570A_ANNA_MAXYMIUK_002823034_2017_20180521082017', 'IBXRMA2018_MULT_1230871770010001_HMK_166423079A_BRUCE_TERWELP_003069945_2017', 'IBXRMA2018_MULT_1216755970010001_HMK_209241045A_JOSEPHINE_DELUCA_002805003_2017', 'ibxrma2018_mult_1224062950010001_hmk_548682862a_richard_strauss_002865093_2017', 'IBXRMA2018_MULT_1187384410010001_HMK_574363521A_FONG_WANG_002812414_2017', 'IBXRMA2018_MULT_1217438150010001_HMK_178364207A_JUDITH_MCCREARY_003178536_2017_20180718200255', 'IBXRMA2018_MULT_1216114360010001_HMK_184501352A_CATHERINE_HANSON_002806751_2017', 'IBXRMA2018_MULT_1216771160010001_HMK_211468799A_VERNICE_JONES_002807435_2017', 'IBXRMA2018_MULT_1217135190010001_HMK_183227883A_JOSEPH_DEPASQUALE_002822472_2017', 'ibxrma2018_mult_1217010810010001_hmk_203347006a_mary_argenbright_003045996_2017', 'IBXRMA2018_MULT_1216775780010001_HMK_207145465D_VIOLA_CARROZZA_002815461_2017', 'IBXRMA2018_MULT_1218097690010001_HMK_188343764A_GARY_ROEMHILD_002823034_2017_20180612095822', 'IBXRMA2018_MULT_1274572810010001_HMK_175367077A_THOMAS_KIVLIN_002885736_2017', 'IBXRMA2018_MULT_1271180260010001_HMK_105289871A_GERALD_FITZGERALD_002804624_2017_20180702090238', 'IBXRMA2018_MULT_1218056250010001_HMK_183543282B_KI_CHO_002805805_2017', 'ibxrma2018_mult_1216748750010001_hmk_197249850a_george_haegele_002804684_2017', 'IBXRMA2018_MULT_1274464830010002_HMK_600721373A_SARAH_SHIN_002812337_2017', 'IBXRMA2018_MULT_1231943910010001_HMK_198289808A_JOANNE_KREWSON_002822417_2017', 'IBXRMA2018_MULT_1216757460010001_HMK_183343031A_GERHARD_WURSTER_002813367_2017', 'ibxrma2018_mult_1217793450010001_hmk_209244913b_mary_dipietro_002814612_2017', 'IBXRMA2018_MULT_1231781050010001_HMK_190364324A_BARBARA_CARROLL_002804172_2017', 'IBXRMA2018_MULT_1218013310010001_HMK_206165959A_MARION_MOSER_002804599_2017', 'IBXRMA2018_MULT_1217971150010001_HMK_189542871A_LEONA_HARRELL_002810886_2017_20180501103712', 'IBXRMA2018_MULT_1206336900010001_HMK_190382618B_JEAN_CARTER_002808118_2017', 'IBXRMA2018_MULT_1217432750010001_HMK_165482380A_ZDZISLAW_POLBRAT_002819158_2017', 'ibxrma2018_mult_1216857230010001_hmk_196284097a_barbara_kearney_002811377_2017', 'IBXRMA2018_MULT_1254995970010001_HMK_207144849B_EDITH_MUNGER_002812550_2017', 'IBXRMA2018_MULT_1200046940010001_HMK_159540972A_THEODORE_KELLY_002811700_2017', 'IBXRMA2018_MULT_1222817100010001_HMK_183589344A_KAREN_ZIMMERMAN_002818075_2017_20180621200731', 'IBXRMA2018_MULT_1217817860010001_HMK_211228853A_JENNIE_ANGELINA_002809262_2017_20180525085530', 'IBXRMA2018_MULT_1216875390010001_HMK_188281215A_BERNARD_STUSKI_002813089_2017', 'IBXRMA2018_MULT_1198868620010001_HMK_172429108B_PATRICIA_GOTTLIEB_002812415_2017', 'IBXRMA2018_MULT_1216956080010001_HMK_205284521A_THOMAS_BROWN_002807614_2017_20180521082803', 'IBXRMA2018_MULT_1223136780010001_HMK_207426618A_ELIZABETH_WEIDNER_002821619_2017', 'IBXRMA2018_MULT_1217355050010001_HMK_166262865A_JOSEPH_GUNN_003035697_2017_20180606160637', '003290490_196265513A_2016_001', 'IBXRMA2018_MULT_1216988750010001_HMK_197090373A_MARIE_GROVER_002805538_2017', 'IBXRMA2018_MULT_1217625890010001_HMK_161465400A_PAOLO_ADORANTE_002806559_2017_20180605124346', 'IBXRMA2018_MULT_1217140030010001_HMK_166360529D_THERESA_ORSINI_002811563_2017_20180603222135', 'IBXRMA2018_MULT_1217642380010001_HMK_164402744A_THERESA_THOMSON_002813934_2017', 'IBXRMA2018_MULT_1252954250010001_HMK_204360282B_LUCREZIA_MASTROMARCO_002885736_2017', 'IBXRMA2018_MULT_1217941990010001_HMK_206167131A_ANDREW_ANDREYKO_002814900_2017', 'IBXRMA2018_MULT_1266363620010001_HMK_210583331T_IN_YIM_002812337_2017', 'IBXRMA2018_MULT_1216988440010001_HMK_182243251B_OLIVE_YOST_002804901_2017', 'IBXRMA2018_MULT_1217975740010001_HMK_206369522A_MARY_DARLINGTON_002818412_2017', 'IBXRMA2018_MULT_1217406030010001_HMK_161363931A_JERUSHA_WILLIAMS_002806552_2017_20180816144257', 'IBXRMA2018_MULT_1218027810010001_HMK_211308280A_JOHN_GALLAGHER_002815749_2017', 'IBXRMA2018_MULT_1217524810010001_HMK_160308456A_JOLINE_WINGARD_002812413_2017', 'IBXRMA2018_MULT_1218051480010001_HMK_354409894A_JAMES_EMRICH_002810887_2017_20180912091910', 'IBXRMA2018_MULT_1231121770010001_HMK_172443637A_ANTHONY_HENDERSON_002807103_2017', 'IBXRMA2018_MULT_1217414260010001_HMK_167646145A_JEAN_DAVIS_002805319_2017', 'IBXRMA2018_MULT_1217078340010001_HMK_159280138A_ALLEN_FRANKLIN_002818412_2017', 'IBXRMA2018_MULT_1217624830010001_HMK_080367858A_ANNE_CONRAD_002812393_2017', 'IBXRMA2018_MULT_1218114480010001_HMK_202240738A_ROBERT_KRAUSS_002811511_2017', 'IBXRMA2018_MULT_1217936500010001_HMK_207340664A_GERALD_ESHELMAN_002804594_2017', 'IBXRMA2018_MULT_1264718650010002_HMK_105444382A_JAMES_WOZNIAK_002818014_2017', 'IBXRMA2018_MULT_1218010180010001_HMK_208264126A_GARY_FEULNER_002813089_2017', 'IBXRMA2018_MULT_1218014300010001_HMK_207249272A_ANNA_ZUGAY_002989218_2017', 'IBXRMA2018_MULT_1217853250010001_HMK_199528935A_THERESA_AFUM_003534429_2017_20180501104007', 'IBXRMA2018_MULT_1218080410010001_HMK_362308728A_FRED_RICE_002821983_2017', 'IBXRMA2018_MULT_1217551620010001_HMK_041345499A_CYNTHIA_LEADER_002819607_2017_pmh', 'IBXRMA2018_MULT_1230965160010001_HMK_203300914A_FRANCIS_SCHNEIDER_002807883_2017', 'IBXRMA2018_MULT_1216872690010001_HMK_184344304A_CATHERINE_SULLENS_002813097_2017', 'IBXRMA2018_MULT_1217427550010001_HMK_170327059A_MELVYN_DAVIS_002816896_2017_20180917200129', 'IBXRMA2018_MULT_1216901890010001_HMK_MA723184457_CAROLINE_DANGLO_002818939_2017', 'IBXRMA2018_MULT_1217468480010001_HMK_175246900A_WILLIAM_HELLER_002818075_2017_20180606160637', 'ibxrma2018_mult_1217638980010001_hmk_168200045a_victor_defelice_002821455_2017', 'IBXRMA2018_MULT_1217374240010001_HMK_163325205A_PATRICIA_COLE_002885736_2017', 'IBXRMA2018_MULT_1212763630010002_HMK_166408045A_TIMOTHY_DOOLEY_002885776_2017', 'IBXRMA2018_MULT_1217929120010001_HMK_197323096A_BRIGID_CARPITELLA_002814428_2017', 'IBXRMA2018_MULT_1263301440010001_HMK_160685271A_TERESA_SEKOWSKI_002813095_2017', 'IBXRMA2018_MULT_1253750310010002_HMK_195383057A_JOAN_HALL_002814428_2017', 'IBXRMA2018_MULT_1216116300010001_HMK_188344486A_RICHARD_BOGLE_002805068_2017_20180502102913', 'IBXRMA2018_MULT_1252846080010001_HMK_208264586A_JOSEPH_LAURO_002818075_2017_20180608200341', 'IBXRMA2018_MULT_1164902590010001_HMK_176368930A_ARTHUR_MARTIN_002814900_2017', 'IBXRMA2018_MULT_1217495070010001_HMK_168441402A_RANDOLPH_SIMMONS_002808497_2017', 'IBXRMA2018_MULT_1216716550010001_HMK_163349372A_GEORGE_FOREAKER_002812425_2017', 'ibxrma2018_mult_1217043720010001_hmk_188403738a_robert_haynes_002811509_2017', 'ibxrma2018_mult_1217366540010001_hmk_170229795a_john_rowan_002806260_2017', 'IBXRMA2018_MULT_1217567660010001_HMK_167327047A_ROBERTA_ROSENBERG_002812295_2017', 'ibxrma2018_mult_1216993530010001_hmk_210321034d_gisela_wittemann_002809278_2017', 'IBXRMA2018_MULT_1217548860010001_HMK_181588723A_SUNG_SONG_002805282_2017', 'IBXRMA2018_MULT_1253466290010001_HMK_169340035A_THERESA_MILLER_002821619_2017', 'IBXRMA2018_MULT_1217392240010001_HMK_178384465A_DOLORES_JONES_002806551_2017_20180711120744', 'IBXRMA2018_MULT_1216702590010001_HMK_201308652A_MARY_BUGGY_002807980_2017', 'IBXRMA2018_MULT_1217082350010001_HMK_208281240A_VERNON_FROST_002812108_2017_20180703093255', 'IBXRMA2018_MULT_1235398920010001_HMK_188427392A_LINDA_ANTROBUS_002822847_2017', 'ibxrma2018_mult_1217128980010001_hmk_207285084a_abram_rittenhouse_002806260_2017', 'ibxrma2018_mult_1217466160010001_hmk_123288481d_nidia_graulau_002808331_2017', 'IBXRMA2018_MULT_1226619510010001_HMK_181420905A_ARLENE_CHAPPELLE_002821175_2017', 'IBXRMA2018_MULT_1218042300010001_HMK_208265071A_NANCY_WEAVER_002812449_2017', 'IBXRMA2018_MULT_1230143700010001_HMK_176345640A_HENRY_PERKINS_002812427_2017', 'IBXRMA2018_MULT_1217372650010001_HMK_159286817A_ALBERT_AUGUSTINE_003069945_2017', 'IBXRMA2018_MULT_1217415930010001_HMK_163329187A_PATRICIA_SKARBEK_002813095_2017', 'ibxrma2018_mult_1212379900010001_hmk_075367816a_camille_demarta_002816774_2017', 'IBXRMA2018_MULT_1217993020010001_HMK_205342971A_DEANNA_DELAHUNTY_002804740_2017', 'IBXRMA2018_MULT_1217808220010001_HMK_198122319A_CATHERINE_PROSPERO_002811558_2017_20180607101852', 'IBXRMA2018_MULT_1216869400010001_HMK_144348628A_JOHN_RUTLEDGE_002823240_2017', 'IBXRMA2018_MULT_1216792930010001_HMK_182404133A_PATRICK_MCNULTY_002807673_2017', 'IBXRMA2018_MULT_1216954730010001_HMK_176346260A_KIZZIE_WILLIAMS_002804907_2017', 'IBXRMA2018_MULT_1217398450010001_HMK_174262575A_DOLORES_ADAMS_002815754_2017', 'IBXRMA2018_MULT_1270832010010001_HMK_185360764A_GLORIA_JOHNSON_002810109_2017_20180817200501', 'ibxrma2018_mult_1217846590010001_hmk_202288485a_john_perry_002805393_2017', 'IBXRMA2018_MULT_1263574820010001_HMK_172623233A_JAMEER_RASHEED_002804243_2017', 'IBXRMA2018_MULT_1236722620010001_HMK_176402007A_KATHY_INVERSO_002812710_2017_20180509121512', 'IBXRMA2018_MULT_1253466940010001_HMK_571328388A_MICHAEL_ERDMAN_002812550_2017', 'IBXRMA2018_MULT_1217183520010001_HMK_172262212A_CLAIRE_DECENZO_002885776_2017', 'IBXRMA2018_MULT_1217035430010001_HMK_170367215A_THOMAS_GLEAVE_003643542_2017', 'IBXRMA2018_MULT_1218051460010001_HMK_199365363A_JOAN_SPARANGO_002811260_2017', 'ibxrma2018_mult_1217795680010001_hmk_196283613a_lola_eddy_002815378_2017', 'IBXRMA2018_MULT_1256071170010001_HMK_156329692C1_MICHAEL_HANKINS_002821218_2017', 'IBXRMA2018_MULT_1217613750010001_HMK_180365723A_DANA_PARR_003173098_2017_20180727140907', 'IBXRMA2018_MULT_1217630860010001_HMK_166347743A_ELFRIEDE_FRANZ_002806564_2017_20180628111435', 'IBXRMA2018_MULT_1229535820010002_HMK_207401088A_CHERYL_DINOFIA_002820630_2017_20180621114851', 'IBXRMA2018_MULT_1217383300010001_HMK_162365017A_BERNADETTE_COLE_002817222_2017', 'IBXRMA2018_MULT_1217951880010001_HMK_199281165D1_FRANK_ZACHOR_002812415_2017', 'IBXRMA2018_MULT_1185426550010001_HMK_159543303A_JOSEPH_DIEM_002808403_2017', 'IBXRMA2018_MULT_1231491370010001_HMK_201363429A_ROSEMARY_CAFFREY_002819823_2017', 'IBXRMA2018_MULT_1217971980010001_HMK_217501359A_JAMES_HOFFMASTER_002821294_2017', 'IBXRMA2018_MULT_1217370450010001_HMK_156406713A_ALMA_ALLEN_002812415_2017', 'IBXRMA2018_MULT_1217635710010001_HMK_146267141A_JOHN_HEMP_003013205_2017_20180622200602', 'IBXRMA2018_MULT_1216746290010001_HMK_203185363A_ALBERTA_MURRAY_002819158_2017', 'IBXRMA2018_MULT_1216694470010001_HMK_156227266A_THOMAS_BOENI_003089249_2017_20180516083624', 'IBXRMA2018_MULT_1274740580010001_HMK_197324987A_CAROL_LYONS_002805018_2017_20180802135326', 'IBXRMA2018_MULT_1218079500010001_HMK_192169361A_LOUIS_BERRA_002805068_2017_20180502103129', 'ibxrma2018_mult_1254109460010001_hmk_145288385a_dale_scerati_002813367_2017', 'IBXRMA2018_MULT_1217637790010001_HMK_173282616B_JOAN_BROPHY_002807071_2017', 'IBXRMA2018_MULT_1216898160010001_HMK_196247788A_HELEN_FARNON_002806552_2017_20180626093634', 'IBXRMA2018_MULT_1217496530010001_HMK_166364152A_FRED_MATTSON_002804051_2017', '002821983_515207030A_2016_001', 'IBXRMA2018_MULT_1217448230010001_HMK_178306169A_NANCY_KAUFFMAN_002807614_2017_20180514085536', '002885798_201305124A_2016_001', 'IBXRMA2018_MULT_1217061490010001_HMK_171224364A_WILLIAM_DETURK_002811507_2017', 'IBXRMA2018_MULT_1200818300010001_HMK_168444714A_MARGARET_LYNCH_002812626_2017', 'IBXRMA2018_MULT_1163261690010001_HMK_186244362A_DANIEL_SMALTINI_003020116_2017_20180719200301', 'IBXRMA2018_MULT_1217821400010001_HMK_185368041A_GAIL_TRESSLER_002809845_2017', 'IBXRMA2018_MULT_1205666900010001_HMK_188468438A_CAROL_MAZOR_002805178_2017', 'IBXRMA2018_MULT_1218051440010001_HMK_204442051A_RONALD_BOOZ_002811251_2017', 'IBXRMA2018_MULT_1216767230010001_HMK_199245531A_CAROLINE_COLADONATO_002805465_2017', 'IBXRMA2018_MULT_1255394390010001_HMK_174322295A_FRANK_BURNS_002822417_2017', 'IBXRMA2018_MULT_1216759890010001_HMK_161362856A_VIRGINIA_GRAVES_002806552_2017_20180702134618', 'IBXRMA2018_MULT_1217008620010001_HMK_023368524A_ANDREA_BERGERON_002806284_2017', 'IBXRMA2018_MULT_1254292440010001_HMK_168440471A_LIMMIE_DANIELS_002811473_2017', 'IBXRMA2018_MULT_1232379710010001_HMK_197267384A_NANCY_HATFIELD_002804496_2017', 'IBXRMA2018_MULT_1216961760010001_HMK_174326763A_RUTH_STELLA_002814428_2017', 'IBXRMA2018_MULT_1217531170010001_HMK_122443914A_DOJNA_RUSO_002815855_2017', '003189221_WA715184464_2016_001', 'ibxrma2018_mult_1216761120010001_hmk_192206834d_betty_rutherford_002811509_2017', 'IBXRMA2018_MULT_1217097650010001_HMK_162325811A_RUTH_KUSHTO_002805529_2017_20180713120224', 'IBXRMA2018_MULT_1217816980010001_HMK_250822967TA_AMY_GAMBLE_002808118_2017', 'IBXRMA2018_MULT_1216846090010001_HMK_193249723A_FRANCES_LENKIEWICZ_002811567_2017_20180507090809', 'IBXRMA2018_MULT_1217079410010001_HMK_169523040A_KYU_LEE_002805282_2017', 'IBXRMA2018_MULT_1217480380010001_HMK_174284864D_JUDITH_BACHMAN_002814428_2017', 'IBXRMA2018_MULT_1202374450010001_HMK_173389882A_BRUCE_BACHART_002813089_2017', 'IBXRMA2018_MULT_1216775600010001_HMK_179265848A_JOSEPH_EBY_002806347_2017', 'IBXRMA2018_MULT_1256065920010001_HMK_515342762D_FLORENCE_MARTIN_002812414_2017', 'IBXRMA2018_MULT_1218061910010001_HMK_207343577A_FLORA_SCINTO_002820655_2017_20180807160321', 'ibxrma2018_mult_1216856160010001_hmk_201305401a_mable_bailey_002816864_2017', 'IBXRMA2018_MULT_1217990910010001_HMK_239845422A_MARY_MAUL_002809018_2017', 'IBXRMA2018_MULT_1216921970010001_HMK_383422374A_JAMES_BIRD_002817526_2017', 'IBXRMA2018_MULT_1216116550010001_HMK_188508422A_BRIGITTE_ARMBRUSTER_002809472_2017', 'ibxrma2018_mult_1217509720010001_hmk_176361273a_patricia_ponticello_002815378_2017', 'IBXRMA2018_MULT_1217151850010001_HMK_182429426T_HOWARD_HOCKMAN_002811260_2017', 'IBXRMA2018_MULT_1218066020010001_HMK_199263047A_JOHANNA_OSIMO_002818412_2017', 'IBXRMA2018_MULT_1253140340010001_HMK_191385874A_ROSEMARIE_DISANDS_002812624_2017', 'IBXRMA2018_MULT_1217107450010001_HMK_021303161A_INA_MARCUS_002807434_2017', 'IBXRMA2018_MULT_1217367790010001_HMK_109303977A_RONALD_AGRESTI_003296728_2017_20180524124458', 'ibxrma2018_mult_1217855070010001_hmk_202342000a_anna_moran_002813755_2017', 'IBXRMA2018_MULT_1217560390010001_HMK_138321270A_HARRIET_WIDLUND_002806564_2017_20180816144240', 'IBXRMA2018_MULT_1216864440010001_HMK_174327610A_LOUISE_MAURIZIO_003118424_2017_20180521082014', 'IBXRMA2018_MULT_1231941750010001_HMK_048504738A_SUDHA_KANTESARIA_002806552_2017_20180712125907', 'IBXRMA2018_MULT_1209667930010001_HMK_194340426A_FRANCIS_BRENNAN_002822742_2017', 'IBXRMA2018_MULT_1216825900010001_HMK_186226458D6_CATHERINE_RICHTER_002811511_2017', 'IBXRMA2018_MULT_1216769670010001_HMK_191367484A_JEAN_MATTIE_002885736_2017', 'IBXRMA2018_MULT_1230579970010001_HMK_184345599A_MARTHA_WEAVER_002804060_2017', '002821614_209289972A_2016_002', 'IBXRMA2018_MULT_1217413300010001_HMK_161363875A_NICHOLAS_RUBEN_002804516_2017', 'IBXRMA2018_MULT_1217839480010001_HMK_358268186A_MONNA_HABICHT_002815749_2017', 'IBXRMA2018_MULT_1200126290010001_HMK_166429011A_SUSAN_HOFFMAN_002814428_2017', 'IBXRMA2018_MULT_1216757740010001_HMK_050227684A_MARYLLOU_HOFFMAN_002812448_2017', 'IBXRMA2018_MULT_1180531700010001_HMK_198522512A_GREGORY_PASCHALL_002819661_2017', 'IBXRMA2018_MULT_1217196520010001_HMK_201325263A_PHILIP_FOX_002807883_2017', 'IBXRMA2018_MULT_1231941810010001_HMK_088362108A_BEATRICE_CARTER_002804243_2017', 'IBXRMA2018_MULT_1217418930010001_HMK_181301570A_BARBARA_DINOLFI_002805068_2017_20180501093538', 'IBXRMA2018_MULT_1217784990010001_HMK_205387538A_NOBUKO_KLUGE_002818014_2017', 'IBXRMA2018_MULT_1217777820010001_HMK_200383856A_PEDRO_ALEKSIEJEWICZ_002822472_2017', 'IBXRMA2018_MULT_1217997560010001_HMK_235966728A_NARASIMHA_SHENOY_002813095_2017', 'IBXRMA2018_MULT_1217972360010001_HMK_185323422A_MARGARET_GIFFEAR_002808580_2017', 'IBXRMA2018_MULT_1217195450010001_HMK_184345077B_CAROL_HINES_002807812_2017', 'IBXRMA2018_MULT_1217192380010001_HMK_474469268A_SHOU_HOU_002807838_2017_20180504102724', 'IBXRMA2018_MULT_1217123460010001_HMK_145580505A_ELIZABETH_ZEIGLER_002804571_2017', 'ibxrma2018_mult_1216955820010001_hmk_180426131a_diane_despirito_002822778_2017', 'IBXRMA2018_MULT_1198880760010001_HMK_177409486A_DIANE_SCAVELLO_002812427_2017', 'IBXRMA2018_MULT_1217408410010001_HMK_176382963A_JOANNE_BROWN_002804051_2017', 'IBXRMA2018_MULT_1216875630010001_HMK_160369779A_RAYMOND_BRIGHTBILL_002812424_2017', 'IBXRMA2018_MULT_1270887920010001_HMK_165385223A_JUDITH_KAYSER_002810878_2017_20180514085540', 'IBXRMA2018_MULT_1217806990010001_HMK_237607439A_EDNA_LAWRENCE_002810878_2017_20180521083044', 'IBXRMA2018_MULT_1217134810010001_HMK_166349342A_NICHOLAS_POPCHUK_002807673_2017', 'IBXRMA2018_MULT_1216885700010001_HMK_196222229A_JOSEPH_BOHAR_002811512_2017', 'ibxrma2018_mult_1217843930010001_hmk_398071817a_meredith_johnston_002813367_2017', 'IBXRMA2018_MULT_1217854260010001_HMK_220420082A_BETTY_WISE_002815935_2017', 'IBXRMA2018_MULT_1211400470010001_HMK_191421732A_MARLENE_PECKMAN_002810887_2017_20180828104331', 'IBXRMA2018_MULT_1217951260010001_HMK_199280632A_DINA_LANDE_002822472_2017', 'IBXRMA2018_MULT_1216742320010001_HMK_168240547D_LILLIAN_FREAS_002804496_2017', 'IBXRMA2018_MULT_1216858610010001_HMK_192264462A_DONALD_MILLER_002885736_2017', 'IBXRMA2018_MULT_1217185460010001_HMK_203426390A_DIANE_MOORE_002810884_2017_20180607102421', 'IBXRMA2018_MULT_1218011780010001_HMK_203425809A_ROBERT_MAYLIE_002808404_2017', 'IBXRMA2018_MULT_1217022750010001_HMK_148289686A_ROBERT_FELDBAUM_002823143_2017_20180727200050', 'IBXRMA2018_MULT_1217510500010001_HMK_172440267A_BRENDA_BRANDON_002816479_2017', 'IBXRMA2018_MULT_1217975530010001_HMK_032320072A_DUNCAN_CATHERWOOD_002805068_2017_20180502103116', 'ibxrma2018_mult_1217636830010001_hmk_170368497a_melvin_smith_002814612_2017', 'IBXRMA2018_MULT_1216955400010001_HMK_205288403A_HOWARD_UDELL_002812059_2017', 'ibxrma2018_mult_1217190450010001_hmk_204525941a_bonifacio_venda_002884091_2017', 'IBXRMA2018_MULT_1216967710010001_HMK_176662548A_BING_LEE_002815743_2017', 'ibxrma2018_mult_1231100810010001_hmk_163363609a_michael_tsichlis_003045996_2017', 'ibxrma2018_mult_1216905960010001_hmk_194562817a_jacqueline_griffies_002806260_2017', 'IBXRMA2018_MULT_1213488610010001_HMK_205340664A_JOHN_BERRY_002812413_2017_pmh', 'IBXRMA2018_MULT_1217188010010001_HMK_179347861A_SAMUEL_ORAPALLO_002815461_2017', 'IBXRMA2018_MULT_1216842850010001_HMK_208346988A_JAMES_TASCH_002811509_2017', 'IBXRMA2018_MULT_1216849670010001_HMK_177229533B_FRANCES_BARKOCY_002810831_2017', 'IBXRMA2018_MULT_1217786610010001_HMK_250786984A_BESSIE_OWENS_002823280_2017_20180603222212', 'IBXRMA2018_MULT_1217798560010001_HMK_192223457D7_GERTRUDE_BLUMER_002805178_2017', 'IBXRMA2018_MULT_1218095820010001_HMK_210321523A_GEORGE_FRUGOLI_002821598_2017', 'IBXRMA2018_MULT_1217794660010001_HMK_191303809A_MARIA_AGLIALORO_002810332_2017', 'IBXRMA2018_MULT_1217996990010001_HMK_191347002A_GWEN_BROWN_002804624_2017_20180607095759', 'IBXRMA2018_MULT_1231168620010001_HMK_182242763A_MARY_CARR_002804168_2017', 'IBXRMA2018_MULT_1217005630010001_HMK_169269192A_RITA_DILUCIA_002804624_2017_20180622092543', 'IBXRMA2018_MULT_1217909120010001_HMK_209327796A_THERESA_CSERNEK_003002552_2017_20180504112416', 'IBXRMA2018_MULT_1218359400010002_HMK_166320075A_JOSEPH_WEISENBERGER_002821340_2017', 'IBXRMA2018_MULT_1218067290010001_HMK_186346991A_BESSIE_CURTIS_002805032_2017_20180620151741', 'IBXRMA2018_MULT_1217495010010001_HMK_160327421A_MARYANN_GIGUERE_002805068_2017_20180502105557', 'ibxrma2018_mult_1220019340010001_hmk_185487817c1_austin_butler_002806260_2017', 'IBXRMA2018_MULT_1238193440010001_HMK_167464392A_KAREN_POTTS_002804738_2017', 'IBXRMA2018_MULT_1226056370010001_HMK_164403780A_LINDA_PASTOR_003172442_2017', 'IBXRMA2018_MULT_1217454960010001_HMK_169162041A_HELEN_CHECCHIA_002806199_2017', 'ibxrma2018_mult_1218362100010001_hmk_179569776a_timmy_cerino_002804844_2017', 'IBXRMA2018_MULT_1218050480010001_HMK_199161461A_VINCENT_BURGER_002811509_2017', 'IBXRMA2018_MULT_1217831840010001_HMK_190425548A_CHARLOTTE_PALMER_002811217_2017', 'IBXRMA2018_MULT_1217077610010001_HMK_161280854A_WALTER_AVERY_002805053_2017_20180802134903', 'IBXRMA2018_MULT_1217099960010001_HMK_160265415A_MARILYN_MICHAEL_002804060_2017', 'IBXRMA2018_MULT_1231095050010001_HMK_180505910A_DONNA_SAWCHYN_002807673_2017', 'IBXRMA2018_MULT_1217423170010001_HMK_160281131A_BARBARA_WANAMAKER_002813364_2017_20180627200035', 'IBXRMA2018_MULT_1218084530010001_HMK_207120272A_KATHLEEN_FERN_002813619_2017', 'ibxrma2018_mult_1217371640010001_hmk_172260292a_william_cunningham_002816700_2017', 'IBXRMA2018_MULT_1252475340010001_HMK_197265778A_JOAN_GALLAGHER_002810332_2017', 'IBXRMA2018_MULT_1216813400010001_HMK_168326509A_PHYLLIS_GASKILL_002817931_2017', 'IBXRMA2018_MULT_1253308810010002_HMK_197363883A_HARRY_KUBIS_002822417_2017', 'IBXRMA2018_MULT_1235796210010001_HMK_170449366A_COLETTE_ALESI_002812411_2017', 'IBXRMA2018_MULT_1266420780010001_HMK_184407266A_MICHAEL_PINNEL_002817222_2017', 'IBXRMA2018_MULT_1217543760010001_HMK_091321990A_CAROL_VANVALKENBURGH_002811506_2017', 'IBXRMA2018_MULT_1249786080010001_HMK_164361098A_NORMAN_WILLIAMSON_002816786_2017', 'IBXRMA2018_MULT_1216117990010001_HMK_191421660A_ROBERT_MCCULLOUGH_002820655_2017_20180720125510', 'IBXRMA2018_MULT_1217358610010001_HMK_169304553A_JULIUS_CUSPUD_002808050_2017', 'IBXRMA2018_MULT_1218031680010001_HMK_199306056A_ROBERT_BONITATIBUS_002807250_2017', 'IBXRMA2018_MULT_1253309930010001_HMK_249663774A_PATRICIA_TAYLOR_002820300_2017', 'IBXRMA2018_MULT_1217064600010001_HMK_227286890A_WILLIAM_SIMMS_002805176_2017', 'ibxrma2018_mult_1231940270010001_hmk_ma193248326_bertha_maxwell_002805152_2017', 'ibxrma2018_mult_1212671230010001_hmk_161361473a_janice_kelly_002812578_2017', 'IBXRMA2018_MULT_1218118170010001_HMK_232056258D_ANNE_DOTSON_002820655_2017_20180622110728', 'IBXRMA2018_MULT_1226187850010001_HMK_186346204A_JOHN_LANG_003061466_2017_20180501104316', 'IBXRMA2018_MULT_1216876360010001_HMK_178202906D_MILDRED_BELLOMO_002819158_2017', 'IBXRMA2018_MULT_1253298020010001_HMK_160327337B_ANN_STEIERT_002813097_2017', 'IBXRMA2018_MULT_1164456530010001_HMK_205343362A_WALTER_DRABOUSKI_002886191_2017', 'IBXRMA2018_MULT_1230839080010001_HMK_196466978A_CYNTHIA_CONWAY_002805205_2017', 'ibxrma2018_mult_1216987010010001_hmk_173282392a_virginia_rothweiler_002884091_2017', 'IBXRMA2018_MULT_1216706560010001_HMK_168325887A_BARBARA_VISCO_002804557_2017', 'IBXRMA2018_MULT_1217457420010001_HMK_181422276A_MICHAEL_MCKINLEY_002806571_2017_20180723115333', 'fu_002813808_121673078001_2017_96_227_221_65_20180617165809', 'IBXRMA2018_MULT_1218118110010001_HMK_209408849A_DEBRA_BARENDS_002804496_2017', 'IBXRMA2018_MULT_1217046880010001_HMK_394463401T_VIRGINIA_FITZGERALD_002812710_2017_20180504112759', 'IBXRMA2018_MULT_1218075330010001_HMK_204243298A_MARGUERITEV_TETI_002805068_2017_20180502151153', 'IBXRMA2018_MULT_1217962890010001_HMK_184303348B1_KENNETH_SPERBER_002811886_2017', 'IBXRMA2018_MULT_1217064690010001_HMK_166225905D_MARGARET_KRAUSS_003387287_2017', 'IBXRMA2018_MULT_1217829440010001_HMK_185326854A_MILTON_STEWART_003018942_2017', 'ibxrma2018_mult_1217401620010001_hmk_136267627a_robert_spatola_002816700_2017', 'IBXRMA2018_MULT_1229625130010001_HMK_075468063A_DAVID_LETOURNEAU_002810550_2017', 'IBXRMA2018_MULT_1218071220010001_HMK_188264669A_GEORGE_BLACKMORE_003082566_2017_20180511093824', 'IBXRMA2018_MULT_1217356990010001_HMK_181288144A_VINCE_QUINTANGELI_002813095_2017', 'IBXRMA2018_MULT_1254292120010001_HMK_022262408A_MARIE_HARNOIS_002804496_2017', 'IBXRMA2018_MULT_1206158990010001_HMK_253843430A_CAROL_IVORY_002812626_2017', 'IBXRMA2018_MULT_1217377720010001_HMK_160365883B_THERESA_MANCINI_002813095_2017', 'IBXRMA2018_MULT_1217944940010001_HMK_193283970A_BBERYL_SIMONETTI_002809288_2017', 'IBXRMA2018_MULT_1217175700010001_HMK_211309530A_LOUIS_TRACHTMAN_002810362_2017', 'IBXRMA2018_MULT_1216858410010001_HMK_211241662A_HELEN_KLINE_002814924_2017', 'IBXRMA2018_MULT_1217049990010001_HMK_188463320A_ROSEMARIE_HALL_002814695_2017', 'IBXRMA2018_MULT_1165541440010001_HMK_135446370A_SHARON_KATSAROS_002808558_2017', 'IBXRMA2018_MULT_1217989040010001_HMK_344302592A_GENEVIEVE_GROGAN_002810890_2017_20180906114203', 'ibxrma2018_mult_1217164170010001_hmk_165302763a_marie_medrow_002822472_2017', 'ibxrma2018_mult_1217455570010001_hmk_175384460a_ronald_ayres_002808236_2017', 'IBXRMA2018_MULT_1216874250010001_HMK_202098712A_RUTH_STEPP_002813095_2017', 'IBXRMA2018_MULT_1216986640010001_HMK_180166181A_ELIZABETH_MCCLAVE_002804060_2017', 'ibxrma2018_mult_1217625190010001_hmk_173229806d6_carmela_pizzica_002812685_2017', 'IBXRMA2018_MULT_1207206850010001_HMK_163429938A_ROBERT_BLUE_002805068_2017_20180502102906', 'IBXRMA2018_MULT_1275023060010001_HMK_167427143A_SHERYL_WRIGHT_002821619_2017', 'ibxrma2018_mult_1217159240010001_hmk_199263062a_clifford_sommerfeld_002865093_2017', 'IBXRMA2018_MULT_1216850820010001_HMK_159348095A_GEORGE_MYLONAS_002809163_2017', 'IBXRMA2018_MULT_1198770560010001_HMK_176448389B1_GERALD_SCALLY_002806559_2017_20180807160139', 'IBXRMA2018_MULT_1218039190010001_HMK_199247291A_DENNIS_CANFIELD_002805068_2017_20180502084511', 'IBXRMA2018_MULT_1218005900010001_HMK_201051606D_PHYLLIS_GAMBALE_002805171_2017', 'IBXRMA2018_MULT_1217497860010001_HMK_166366901A_ANITA_WOLFE_002813367_2017', 'IBXRMA2018_MULT_1230442630010001_HMK_191164080A_MASSIMO_DIDONATO_002805204_2017', 'IBXRMA2018_MULT_1217003310010001_HMK_197308222A_EDWARD_ASSANOWICZ_002814653_2017', 'ibxrma2018_mult_1218091710010001_hmk_201304104a_elaine_lewis_002804844_2017', 'IBXRMA2018_MULT_1204042340010001_HMK_187421936A_DEBORAH_BEALER_002806751_2017', 'IBXRMA2018_MULT_1217089110010001_HMK_225587335A_SHELBY_MARTIN_002804599_2017', 'IBXRMA2018_MULT_1217549910010001_HMK_181301250A_BARBARA_EARLY_002805387_2017', 'IBXRMA2018_MULT_1216124060010001_HMK_203385346A_HOWARD_MAISEY_002817525_2017', 'IBXRMA2018_MULT_1239408760010001_HMK_174262202B_MARGARET_MCCLAY_002812627_2017', 'IBXRMA2018_MULT_1216739120010001_HMK_179403330A_JOHN_CUSTIS_002805805_2017', 'IBXRMA2018_MULT_1217120620010001_HMK_175305155A_BRUCE_POLAND_002815749_2017', 'ibxrma2018_mult_1217473080010001_hmk_178306831a_rita_matthews_002804684_2017', 'IBXRMA2018_MULT_1217484830010001_HMK_182305031A_CAROL_LOUGHERY_002814695_2017', 'IBXRMA2018_MULT_1218086510010001_HMK_198307845A_NANCY_SMITH_002806565_2017_20180809141921', 'IBXRMA2018_MULT_1217136310010001_HMK_191369036A_JACQUELINE_HATCHER_003307374_2017_20180712095746', 'IBXRMA2018_MULT_1224964410010001_HMK_149382933A_ELYSE_BLAKELEY_002810550_2017', 'IBXRMA2018_MULT_1218024150010001_HMK_207286081D_MARGARET_SCHELL_002810879_2017_20180530075458', 'ibxrma2018_mult_1213040560010001_hmk_181424739a_virginia_kirby_002808334_2017', 'IBXRMA2018_MULT_1217934790010001_HMK_198621214A_MOZHIATTU_JOY_002807883_2017', 'IBXRMA2018_MULT_1216863810010001_HMK_167304474A_NORBERT_ARMAND_002805068_2017_20180502102932', 'IBXRMA2018_MULT_1218058770010001_HMK_203147226A_MADELINE_RAVEN_002814695_2017', 'IBXRMA2018_MULT_1217487450010001_HMK_166361528A_JOHN_BUSTARD_002805042_2017', 'IBXRMA2018_MULT_1217998370010001_HMK_238469907D_GRACE_CRANDALL_002823280_2017_20180523081729', 'IBXRMA2018_MULT_1216787510010001_HMK_339307159A_WAYNE_CUMMINGS_002810887_2017_20180918141302', 'IBXRMA2018_MULT_1217854040010001_HMK_204309848A_NANCY_KERSTETTER_002817119_2017', 'IBXRMA2018_MULT_1217589070010001_HMK_162281841A_EVELYN_BARBATO_002821909_2017', 'IBXRMA2018_MULT_1217082880010001_HMK_578606057A_LAURA_BLEAM_002803945_2017', 'IBXRMA2018_MULT_1217799570010001_HMK_191229521B_LORETTA_BUCKLEY_002821916_2017', 'IBXRMA2018_MULT_1218086170010001_HMK_207265231A_JOHN_GALLAGHER_002817931_2017', 'IBXRMA2018_MULT_1217015690010001_HMK_222329328A_MARY_ANDERSON_002812414_2017', 'fa_fax000018293_', 'IBXRMA2018_MULT_1230532610010001_HMK_208468248A_GIOVANNI_GIGANTE_002811753_2017', 'IBXRMA2018_MULT_1217943790010001_HMK_207221588A_WALTER_DILWORTH_002805068_2017_20180502105632', 'IBXRMA2018_MULT_1217125240010001_HMK_205367419A_SANDRA_ELLIOTT_003566856_2017', 'IBXRMA2018_MULT_1217984110010001_HMK_198347412A_JACQUELINE_HOUCK_002813089_2017', 'IBXRMA2018_MULT_1218091480010001_HMK_200304997A_RAYMOND_AILES_002812624_2017', 'IBXRMA2018_MULT_1215526970010001_HMK_185423931D6_BARBARA_KELLY_002804506_2017_20180730200252', 'IBXRMA2018_MULT_1217075310010001_HMK_201280874A_FILOMENA_SPINOSA_002807250_2017', 'IBXRMA2018_MULT_1164496990010001_HMK_207269457A_EARL_TOWNSEND_002821983_2017', 'IBXRMA2018_MULT_1223920610010001_HMK_206284679D6_NANCY_NOLAN_002819677_2017', 'IBXRMA2018_MULT_1218093730010001_HMK_187328141A_LAURETTA_BLOUNT_002804905_2017', 'IBXRMA2018_MULT_1217070020010001_HMK_200260551A_JOSEPH_GRANESE_002805068_2017_20180502105522', 'IBXRMA2018_MULT_1224597930010001_HMK_185422872A_LAVERNE_KING_002805269_2017', 'IBXRMA2018_MULT_1200739450010001_HMK_227802263A_PATRICIA_BARNDT_002811512_2017', 'IBXRMA2018_MULT_1207313030010001_HMK_184409622A_ORYSIA_DUDA_002885736_2017', 'IBXRMA2018_MULT_1216696700010001_HMK_205147805A_ELIZABETH_CEPIS_002812059_2017', 'IBXRMA2018_MULT_1217438430010001_HMK_165321826A_WILLIAM_DORWART_002820655_2017_20180622110727', 'IBXRMA2018_MULT_1207373290010001_HMK_196421780A_EROY_BROWN_002808842_2017_20180521082757', 'IBXRMA2018_MULT_1218002910010001_HMK_A171329918_CLETUS_BENJAMIN_002812411_2017', 'IBXRMA2018_MULT_1217085990010001_HMK_207269769A_HARRIET_LORE_002822847_2017', 'ibxrma2018_mult_1203555440010001_hmk_197320469d_munah_mayo_002805661_2017', 'IBXRMA2018_MULT_1218366620010001_HMK_204382327A_ROBERT_LIFFMAN_002884091_2017', 'IBXRMA2018_MULT_1217853340010001_HMK_194228105A_GEORGE_KIESEL_002804172_2017', 'IBXRMA2018_MULT_1216743810010001_HMK_208320024A_GIACOMO_DECOLA_002812702_2017_20180504112430', 'IBXRMA2018_MULT_1217475410010001_HMK_162365655A_STANLEY_MAGURCZEK_002805178_2017', 'IBXRMA2018_MULT_1256064170010001_HMK_181382364D_JOYCE_COLQUHOUN_002805178_2017', 'IBXRMA2018_MULT_1217554010010001_HMK_168329862A_LEON_SKALSKI_002804552_2017_20180613200108', 'IBXRMA2018_MULT_1216986500010001_HMK_180368007A_JOHN_SCHOLES_002820655_2017_20180807160239', 'IBXRMA2018_MULT_1217180790010001_HMK_213584713A_CAROLE_BAROCCA_002810890_2017_20180511091653', 'IBXRMA2018_MULT_1217798400010001_HMK_361289304D_CAROL_CALLAHAN_002803909_2017', 'IBXRMA2018_MULT_1217580240010001_HMK_181289740A_WILDA_THOMAS_002813665_2017', 'IBXRMA2018_MULT_1217559720010001_HMK_170327820A_GLENN_CAIN_002805068_2017_20180502103037', 'IBXRMA2018_MULT_1216743990010001_HMK_386286489A_JANICE_DURYEA_002819601_2017_20180622110803', 'IBXRMA2018_MULT_1217175400010001_HMK_190622701A_ROGER_DOHERTY_002819601_2017_20180621114919', 'IBXRMA2018_MULT_1217379110010001_HMK_179347623A_WALTER_MCGINTY_002823034_2017_20180522090741', 'IBXRMA2018_MULT_1217619620010001_HMK_179345741A_JANICE_GUGLIUZZA_002811480_2017', 'IBXRMA2018_MULT_1216713400010001_HMK_170366102A_MILDRED_PACCHIANELLI_002885736_2017', 'IBXRMA2018_MULT_1216748420010001_HMK_167348223A_MARIAN_JOHNSON_002822218_2017', 'IBXRMA2018_MULT_1216710730010001_HMK_204220419A_JUANITA_GRUNDY_002820655_2017_20180705135922', 'IBXRMA2018_MULT_1207339350010001_HMK_188343123B_ANNE_BURNS_002806751_2017', 'IBXRMA2018_MULT_1218102470010001_HMK_262491551A_HAE_CARTER_002808856_2017_20180802200449', 'IBXRMA2018_MULT_1217059290010001_HMK_188344896A_JUDITH_THOMPSON_003309191_2017', 'IBXRMA2018_MULT_1218033080010001_HMK_211268474A_JOHN_JONES_002816786_2017', 'fa_fax000009584_', 'IBXRMA2018_MULT_1217564130010001_HMK_161369921A_SABINA_FOSTER_002823208_2017_20180829200213', 'IBXRMA2018_MULT_1216746900010001_HMK_186329595A_NATALIE_DAVIES_002813095_2017', 'IBXRMA2018_MULT_1230531950010001_HMK_086408894A_WILLIAM_TOTH_002810550_2017', 'IBXRMA2018_MULT_1217792810010001_HMK_246223771A_FRED_HAM_002822901_2017', 'IBXRMA2018_MULT_1217567400010001_HMK_163349949A_DONALD_DISANDS_002804060_2017', 'IBXRMA2018_MULT_1253080000010001_HMK_185247007A_FRANCIS_FRITZINGER_002811506_2017', 'IBXRMA2018_MULT_1218358440010001_HMK_160405044A_DAVID_KEITH_002812776_2017', 'IBXRMA2018_MULT_1226363320010001_HMK_164445994A_MARILYN_SPIVEY_002808967_2017', 'IBXRMA2018_MULT_1217534560010001_HMK_181240450A_EDWARD_OSTROWSKI_002805068_2017_20180502145144', 'IBXRMA2018_MULT_1216987670010001_HMK_178242034A_RONALD_MILLER_002805068_2017_20180502150342', 'IBXRMA2018_MULT_1215333810010002_HMK_117408561A_JOHN_OBRIEN_002814695_2017', 'IBXRMA2018_MULT_1216850260010001_HMK_177206104A_ANTHONY_SALVITTY_002807071_2017', 'ibxrma2018_mult_1217035940010001_hmk_191441011a_antonio_cappabianca_002811377_2017', 'IBXRMA2018_MULT_1217808960010001_HMK_185368232B1_DONALD_YOUNG_002812310_2017', 'IBXRMA2018_MULT_1212818230010001_HMK_169407314A_JOHN_DIEHL_002804168_2017', 'IBXRMA2018_MULT_1226060150010001_HMK_197361458B_EMMA_FREEMAN_002812365_2017', 'IBXRMA2018_MULT_1216701670010001_HMK_181289727A_SYLVESTER_BENEDETTE_002811512_2017', 'IBXRMA2018_MULT_1216773990010001_HMK_159209687D_DOROTHY_SAURMAN_003186821_2017', 'IBXRMA2018_MULT_1254292110010001_HMK_021309464A_RENE_HARNOIS_002813096_2017', 'IBXRMA2018_MULT_1217769550010001_HMK_209148284A_IRENE_DOYLE_002813089_2017', 'ibxrma2018_mult_1218012350010001_hmk_187285269a_dolores_volk_003045996_2017', 'IBXRMA2018_MULT_1217569890010001_HMK_102328367D_DOROTHY_POLOS_002804599_2017', 'IBXRMA2018_MULT_1216714430010001_HMK_188302237A_WILLIAM_STERLING_003531447_2017', 'IBXRMA2018_MULT_1232566220010001_HMK_190406771B6_SUSAN_ZIMMERMAN_002813347_2017', 'IBXRMA2018_MULT_1218050880010001_HMK_229405824A_BARBARA_DUNN_002808298_2017_20180911094855', 'IBXRMA2018_MULT_1262878680010001_HMK_203348684A_INEZ_SPANN_002805287_2017', 'IBXRMA2018_MULT_1217825980010001_HMK_208409604A_BARBARA_CLOUD_002819677_2017', 'IBXRMA2018_MULT_1256064560010001_HMK_191367606A_JACQUELINE_WILLIAMS_002808118_2017', 'IBXRMA2018_MULT_1217158240010001_HMK_171368840A_ROYDEN_KRAUSE_002803841_2017', 'IBXRMA2018_MULT_1217842850010001_HMK_187248918A_BERNICE_KOCH_002814428_2017_pmh', 'IBXRMA2018_MULT_1255218650010001_HMK_523569582A_LINDA_LANDENBERG_002812702_2017_20180509121630', 'IBXRMA2018_MULT_1217541650010001_HMK_172303374A_ROBERT_STEWART_002804065_2017', 'IBXRMA2018_MULT_1218017010010001_HMK_207281312A_CARL_HORNUNG_002813095_2017', 'IBXRMA2018_MULT_1216858290010001_HMK_421387295A_RODERICK_FANCHER_002806553_2017_20180626093625', 'IBXRMA2018_MULT_1216948080010001_HMK_214406746A_JAN_BOGGESS_002805068_2017_20180502102945', 'ibxrma2018_mult_1217359640010001_hmk_160301292b_catherine_brambley_002806260_2017', 'ibxrma2018_mult_1216978080010001_hmk_151425456a_karen_methlie_002813367_2017', 'IBXRMA2018_MULT_1217079020010001_HMK_185285500A_FRANKLIN_FIORENTINO_002804065_2017', 'IBXRMA2018_MULT_1217463900010001_HMK_053245358D_EITHNA_RUSSELL_003061466_2017_20180613094406', 'IBXRMA2018_MULT_1216728200010001_HMK_208264120A_DOROTHY_SHEPPARD_002813097_2017', 'IBXRMA2018_MULT_1196315260010001_HMK_161442500A_MERIL_BROWN_002810875_2017_20180521082802', 'IBXRMA2018_MULT_1216745250010001_HMK_191344453A_FREDA_LEAVER_002804148_2017', 'ibxrma2018_mult_1217352790010001_hmk_159265284a_shirley_nahay_002865093_2017', 'IBXRMA2018_MULT_1182176800010001_HMK_240705609A_MIRLON_JOHNSON_003304781_2017', 'IBXRMA2018_MULT_1217809440010001_HMK_185367156A_KAREN_HECKMAN_002811506_2017', 'IBXRMA2018_MULT_1216726950010001_HMK_187527514A_LESLIE_EWEN_002811494_2017', 'IBXRMA2018_MULT_1218053810010001_HMK_205309454A_PATRICIA_FREED_002806751_2017', 'IBXRMA2018_MULT_1216854160010001_HMK_196240422A_FLOYD_BRACEY_002812108_2017_20180606132923', 'IBXRMA2018_MULT_1217977830010001_HMK_197248970A_DAVID_HUNT_002820655_2017_20180710112043', 'IBXRMA2018_MULT_1218366590010002_HMK_204321923A_CAROL_MROZEK_002809018_2017', 'IBXRMA2018_MULT_1216850450010001_HMK_209400677A_ANTONIO_NIGRELLI_002807910_2017_20180706082827', 'ibxrma2018_mult_1217129560010001_hmk_172221377b_vivian_kurowski_003343687_2017', 'IBXRMA2018_MULT_1217053870010001_HMK_186226457A_MIRIAM_FICKERT_002804599_2017', 'ibxrma2018_mult_1218045560010001_hmk_191145673d_helen_gerhart_002806260_2017', 'IBXRMA2018_MULT_1217579180010001_HMK_179382687A_RHODA_SMITH_002805068_2017_20180502151114', 'IBXRMA2018_MULT_1218568720010001_HMK_178441613A_JOHN_GAIT_002816755_2017', 'IBXRMA2018_MULT_1231438930010001_HMK_062267250A_BERNARD_MISSAN_002812614_2017', 'IBXRMA2018_MULT_1217093160010001_HMK_177284348B_URSULA_WOLF_002813808_2017', 'IBXRMA2018_MULT_1216926620010001_HMK_238564399A_VELMA_MYERS_002807910_2017_20180813093248', 'IBXRMA2018_MULT_1217560040010001_HMK_149260201A_PATRICIA_BRIEHLER_002822559_2017_20180618200952', 'IBXRMA2018_MULT_1236184280010001_HMK_157462793A_VIRGINIA_GHIORZI_002814428_2017', 'IBXRMA2018_MULT_1270268000010001_HMK_374323960A_CARL_FISCHER_002806284_2017', 'IBXRMA2018_MULT_1235931620010001_HMK_202602372A_SYLVIA_GAPAS_002815051_2017', 'IBXRMA2018_MULT_1217068140010001_HMK_177208602A_JOHN_MARTIN_003546476_2017_20180702201626', 'IBXRMA2018_MULT_1253466950010001_HMK_583038768A_HECTOR_BERDECIA_002819677_2017', 'IBXRMA2018_MULT_1216791840010001_HMK_177380424A_MARVA_PARKER_002810886_2017_20180831083433', 'IBXRMA2018_MULT_1210295970010001_HMK_199422868A_GEORGE_PETERSON_002804556_2017', 'IBXRMA2018_MULT_1216980580010001_HMK_174203215A_MARGARET_RATICAN_002812626_2017', 'IBXRMA2018_MULT_1216747120010001_HMK_183261676A_FRANK_HENNESSEY_002816896_2017_20180921200354', 'IBXRMA2018_MULT_1217069180010001_HMK_211223300A_PAUL_JONES_002812424_2017', 'IBXRMA2018_MULT_1217051390010001_HMK_171229831A_ELEANOR_WIMMER_002823210_2017', 'IBXRMA2018_MULT_1216762370010001_HMK_160281019A_CHARLES_PAYNE_002805068_2017_20180501093626', 'IBXRMA2018_MULT_1218358950010001_HMK_163241636D2_AUDREY_WILLIAMS_002812365_2017', 'IBXRMA2018_MULT_1217184320010001_HMK_184409577A_PAUL_WAFALOWSKI_002885736_2017', 'IBXRMA2018_MULT_1230840770010001_HMK_191444463A_LUANN_KRAMER_002806751_2017', 'IBXRMA2018_MULT_1273174710010002_HMK_193208692A_RUTH_BURROWS_002804983_2017_20180607210222', 'IBXRMA2018_MULT_1217636300010001_HMK_167309639A_MILDRED_ODONNELL_002819607_2017', 'IBXRMA2018_MULT_1217846970010001_HMK_241541601A_LEMUEL_FORTE_002810876_2017_20180918145526', '003290490_162206203D_2016_001', 'ibxrma2018_mult_1231171330010001_hmk_174329018a_constance_mcgonigle_002884091_2017', 'ibxrma2018_mult_1217778990010001_hmk_238646814a_eula_davis_002807329_2017', 'IBXRMA2018_MULT_1217506220010001_HMK_178305134A_BARBARA_LIGHTFOOT_002813144_2017', 'IBXRMA2018_MULT_1216759440010001_HMK_193362796A_JOAN_COOK_002807812_2017', 'IBXRMA2018_MULT_1217536890010001_HMK_168200924D_MARY_COSENZA_002804172_2017', 'IBXRMA2018_MULT_1217021560010001_HMK_159441189A_KENNETH_DETWILER_002813095_2017', 'IBXRMA2018_MULT_1263836090010001_HMK_197302340A_NANCY_ARNOLD_002812059_2017', 'IBXRMA2018_MULT_1216881760010001_HMK_184342504A_ROBERT_HARLOW_002810109_2017_20180817200501', 'IBXRMA2018_MULT_1217492210010001_HMK_166380901A_LINDA_ZIEGLER_003128227_2017_20180706200030', 'IBXRMA2018_MULT_1207398430010001_HMK_201307770A_DIANA_DEVORE_002805329_2017', 'IBXRMA2018_MULT_1217954360010001_HMK_183308318A_MARY_TETT_002885736_2017', 'IBXRMA2018_MULT_1217366520010001_HMK_172301721B_ELIZABETH_ARTERS_003002552_2017_20180504111921', 'IBXRMA2018_MULT_1253693500010001_HMK_176428498A_PATRICIA_RICHARD_002812449_2017', 'IBXRMA2018_MULT_1217974420010001_HMK_183344928A_KATHLEEN_ZAJKOWSKI_002814428_2017', 'IBXRMA2018_MULT_1198000790010002_HMK_207408500A_ANNE_SKIENDZIELEWSKI_002805165_2017', 'ibxrma2018_mult_1217591570010001_hmk_159288683a_richard_pletcher_002812578_2017', 'IBXRMA2018_MULT_1217802740010001_HMK_184343707A_JOANN_PAGEL_002818412_2017', 'IBXRMA2018_MULT_1197592650010001_HMK_202405769A_ANTHONY_SZCZUR_002807673_2017', 'IBXRMA2018_MULT_1217933050010001_HMK_187546205A_ANTHONY_NEPI_002812623_2017', 'IBXRMA2018_MULT_1217795160010001_HMK_200506051A_BRUCE_LEVIN_002812685_2017', 'ibxrma2018_mult_1217829710010001_hmk_251760386a_cora_robinson_002814612_2017', 'IBXRMA2018_MULT_1253534390010001_HMK_591607870T_YAN_XIAO_002804294_2017', 'IBXRMA2018_MULT_1218021100010001_HMK_199344578A_DOROTHY_ASTRINO_002812424_2017', 'IBXRMA2018_MULT_1217792180010001_HMK_222141083A_OLLIE_PAISLEY_002809472_2017', 'ibxrma2018_mult_1273046550010001_hmk_044386854a_patricia_cripps_002806260_2017', 'IBXRMA2018_MULT_1196404030010001_HMK_175384556T_HELEN_LONG_002806544_2017_20180718093158', 'IBXRMA2018_MULT_1209316820010001_HMK_463760296A_JAMES_MCCALL_002805465_2017', 'IBXRMA2018_MULT_1230959270010001_HMK_186364132A_RAYMOND_EMENHIZER_003387287_2017', 'IBXRMA2018_MULT_1216918610010001_HMK_200304263A_ANTHONY_BOVE_002808695_2017_20180625084805', 'IBXRMA2018_MULT_1217809460010001_HMK_549600200A_JOY_PINCIN_002809776_2017', 'IBXRMA2018_MULT_1217933340010001_HMK_205388733A_JAMES_VONTOR_002813092_2017_20180524130511', 'ibxrma2018_mult_1217532470010001_hmk_135341741a_virginia_patton_002807434_2017', 'IBXRMA2018_MULT_1217626260010001_HMK_004327955A_LARRY_WEBBERKING_002807812_2017', 'IBXRMA2018_MULT_1209805460010001_HMK_181421753A_ROGER_SOLOMON_002808118_2017', 'IBXRMA2018_MULT_1190026160010001_HMK_210304428D_LUCILLE_MARTIN_002885736_2017', 'IBXRMA2018_MULT_1272978830010001_HMK_172380009A_JOHN_JACKSON_002807872_2017_20180827090855', 'IBXRMA2018_MULT_1217066490010001_HMK_250426804D_ELSIE_JORDAN_002819368_2017', 'ibxrma2018_mult_1217366750010001_hmk_167349534a_carol_mahaffey_002813367_2017', 'IBXRMA2018_MULT_1217056660010001_HMK_136261504A_WILLIAM_BALDWIN_002809074_2017', 'IBXRMA2018_MULT_1217995690010001_HMK_196422210A_CECILLE_BURRELL_002806544_2017_20180611110359', 'IBXRMA2018_MULT_1217932560010001_HMK_432982342A_NYLA_BROWN_002804060_2017_pmh', 'IBXRMA2018_MULT_1217088930010001_HMK_179347484A_CLIFFORD_BARCLIFF_002885736_2017', 'IBXRMA2018_MULT_1217982900010001_HMK_207286132A_WALTER_THOMAS_002813089_2017', 'IBXRMA2018_MULT_1230735490010001_HMK_082528784A_ARTURO_MESA_002820245_2017_20180529090537', 'IBXRMA2018_MULT_1216978990010001_HMK_139402060A_BARBARA_JONES_002807479_2017_20180509152829', 'IBXRMA2018_MULT_1217624920010001_HMK_161243551A_MARY_SCOTT_002808025_2017', 'IBXRMA2018_MULT_1217923330010001_HMK_220166305A_VIRGINIA_HARE_002805068_2017_20180502105630', 'IBXRMA2018_MULT_1220932850010001_HMK_190406164A_NANCY_MCINTIRE_003387287_2017', 'IBXRMA2018_MULT_1238192350010001_HMK_134648015A_MARIEJOCEL_JEANTY_002821190_2017', 'IBXRMA2018_MULT_1216870110010001_HMK_193280852A_JESTINE_FANTINI_002821340_2017', 'IBXRMA2018_MULT_1218093960010001_HMK_194303958A_CARMELLA_WHITE_002809077_2017', 'IBXRMA2018_MULT_1224646950010001_HMK_176724694A_SHIXIANG_PAN_002811460_2017', 'IBXRMA2018_MULT_1217907030010001_HMK_191342893A_ROWLAND_WATSON_002805068_2017_20180502151133', 'IBXRMA2018_MULT_1218075140010001_HMK_206424205A_CHERYL_MCCOY_002811507_2017', 'IBXRMA2018_MULT_1164018060010002_HMK_179446958A_ANTONIO_FERNANDES_002812685_2017', 'IBXRMA2018_MULT_1208165280010001_HMK_188429525A_LINDA_DEMEDIO_002804738_2017', 'IBXRMA2018_MULT_1218039590010001_HMK_550412629A_RITA_MOURADIAN_002812626_2017', 'ibxrma2018_mult_1216871290010001_hmk_167323048a_marie_baumiester_002807862_2017', 'IBXRMA2018_MULT_1216923260010001_HMK_211465043A_HA_PANG_002815743_2017', 'IBXRMA2018_MULT_1172526140010001_HMK_187383406A_JOSEPH_BELLANO_002816479_2017', 'IBXRMA2018_MULT_1218086550010001_HMK_187281586A_RICHARD_POLIS_002814428_2017', 'IBXRMA2018_MULT_1163717620010001_HMK_210225566A_MARY_DOYLE_002816755_2017', 'IBXRMA2018_MULT_1218001090010001_HMK_238660846A_WILLIE_MCDOWELL_002807250_2017', 'IBXRMA2018_MULT_1216696690010001_HMK_438285624A_BERNADINE_SCARCELLI_002805198_2017', 'ibxrma2018_mult_1217437970010001_hmk_180302367a_hubert_baxter_002810271_2017', 'IBXRMA2018_MULT_1217843270010001_HMK_211280667A_HORACE_SAGNOR_002812709_2017_20180516105340', 'IBXRMA2018_MULT_1218039340010001_HMK_204444583A_RONALD_MYSLAK_002813097_2017', 'IBXRMA2018_MULT_1204649790010001_HMK_176548938A_THOMAS_LEE_002812337_2017', 'IBXRMA2018_MULT_1163722680010001_HMK_180306748D_MILA_KAPLAN_002804557_2017', 'IBXRMA2018_MULT_1216762070010001_HMK_207262665A_THOMAS_WOMACK_002805068_2017_20180502150953', 'IBXRMA2018_MULT_1265944220010002_HMK_208468897A_JANET_HERSCHEL_002814428_2017', 'IBXRMA2018_MULT_1231440740010001_HMK_182400600A_SUSAN_DAVIS_002807434_2017', 'IBXRMA2018_MULT_1196621160010001_HMK_207408847A_LORETTA_LOGUE_002885736_2017', 'IBXRMA2018_MULT_1217825350010001_HMK_210304814A_THOMAS_CAVANAUGH_002892406_2017', 'IBXRMA2018_MULT_1217849110010001_HMK_197302440B_ARLENE_WOJCIK_002819607_2017', 'IBXRMA2018_MULT_1207206600010001_HMK_163427638A_JOHN_WINAS_002810332_2017', 'IBXRMA2018_MULT_1216870310010001_HMK_186328978A_WILLIAM_JOHNS_002812449_2017', 'IBXRMA2018_MULT_1218076700010001_HMK_340385581T_BONITA_KORENGEL_002810889_2017_20180517122047', 'IBXRMA2018_MULT_1217129490010001_HMK_194524849A_ANTHONY_FILOSI_003387287_2017', 'IBXRMA2018_MULT_1230738130010001_HMK_180309138A_MARY_RINALDI_002811558_2017_20180612095805', 'IBXRMA2018_MULT_1184196260010001_HMK_154347764A_SANDRA_HUDSON_002821340_2017', 'IBXRMA2018_MULT_1217794660010001_HMK_191303809A_MARIA_AGLIALORO_002820655_2017_20180605124346', 'IBXRMA2018_MULT_1216753810010001_HMK_205265278A_WESLEY_DIETZ_002813286_2017', 'IBXRMA2018_MULT_1217169920010001_HMK_155307018A_PIERRETTE_LANGJAHR_002805178_2017', 'IBXRMA2018_MULT_1230303910010001_HMK_195465608A_MICHAEL_LIEBGOLD_002813619_2017', 'IBXRMA2018_MULT_1217817030010001_HMK_191302668A_GEORGE_MATEKOVIC_002804213_2017', 'IBXRMA2018_MULT_1270555800010001_HMK_209382741A_ROSA_DAVILA_002805198_2017', 'IBXRMA2018_MULT_1217357540010001_HMK_160244650A_FLORENCE_BLAKER_002813934_2017', 'IBXRMA2018_MULT_1216759500010001_HMK_190249071D_MARYANNE_DAVIDHEISER_002813089_2017', 'IBXRMA2018_MULT_1217958350010001_HMK_202341130A_JOHN_MCDERMOTT_002804594_2017', 'ibxrma2018_mult_1220984080010001_hmk_166422318a_joseph_conlin_002813367_2017', 'IBXRMA2018_MULT_1216784420010001_HMK_WA190446674_ANN_BARRON_002810550_2017', 'ibxrma2018_mult_1218092790010001_hmk_202322430a_jean_suchodolski_003343687_2017', 'IBXRMA2018_MULT_1216705100010001_HMK_169341741A_SONYA_GRIFFIN_002808118_2017', 'IBXRMA2018_MULT_1217046350010001_HMK_184409900A_CYNTHIA_KELLY_002807102_2017', 'IBXRMA2018_MULT_1256513850010001_HMK_168444950A_FRANK_LARK_002989333_2017', 'IBXRMA2018_MULT_1231614230010001_HMK_198467162A_MICHAEL_DUFFY_002805068_2017_20180502105717', 'IBXRMA2018_MULT_1217784760010001_HMK_207340063A_RACHEL_MOYER_002811506_2017', 'IBXRMA2018_MULT_1231209020010001_HMK_191348794A_MARY_HANNAFIN_002821619_2017', 'ibxrma2018_mult_1217841500010001_hmk_192626444a_laure_lopko_002808331_2017', 'IBXRMA2018_MULT_1230302950010001_HMK_170328692A_ROCCO_BRUNO_002805068_2017_20180502103139', 'IBXRMA2018_MULT_1163579870010001_HMK_202303925A_ROBERT_PECK_002813097_2017', 'IBXRMA2018_MULT_1216733630010001_HMK_210364787A_LOUIS_DALESIO_002884091_2017', 'ibxrma2018_mult_1217640110010001_hmk_181288342a_joan_stoy_002810271_2017', 'IBXRMA2018_MULT_1216740590010001_HMK_169366692A_JOSEPH_LANG_002884394_2017', 'IBXRMA2018_MULT_1217102110010001_HMK_164265551A_ELIZABETH_GILCHRIST_002810426_2017', 'IBXRMA2018_MULT_1196918590010001_HMK_166429030A_FRANCES_GILLEN_002807673_2017', 'IBXRMA2018_MULT_1226255400010001_HMK_251503382D7_MABLE_CONNER_002805065_2017_20180618084100', 'ibxrma2018_mult_1216812050010001_hmk_166347676a_robert_timm_002814612_2017', 'IBXRMA2018_MULT_1217996270010001_HMK_201302494A_EDWINA_SAUNDERS_002811586_2017', 'IBXRMA2018_MULT_1218033060010001_HMK_336283110A_VIRGINIA_SANTANGELO_002804060_2017', 'IBXRMA2018_MULT_1217810360010001_HMK_188165449A_ELEANOR_DICICCO_002805748_2017', 'IBXRMA2018_MULT_1218030070010001_HMK_185076766D_MADELINE_MASTRO_003018942_2017', 'IBXRMA2018_MULT_1230730300010001_HMK_181366196A_JANE_WAYTERRA_002885736_2017', 'IBXRMA2018_MULT_1217555780010001_HMK_169208705A_CHARLES_FULMER_002812411_2017', 'IBXRMA2018_MULT_1216733540010001_HMK_181640486A_DAE_UM_002805283_2017', 'IBXRMA2018_MULT_1253693470010001_HMK_167348507A_DAWN_JERNIGAN_002811506_2017', 'IBXRMA2018_MULT_1217483300010001_HMK_180362283A_KATHLEEN_COXON_002884394_2017', 'IBXRMA2018_MULT_1217111650010001_HMK_192200897A_BETTY_NUTTALL_002805068_2017_20180501093622', 'IBXRMA2018_MULT_1217490200010001_HMK_163327272A_JANE_MILKE_002809776_2017', 'IBXRMA2018_MULT_1216824330010001_HMK_183120161A_ELIZABETH_ZWIJSEN_002812425_2017', 'IBXRMA2018_MULT_1238271280010001_HMK_195364279A_JERRY_BATTLE_002808842_2017_20180511091705', 'IBXRMA2018_MULT_1216754590010001_HMK_153383009A_BRUCE_BRODACK_002811260_2017', 'IBXRMA2018_MULT_1257875680010001_HMK_167428612A_JULIANNE_MARKWALD_003387287_2017', 'IBXRMA2018_MULT_1217127950010001_HMK_162284616A_MARIE_FOLTZ_002810298_2017', 'IBXRMA2018_MULT_1217364790010001_HMK_168249684D_ALEXANDRA_BENALES_002812685_2017', 'IBXRMA2018_MULT_1217399810010001_HMK_182289064A_RUTH_CARMINATI_003166443_2017_20180517112042', 'IBXRMA2018_MULT_1216117190010001_HMK_190343627A_GLORIA_MILLS_002807434_2017', 'IBXRMA2018_MULT_1216702940010001_HMK_205161608A_JAMES_STCLAIR_003531447_2017', 'IBXRMA2018_MULT_1217532230010001_HMK_162325387A_WILLIAM_RICHTER_002809776_2017', 'ibxrma2018_mult_1217011090010001_hmk_199420856a_christine_bender_002804844_2017', 'IBXRMA2018_MULT_1217848040010001_HMK_204383907A_GARABET_KARAKELIAN_002812986_2017', 'IBXRMA2018_MULT_1217862240010001_HMK_360184823D_DORIS_FRIZEN_002812704_2017_20180504112849', 'IBXRMA2018_MULT_1217996060010001_HMK_414388121B_SANDRA_OLSON_002811563_2017_20180601100411', 'IBXRMA2018_MULT_1200092350010001_HMK_201409689A_THOMAS_ERKES_002813219_2017', 'IBXRMA2018_MULT_1212964160010002_HMK_177344404A_ROSALEEN_RICCA_002811886_2017', 'ibxrma2018_mult_1216801560010001_hmk_201363435a_theresa_bier_002804844_2017', 'IBXRMA2018_MULT_1230730060010001_HMK_164623725A_MICHAEL_BULL_002808375_2017', 'IBXRMA2018_MULT_1216709120010001_HMK_185205513D_DOLORES_WEISEL_002811260_2017', 'IBXRMA2018_MULT_1216987960010001_HMK_162282918A_LILLIAS_LESKIE_002818759_2017', 'IBXRMA2018_MULT_1217372870010001_HMK_180342523A_RONALD_GUERRIERI_002812614_2017', 'IBXRMA2018_MULT_1217858790010001_HMK_203142338A_JOSEPH_SKUBA_002812365_2017', 'IBXRMA2018_MULT_1277003940010001_HMK_160321861A_NANCY_SWEET-ROBINSON_002805287_2017', 'IBXRMA2018_MULT_1216838860010001_HMK_162307944A_JOHN_CARICKHOFF_002812986_2017', 'IBXRMA2018_MULT_1218021650010001_HMK_186162327A_ROSE_KELEMEN_002810879_2017_20180514085549', 'IBXRMA2018_MULT_1203012830010001_HMK_187402161A_LAWANDA_HAWKINS_002805176_2017', 'IBXRMA2018_MULT_1218109780010001_HMK_207263193A_ARLENE_ROSS_002805068_2017_20180501093634', 'IBXRMA2018_MULT_1217418120010001_HMK_168240699A_PATRICIA_COURTNEY_002810502_2017_20180619084101', 'IBXRMA2018_MULT_1217495890010001_HMK_026180738A_TERESA_ALLEN_002809942_2017', 'IBXRMA2018_MULT_1218020920010001_HMK_201340104A_DORIS_ORTLIP_002823143_2017_20180810200133', 'IBXRMA2018_MULT_1218096600010001_HMK_336367407A_FRANK_ALBERTINI_002810887_2017_20180507090034', 'IBXRMA2018_MULT_1216903150010001_HMK_208360043A_REGINA_GARRETSON_002804524_2017', 'IBXRMA2018_MULT_1217802120010001_HMK_211222911A_SARAH_KLEPACKI_002812425_2017', 'IBXRMA2018_MULT_1216970740010001_HMK_MA719169111_MARJORIE_ATTERSON_002823280_2017_20180502064242', 'IBXRMA2018_MULT_1269983620010001_HMK_522587058A_MARILYNN_COWGILL_002809547_2017', 'IBXRMA2018_MULT_1218082610010001_HMK_185240799A_MARGUERITE_ORGILL_002812454_2017', 'IBXRMA2018_MULT_1216756970010001_HMK_170344207A_WILLIE_PLUMMER_002809124_2017_20180719112440', 'IBXRMA2018_MULT_1218072700010001_HMK_201368960A_JUSTINO_AMARO_002812571_2017', 'IBXRMA2018_MULT_1234452430010001_HMK_174481699A_NICHOLAS_BRUNETTI_002813146_2017', 'IBXRMA2018_MULT_1217544680010001_HMK_168344421A_LAWRENCE_BONK_002813096_2017', 'IBXRMA2018_MULT_1217548390010001_HMK_182244005A_MARYTH_MONAGHAN_002820631_2017_20180724130621', 'IBXRMA2018_MULT_1217790050010001_HMK_186329499A_HARRY_BRUNGESS_002813089_2017', 'IBXRMA2018_MULT_1217159850010001_HMK_193248688A_MARY_BARRACLOUGH_002806283_2017', 'IBXRMA2018_MULT_1216695770010001_HMK_202187493D_ELIZABETH_STANAITIS_002812059_2017', 'IBXRMA2018_MULT_1217167060010001_HMK_161306537A_BENJAMIN_DOHNER_002812581_2017', 'IBXRMA2018_MULT_1164432530010001_HMK_166349816A_BARBARA_BECCARIA_002813089_2017', 'IBXRMA2018_MULT_1216901920010001_HMK_211280631A_JOAN_MELVILLE_003390991_2017', 'IBXRMA2018_MULT_1216701630010001_HMK_192443273A_CHARLENE_BROWN_002805032_2017_20180607095748', 'IBXRMA2018_MULT_1217172780010001_HMK_196341429A_WALTER_CRESSMAN_002810109_2017_20180815200245', 'IBXRMA2018_MULT_1217929920010001_HMK_207362518A_WARREN_AYRES_002812144_2017', 'IBXRMA2018_MULT_1253377960010001_HMK_205343854A_ROBERT_CEI_002805446_2017', 'IBXRMA2018_MULT_1216882380010001_HMK_375443031A_KATHLEEN_UPHAM_002803937_2017', 'IBXRMA2018_MULT_1217794060010001_HMK_206146509A_GEORGE_BLYTHE_002804171_2017_20180615200806', 'IBXRMA2018_MULT_1208228900010001_HMK_210684918A_NELETA_ALEXANDER_002812120_2017_20180524124526', 'IBXRMA2018_MULT_1268181900010002_HMK_167441701A_STEPHEN_STARCHESKI_002812704_2017_20180517153831', 'IBXRMA2018_MULT_1217478320010001_HMK_155240462A_LESLIE_RUPELL_002808568_2017', 'IBXRMA2018_MULT_1217998700010001_HMK_183343824A_DAVID_SALADINO_002814605_2017', 'IBXRMA2018_MULT_1216880200010001_HMK_211506266A_SON_MA_002811551_2017_20180510093705', 'IBXRMA2018_MULT_1218035550010001_HMK_185500413A_JODI_MONASTERO_002804738_2017', 'IBXRMA2018_MULT_1218080380010001_HMK_215409294A_LYDIA_RUSSO_003021623_2017', 'IBXRMA2018_MULT_1217844570010001_HMK_202186482A_MARY_GOTTLIEB_002815807_2017_20180717200227', 'IBXRMA2018_MULT_1216848840010001_HMK_196284928A_VERONICA_EVANS_002812427_2017', 'ibxrma2018_mult_1163563010010001_hmk_209329367a_ursulina_keller_002809378_2017', 'IBXRMA2018_MULT_1216936880010001_HMK_183380673A_GAETANO_MARTINI_002807071_2017', 'IBXRMA2018_MULT_1216763730010001_HMK_200246733A_IDA_BRENNAN_002884091_2017', 'IBXRMA2018_MULT_1217461070010001_HMK_178444758A_LUIS_QUINTEROS_002892406_2017', 'ibxrma2018_mult_1163818880010002_hmk_184303719a_samuel_wiley_002805015_2017', 'IBXRMA2018_MULT_1218098640010001_HMK_192261168A_JAMES_FERZETTI_002804172_2017', 'IBXRMA2018_MULT_1216933390010001_HMK_190760039A_SUNDER_CHELLAPPA_002809306_2017', 'IBXRMA2018_MULT_1216763220010001_HMK_204324884A_RICHARD_BANTA_002810887_2017_20180510093345', 'IBXRMA2018_MULT_1231614000010001_HMK_194244752A_JOCELYN_SMITH_002811720_2017', 'IBXRMA2018_MULT_1164507090010001_HMK_162444501A_DOMINIC_NICOLETTI_002805159_2017', 'IBXRMA2018_MULT_1231604200010001_HMK_194308937A_SANDRA_WHITE_002813364_2017_20180627200035', 'IBXRMA2018_MULT_1275158780010001_HMK_204441978D_RUTHANNE_COOPERSMITH_002811508_2017', 'IBXRMA2018_MULT_1216986610010001_HMK_188305309A_MARGARET_SACKSTETTER_002804645_2017', 'IBXRMA2018_MULT_1218000580010001_HMK_204380415A_LOUIS_STEFANO_002805003_2017', 'ibxrma2018_mult_1217488950010001_hmk_169306327a_olivia_fuller_002811298_2017', 'IBXRMA2018_MULT_1217856140010001_HMK_198124978A_RITA_DOLBEY_002818742_2017', 'IBXRMA2018_MULT_1231429190010001_HMK_186408331A_LINDA_LOKAY_002814924_2017', 'IBXRMA2018_MULT_1216829420010001_HMK_169344707A_JOYCE_HICKS_002807478_2017_20180503083503', 'ibxrma2018_mult_1223274200010001_hmk_182424015a_eunice_rogers_002814612_2017', 'IBXRMA2018_MULT_1217033840010001_HMK_189301513A_RAYMOND_FERRETTI_002811558_2017_20180612095315', 'IBXRMA2018_MULT_1217015880010001_HMK_190347865A_JOHN_VERRECHIO_003748727_2017', 'IBXRMA2018_MULT_1217856890010001_HMK_185449880A_MARY_HELLINGS_002821340_2017', 'IBXRMA2018_MULT_1217838610010001_HMK_193249148A_FRANCES_RUE_002804511_2017_20180914200429', 'IBXRMA2018_MULT_1164042440010001_HMK_162305965A_MARY_LUNSFORD_002805464_2017', 'IBXRMA2018_MULT_1218368480010001_HMK_251064820A_CURTIS_REED_002807862_2017', 'IBXRMA2018_MULT_1216886610010001_HMK_204241910A_JULIA_SCOTT_002808972_2017', 'IBXRMA2018_MULT_1217486950010001_HMK_162341503A_KENNETH_COSGROVE_002813096_2017', 'IBXRMA2018_MULT_1231613980010001_HMK_193404292A_DELORES_BRADY_002805472_2017', 'IBXRMA2018_MULT_1223362850010001_HMK_153409645A_JOSETTE_COSTELLO_002808540_2017_20180710092340', 'IBXRMA2018_MULT_1217455490010001_HMK_182387840D_KIMBERLY_THOMAS_002805178_2017', 'IBXRMA2018_MULT_1230277210010001_HMK_237905724A_PRISCILLA_LONGS_002815051_2017', 'IBXRMA2018_MULT_1217116800010001_HMK_202146855A_FLORENCE_KILIANY_002809776_2017', 'IBXRMA2018_MULT_1216774770010001_HMK_211268532A_ANNA_WALLEY_002812614_2017', 'IBXRMA2018_MULT_1218368480010001_HMK_251064820A_CURTIS_REED_002807862_2017_pmh', 'IBXRMA2018_MULT_1217791130010001_HMK_187289243A_EDWARD_COUGHLIN_002811511_2017', 'IBXRMA2018_MULT_1216905540010001_HMK_210265397A_JOHN_MCDEVITT_002805068_2017_20180502110859', 'IBXRMA2018_MULT_1262490310010001_HMK_164465627A_MARA_EDWARDS_002816737_2017', 'IBXRMA2018_MULT_1217837590010001_HMK_186243242A_ESTELLE_JORDAN_002808972_2017', 'IBXRMA2018_MULT_1221089820010001_HMK_179461054A_LINDA_TAMMARO_002813100_2017', 'IBXRMA2018_MULT_1218017160010001_HMK_200303077A_SYLVIA_GUHL_002818006_2017', 'IBXRMA2018_MULT_1218005120010001_HMK_194206202A_DOLORES_DICOSTANZA_002805068_2017_20180502084523', 'IBXRMA2018_MULT_1216746560010001_HMK_173226750A_MARIE_ZAPOROWSKI_002819158_2017', 'IBXRMA2018_MULT_1217551650010001_HMK_173301336A_MARGARET_KUSHMEDER_002803937_2017', 'IBXRMA2018_MULT_1217358730010001_HMK_171301432A_LENORE_SHERMAN_002810890_2017_20180523080552', 'IBXRMA2018_MULT_1216934390010001_HMK_205289390A_CHARLES_KIME_002804172_2017', 'IBXRMA2018_MULT_1217629480010001_HMK_146347449A_RUTH_SNIVELY_002812365_2017', 'IBXRMA2018_MULT_1217030410010001_HMK_174405164A_JOSEPH_ANTONUCCI_002812685_2017', 'ibxrma2018_mult_1196592020010001_hmk_203406392a_barbara_storck_003343687_2017', 'IBXRMA2018_MULT_1217009140010001_HMK_173281264A_ANN_PACITTI_002814428_2017', 'ibxrma2018_mult_1217946770010001_hmk_199247228a_luzzetta_jenkins_002813367_2017', 'IBXRMA2018_MULT_1205330730010001_HMK_170309127A_HERBERT_MCMAHON_002804988_2017', 'IBXRMA2018_MULT_1196397210010003_HMK_174426193A_JOYCE_GRACE_002810886_2017_20180907085808', 'IBXRMA2018_MULT_1216790000010001_HMK_190361934A_RONALD_LEARY_002813627_2017', 'ibxrma2018_mult_1217971340010001_hmk_202342205a_thomas_smith_002804684_2017', 'IBXRMA2018_MULT_1218051990010001_HMK_193206790A_ROSE_MARINO_003461845_2017', 'IBXRMA2018_MULT_1216934460010001_HMK_209361978A_KENNETH_ENGELMAN_002806751_2017', 'IBXRMA2018_MULT_1217949920010001_HMK_197306393A_MARGARET_RAWA_002811096_2017', 'IBXRMA2018_MULT_1217461930010001_HMK_167368054A_ROBERT_NANSTEEL_002809205_2017', 'ibxrma2018_mult_1217577390010001_hmk_173289125a_nellie_ziegler_002811507_2017', 'IBXRMA2018_MULT_1218359350010001_HMK_165483166A_STEPHEN_WOLOSZYNEK_003045996_2017_pmh', 'IBXRMA2018_MULT_1217951280010001_HMK_211224746D_JACQUELINE_STEFFE_002819368_2017', 'IBXRMA2018_MULT_1217562070010001_HMK_159280746A_JULIA_DURACHKO_002813095_2017', 'IBXRMA2018_MULT_1239187270010002_HMK_617082788A_BYUNK_CHOI_002812337_2017', 'IBXRMA2018_MULT_1231121560010001_HMK_161307574A_HAROLD_FILBURN_002811510_2017', 'IBXRMA2018_MULT_1217601730010001_HMK_169307125A_THERESA_PIZZA_002808558_2017', 'IBXRMA2018_MULT_1218010750010001_HMK_188342852A_ELSE_RUEDIGER_002813096_2017', 'IBXRMA2018_MULT_1218361740010001_HMK_177406620A_CHARLENE_CHAPMAN_002811260_2017', 'IBXRMA2018_MULT_1217066110010001_HMK_160266697A_JOHN_HIPP_002814428_2017', 'IBXRMA2018_MULT_1217814500010001_HMK_184405744A_MARY_MADDEN_002885776_2017', 'IBXRMA2018_MULT_1216861250010001_HMK_122263237A_PHILIP_MCDONALD_002803890_2017', 'IBXRMA2018_MULT_1216894830010001_HMK_180346171A_JOSEPH_BLACK_003118424_2017_20180510093520', 'IBXRMA2018_MULT_1216862720010001_HMK_MA203263646_DORIS_DUNCAN_002806571_2017_20180622110755', 'IBXRMA2018_MULT_1217094600010001_HMK_171225452A_ISABELLE_BLANK_002813165_2017', 'ibxrma2018_mult_1217538630010001_hmk_082300921a_margaret_garabedian_002804844_2017', 'IBXRMA2018_MULT_1217548800010001_HMK_169304740A_MATTHEW_PATTERSON_002812295_2017', 'IBXRMA2018_MULT_1207272820010001_HMK_176426444A_GALEN_KELLER_002804738_2017', 'IBXRMA2018_MULT_1217603010010001_HMK_024369981A_DANIEL_FAY_002813095_2017', 'IBXRMA2018_MULT_1218096670010001_HMK_208284955A_JOSEPH_TYRRELL_002813095_2017', 'IBXRMA2018_MULT_1221680640010001_HMK_164445142A_JAY_PUGH_002804172_2017', 'IBXRMA2018_MULT_1217075410010001_HMK_166280285A_JOHN_KANE_002808695_2017_20180720095753', 'ibxrma2018_mult_1217951620010001_hmk_188343915a_roland_massaroni_002865093_2017', 'IBXRMA2018_MULT_1217938280010001_HMK_211309094A_LORETTA_ABT_002812346_2017', 'IBXRMA2018_MULT_1218001950010001_HMK_191303209A_LOUISE_CRUMPTON_002805204_2017', 'IBXRMA2018_MULT_1217980550010001_HMK_368442140A_GEORGE_HOLMES_003002552_2017_20180509121446', 'IBXRMA2018_MULT_1217838000010001_HMK_186243439A_ROBERT_YOUNG_002804624_2017_20180501154023', 'IBXRMA2018_MULT_1217420900010001_HMK_169224140A_GLORIA_LANCE_002810466_2017_20180518095408', 'IBXRMA2018_MULT_1196446430010001_HMK_181407405T_MICHAEL_MANDRACHIA_002804624_2017_20180924112204', 'IBXRMA2018_MULT_1217036500010001_HMK_189242051B_ALICE_OBRIEN_003021773_2017', 'IBXRMA2018_MULT_1270491490010001_HMK_161035186D2_RITA_HANEY_002806571_2017_20180705135959', 'IBXRMA2018_MULT_1217114250010001_HMK_194120542A_NORMA_MURPHY_002811558_2017_20180531115800', 'IBXRMA2018_MULT_1231317380010001_HMK_161281038A_ROCCO_DIPAOLA_002804060_2017', 'IBXRMA2018_MULT_1217051230010001_HMK_180244402A_MARY_EVAK_002814365_2017_pmh', 'IBXRMA2018_MULT_1217006150010001_HMK_329203492D_MARJORIE_HACKBARTH_002813100_2017', 'ibxrma2018_mult_1216856010010001_hmk_003245399a_roland_brideau_002804684_2017', 'IBXRMA2018_MULT_1254110170010001_HMK_209384794A_LORNA_BOONE_002812109_2017_20180603221320', 'IBXRMA2018_MULT_1217103940010001_HMK_188264813D6_HELENE_KNIGHT_002889714_2017', 'IBXRMA2018_MULT_1218081870010001_HMK_192220742A_JOSEPHINE_KEITER_003172407_2017_20180629090151', 'IBXRMA2018_MULT_1217771110010001_HMK_190500421A_GIOVANNI_PERI_002805042_2017', 'IBXRMA2018_MULT_1216852310010001_HMK_159324091A_GUS_DONTAS_002813934_2017', 'IBXRMA2018_MULT_1216748360010001_HMK_187304322A_BARBARA_BAUGHMAN_002810892_2017_20180511091706', 'IBXRMA2018_MULT_1205607410010001_HMK_185424052A_CAROLYN_LEWIS_002810945_2017', 'ibxrma2018_mult_1217364340010001_hmk_171340874a_joann_weiss_002804909_2017', 'IBXRMA2018_MULT_1217902590010001_HMK_145301871B_BARBARA_MEINZER_002884394_2017', 'IBXRMA2018_MULT_1217827220010001_HMK_200385732A_MARIE_WEISS_002807673_2017', 'IBXRMA2018_MULT_1216897940010001_HMK_160365875A_ELLAMAE_BURGESS_002810897_2017', 'IBXRMA2018_MULT_1197559580010001_HMK_142306304A_ELAINE_ADLER_002805068_2017_20180502145130', 'IBXRMA2018_MULT_1216841030010001_HMK_181564699A_JENNIFER_FERRY_002812626_2017', 'IBXRMA2018_MULT_1217162960010001_HMK_157241632A_MARGARET_BRUCE_002884394_2017', 'IBXRMA2018_MULT_1218359320010001_HMK_165444589A_MARY_POWELL_002821619_2017', 'IBXRMA2018_MULT_1216959740010001_HMK_184345578A_JULIA_HASSON_002813089_2017', 'IBXRMA2018_MULT_1217906270010001_HMK_185361575A_ROBIN_GARBER_002812310_2017', 'IBXRMA2018_MULT_1163737310010001_HMK_184303280A_ILENE_BLUMBERG_002822472_2017', 'IBXRMA2018_MULT_1216700290010001_HMK_183223491A_AGNES_HATCHER_002806552_2017_20180706134206', 'IBXRMA2018_MULT_1200727750010001_HMK_025420062T_MICHAEL_KELLY_002884394_2017', 'IBXRMA2018_MULT_1217545750010001_HMK_180247348A_JOHN_RORER_002816338_2017', 'IBXRMA2018_MULT_1217131170010001_HMK_162282471A_CHARLES_PORTER_002804064_2017', 'IBXRMA2018_MULT_1205543170010002_HMK_181609365A_GOTZ_UNGER_002812310_2017', '002811494_174328162A_2016_001', 'IBXRMA2018_MULT_1217147840010001_HMK_183380657A_RICHARD_MAIALETTI_002809845_2017', 'IBXRMA2018_MULT_1217144840010001_HMK_167347707A_JUDITH_LATSHA_002811506_2017', 'ibxrma2018_mult_1230618950010001_hmk_166283482a_richard_beswick_002804730_2017', 'IBXRMA2018_MULT_1217070590010001_HMK_085241915A_PHYLLIS_LEGAULT_002811104_2017_20180921200354', 'IBXRMA2018_MULT_1226233850010001_HMK_161286954A_ALICE_BAKER_002817908_2017', 'IBXRMA2018_MULT_1217585040010001_HMK_009247205A_DAVID_FLANDERS_002813095_2017', 'IBXRMA2018_MULT_1217552080010001_HMK_163349334A_JOHN_HAMILTON_002806559_2017_20180705135955', 'IBXRMA2018_MULT_1216107550010001_HMK_171466237A_ROBERT_EMERY_002805068_2017_20180502105440', 'IBXRMA2018_MULT_1217976360010001_HMK_575433973A_YOUNG_KIM_002805282_2017', 'IBXRMA2018_MULT_1216757560010001_HMK_184328841A_BARBARA_HANHAUSER_002805198_2017', 'IBXRMA2018_MULT_1217362570010001_HMK_169366291A_MARYLOUIS_SCHREDL_002809666_2017_20180926200305', 'IBXRMA2018_MULT_1216100190010001_HMK_155306177A_VICTORIA_KLEPADLO_002821983_2017', 'IBXRMA2018_MULT_1216934900010001_HMK_210321893A_DOROTHY_FORD_002804595_2017_20180705200709', 'IBXRMA2018_MULT_1217384100010001_HMK_085381293A_PAUL_MCGLOIN_002805068_2017_20180502110938', 'IBXRMA2018_MULT_1218058940010001_HMK_194381940A_JOSEPH_FABRIZIO_002810502_2017_20180628102649', 'IBXRMA2018_MULT_1217817370010001_HMK_184329721A_LEONA_MAINES_002805003_2017', 'IBXRMA2018_MULT_1217445710010001_HMK_178287786A_MELVIN_WHITFIELD_002809070_2017', 'IBXRMA2018_MULT_1217441230010001_HMK_179342807A_HARRY_CLOTHIER_002805003_2017', 'IBXRMA2018_MULT_1216917720010001_HMK_179262252A_MARVIN_YERK_002810109_2017_20180821200125', 'IBXRMA2018_MULT_1216701640010001_HMK_192229874D4_MARYJANE_ROBINSON_003387287_2017', 'IBXRMA2018_MULT_1217119400010001_HMK_157183196A_HENRIETTA_SLAUGHTER_002812059_2017', 'IBXRMA2018_MULT_1217378850010001_HMK_182305287A_FREDERICK_RAGNO_002822472_2017', 'IBXRMA2018_MULT_1217792030010001_HMK_203189389A_DOROTHY_MUNDY_003387287_2017', 'ibxrma2018_mult_1217450020010001_hmk_175380113a_sharon_yeager_002822339_2017', 'IBXRMA2018_MULT_1164424370010001_HMK_206287751A_STANLEY_SZPINDOR_002811507_2017', 'IBXRMA2018_MULT_1216785340010001_HMK_199285566A_HANNAH_LOCKMAN_002807479_2017_20180523081343', 'IBXRMA2018_MULT_1217837720010001_HMK_194227761D_ANNA_SMITH_002812411_2017', 'IBXRMA2018_MULT_1196433570010002_HMK_179401460A_SUSAN_FUREY_002805068_2017_20180502105434', 'IBXRMA2018_MULT_1226292980010001_HMK_187446575T_MARY_CONKLIN_002804631_2017_20180618084056', 'IBXRMA2018_MULT_1173646360010001_HMK_182540991A_MICHELLE_ABATE_002805429_2017', 'IBXRMA2018_MULT_1217089870010001_HMK_194368036A_RONALD_KUNZELMAN_002812449_2017', 'IBXRMA2018_MULT_1217151680010001_HMK_165622798A_JOHANNA_GOLD_002804738_2017', 'IBXRMA2018_MULT_1230560930010001_HMK_164323512A_RONALD_ROTH_002811886_2017', 'IBXRMA2018_MULT_1217804260010001_HMK_190340331A_CARL_DIJOSEPH_002884091_2017', 'IBXRMA2018_MULT_1217770980010001_HMK_208263952A_DIANA_WAKELEY_002812710_2017_20180518103016', 'IBXRMA2018_MULT_1217785310010001_HMK_186243626A_SAMUEL_FITZGERALD_002813097_2017_pmh', 'IBXRMA2018_MULT_1216789800010001_HMK_MA177342124_CATERINA_BADALAMENTI_002813095_2017', 'IBXRMA2018_MULT_1217474730010001_HMK_174326675A_HARRIET_DAY_002808118_2017', 'IBXRMA2018_MULT_1235547570010001_HMK_183382831A_EMANUEL_DANIELS_002805319_2017', 'IBXRMA2018_MULT_1221980960010001_HMK_199344166A_JAMES_MARKERT_003393438_2017', 'IBXRMA2018_MULT_1217979750010001_HMK_202587023A_GEORGE_THARAKUNNEL_003031212_2017', 'ibxrma2018_mult_1163814500010001_hmk_193348319a_charles_wolfe_002809378_2017', 'IBXRMA2018_MULT_1256063740010001_HMK_173404585A_EDWARD_MORGAN_002806558_2017_20180724130651', 'IBXRMA2018_MULT_1216867890010001_HMK_177345243A_SUSAN_BRAY_002822469_2017_20180515090059', 'IBXRMA2018_MULT_1216965410010001_HMK_201366536A_JAMES_ELNICKI_003013337_2017', '002889714_187321778A_2016_002', 'IBXRMA2018_MULT_1217123320010001_HMK_097225227A_FRANCIS_HAMEL_002823208_2017_20180829200213', 'IBXRMA2018_MULT_1218005540010001_HMK_248406410A_SIMUEL_MYERS_002808967_2017', 'IBXRMA2018_MULT_1275158880010001_HMK_208608235A_MICHELLE_FERRO_002820630_2017_20180627105048', 'IBXRMA2018_MULT_1218059970010001_HMK_209405098A_ROSEMARY_ANDERSON-WOODS_002809124_2017_20180618084635', 'IBXRMA2018_MULT_1217082980010001_HMK_167307393A_FRANCIS_LOH_002805178_2017', 'IBXRMA2018_MULT_1216878800010001_HMK_004095043D_IDA_DINORSCIA_002819776_2017', 'IBXRMA2018_MULT_1205388870010001_HMK_173589924A_MAZIE_ROBINSON_002805068_2017_20180502150301', 'IBXRMA2018_MULT_1217378920010001_HMK_169384143A_RONA_JACKSON_002812476_2017', 'ibxrma2018_mult_1212326620010001_hmk_043386620a_alan_haroian_002808333_2017', 'IBXRMA2018_MULT_1216879110010001_HMK_159340418A_ADELINE_BRANTON_002885988_2017', 'IBXRMA2018_MULT_1217357810010001_HMK_181287549D_NANCY_SIMON_002813095_2017', 'IBXRMA2018_MULT_1273174800010001_HMK_199282204A_VERA_PEARSALL_002807872_2017_20180815090211', 'IBXRMA2018_MULT_1196493850010001_HMK_188422266T_MARLYNE_CARUOLO_003069945_2017', 'ibxrma2018_mult_1216995120010001_hmk_157160607a_doris_hoffman_002865093_2017', 'fa_fax000010665_', 'ibxrma2018_mult_1217820860010001_hmk_204401469a_thomas_walker_002808329_2017', 'IBXRMA2018_MULT_1163853360010001_HMK_192389441A_CAROL_JACOB_002818412_2017', 'IBXRMA2018_MULT_1216859930010001_HMK_202241294A_MARY_SHUMAN_002806751_2017', 'IBXRMA2018_MULT_1217575970010001_HMK_164447162A_BARBARA_TRENCHIK_002812624_2017', 'IBXRMA2018_MULT_1216819150010001_HMK_155328189A_SUZANNE_TANSKY_002807434_2017', 'ibxrma2018_mult_1217135240010001_hmk_190345707a_alvin_freeman_002814612_2017', 'IBXRMA2018_MULT_1217783280010001_HMK_553506817A_ROBERT_LINDEN_002809074_2017', 'IBXRMA2018_MULT_1217639200010001_HMK_043327772A_MARJORIE_COLLINS_002805068_2017_20180502103045', 'IBXRMA2018_MULT_1217946280010001_HMK_194309348A_KENNETH_WANNER_002813097_2017', 'IBXRMA2018_MULT_1218078980010001_HMK_197249778A_JOAN_HOFFER_002823208_2017_20180829200213', 'IBXRMA2018_MULT_1217925350010001_HMK_211162474A_MURRY_LEVYN_002807479_2017_20180522085809', 'IBXRMA2018_MULT_1216798310010001_HMK_166349235A_CAROLE_DANGELO_002811224_2017_20180603220549', 'IBXRMA2018_MULT_1217969680010001_HMK_248664343A_LARRY_PARKER_002805289_2017_20180711093707', 'IBXRMA2018_MULT_1200394370010001_HMK_181420995A_LARRY_JOHNSON_002805204_2017', 'IBXRMA2018_MULT_1217582000010001_HMK_162265916A_JERROLD_TYLER_002813095_2017', 'IBXRMA2018_MULT_1217569270010001_HMK_162605716A_MARIO_ORSI_002805198_2017', 'IBXRMA2018_MULT_1233044910010001_HMK_109343528D_JEANNINE_WHITFIELD_002805068_2017_20180502151213', 'IBXRMA2018_MULT_1217609070010001_HMK_173309716A_ANNE_DONAHER_002806283_2017', 'IBXRMA2018_MULT_1216750770010001_HMK_208349851A_MARGARET_BRADLEY_002823208_2017_20180829200213', 'IBXRMA2018_MULT_1217106650010001_HMK_167284384A_FRANCIS_MCCONE_002808301_2017_20180601095941', 'IBXRMA2018_MULT_1216987240010001_HMK_197264701A_WELDON_HAWTHORNE_002807673_2017', 'IBXRMA2018_MULT_1217937620010001_HMK_220484162A_BARBARA_ROBINSON_003485360_2017_20180608200341', 'IBXRMA2018_MULT_1238545220010001_HMK_180360461A_PATRICIA_GRAY_002808118_2017', 'IBXRMA2018_MULT_1217967050010001_HMK_207146946A_ANTHONY_FRANCHETTI_002823034_2017_20180613093547', 'IBXRMA2018_MULT_1217595610010001_HMK_180308367D_OLGA_CAROL-LENTINI_002815461_2017', 'IBXRMA2018_MULT_1216877080010001_HMK_193348086A_MARY_COSENTINO_002807673_2017', 'IBXRMA2018_MULT_1218119500010001_HMK_208320206A_FERDINAND_GIARROCCO_003018942_2017', 'IBXRMA2018_MULT_1217807400010001_HMK_190361968A_JANICE_RAWLING_002821652_2017', 'IBXRMA2018_MULT_1217465880010001_HMK_047126603D7_VIOLET_KEENAN_002811551_2017_20180629090151', 'IBXRMA2018_MULT_1232377770010001_HMK_183246387A_DOROTHY_BEAN_002813100_2017', 'IBXRMA2018_MULT_1218062240010001_HMK_205361642A_DONNA_GLASGOW_002805465_2017', 'IBXRMA2018_MULT_1207333340010002_HMK_188425065A_KATHLEEN_MCKENNA_002811886_2017', 'IBXRMA2018_MULT_1227696080010001_HMK_205309166A_ORLETTA_BEALER_002806751_2017', 'IBXRMA2018_MULT_1218037880010001_HMK_189300928A_ANNAMARIE_LITTLE_002803964_2017', 'IBXRMA2018_MULT_1217428710010001_HMK_177305737A_FRANCIS_TAYLOR_003089249_2017_20180515085540', 'IBXRMA2018_MULT_1217619830010001_HMK_175329422D_SANDRA_SUPPLEE_003118933_2017_pmh', 'ibxrma2018_mult_1223297350010001_hmk_166423063a_jeanne_rand_002813367_2017', 'IBXRMA2018_MULT_1217817330010001_HMK_194208048A_JANE_TIFFANY_002815935_2017', 'IBXRMA2018_MULT_1216879770010001_HMK_177345150A_MALINDA_ROBINSON_002989255_2017', 'IBXRMA2018_MULT_1217095910010001_HMK_229503914A_LLOYD_MITCHELL_002808298_2017_20180606131806', 'IBXRMA2018_MULT_1217064000010001_HMK_195329553A_BERNARD_SLEMMER_003020116_2017_20180719200301', 'ibxrma2018_mult_1207318200010001_hmk_185421962a_janie_newton_002808333_2017', 'IBXRMA2018_MULT_1217139160010001_HMK_174269570A_JOHN_BOCKIUS_002808540_2017_20180622092734', 'IBXRMA2018_MULT_1217953930010001_HMK_186345105A_WALTER_DOWNEY_003643542_2017', 'IBXRMA2018_MULT_1189124510010001_HMK_190324651A_FRANCIS_RAWSON_002805068_2017_20180502150256', 'IBXRMA2018_MULT_1216772650010001_HMK_159325517A_THOMAS_CURRAN_002822218_2017', 'IBXRMA2018_MULT_1204079900010001_HMK_159440489A_SUSAN_CICUTTI_002811307_2017', 'IBXRMA2018_MULT_1230656820010001_HMK_180204850A_CHARLES_SMITH_002818014_2017', 'IBXRMA2018_MULT_1231780930010002_HMK_186328445A_SHIRLEY_GLOVER_002804624_2017_20180706091209', 'IBXRMA2018_MULT_1201349320010001_HMK_147444805A_MATTHEW_CARTER_002813099_2017', 'IBXRMA2018_MULT_1217414120010001_HMK_160405525A_VALERIE_DOUGLAS_003304781_2017', 'IBXRMA2018_MULT_1217831710010001_HMK_197301952A_ROSEMARIE_FARLEY_002807673_2017', 'IBXRMA2018_MULT_1190273750010001_HMK_200262284A_EDWARD_HUNT_002808112_2017', 'IBXRMA2018_MULT_1217550030010001_HMK_164403296A_JOSEPH_DAUBER_002811886_2017_pmh', 'IBXRMA2018_MULT_1217145350010001_HMK_209344847B6_JANET_MACCHIONE_002810502_2017_20180920114451', 'IBXRMA2018_MULT_1230509030010001_HMK_169141432A_MILDRED_LINSENBIGLER_002822218_2017', 'IBXRMA2018_MULT_1250909300010001_HMK_168441420A_CHARLOTTA_FOSTER-BEY_002806283_2017', 'IBXRMA2018_MULT_1216900140010001_HMK_210225585D_BARBARA_LAROSA_003387287_2017', 'IBXRMA2018_MULT_1198039330010001_HMK_166428417A_LORETTA_DOLAN_002812418_2017', 'IBXRMA2018_MULT_1216862650010001_HMK_197243492D_CONSTANCE_WALLACE_002812986_2017', 'IBXRMA2018_MULT_1217097340010001_HMK_185287409A_JOHN_OLIVA_003021623_2017', 'IBXRMA2018_MULT_1216850710010001_HMK_167249560A_PETER_KLEIN_002807250_2017', 'IBXRMA2018_MULT_1222240210010001_HMK_169340032D_GLORIA_MORGAN_002807872_2017_20180814162020', 'IBXRMA2018_MULT_1203655670010001_HMK_201440293A_JAMES_VERLINGHIERI_002804172_2017', 'IBXRMA2018_MULT_1216699290010001_HMK_181300489A_SHIRLEY_ODONNELL_002814900_2017', 'IBXRMA2018_MULT_1216934560010001_HMK_162302256A_KENNETH_DEWEES_002808695_2017_20180713092841', 'IBXRMA2018_MULT_1231209090010001_HMK_172429449A_PATRICIA_ROGERS_002821919_2017', 'IBXRMA2018_MULT_1217008280010001_HMK_201302898A_BARBARA_BONO_002819447_2017_20180501154023', 'IBXRMA2018_MULT_1233192950010001_HMK_200508327A_STEVEN_BOLINGER_002812097_2017', 'IBXRMA2018_MULT_1216831820010001_HMK_163321271A_PAUL_MINICK_002807839_2017_20180606131801', 'IBXRMA2018_MULT_1226393880010001_HMK_161285946A_ROY_WYATT_003159672_2017', 'IBXRMA2018_MULT_1164430290010001_HMK_183424312A_BARBARA_GULLA_002989001_2017', 'IBXRMA2018_MULT_1230476290010002_HMK_184286567A_DAVID_GEORGE_002823208_2017_20180829200213', 'IBXRMA2018_MULT_1201738080010001_HMK_190387532T_ROBERT_WORTHINGTON_002813100_2017', 'IBXRMA2018_MULT_1217483870010001_HMK_169268520A_RICHARD_RICKERT_002811509_2017', 'IBXRMA2018_MULT_1217102720010001_HMK_168447153A_ANGELINE_CECI_002804524_2017', 'IBXRMA2018_MULT_1216716520010001_HMK_188302200A_JACKLYN_MAROZZI_002813619_2017', 'IBXRMA2018_MULT_1216849270010001_HMK_199285641A_ALICE_REAVY_002822472_2017', 'IBXRMA2018_MULT_1216764410010001_HMK_180308437A_MARIO_CAROSELLA_002808559_2017', 'IBXRMA2018_MULT_1218367380010001_HMK_209302472A_RAYMOND_SOLLIDAY_002817931_2017', 'IBXRMA2018_MULT_1232380240010001_HMK_200300505A_MARY_PALESTINI_002805178_2017', 'IBXRMA2018_MULT_1217783510010001_HMK_204323361A_THOMAS_BOHNER_002809776_2017', 'IBXRMA2018_MULT_1216850820010001_HMK_159348095A_GEORGE_MYLONAS_003470886_2017', 'IBXRMA2018_MULT_1216130030010001_HMK_243808294A_SANDRA_CROTTS_002805250_2017_20180612200207', 'ibxrma2018_mult_1216752980010001_hmk_177306658a_noah_deshields_002822472_2017', 'IBXRMA2018_MULT_1174096030010001_HMK_165383916A_SUELLEN_HOLTZ_002811700_2017', 'IBXRMA2018_MULT_1240940610010001_HMK_184406508A_STEPHEN_DEVINCENTIS_002885816_2017', 'ibxrma2018_mult_1217166190010001_hmk_188262399a_francis_powell_003343687_2017', 'ibxrma2018_mult_1203206200010002_hmk_047563725t_hye_yang_002806260_2017', 'IBXRMA2018_MULT_1216954360010001_HMK_176407628A_MARGARET_CLEE_002811068_2017', 'IBXRMA2018_MULT_1217845990010001_HMK_198305626A_WILLIAM_PEIFER_002813097_2017', 'IBXRMA2018_MULT_1217365690010001_HMK_177267735B_DOLORES_PELLECCHIA_002822417_2017', 'IBXRMA2018_MULT_1217138990010001_HMK_209342654A_NANCY_BELLEW_002804725_2017', 'IBXRMA2018_MULT_1230442760010001_HMK_198288396A_WILLIAM_GARMAN_002817222_2017', 'IBXRMA2018_MULT_1217781930010001_HMK_197182520A_RITA_MATRONE_002805068_2017_20180502111009', 'IBXRMA2018_MULT_1176814330010001_HMK_186226639A_JOHN_BROGAN_002805068_2017_20180502102900', 'IBXRMA2018_MULT_1218104490010001_HMK_203187404A_ELAINE_RIPLEY_002808403_2017', 'IBXRMA2018_MULT_1217172840010001_HMK_210243398D_HELENA_GOULD_002818015_2017', 'IBXRMA2018_MULT_1216731220010001_HMK_181408735A_NANCY_MAKIN_002811510_2017', 'IBXRMA2018_MULT_1216729980010001_HMK_160265854A_WILLIAM_HAVARD_002812614_2017', 'IBXRMA2018_MULT_1216745060010001_HMK_186242831A_EARL_GARGES_002813095_2017', 'ibxrma2018_mult_1217622970010001_hmk_169267976a_robert_swenk_002817360_2017', 'IBXRMA2018_MULT_1218080390010001_HMK_199225586A_AGNES_JONES_002808155_2017', 'IBXRMA2018_MULT_1217379180010001_HMK_070341829A_SUSAN_LEWIS_002884394_2017', 'IBXRMA2018_MULT_1259440540010001_HMK_370542548A_JOAN_HUCKSTEP_002808118_2017', 'IBXRMA2018_MULT_1216864510010001_HMK_179225785A_ALBERT_ANSUINI_002816896_2017_20180628201246', 'IBXRMA2018_MULT_1216905680010001_HMK_160265677A_JOAN_FREEDMAN_002822847_2017', 'IBXRMA2018_MULT_1217490900010001_HMK_171242008D_CATHERINE_HARKINS_002807102_2017', 'IBXRMA2018_MULT_1217166280010001_HMK_173342274A_RAYMOND_GWYNN_002813144_2017', 'IBXRMA2018_MULT_1216841250010001_HMK_190348042A_RONALD_BROOKS_002807478_2017_20180518095105', 'IBXRMA2018_MULT_1216966400010001_HMK_197383352T_DAVID_GEHRINGER_002812709_2017_20180504112907', 'IBXRMA2018_MULT_1217844280010001_HMK_187248483A_ALBERT_PAULBINSKY_003186821_2017', 'ibxrma2018_mult_1216831220010001_hmk_162306738a_george_draper_002809278_2017', 'ibxrma2018_mult_1217933240010001_hmk_186521445a_ruth_black_002804844_2017', 'IBXRMA2018_MULT_1164306830010001_HMK_163349577A_MARY_POSTIGLIONE_002812614_2017', 'IBXRMA2018_MULT_1270098280010001_HMK_555494686A_DAE_HAHM_002805283_2017', 'IBXRMA2018_MULT_1199714070010001_HMK_173664429A_SHEUEHONG_KUO_002808842_2017_20180518095341', 'IBXRMA2018_MULT_1264535580010001_HMK_170441366A_GEORGE_KEISER_002811509_2017', 'fu_002813808_121669390001_2017_96_227_221_65_20180617164546', 'IBXRMA2018_MULT_1217014460010001_HMK_189383046A_THERESE_TICE_002811558_2017_20180626093014', 'IBXRMA2018_MULT_1217438150010001_HMK_178364207A_JUDITH_MCCREARY_002814091_2017_20180601095945', 'IBXRMA2018_MULT_1253298010010001_HMK_160327337A_ALOYSIUS_STEIERT_002813097_2017', 'IBXRMA2018_MULT_1217359300010001_HMK_181307302A_HELLEN_MCCOLLUM_002812110_2017_20181018214135', 'IBXRMA2018_MULT_1218093970010001_HMK_210302629A_BARBARA_DOWNS_003166443_2017_20180917153652', 'IBXRMA2018_MULT_1235932650010001_HMK_584036744A_JOSE_CRUZ-COSME_003395170_2017', 'IBXRMA2018_MULT_1217603240010001_HMK_137789948A_RENATE_BAL_002821983_2017', 'IBXRMA2018_MULT_1216999480010001_HMK_187280146A_ROSEMARY_SAMTMANN_003012219_2017_20180630200028', 'IBXRMA2018_MULT_1230839010010001_HMK_192342823A_ALLAN_DZUMAGA_002819158_2017', 'ibxrma2018_mult_1216814680010001_hmk_197326117a_anthony_dirico_002804844_2017', 'IBXRMA2018_MULT_1216130240010001_HMK_247800789A_RICHARD_LLOYD_002808540_2017_20180801105158', 'IBXRMA2018_MULT_1230442310010001_HMK_162283434A_JOHN_DONNELLY_002812427_2017', 'IBXRMA2018_MULT_1216983620010001_HMK_188164923D_ELEANOR_GALLAGHER_002804901_2017', 'IBXRMA2018_MULT_1221486930010001_HMK_203502340A_AMADO_SANTIAGO_002814252_2017_20180730104339', 'IBXRMA2018_MULT_1217195430010001_HMK_172303215A_JOHN_WARRINGTON_002812623_2017_pmh', 'ibxrma2018_mult_1217183430010001_hmk_185408904a_helen_wijtyszyn_003343687_2017', 'IBXRMA2018_MULT_1242296480010001_HMK_208409794A_ROBERTA_OLEARCHIK_003030903_2017', 'IBXRMA2018_MULT_1218086810010001_HMK_195307656A_ROBERT_ROHRBACH_002803829_2017', 'IBXRMA2018_MULT_1163571060010001_HMK_172261934A_JOSEPH_SLEMMER_003031212_2017', 'IBXRMA2018_MULT_1216699570010001_HMK_205289000A_FLORENCE_BROOK_002811480_2017', 'IBXRMA2018_MULT_1163674050010001_HMK_231601224A_ERNESTINE_TAYLOR_002820665_2017', 'IBXRMA2018_MULT_1217536650010001_HMK_173263779A_ELIZABETH_VILLANI_002807250_2017', 'IBXRMA2018_MULT_1230871990010001_HMK_179223245D6_ROSE_HOOPES_002812704_2017_20180509121449', 'IBXRMA2018_MULT_1217768030010001_HMK_198440186A_PANGCHING_LEE_002811460_2017', 'IBXRMA2018_MULT_1204112010010001_HMK_195626773A_HUNMIN_SIU_002815743_2017', 'IBXRMA2018_MULT_1232513080010001_HMK_170448166A_FRANK_LEE_002804292_2017', 'IBXRMA2018_MULT_1217359370010001_HMK_177324233A_ROSA_NIGRELLI_002807863_2017', 'IBXRMA2018_MULT_1218036170010001_HMK_242626054A_ARTENCIE_MCKOY_002810945_2017', 'IBXRMA2018_MULT_1217777200010001_HMK_186243204A_MARY_CORUM_002804543_2017', 'IBXRMA2018_MULT_1231781820010001_HMK_209381529A_JUANITA_CHAPMAN_002805251_2017_20180801200219', 'IBXRMA2018_MULT_1217103920010001_HMK_122285951A_ELEANOR_SUSSKIND_002805068_2017_20180502145151', 'IBXRMA2018_MULT_1217139170010001_HMK_199422102A_HARRY_WHITFIELD_002805159_2017', 'ibxrma2018_mult_1216983710010001_hmk_201227400a_theresa_salvia_002865093_2017', 'IBXRMA2018_MULT_1216831820010001_HMK_163321271A_PAUL_MINICK_002807434_2017', 'IBXRMA2018_MULT_1216916060010001_HMK_162364693A_PATRICE_DEVIRGILIS_002804599_2017', 'IBXRMA2018_MULT_1216116300010001_HMK_188344486A_RICHARD_BOGLE_002813251_2017_20180516083625', 'IBXRMA2018_MULT_1164583400010001_HMK_169346357D_GIOIA_KOHLBRENNER_002812476_2017', 'IBXRMA2018_MULT_1270491650010001_HMK_175366930A_JUDITH_CARLSON_002818556_2017', 'IBXRMA2018_MULT_1218101130010001_HMK_192202033A_ESTHER_JONES_002819677_2017', 'IBXRMA2018_MULT_1174094080010001_HMK_177620995T_YEUNG_LEE_002817908_2017', 'IBXRMA2018_MULT_1239769470010001_HMK_166384854A_GAIL_LEADER_002813096_2017', 'IBXRMA2018_MULT_1236372060010001_HMK_187720820A_TATIANA_USHEVA_002805198_2017', 'IBXRMA2018_MULT_1218107040010001_HMK_219367508A_DIETRICH_KOLETTY_002804506_2017_20180730200252', 'IBXRMA2018_MULT_1217085130010001_HMK_162282036D_CATHERINE_KILGORE_002812413_2017', 'IBXRMA2018_MULT_1202824440010001_HMK_161602928T_EUI_LEE_002812337_2017', 'IBXRMA2018_MULT_1217503850010001_HMK_181362959A_JANET_HOUPERT_002811509_2017', 'IBXRMA2018_MULT_1216795930010001_HMK_179241457A_NANCY_LYONS_002804645_2017', 'ibxrma2018_mult_1217819810010001_hmk_210427083a_shirley_jennings_002804132_2017', 'IBXRMA2018_MULT_1211387650010002_HMK_185440899T_JANE_BENSIGNOR_002810883_2017_20180515085727', 'IBXRMA2018_MULT_1217571500010001_HMK_008241185D_ELIZABETH_CAMIRE_002804524_2017', 'IBXRMA2018_MULT_1212708190010001_HMK_210385119B1_THEODORE_LADA_002821652_2017', 'IBXRMA2018_MULT_1217575520010001_HMK_169786937A_HANS_AGU_002885736_2017', 'IBXRMA2018_MULT_1216735290010001_HMK_159501165A_NANCY_MILLER_002813236_2017', 'IBXRMA2018_MULT_1164204050010001_HMK_192344562A_KLAUS_BERNHARDT_002804595_2017_20180705200709', 'IBXRMA2018_MULT_1217942810010001_HMK_525763087A_WILMA_GRACE_002804172_2017', 'IBXRMA2018_MULT_1216931940010001_HMK_174320109A_BRIDGETTE_MCCALLEN_003018312_2017', 'IBXRMA2018_MULT_1216838180010001_HMK_176423820C2_DAVID_LEIS_002819677_2017', 'IBXRMA2018_MULT_1223749860010001_HMK_167247180A_WILLIAM_COOK_002811494_2017', 'IBXRMA2018_MULT_1217791360010001_HMK_204249883A_RALPH_FUCETOLO_003018907_2017', 'ibxrma2018_mult_1216910080010001_hmk_186243453a_helen_deturk_002822380_2017', 'IBXRMA2018_MULT_1217071550010001_HMK_179242107D_MILDRED_LEINHAUSER_002816737_2017', 'IBXRMA2018_MULT_1218051570010001_HMK_290402098A_JOHN_LARRICK_002811306_2017_20180606160637', '002885988_177287348A_2016_001', 'IBXRMA2018_MULT_1218004170010001_HMK_356469445A_PHYLLIS_BOBB_002804912_2017', 'IBXRMA2018_MULT_1217382080010001_HMK_179221203A_ORVILLE_RIFENBURG_002815641_2017', 'IBXRMA2018_MULT_1218038060010001_HMK_183343641A_DOMENICO_SERRAO_002822469_2017_20180618090123', 'IBXRMA2018_MULT_1217027750010001_HMK_150540344A_DAISY_VERBENA_002805178_2017', 'IBXRMA2018_MULT_1218012470010001_HMK_189260020A_NANCY_OWENS_002811510_2017', 'IBXRMA2018_MULT_1217564470010001_HMK_182243167A_FRANCES_ONEILL_002808695_2017_20180709085411', 'IBXRMA2018_MULT_1262290420010001_HMK_201560718A_ANDREW_LEVIN_002819158_2017', 'IBXRMA2018_MULT_1217414270010001_HMK_028381760A_MICHAEL_BOWEN_002821619_2017', 'IBXRMA2018_MULT_1217629970010001_HMK_171340965A_BEVERLY_BOZARTH_002818412_2017', 'IBXRMA2018_MULT_1218050210010001_HMK_189264867A_LLOYD_OLIVER_002818412_2017_pmh', 'IBXRMA2018_MULT_1217475670010001_HMK_135328632A_HELGA_VENEMA_002805068_2017_20180502151057', 'IBXRMA2018_MULT_1216849290010001_HMK_164265733B_SHIRLEY_WALLACE_002812424_2017', 'IBXRMA2018_MULT_1216111730010001_HMK_179348240A_RAYMOND_PAYNE_002811840_2017', 'ibxrma2018_mult_1217792720010001_hmk_223588012a_rae_gilbert_002804844_2017', 'IBXRMA2018_MULT_1217610440010001_HMK_166281694A_THERESA_MILLER_002811551_2017_20180529105834', 'ibxrma2018_mult_1216781390010001_hmk_201128900a_robert_weaver_002805152_2017', 'ibxrma2018_mult_1226830670010001_hmk_186226762a_nancy_tuckey_002804844_2017', 'IBXRMA2018_MULT_1218016920010001_HMK_202309983B_JANICE_GABOR_002808404_2017', 'IBXRMA2018_MULT_1263319840010001_HMK_188427349A_LAWRENCE_COSTAR_002803937_2017', 'IBXRMA2018_MULT_1217092860010001_HMK_150345745A_MEREDITH_BRADBURY_002812144_2017', 'IBXRMA2018_MULT_1217432210010001_HMK_182427254A_WYNNE_HILL_002808118_2017', 'IBXRMA2018_MULT_1216105230010001_HMK_167284929A_DOMINICK_CASSISE_002815461_2017', 'IBXRMA2018_MULT_1222284040010001_HMK_179344852A_FELDER_STEWART_002808558_2017', 'IBXRMA2018_MULT_1217497030010001_HMK_179504710A_BARBARA_TROSTLE_002807541_2017', 'IBXRMA2018_MULT_1217638030010001_HMK_079343614A_BETTE_THOMPSON_002818412_2017', 'IBXRMA2018_MULT_1218358320010001_HMK_159461377A_SHARON_NAEGELE_002818759_2017', 'IBXRMA2018_MULT_1230272320010001_HMK_197566152A_ANGELO_BADALAMENTI_002820440_2017', 'IBXRMA2018_MULT_1217116580010001_HMK_156345341A_JERRY_BOYD_002804506_2017_20180730200252', 'IBXRMA2018_MULT_1218109030010001_HMK_187281811A_LORETTA_SHUGART_002814428_2017', 'ibxrma2018_mult_1216746430010001_hmk_196329759a_julia_heckler_002811509_2017', 'IBXRMA2018_MULT_1221778040010001_HMK_182484586A_BARBARA_MCMAHON_002822472_2017', 'IBXRMA2018_MULT_1217371110010001_HMK_173283713D_PHYLLIS_NONNAMAKER_002809666_2017_20180926200305', 'IBXRMA2018_MULT_1198874440010001_HMK_204504055A_JOHN_AMENTT_002818556_2017', 'IBXRMA2018_MULT_1163949920010001_HMK_205365942A_GEORGE_VANHORN_002822847_2017', 'IBXRMA2018_MULT_1217054650010001_HMK_154361372A_JERILYNN_MCGOVERN_002807434_2017', 'IBXRMA2018_MULT_1230657000010001_HMK_193405924A_SANDSCHA_HURGUNOW_002818556_2017', 'IBXRMA2018_MULT_1236965430010001_HMK_198428861B_DONNA_DACHOWSKI_002820655_2017_20180619104221', 'IBXRMA2018_MULT_1231489530010001_HMK_027369501A_THOMAS_ERICKSON_002806302_2017', 'IBXRMA2018_MULT_1218000950010001_HMK_382329635A_SUZANNE_POLLARD_003012219_2017_20180630200028', 'IBXRMA2018_MULT_1223618220010001_HMK_242780955A_BRENDA_GOODE_002821598_2017', 'ibxrma2018_mult_1218025920010001_hmk_204205190a_francis_widener_003396944_2017', 'IBXRMA2018_MULT_1216702210010001_HMK_182402078A_DIANNE_BRADLEY_002806558_2017_20180611084009', 'IBXRMA2018_MULT_1217035040010001_HMK_167204095A_LAURA_STONEMETZ_002805068_2017_20180502151025', 'IBXRMA2018_MULT_1216828490010001_HMK_227308069A_HERBERT_JORDAN_002805150_2017', 'IBXRMA2018_MULT_1220149640010001_HMK_184328505A_JOSEPH_FLUEHR_002885736_2017', 'IBXRMA2018_MULT_1232775850010001_HMK_185722905A_CHIK_KWONG_002823143_2017_20180804200026', 'IBXRMA2018_MULT_1217400120010001_HMK_170365342A_JOHN_CROWLEY_002811096_2017', 'IBXRMA2018_MULT_1217141670010001_HMK_200720237A_FRANCIS_JONES_002808580_2017', 'IBXRMA2018_MULT_1218045350010001_HMK_184343349A_DONNA_BECHTEL_002812581_2017', 'IBXRMA2018_MULT_1217540840010001_HMK_143244529A_MARGARITA_KERN_002885736_2017', 'IBXRMA2018_MULT_1217422370010001_HMK_173268506A_GEORGE_SANTELLO_002804645_2017', 'IBXRMA2018_MULT_1199709830010001_HMK_164425917A_MARIA_PASQUALINO_002809534_2017_20180711093718', 'IBXRMA2018_MULT_1217768440010001_HMK_205289927A_NORMAN_YANOVITZ_002804506_2017_20180807200247', 'IBXRMA2018_MULT_1217584550010001_HMK_166281666A_ALDO_DELUCA_002803892_2017', 'IBXRMA2018_MULT_1216948100010001_HMK_169342753A_JOHN_CASTAGNA_002805068_2017_20180502102945', 'IBXRMA2018_MULT_1183055490010001_HMK_383743011A_AGATHA_KIM_002812337_2017', 'IBXRMA2018_MULT_1231491240010001_HMK_197326007A_CONCHITA_BLAKE_002815749_2017', 'IBXRMA2018_MULT_1262022630010001_HMK_052908907A_TOMAS_GARCIA-GARCIA_002807883_2017', 'IBXRMA2018_MULT_1217015170010001_HMK_180385264A_DAVID_KUEHNE_002806555_2017_20180713115939', 'IBXRMA2018_MULT_1216989250010001_HMK_192160844A_EDMUND_SEIBERT_003147994_2017_20180618090118', 'IBXRMA2018_MULT_1217182580010001_HMK_195404570A_PHILIP_DELVECCHIO_002811886_2017', 'IBXRMA2018_MULT_1218047760010001_HMK_206387190A_DON_HARNER_002813095_2017', 'IBXRMA2018_MULT_1217045270010001_HMK_210287721A_GEORGE_CUSH_002805068_2017_20180502102955', 'IBXRMA2018_MULT_1216872290010001_HMK_141360921A_DAVID_AUSTIN_002807910_2017_20180619084504', 'IBXRMA2018_MULT_1213394620010001_HMK_200486366A_REBECCA_HENLY_002806549_2017_20180706134602', 'IBXRMA2018_MULT_1216917980010001_HMK_159307836A_SHEILA_STROOP_002821983_2017', 'IBXRMA2018_MULT_1218013390010001_HMK_205208652A_DOROTHY_RIETGRAF_002803937_2017', 'IBXRMA2018_MULT_1217420990010001_HMK_172260191A_STANLEY_WISNIEWSKI_002885776_2017', 'IBXRMA2018_MULT_1216779540010001_HMK_183308761A_THOMAS_HELLER_002807883_2017', 'IBXRMA2018_MULT_1217629590010001_HMK_081323383D_MARY_PISANELLO_002820631_2017_20180730130819', 'IBXRMA2018_MULT_1217502180010001_HMK_161361959A_MYRA_MILLER_002805068_2017_20180502150420', 'IBXRMA2018_MULT_1231211480010001_HMK_177269049A_THOMAS_KEIFER_003173098_2017_20180712125944', 'ibxrma2018_mult_1217809000010001_hmk_193322597a_allen_mccarthy_002805152_2017', 'IBXRMA2018_MULT_1163638060010001_HMK_192368444A_MICHAEL_BRALCZYK_002808404_2017', 'IBXRMA2018_MULT_1216869750010001_HMK_191345249A_PATRICIA_JOHN_002814900_2017', 'IBXRMA2018_MULT_1216865540010001_HMK_160321171A_EILEEN_CANTZ_002822417_2017', 'IBXRMA2018_MULT_1174332410010001_HMK_162446082A_CAROL_DEBLASIS-DICICCO_002884091_2017', 'IBXRMA2018_MULT_1163472380010001_HMK_201601934A_BRIAN_MCCORRY_003070349_2017', 'IBXRMA2018_MULT_1224203260010001_HMK_187463027A_TARAN_MCLAUGHLIN_002805329_2017', 'IBXRMA2018_MULT_1217501840010001_HMK_020243141A_SARAH_GAROFANO_002822472_2017', 'ibxrma2018_mult_1216999310010001_hmk_173400234a_jane_ruth_002885816_2017', 'IBXRMA2018_MULT_1216121110010001_HMK_198267156A_EDWARD_COSTELLO_002812425_2017', 'IBXRMA2018_MULT_1200738070010001_HMK_174429028A_GRACE_FALCONE_002812415_2017', 'IBXRMA2018_MULT_1216939640010001_HMK_068341869A_IRENE_WILLCUTS_002813096_2017', 'IBXRMA2018_MULT_1217830190010001_HMK_193263174A_JEAN_AUSTIN_002821348_2017_20180529110937', 'IBXRMA2018_MULT_1217161900010001_HMK_182244545A_IRMA_LOGAN-WILLIAMS_002805282_2017', 'IBXRMA2018_MULT_1230735500010001_HMK_120325091A_LINO_VACCARO_003531447_2017', 'IBXRMA2018_MULT_1216700840010001_HMK_215423472A_KENNETH_BULLIVANT_003089249_2017_20180521082814', 'IBXRMA2018_MULT_1216740510010001_HMK_172222367A_ANNE_ERNANDES_002805068_2017_20180501093541', 'IBXRMA2018_MULT_1216849310010001_HMK_204248327B_MILDRED_GREEN_002807673_2017', 'IBXRMA2018_MULT_1218568300010001_HMK_164422441A_NANCY_OVELMAN_002804060_2017', 'IBXRMA2018_MULT_1216875360010001_HMK_171346532A_RAYMOND_FISHER_002810892_2017_20180914153044', 'IBXRMA2018_MULT_1218041650010001_HMK_202346872A_JOY_WEISS_002811511_2017', 'IBXRMA2018_MULT_1207296470010002_HMK_180584987A_BRIAN_MURPHY_002805198_2017', 'IBXRMA2018_MULT_1217481480010001_HMK_163325133A_GERALDINE_ZLAKOWSKI_002804524_2017', 'IBXRMA2018_MULT_1216845080010001_HMK_194160430A_JAMES_GULLBORG_002805068_2017_20180502105500', 'IBXRMA2018_MULT_1218008470010001_HMK_200540907A_CAROL_TRAINOR_002804065_2017', 'IBXRMA2018_MULT_1217954130010001_HMK_206288409A_JAMES_STRAIN_003118933_2017', 'IBXRMA2018_MULT_1163873330010001_HMK_211269087A_PATSY_BRABSON_002810298_2017_pmh', 'IBXRMA2018_MULT_1216862050010001_HMK_266409174B_SADIE_RIMES_002807103_2017_pmh', 'IBXRMA2018_MULT_1217063280010001_HMK_171204399B_ANTONIA_BARONE_002805068_2017_20180501093513', 'IBXRMA2018_MULT_1207333630010001_HMK_188427337A_THEODORE_ENDRIK_002818278_2017_20180606160637', 'IBXRMA2018_MULT_1230758630010001_HMK_186548222A_BETSY_MCKISSIC_002804496_2017', 'IBXRMA2018_MULT_1235743800010001_HMK_201423672A_BEVERLY_GATES_002819677_2017', 'IBXRMA2018_MULT_1217802340010001_HMK_185201524A_ROSE_CATALDI_002805068_2017_20180502103053', 'IBXRMA2018_MULT_1231779800010001_HMK_159287053A_NEIL_MCFADDEN_002805453_2017_20180814161948', 'IBXRMA2018_MULT_1220383240010001_HMK_035503723A_BALVANTRAI_PAREKH_002817222_2017', 'IBXRMA2018_MULT_1217122520010001_HMK_167306384A_BERNADETTE_MULCAHY_003118424_2017_20180530081109', 'IBXRMA2018_MULT_1231376510010001_HMK_168406745A_ROBERT_WRIGHT_002805068_2017_20180502151211', 'IBXRMA2018_MULT_1207431330010004_HMK_207408025A_JOSEPH_WEINGARD_002885776_2017', 'IBXRMA2018_MULT_1222446640010001_HMK_224569802A_DOROTHY_WEBER_002804624_2017_20181022224651', 'IBXRMA2018_MULT_1217959250010001_HMK_197262127A_MARLENE_LIPSCHUTZ_002805068_2017_20180502111029', 'IBXRMA2018_MULT_1216707650010001_HMK_175384205A_HOWARD_TICE_002812365_2017', 'ibxrma2018_mult_1217789970010001_hmk_452458190a_anne_novak_002809378_2017', 'IBXRMA2018_MULT_1217628750010001_HMK_172245928D_MARIA_SANSORES_002819677_2017', 'IBXRMA2018_MULT_1217356960010001_HMK_176266938D_MARY_SERRATORE_002813934_2017', 'IBXRMA2018_MULT_1212870810010001_HMK_172425624A_JOYCE_ADAMS_002810886_2017_20180507090030', 'IBXRMA2018_MULT_1216802020010001_HMK_172586897A_ABELARTUR_SOUSA_002807250_2017', 'IBXRMA2018_MULT_1216974330010001_HMK_173340830A_JOSEPH_ODONNELL_002807673_2017', 'IBXRMA2018_MULT_1218081830010001_HMK_195383662A_MARGHERITA_GRISAFI_002810878_2017_20180906114204', 'IBXRMA2018_MULT_1233107240010001_HMK_203384436A_NYLE_SEEKER_002804594_2017', 'IBXRMA2018_MULT_1231780880010001_HMK_185368205A_ROBERT_GRADEL_002821614_2017', 'IBXRMA2018_MULT_1217120630010001_HMK_175309690A_CAROL_BURKE_002823208_2017_20180829200213', 'IBXRMA2018_MULT_1217927570010001_HMK_211549169A_MIA_DAVIS_003304781_2017', 'IBXRMA2018_MULT_1212761880010001_HMK_166287031A_SAMUEL_PARKER_002810332_2017', 'IBXRMA2018_MULT_1218118560010001_HMK_205281438B_MARTHA_KAUFMANN_002811510_2017', 'IBXRMA2018_MULT_1207317620010001_HMK_185347821A_PHYLLIS_MONTOUTH_002820655_2017_20180724130633', 'IBXRMA2018_MULT_1216829710010001_HMK_205362318A_LAUREL_SALLADINO_002812411_2017', 'IBXRMA2018_MULT_1217816780010001_HMK_205306322A_LINDA_WOLFE_002814946_2017', 'IBXRMA2018_MULT_1217973600010001_HMK_265745416A_ARTURO_INTERIAN_002818412_2017', 'IBXRMA2018_MULT_1216711710010001_HMK_184329391A_ALBERT_WERNERY_002807673_2017', 'IBXRMA2018_MULT_1174648590010001_HMK_181386118D_MARIKA_PETRUSE_002807434_2017', 'IBXRMA2018_MULT_1229504170010001_HMK_172586583A_FILIPPOS_LOIZOS_002808028_2017', 'ibxrma2018_mult_1218030200010001_hmk_185368258a_charles_schrack_002813367_2017', 'IBXRMA2018_MULT_1217488890010001_HMK_160328149A_MAJORIE_SMEDILE_002811480_2017', 'IBXRMA2018_MULT_1217431000010001_HMK_155340732A_RICHARD_HURD_002807434_2017', 'IBXRMA2018_MULT_1198878390010001_HMK_170626755B_KIM_OUR_002807910_2017_20180710091852', 'IBXRMA2018_MULT_1231613030010001_HMK_162409581A_WILLIAM_CRIBB_002804237_2017', 'IBXRMA2018_MULT_1206445850010001_HMK_198344162A_EUGENE_GILBERT_002812059_2017', 'IBXRMA2018_MULT_1217128120010001_HMK_127207084A_ROCCO_DELLARSO_002812427_2017', 'IBXRMA2018_MULT_1220828210010001_HMK_174329674A_LASZLO_CSETENYI_002805178_2017', 'IBXRMA2018_MULT_1217497390010001_HMK_168441227A_DANIEL_DEPALMA_002810362_2017', 'IBXRMA2018_MULT_1218007950010001_HMK_197241357A_JACK_BROMLEY_002813154_2017', 'IBXRMA2018_MULT_1217100960010001_HMK_200301450A_RONALD_CHERWINSKI_003069945_2017_pmh', 'IBXRMA2018_MULT_1196718560010001_HMK_342368145A_JAMES_HICKEY_002811224_2017_20180625085019', 'IBXRMA2018_MULT_1218017940010001_HMK_187288965A_ANNEMARIE_JARDEN_002804624_2017_20180716110457', 'ibxrma2018_mult_1217781630010001_hmk_195364273a_cynthia_outlaw_002805661_2017', 'IBXRMA2018_MULT_1217360250010001_HMK_172429369A_MONICA_HIBBERT_002812116_2017_20180712100525', 'IBXRMA2018_MULT_1216805100010001_HMK_139625968A_KEUN_KIM_002812337_2017', 'IBXRMA2018_MULT_1216707280010001_HMK_167465873A_INDIRA_DAYAL_002811551_2017_20180603220930', 'IBXRMA2018_MULT_1219703950010001_HMK_195426883A_SANDY_BIANCHINI_002803937_2017', 'IBXRMA2018_MULT_1217117310010001_HMK_202340524A_JOAN_WURST_002818412_2017', 'IBXRMA2018_MULT_1217419710010001_HMK_181202186A_LOIS_DOUGHERTY_002804645_2017', 'IBXRMA2018_MULT_1217782120010001_HMK_205208772A_FRANK_BISACCIA_002804172_2017', 'IBXRMA2018_MULT_1216694650010001_HMK_160266527A_RICHARD_QUEEN_002820026_2017', 'IBXRMA2018_MULT_1217794120010001_HMK_186226876D_LOIS_LOGUE_002821619_2017', 'IBXRMA2018_MULT_1216984050010001_HMK_166263887A_JUNE_LEOPOLD_002809744_2017', 'IBXRMA2018_MULT_1218013270010001_HMK_211120189A_MICHAEL_KOLLAR_002810109_2017_20180817200501', 'ibxrma2018_mult_1217019730010001_hmk_142745971a_cheryl_mollo_002812685_2017', 'IBXRMA2018_MULT_1218060640010001_HMK_200245963A_PATRICIA_FRICKER_002807883_2017', 'IBXRMA2018_MULT_1218102580010001_HMK_187245452A_MARY_LITWA_002823143_2017_20180802200449', 'IBXRMA2018_MULT_1218360080010001_HMK_169320135A_ELIZABETH_MARTIN_002804172_2017', 'IBXRMA2018_MULT_1216820630010001_HMK_056361324A_DONALD_KELLY_002808298_2017_20180515085935', 'IBXRMA2018_MULT_1216881910010001_HMK_199281491A_CARL_WEBER_002804506_2017_20180807200247', 'ibxrma2018_mult_1216993260010001_hmk_194303003a_barbara_bloemker_002810558_2017', 'IBXRMA2018_MULT_1216706530010001_HMK_182305617A_MARILYN_LEINHOS_002804599_2017', 'IBXRMA2018_MULT_1216832310010001_HMK_209407014A_BETTE_MILLER_002805018_2017_20180814162010', 'ibxrma2018_mult_1216125330010001_hmk_205343238a_john_wildermuth_002805152_2017', 'IBXRMA2018_MULT_1163551490010001_HMK_187303925B_MARGARET_ANGELUCCI_002805068_2017_20180502102855', 'ibxrma2018_mult_1217820880010001_hmk_209036563d_mercedes_ensbrenner_002821455_2017', 'ibxrma2018_mult_1217363350010001_hmk_169346370a_yvonne_bunch_002814612_2017', 'IBXRMA2018_MULT_1217803120010001_HMK_209528949A_BARBARA_FERGUSON_002806552_2017_20180627105043', 'IBXRMA2018_MULT_1163631090010001_HMK_187328011A_RICHARD_RYAN_002812710_2017_20180516105340', 'IBXRMA2018_MULT_1217769570010001_HMK_546406292A_KENNETH_RAWSON_002804132_2017_pmh', 'IBXRMA2018_MULT_1200384960010001_HMK_192389921D_JOANNE_GUIDO_003012219_2017_20180627200035', 'IBXRMA2018_MULT_1216761200010001_HMK_192202604A_ULLAINEE_GEIGES_002813097_2017', 'IBXRMA2018_MULT_1264529650010001_HMK_192223889A_ROBERT_HENRY_002805032_2017_20180712100501', 'IBXRMA2018_MULT_1217545870010001_HMK_159309366A_ANTHONY_LAVERGHETTA_002812476_2017', 'ibxrma2018_mult_1216738010010001_hmk_178188458a_mary_fassl_002806260_2017', 'IBXRMA2018_MULT_1217368890010001_HMK_163361665D_CATHERINE_SPIOTTO_002807910_2017_20180806101855', 'ibxrma2018_mult_1217015260010001_hmk_197344279d_trudy_steck_002813367_2017', 'IBXRMA2018_MULT_1217165980010001_HMK_186363477A_ELIZABETH_ALLEGAR_003387287_2017', 'IBXRMA2018_MULT_1217523350010001_HMK_126529611A_DELFINA_FEOLA_002810878_2017_20180913101432', 'IBXRMA2018_MULT_1216749750010001_HMK_182646826A_CARL_HUDSON_002807838_2017_20180504102736', 'IBXRMA2018_MULT_1230190520010001_HMK_192263885A_MINNIE_WALTON_002808050_2017', 'IBXRMA2018_MULT_1218006280010001_HMK_186180245A_BRUNO_MARTIRE_002804599_2017', 'IBXRMA2018_MULT_1217107150010001_HMK_187248486A_EDMUND_KOZAK_002804172_2017', 'IBXRMA2018_MULT_1217637910010001_HMK_180306029A_THERESA_HEALY_003464610_2017', 'ibxrma2018_mult_1216758700010001_hmk_116224527a_rosemarie_farrell_003148556_2017', '002812424_171265152A_2016_001', 'IBXRMA2018_MULT_1217782760010001_HMK_183202786A_JOSEPH_MCCAWLEY_002805068_2017_20180502111010', 'IBXRMA2018_MULT_1216749980010001_HMK_136309377A_JANET_CAMPBELL-TAYLOR_002804905_2017', 'IBXRMA2018_MULT_1217376350010001_HMK_168240922A_CATHERINE_ALTHOUSE_002811509_2017', 'IBXRMA2018_MULT_1217383810010001_HMK_167306257D_NICOLINA_GIAMPAOLO_002823034_2017_20180615082526', 'IBXRMA2018_MULT_1217085580010001_HMK_001323367B6_NANCY_BLACK_002812708_2017_20180504112007', 'IBXRMA2018_MULT_1216810610010001_HMK_206289640A_DOROTHY_MAHER_002821652_2017', 'IBXRMA2018_MULT_1223065390010001_HMK_193440666A_MARY_JENKINS_002804172_2017', 'IBXRMA2018_MULT_1217990980010001_HMK_197363368A_ELAINE_BURKHARDT_003045996_2017_pmh', 'IBXRMA2018_MULT_1239148450010001_HMK_202343753A_KAY_CASTRO_002805068_2017_20180502103147', 'IBXRMA2018_MULT_1217133110010001_HMK_160263106B_DOROTHY_JONES_002821619_2017', 'IBXRMA2018_MULT_1217439940010001_HMK_166369548A_CAROL_DUNN_002812411_2017', 'IBXRMA2018_MULT_1218115090010001_HMK_203346223A_ISOLETTA_NEARY_002810891_2017_20180612100248', 'IBXRMA2018_MULT_1217963110010001_HMK_205280789A_VIRGINIA_CAMP_002807250_2017', 'IBXRMA2018_MULT_1216773750010001_HMK_177346061A_ILONA_KAUFFMAN_002813096_2017', 'IBXRMA2018_MULT_1217955710010001_HMK_194309135A_WILLIAM_DUKES_002822398_2017_20180627093715', 'IBXRMA2018_MULT_1217261140010001_HMK_185465335A_NANCY_PAPPADAKIS_003387287_2017', 'IBXRMA2018_MULT_1231100490010001_HMK_207164685B_LUCY_ANDREWS_002804065_2017', 'IBXRMA2018_MULT_1218102830010001_HMK_414467425A_HOWARD_EMERSON_003308049_2017', 'IBXRMA2018_MULT_1218004420010001_HMK_365368240A_KAY_TAYLOR_002810550_2017', 'IBXRMA2018_MULT_1216728690010001_HMK_189240645A_JOHN_MACK_002819384_2017', 'IBXRMA2018_MULT_1213370620010001_HMK_175386185B_CAROL_WEBB_002807883_2017', 'IBXRMA2018_MULT_1231489530010001_HMK_027369501A_THOMAS_ERICKSON_002806302_2017_pmh', 'IBXRMA2018_MULT_1216849300010001_HMK_177148099A_EDITH_ALEX_002812110_2017_20180524124520', 'IBXRMA2018_MULT_1217459240010001_HMK_159269740A_NANCY_PANICHELLI_002808695_2017_20180711093654', 'IBXRMA2018_MULT_1216850140010001_HMK_175281454A_MARY_DESMOND_002811041_2017', 'IBXRMA2018_MULT_1218097470010001_HMK_203325044A_GEORGE_HINKLE_003156500_2017', 'IBXRMA2018_MULT_1217477080010001_HMK_180344075A_CONNIE_GAUTHIER_002805068_2017_20180502084534', 'IBXRMA2018_MULT_1217429630010001_HMK_165481734A_ARLENE_BARNES_002805376_2017', 'IBXRMA2018_MULT_1216943020010001_HMK_204408304A_JANE_DEVONSHIRE_002812709_2017_20180504112439', 'IBXRMA2018_MULT_1217377180010001_HMK_181300651A_FRANCIS_SCHWOYER_002806555_2017_20180807160316', 'IBXRMA2018_MULT_1230730510010001_HMK_194369542A_LARRY_ESHBACH_003020819_2017_20180626093551', 'IBXRMA2018_MULT_1217556970010001_HMK_176344760A_BARBARA_FIORITO_002813367_2017', 'IBXRMA2018_MULT_1235595620010001_HMK_202225321A_MARY_BASS_002805176_2017', 'ibxrma2018_mult_1213057200010001_hmk_188289327d_elizabeth_mcdonnell_002808331_2017', 'IBXRMA2018_MULT_1217167490010001_HMK_191348802A_LYNNETTE_WRAY_002821340_2017', 'IBXRMA2018_MULT_1198880400010001_HMK_199420187A_CLINTON_WAX_002806316_2017', 'ibxrma2018_mult_1217990980010001_hmk_197363368a_elaine_burkhardt_003045996_2017', 'IBXRMA2018_MULT_1217974490010001_HMK_204181760A_BERTHA_RATKIEWICZ_002812059_2017', 'IBXRMA2018_MULT_1217826900010001_HMK_188423438T_JAMES_WALTON_002821656_2017_20180629090305', 'ibxrma2018_mult_1230730220010001_hmk_174320078a_nick_spadea_002816774_2017', 'IBXRMA2018_MULT_1230949850010001_HMK_202289751A_STANLEY_MIKULAK_002807883_2017', 'IBXRMA2018_MULT_1217395580010001_HMK_163325262A_ELEANOR_RICHARDSON_002805003_2017', 'IBXRMA2018_MULT_1217001440010001_HMK_142427374A_KATHLEEN_ADAMCZYK_002818268_2017', 'IBXRMA2018_MULT_1200453960010001_HMK_184506451A_THOMAS_POWER_002807862_2017', 'IBXRMA2018_MULT_1230838570010001_HMK_159366451A_KATHLEEN_SEAVEY_002811473_2017', 'IBXRMA2018_MULT_1216838060010001_HMK_186328338A_VERONICA_WATTON_002811224_2017_20180629090312', 'IBXRMA2018_MULT_1238872470010001_HMK_169400218A_DEBORAH_HICKS_002807812_2017', 'IBXRMA2018_MULT_1210295970010001_HMK_199422868A_GEORGE_PETERSON_002818556_2017', 'IBXRMA2018_MULT_1218082460010001_HMK_187167864A_WILLIAM_FRETZ_002811507_2017', 'IBXRMA2018_MULT_1218359500010001_HMK_166369492A_RONALD_ESHLEMAN_002809845_2017', 'IBXRMA2018_MULT_1217468250010001_HMK_159287490A_ALICE_FINNEY_002804725_2017', 'IBXRMA2018_MULT_1218106820010001_HMK_191380611A_ROBERTA_NESE_002805205_2017', 'IBXRMA2018_MULT_1217031320010001_HMK_192309933A_ANNA_HAMMERSTONE_002810858_2017', 'IBXRMA2018_MULT_1216897000010001_HMK_196286819A_PATRICIA_RILLERA_002805152_2017', 'IBXRMA2018_MULT_1163978900010001_HMK_185569588A_CAROL_KEPP_003387287_2017', 'IBXRMA2018_MULT_1216760640010001_HMK_223583595A_VIOLA_PRYOR_002808118_2017', 'IBXRMA2018_MULT_1217389150010001_HMK_182306800A_CHARLES_DEHART_002803937_2017', 'IBXRMA2018_MULT_1217428390010001_HMK_168309862A_JOANNE_FLAD_002805068_2017_20180502105547', 'ibxrma2018_mult_1220384850010001_hmk_199722716a_rozalia_itina_002806260_2017', 'IBXRMA2018_MULT_1217020950010001_HMK_172429345A_EILEEN_CORNINE_002814653_2017', 'IBXRMA2018_MULT_1217057510010001_HMK_188304288A_BARBARA_RAINES_002811480_2017', 'ibxrma2018_mult_1217003010010001_hmk_187246331a_rudolph_bayer_002804684_2017', 'IBXRMA2018_MULT_1216905250010001_HMK_207248467A_JOHN_FOX_002806751_2017', 'IBXRMA2018_MULT_1202692370010001_HMK_172425363A_EUNA_TERRELL_002805176_2017', 'IBXRMA2018_MULT_1216978960010001_HMK_184303025A_ALLAN_SHERNOFF_002811217_2017', 'IBXRMA2018_MULT_1216697370010001_HMK_208222527A_RUTH_HERSHEY_002810889_2017_20180502083339', 'IBXRMA2018_MULT_1226883860010001_HMK_193400677A_MARY_HASSELL_002810883_2017_20180501103730', 'IBXRMA2018_MULT_1186305260010001_HMK_190363775A_DIERDRE_BOSTICK_002805180_2017', 'IBXRMA2018_MULT_1217977710010001_HMK_195361840A_MARGARET_MOORE_002811068_2017', 'IBXRMA2018_MULT_1216336640010001_HMK_183686199A_JONG_KIM_002812337_2017', 'IBXRMA2018_MULT_1212817030010001_HMK_169346421A_ALEXANDER_CIKALO_002814428_2017', 'IBXRMA2018_MULT_1216952660010001_HMK_182266650D_ZOFIA_LUBA_002823034_2017_20180510093702', 'IBXRMA2018_MULT_1217394830010001_HMK_064265462A_JOSEPH_KEOUGH_002817931_2017', 'IBXRMA2018_MULT_1217091600010001_HMK_166745370A_FERNANDO_CAPECE_002885776_2017', 'IBXRMA2018_MULT_1259795960010001_HMK_135408001A_BARBARA_MARABELLO_002822847_2017', 'IBXRMA2018_MULT_1216794800010001_HMK_208347071A_EARTHA_MILES_002805287_2017', 'ibxrma2018_mult_1217030090010001_hmk_172420649a_catherine_blankenship_002821455_2017', 'IBXRMA2018_MULT_1217634390010001_HMK_169346192A_JOHN_DENNELL_003387287_2017', 'IBXRMA2018_MULT_1203490700010001_HMK_199344533A_RICHARD_CHAPPELL_002822638_2017_20180613092835', 'IBXRMA2018_MULT_1217436790010001_HMK_174369111A_FRANCES_BOHNER_002809776_2017', 'IBXRMA2018_MULT_1196367200010001_HMK_211389409D_LINDA_CUNNINGHAM_002821455_2017', 'IBXRMA2018_MULT_1217423060010001_HMK_118244483A_ETHEL_TOMASHEFSKY_002811506_2017', 'ibxrma2018_mult_1216909360010001_hmk_192383658a_thomas_chapin_002803945_2017', 'IBXRMA2018_MULT_1216829980010001_HMK_197366800A_JAMES_GOLD_002804060_2017', 'IBXRMA2018_MULT_1216123740010001_HMK_203187989A_STELLA_DESANTIS_002818412_2017_pmh', 'IBXRMA2018_MULT_1218092710010001_HMK_197302391A_PHYLLIS_MYERS_002813470_2017', 'IBXRMA2018_MULT_1216732900010001_HMK_197285765A_FRED_CASMAY_003173098_2017_20180615105834', 'IBXRMA2018_MULT_1223739460010001_HMK_201662505T_WITOLD_CZAJKOWSKI_002809472_2017', 'IBXRMA2018_MULT_1218107950010001_HMK_188263457A_MILDRED_PETERS_002807071_2017_pmh', 'IBXRMA2018_MULT_1217783180010001_HMK_204241587A_ANGELA_DICAMILLO_002808404_2017', 'ibxrma2018_mult_1217464730010001_hmk_169227580a_john_carey_002807862_2017', 'IBXRMA2018_MULT_1231121350010001_HMK_142240755A_WILLIAM_SHARPLESS_002805068_2017_20180502151209', 'IBXRMA2018_MULT_1218108040010001_HMK_184606701A_KIMYO_CHIN_002813095_2017', 'IBXRMA2018_MULT_1217908990010001_HMK_208347920A_MICHAEL_LENNON_002821153_2017', 'IBXRMA2018_MULT_1217492110010001_HMK_162365197A_EDWARD_DYE_002885736_2017', 'IBXRMA2018_MULT_1217356130010001_HMK_158229679A_LORRAINE_ANTON_002804557_2017', 'IBXRMA2018_MULT_1216816180010001_HMK_190342727A_ANGEL_RIVERA_002805244_2017', 'IBXRMA2018_MULT_1217942130010001_HMK_220225616A_JOHN_YEAGER_002809666_2017_20180703200716', 'IBXRMA2018_MULT_1216893250010001_HMK_177099039D_DOROTHY_BUCHER_002816446_2017', 'IBXRMA2018_MULT_1217992290010001_HMK_280388487B_MARY_KUZMA_002809845_2017', 'ibxrma2018_mult_1274894780010001_hmk_181366679a_mildred_orrison_002885816_2017', 'IBXRMA2018_MULT_1217425950010001_HMK_142322485A_LOUISE_LEWIS_002822638_2017_20180917092349', 'IBXRMA2018_MULT_1217572450010001_HMK_172267055A_LORRAINE_FOX_002805068_2017_20180502105608', 'IBXRMA2018_MULT_1163974920010001_HMK_167325935B_JOANN_DEANGELO_002811480_2017', 'ibxrma2018_mult_1263535690010001_hmk_178468501a_dora_looney_002808236_2017', 'IBXRMA2018_MULT_1216995180010001_HMK_229543808A_RAMONARAE_HADFIELD_002811700_2017', 'IBXRMA2018_MULT_1264809170010001_HMK_159520296A_RITA_MCCANN_002885736_2017', 'ibxrma2018_mult_1217178090010001_hmk_201220138a_rosie_dean_002810825_2017', 'IBXRMA2018_MULT_1218016910010001_HMK_210320789A_GABRIEL_SCIPIONE_002819904_2017_20180615200806', 'IBXRMA2018_MULT_1230730530010001_HMK_196560540A_DIANE_GRATMAN_002811535_2017', 'IBXRMA2018_MULT_1216875490010001_HMK_200246521A_TOVA_BURGER_002809547_2017', 'ibxrma2018_mult_1205297450010001_hmk_177408775b6_christine_hayse_002808236_2017', 'IBXRMA2018_MULT_1200002440010001_HMK_174406404B_MARY_OCONNOR-SACKS_002804905_2017', 'IBXRMA2018_MULT_1217148700010001_HMK_185448667A_MAUREEN_KRUEGER_002823280_2017_20180705095636', 'IBXRMA2018_MULT_1216903480010001_HMK_203341933A_BARBARA_ODONNELL_002813236_2017', 'IBXRMA2018_MULT_1230652360010001_HMK_205282831A_THERESA_SCOLA_002805068_2017_20180502151208', 'IBXRMA2018_MULT_1217058220010001_HMK_188286480A_JESTON_BROOMER_002805032_2017_20180606133024', 'IBXRMA2018_MULT_1217158570010001_HMK_173340650A_JOHN_KIRBY_002807673_2017', 'IBXRMA2018_MULT_1216869210010001_HMK_197327357A_ROSEMARIE_PRUETTE_002811557_2017_20180607101857', 'IBXRMA2018_MULT_1196412000010001_HMK_176409023A_STAN_ADAMCZYK_002818006_2017', 'IBXRMA2018_MULT_1269562780010001_HMK_151242855A_BETTY_MASSARO_002805068_2017_20180501093611', 'IBXRMA2018_MULT_1218366960010001_HMK_206205778A_JEAN_CARR_002808118_2017', 'IBXRMA2018_MULT_1218077150010001_HMK_206289896A_CHARLES_DERAVIN_002803909_2017', 'IBXRMA2018_MULT_1218106050010001_HMK_193347740A_INGEBORG_BRUNNER_002813934_2017', 'IBXRMA2018_MULT_1216876860010001_HMK_063140971A_JOSEPHINE_LIZZIO_002814695_2017', 'IBXRMA2018_MULT_1216744640010001_HMK_201224845A_GERALD_GROSSMAN_002805430_2017', 'IBXRMA2018_MULT_1216945760010001_HMK_211420330A_A_GONSALVES-BLACKETT_002805250_2017_20180612200207', 'IBXRMA2018_MULT_1220457850010001_HMK_160322553D_ANNA_MAZZATENTA_003643542_2017', 'IBXRMA2018_MULT_1217471440010001_HMK_168309480A_DANIEL_NEISWENDER_002813097_2017', 'IBXRMA2018_MULT_1208229430010002_HMK_211361374A_TERRY_HALL_002804237_2017', 'IBXRMA2018_MULT_1163737170010001_HMK_167429477A_JOHN_KOCIS_002808078_2017', 'IBXRMA2018_MULT_1218003520010001_HMK_204324234A_JIMMY_EUBANKS_002815238_2017']\n"
     ]
    }
   ],
   "source": [
    "'''\n",
    "print(save4testibclist)\n",
    "'''"
   ]
  },
  {
   "cell_type": "code",
   "execution_count": 111,
   "metadata": {},
   "outputs": [],
   "source": [
    "'''\n",
    "datalist = ','.join(save4testibclist)\n",
    "fh = open('save4testibclistlstm.csv', 'w+')\n",
    "fh.write(datalist)\n",
    "fh.close()\n",
    "'''"
   ]
  },
  {
   "cell_type": "code",
   "execution_count": 36,
   "metadata": {},
   "outputs": [
    {
     "name": "stderr",
     "output_type": "stream",
     "text": [
      "/opt/conda/lib/python3.7/site-packages/IPython/core/interactiveshell.py:3049: DtypeWarning: Columns (7) have mixed types. Specify dtype option on import or set low_memory=False.\n",
      "  interactivity=interactivity, compiler=compiler, result=result)\n"
     ]
    }
   ],
   "source": [
    "train_df_4train=pd.read_csv(\"ibc_trainingdata_040219.csv\")\n",
    "train_df_4test=pd.read_csv(\"ibc_testingdata_040219.csv\")"
   ]
  },
  {
   "cell_type": "code",
   "execution_count": 37,
   "metadata": {},
   "outputs": [],
   "source": [
    "col = ['cleaned_data','flag']\n",
    "testDF = train_df_4test[col]   #used for independent testing\n",
    "testnDF = testDF[pd.notnull(testDF['cleaned_data'])]\n",
    "testDF.columns = ['text75','flag']\n",
    "trainDF1 = train_df_4train[col] # used for training and validation\n",
    "trainDF1 = trainDF1[pd.notnull(trainDF1['cleaned_data'])]\n",
    "trainDF1.columns = ['text75','flag']"
   ]
  },
  {
   "cell_type": "code",
   "execution_count": 38,
   "metadata": {},
   "outputs": [
    {
     "data": {
      "text/html": [
       "<div>\n",
       "<style scoped>\n",
       "    .dataframe tbody tr th:only-of-type {\n",
       "        vertical-align: middle;\n",
       "    }\n",
       "\n",
       "    .dataframe tbody tr th {\n",
       "        vertical-align: top;\n",
       "    }\n",
       "\n",
       "    .dataframe thead th {\n",
       "        text-align: right;\n",
       "    }\n",
       "</style>\n",
       "<table border=\"1\" class=\"dataframe\">\n",
       "  <thead>\n",
       "    <tr style=\"text-align: right;\">\n",
       "      <th></th>\n",
       "      <th>text75</th>\n",
       "      <th>flag</th>\n",
       "    </tr>\n",
       "  </thead>\n",
       "  <tbody>\n",
       "    <tr>\n",
       "      <th>0</th>\n",
       "      <td>assessment morbid obesity due excess calories ...</td>\n",
       "      <td>0</td>\n",
       "    </tr>\n",
       "    <tr>\n",
       "      <th>1</th>\n",
       "      <td>ise assessment morbid obesity due excess calor...</td>\n",
       "      <td>0</td>\n",
       "    </tr>\n",
       "    <tr>\n",
       "      <th>2</th>\n",
       "      <td>izures f445 assessment elevated serum choleste...</td>\n",
       "      <td>0</td>\n",
       "    </tr>\n",
       "    <tr>\n",
       "      <th>3</th>\n",
       "      <td>etter meds flared head injury assessmentmajor ...</td>\n",
       "      <td>0</td>\n",
       "    </tr>\n",
       "    <tr>\n",
       "      <th>4</th>\n",
       "      <td>07281977 09192016 0600 pm 336 unspecified abno...</td>\n",
       "      <td>0</td>\n",
       "    </tr>\n",
       "  </tbody>\n",
       "</table>\n",
       "</div>"
      ],
      "text/plain": [
       "                                              text75  flag\n",
       "0  assessment morbid obesity due excess calories ...     0\n",
       "1  ise assessment morbid obesity due excess calor...     0\n",
       "2  izures f445 assessment elevated serum choleste...     0\n",
       "3  etter meds flared head injury assessmentmajor ...     0\n",
       "4  07281977 09192016 0600 pm 336 unspecified abno...     0"
      ]
     },
     "execution_count": 38,
     "metadata": {},
     "output_type": "execute_result"
    }
   ],
   "source": [
    "trainDF1.head()"
   ]
  },
  {
   "cell_type": "code",
   "execution_count": 39,
   "metadata": {},
   "outputs": [
    {
     "data": {
      "text/html": [
       "<div>\n",
       "<style scoped>\n",
       "    .dataframe tbody tr th:only-of-type {\n",
       "        vertical-align: middle;\n",
       "    }\n",
       "\n",
       "    .dataframe tbody tr th {\n",
       "        vertical-align: top;\n",
       "    }\n",
       "\n",
       "    .dataframe thead th {\n",
       "        text-align: right;\n",
       "    }\n",
       "</style>\n",
       "<table border=\"1\" class=\"dataframe\">\n",
       "  <thead>\n",
       "    <tr style=\"text-align: right;\">\n",
       "      <th></th>\n",
       "      <th>text75</th>\n",
       "      <th>flag</th>\n",
       "    </tr>\n",
       "  </thead>\n",
       "  <tbody>\n",
       "    <tr>\n",
       "      <th>0</th>\n",
       "      <td>disorder z720 obstructive chronic bronchitis a...</td>\n",
       "      <td>0</td>\n",
       "    </tr>\n",
       "    <tr>\n",
       "      <th>1</th>\n",
       "      <td>initis j310 cough r05 esophageal reflux k219 h...</td>\n",
       "      <td>0</td>\n",
       "    </tr>\n",
       "    <tr>\n",
       "      <th>2</th>\n",
       "      <td>initis j310 cough r05 esophageal reflux k219 h...</td>\n",
       "      <td>0</td>\n",
       "    </tr>\n",
       "    <tr>\n",
       "      <th>3</th>\n",
       "      <td>yperlipidemia e785 mitral regurgitation 1340 m...</td>\n",
       "      <td>0</td>\n",
       "    </tr>\n",
       "    <tr>\n",
       "      <th>4</th>\n",
       "      <td>yperlipidemia e785 mitral fegurgithtion 1340 m...</td>\n",
       "      <td>0</td>\n",
       "    </tr>\n",
       "  </tbody>\n",
       "</table>\n",
       "</div>"
      ],
      "text/plain": [
       "                                              text75  flag\n",
       "0  disorder z720 obstructive chronic bronchitis a...     0\n",
       "1  initis j310 cough r05 esophageal reflux k219 h...     0\n",
       "2  initis j310 cough r05 esophageal reflux k219 h...     0\n",
       "3  yperlipidemia e785 mitral regurgitation 1340 m...     0\n",
       "4  yperlipidemia e785 mitral fegurgithtion 1340 m...     0"
      ]
     },
     "execution_count": 39,
     "metadata": {},
     "output_type": "execute_result"
    }
   ],
   "source": [
    "testDF.head()"
   ]
  },
  {
   "cell_type": "markdown",
   "metadata": {},
   "source": [
    "### Part 2. Preparing data, word tokenizing"
   ]
  },
  {
   "cell_type": "markdown",
   "metadata": {},
   "source": [
    "####  word tokenizing first"
   ]
  },
  {
   "cell_type": "code",
   "execution_count": 24,
   "metadata": {},
   "outputs": [
    {
     "name": "stderr",
     "output_type": "stream",
     "text": [
      "Using TensorFlow backend.\n"
     ]
    }
   ],
   "source": [
    "from keras.layers import Dense, Embedding, LSTM, SpatialDropout1D\n",
    "from keras.models import Sequential\n",
    "from sklearn.feature_extraction.text import CountVectorizer\n",
    "from keras.preprocessing.text import Tokenizer\n",
    "from keras.preprocessing.sequence import pad_sequences\n",
    "from sklearn.model_selection import train_test_split\n",
    "from keras.utils.np_utils import to_categorical\n",
    "from keras.callbacks import EarlyStopping\n",
    "\n",
    "from sklearn.pipeline import Pipeline\n",
    "from sklearn.metrics import classification_report\n",
    "from sklearn.multiclass import OneVsRestClassifier\n",
    "from sklearn.metrics import confusion_matrix\n",
    "from matplotlib import pyplot as plt\n",
    "from sklearn.svm import SVC\n",
    "from sklearn.linear_model import LogisticRegression\n",
    "from sklearn.neighbors import KNeighborsClassifier\n",
    "from sklearn.tree import DecisionTreeClassifier\n",
    "from sklearn.ensemble import RandomForestClassifier, GradientBoostingClassifier\n",
    "from sklearn.discriminant_analysis import LinearDiscriminantAnalysis\n",
    "import pickle"
   ]
  },
  {
   "cell_type": "code",
   "execution_count": 25,
   "metadata": {},
   "outputs": [
    {
     "data": {
      "text/plain": [
       "1    184287\n",
       "0    164980\n",
       "Name: flag, dtype: int64"
      ]
     },
     "execution_count": 25,
     "metadata": {},
     "output_type": "execute_result"
    }
   ],
   "source": [
    "trainDF1.flag.value_counts()"
   ]
  },
  {
   "cell_type": "markdown",
   "metadata": {},
   "source": [
    "####  This is to use only trainDFsel for tokenizer, then generate the sequence on testDF, just to compare if the tokenizer can generate similar sequences, if not, there is an issue, because for unseen data, the tokenizer is not working as expected"
   ]
  },
  {
   "cell_type": "code",
   "execution_count": 26,
   "metadata": {},
   "outputs": [
    {
     "name": "stdout",
     "output_type": "stream",
     "text": [
      "Found 265290 unique tokens.\n",
      "13\n",
      "Num words = 265290\n"
     ]
    }
   ],
   "source": [
    "# this is using only training data  to generate tockenizer, \n",
    "n_most_common_words = 100000\n",
    "max_len = 70\n",
    "tokenizer = Tokenizer(num_words=n_most_common_words, filters='!\"#$%&()*+,-./:;<=>?@[\\]^_`{|}~', lower=True)\n",
    "#tokenizer = Tokenizer(filters='!\"#$%&()*+,-./:;<=>?@[\\]^_`{|}~', lower=True)\n",
    "tokenizer.fit_on_texts(trainDF1['text75'].values)\n",
    "sequences = tokenizer.texts_to_sequences(trainDF1['text75'].values)\n",
    "word_index = tokenizer.word_index\n",
    "print('Found %s unique tokens.' % len(word_index))\n",
    "X = pad_sequences(sequences, maxlen=max_len)\n",
    "word_vector = sequences[0]\n",
    "print(len(word_vector))\n",
    "print('Num words = {0}'.format(len(tokenizer.word_index)))\n",
    "#with open(\"../picklefolder_ngrams/keras_tokenizer_embeddings_0328.pickle\", \"wb\") as f:\n",
    "#   pickle.dump(tokenizer, f)    # save the tokenizer as a pickle file\n",
    "# save the tokenizer\n",
    "#with open(\"../picklefolder_ngrams/keras_tokenizer_embeddings_0328.pickle\", \"wb\") as f:\n",
    "#   pickle.dump(tokenizer, f)   # this tokenizer used 4 deletion reasons"
   ]
  },
  {
   "cell_type": "code",
   "execution_count": 51,
   "metadata": {},
   "outputs": [],
   "source": [
    "with open(\"../picklefolder_ngrams/keras_tokenizer_embeddings_0328.pickle\", \"rb\") as f:\n",
    "   tokenizer = pickle.load(f)"
   ]
  },
  {
   "cell_type": "code",
   "execution_count": 11,
   "metadata": {},
   "outputs": [],
   "source": [
    "# load the existing tokenizer\n",
    "'''\n",
    "n_most_common_words = 100000\n",
    "max_len = 70\n",
    "import pickle\n",
    "# loading the tokenizer\n",
    "with open(\"../picklefolder_ngrams/keras_tokenizer_embeddings_0328.pickle\", \"rb\") as f:\n",
    "   tokenizer = pickle.load(f)\n",
    "'''"
   ]
  },
  {
   "cell_type": "code",
   "execution_count": 28,
   "metadata": {},
   "outputs": [
    {
     "data": {
      "text/plain": [
       "{'disease': 1,\n",
       " 'hypertension': 2,\n",
       " 'history': 3,\n",
       " 'chronic': 4,\n",
       " 'diabetes': 5,\n",
       " 'unspecified': 6,\n",
       " 'hyperlipidemia': 7,\n",
       " 'type': 8,\n",
       " 'patient': 9,\n",
       " 'kidney': 10,\n",
       " 'mellitus': 11,\n",
       " 'without': 12,\n",
       " 'essential': 13,\n",
       " 'disorder': 14,\n",
       " 'heart': 15,\n",
       " 'stable': 16,\n",
       " 'screening': 17,\n",
       " 'primary': 18,\n",
       " 'cancer': 19,\n",
       " 'plan': 20,\n",
       " 'family': 21,\n",
       " 'cholesterol': 22,\n",
       " 'depression': 23,\n",
       " 'artery': 24,\n",
       " 'current': 25,\n",
       " 'stage': 26,\n",
       " 'continue': 27,\n",
       " 'use': 28,\n",
       " 'pain': 29,\n",
       " 'atrial': 30,\n",
       " 'coronary': 31,\n",
       " 'assessment': 32,\n",
       " 'benign': 33,\n",
       " 'medical': 34,\n",
       " 'left': 35,\n",
       " 'normal': 36,\n",
       " 'onset': 37,\n",
       " 'blood': 38,\n",
       " 'right': 39,\n",
       " 'hypercholesterolemia': 40,\n",
       " 'pulmonary': 41,\n",
       " 'visit': 42,\n",
       " 'i10': 43,\n",
       " 'diabetic': 44,\n",
       " 'mild': 45,\n",
       " 'fibrillation': 46,\n",
       " 'active': 47,\n",
       " 'osteoporosis': 48,\n",
       " 'problem': 49,\n",
       " 'reflux': 50,\n",
       " 'hypothyroidism': 51,\n",
       " 'failure': 52,\n",
       " 'past': 53,\n",
       " 'anxiety': 54,\n",
       " 'mixed': 55,\n",
       " 'care': 56,\n",
       " 'problems': 57,\n",
       " 'mg': 58,\n",
       " 'due': 59,\n",
       " 'high': 60,\n",
       " 'htn': 61,\n",
       " 'reviewed': 62,\n",
       " 'present': 63,\n",
       " 'risk': 64,\n",
       " 'status': 65,\n",
       " 'tablet': 66,\n",
       " 'alcohol': 67,\n",
       " 'notes': 68,\n",
       " 'acute': 69,\n",
       " 'breast': 70,\n",
       " 'diagnosis': 71,\n",
       " 'e785': 72,\n",
       " 'renal': 73,\n",
       " 'aortic': 74,\n",
       " 'obesity': 75,\n",
       " 'follow': 76,\n",
       " 'moderate': 77,\n",
       " 'malignant': 78,\n",
       " 'cad': 79,\n",
       " 'glaucoma': 80,\n",
       " 'lab': 81,\n",
       " 'treatment': 82,\n",
       " 'neoplasm': 83,\n",
       " 'peripheral': 84,\n",
       " 'md': 85,\n",
       " 'pressure': 86,\n",
       " 'controlled': 87,\n",
       " 'major': 88,\n",
       " 'colon': 89,\n",
       " 'thyroid': 90,\n",
       " 'mother': 91,\n",
       " 'dementia': 92,\n",
       " 'asthma': 93,\n",
       " 'depressive': 94,\n",
       " 'well': 95,\n",
       " 'date': 96,\n",
       " 'last': 97,\n",
       " 'exam': 98,\n",
       " 'today': 99,\n",
       " 'lung': 100,\n",
       " 'impression': 101,\n",
       " 'age': 102,\n",
       " 'gastroesophageal': 103,\n",
       " 'gerd': 104,\n",
       " 'followup': 105,\n",
       " 'negative': 106,\n",
       " 'arthritis': 107,\n",
       " 'stenosis': 108,\n",
       " 'panel': 109,\n",
       " 'social': 110,\n",
       " 'pure': 111,\n",
       " 'syndrome': 112,\n",
       " 'copd': 113,\n",
       " 'encounter': 114,\n",
       " 'insulin': 115,\n",
       " 'list': 116,\n",
       " 'symptoms': 117,\n",
       " 'yes': 118,\n",
       " 'diet': 119,\n",
       " 'prostate': 120,\n",
       " 'vitamin': 121,\n",
       " 'ct': 122,\n",
       " 'edema': 123,\n",
       " 'low': 124,\n",
       " 'chest': 125,\n",
       " 'medication': 126,\n",
       " 'ldl': 127,\n",
       " '110': 128,\n",
       " 'obstructive': 129,\n",
       " 'carotid': 130,\n",
       " 'father': 131,\n",
       " 'meds': 132,\n",
       " 'control': 133,\n",
       " 'pt': 134,\n",
       " 'ii': 135,\n",
       " 'tobacco': 136,\n",
       " 'lower': 137,\n",
       " 'bilateral': 138,\n",
       " 'deficiency': 139,\n",
       " 'native': 140,\n",
       " 'illness': 141,\n",
       " 'esophagitis': 142,\n",
       " 'loss': 143,\n",
       " 'medications': 144,\n",
       " 'ckd': 145,\n",
       " 'e782': 146,\n",
       " 'daily': 147,\n",
       " 'neuropathy': 148,\n",
       " 'note': 149,\n",
       " 'angina': 150,\n",
       " 'day': 151,\n",
       " 'hypertensive': 152,\n",
       " 'lipid': 153,\n",
       " 'diagnoses': 154,\n",
       " 'stroke': 155,\n",
       " 'vascular': 156,\n",
       " 'dr': 157,\n",
       " 'e119': 158,\n",
       " 'office': 159,\n",
       " 'eye': 160,\n",
       " 'bmi': 161,\n",
       " 'deceased': 162,\n",
       " 'years': 163,\n",
       " 'pm': 164,\n",
       " '64': 165,\n",
       " 'smoker': 166,\n",
       " 'anemia': 167,\n",
       " 'hdl': 168,\n",
       " 'year': 169,\n",
       " 'confirmed': 170,\n",
       " 'osteoarthritis': 171,\n",
       " 'monitor': 172,\n",
       " 'sleep': 173,\n",
       " 'k219': 174,\n",
       " 'skin': 175,\n",
       " 'snomed': 176,\n",
       " 'dm': 177,\n",
       " 'e7800': 178,\n",
       " 'total': 179,\n",
       " 'female': 180,\n",
       " '10': 181,\n",
       " 'e039': 182,\n",
       " 'abnormal': 183,\n",
       " 'valve': 184,\n",
       " 'labs': 185,\n",
       " 'months': 186,\n",
       " 'elevated': 187,\n",
       " 'congestive': 188,\n",
       " 'surgical': 189,\n",
       " 'reason': 190,\n",
       " 'hx': 191,\n",
       " 'complication': 192,\n",
       " 'respiratory': 193,\n",
       " 'health': 194,\n",
       " 'severe': 195,\n",
       " 'adult': 196,\n",
       " 'old': 197,\n",
       " 'test': 198,\n",
       " 'diagnosed': 199,\n",
       " 'paroxysmal': 200,\n",
       " 'atherosclerosis': 201,\n",
       " 'back': 202,\n",
       " 'changes': 203,\n",
       " 'cont': 204,\n",
       " 'page': 205,\n",
       " 'none': 206,\n",
       " '01': 207,\n",
       " 'instructions': 208,\n",
       " 'infarction': 209,\n",
       " 'pa': 210,\n",
       " 'complications': 211,\n",
       " 'patients': 212,\n",
       " 'rheumatoid': 213,\n",
       " 'recurrent': 214,\n",
       " 'foot': 215,\n",
       " 'cardiac': 216,\n",
       " 'performed': 217,\n",
       " 'aneurysm': 218,\n",
       " 'discussed': 219,\n",
       " 'every': 220,\n",
       " 'provider': 221,\n",
       " 'time': 222,\n",
       " 'gfr': 223,\n",
       " 'hemoglobin': 224,\n",
       " 'weight': 225,\n",
       " 'drug': 226,\n",
       " 'check': 227,\n",
       " 'episode': 228,\n",
       " 'fu': 229,\n",
       " 'dependence': 230,\n",
       " 'take': 231,\n",
       " 'mass': 232,\n",
       " 'denies': 233,\n",
       " 'secondary': 234,\n",
       " 'bp': 235,\n",
       " 'fracture': 236,\n",
       " 'clinical': 237,\n",
       " 'cardiomyopathy': 238,\n",
       " 'hepatitis': 239,\n",
       " 'yrs': 240,\n",
       " 'reports': 241,\n",
       " 'specified': 242,\n",
       " '2017': 243,\n",
       " 'ventricular': 244,\n",
       " 'myocardial': 245,\n",
       " 'ordered': 246,\n",
       " 'n183': 247,\n",
       " 'orders': 248,\n",
       " 'knee': 249,\n",
       " 'may': 250,\n",
       " 'therapy': 251,\n",
       " 'presents': 252,\n",
       " 'sp': 253,\n",
       " 'examination': 254,\n",
       " 'neck': 255,\n",
       " 'management': 256,\n",
       " 'screen': 257,\n",
       " 'glucose': 258,\n",
       " 'li': 259,\n",
       " 'goal': 260,\n",
       " '12': 261,\n",
       " 'single': 262,\n",
       " 'retinopathy': 263,\n",
       " 'abdominal': 264,\n",
       " 'exercise': 265,\n",
       " 'conditions': 266,\n",
       " 'feeling': 267,\n",
       " 'cmshcc': 268,\n",
       " 'generalized': 269,\n",
       " 'need': 270,\n",
       " 'dob': 271,\n",
       " 'depressed': 272,\n",
       " 'multiple': 273,\n",
       " 'dyslipidemia': 274,\n",
       " 'oral': 275,\n",
       " 'fasting': 276,\n",
       " 'chf': 277,\n",
       " 'pectoris': 278,\n",
       " 'change': 279,\n",
       " 'insufficiency': 280,\n",
       " 'urinary': 281,\n",
       " 'include': 282,\n",
       " 'ca': 283,\n",
       " 'macular': 284,\n",
       " 'signs': 285,\n",
       " 'icd10': 286,\n",
       " '70': 287,\n",
       " 'new': 288,\n",
       " 'liver': 289,\n",
       " 'allergies': 290,\n",
       " '20': 291,\n",
       " 'longterm': 292,\n",
       " 'ratio': 293,\n",
       " 'site': 294,\n",
       " 'cva': 295,\n",
       " 'counseling': 296,\n",
       " '40': 297,\n",
       " 'report': 298,\n",
       " 'lumbar': 299,\n",
       " 'see': 300,\n",
       " 'f329': 301,\n",
       " 'vldl': 302,\n",
       " 'please': 303,\n",
       " 'mgdl': 304,\n",
       " 'physical': 305,\n",
       " 'dysfunction': 306,\n",
       " 'diastolic': 307,\n",
       " '15': 308,\n",
       " 'evidence': 309,\n",
       " 'mitral': 310,\n",
       " 'ulcer': 311,\n",
       " 'surgery': 312,\n",
       " 'al': 313,\n",
       " 'function': 314,\n",
       " 'wo': 315,\n",
       " 'per': 316,\n",
       " 'assessments': 317,\n",
       " 'associated': 318,\n",
       " 'morbid': 319,\n",
       " 'seen': 320,\n",
       " 'condition': 321,\n",
       " 'body': 322,\n",
       " 'review': 323,\n",
       " '30': 324,\n",
       " 'iii': 325,\n",
       " 'adults': 326,\n",
       " 'noted': 327,\n",
       " 'never': 328,\n",
       " 'abuse': 329,\n",
       " 'metabolic': 330,\n",
       " 'emphysema': 331,\n",
       " 'prediabetes': 332,\n",
       " 'claudication': 333,\n",
       " 'bladder': 334,\n",
       " 'general': 335,\n",
       " 'pneumonia': 336,\n",
       " 'ischemic': 337,\n",
       " 'a1c': 338,\n",
       " 'apnea': 339,\n",
       " 'recent': 340,\n",
       " 'sister': 341,\n",
       " 'evaluation': 342,\n",
       " 'sinus': 343,\n",
       " '100': 344,\n",
       " 'cm': 345,\n",
       " 'male': 346,\n",
       " 'findings': 347,\n",
       " 'smoking': 348,\n",
       " '12222016': 349,\n",
       " 'cardiovascular': 350,\n",
       " 'leg': 351,\n",
       " 'increased': 352,\n",
       " 'rate': 353,\n",
       " 'tachycardia': 354,\n",
       " 'i2510': 355,\n",
       " 'aorta': 356,\n",
       " '57': 357,\n",
       " 'j449': 358,\n",
       " 'm810': 359,\n",
       " '60': 360,\n",
       " 'clear': 361,\n",
       " 'attack': 362,\n",
       " 'mammogram': 363,\n",
       " 'also': 364,\n",
       " 'factors': 365,\n",
       " 'comments': 366,\n",
       " 'glycemic': 367,\n",
       " 'cerebral': 368,\n",
       " 'following': 369,\n",
       " 'description': 370,\n",
       " 'systolic': 371,\n",
       " 'code': 372,\n",
       " 'reported': 373,\n",
       " 'one': 374,\n",
       " 'ed': 375,\n",
       " 'level': 376,\n",
       " 'cough': 377,\n",
       " 'regurgitation': 378,\n",
       " 'since': 379,\n",
       " 'good': 380,\n",
       " 'tsh': 381,\n",
       " 'discharge': 382,\n",
       " 'prior': 383,\n",
       " 'brother': 384,\n",
       " 'vaccine': 385,\n",
       " 'comment': 386,\n",
       " 'icd10cm': 387,\n",
       " 'impaired': 388,\n",
       " 'sclerosis': 389,\n",
       " 'done': 390,\n",
       " 'dyspnea': 391,\n",
       " 'index': 392,\n",
       " '50': 393,\n",
       " 'mr': 394,\n",
       " 'triglycerides': 395,\n",
       " 'rhinitis': 396,\n",
       " 'orally': 397,\n",
       " 'allergic': 398,\n",
       " 'extremity': 399,\n",
       " 'bronchitis': 400,\n",
       " 'venous': 401,\n",
       " 'breath': 402,\n",
       " 'cal': 403,\n",
       " 'od': 404,\n",
       " 'conceptid': 405,\n",
       " 'stress': 406,\n",
       " 'updated': 407,\n",
       " 'significant': 408,\n",
       " 'joint': 409,\n",
       " 'icd': 410,\n",
       " 'ou': 411,\n",
       " 'order': 412,\n",
       " 'os': 413,\n",
       " '11': 414,\n",
       " 'gout': 415,\n",
       " 'thyromegaly': 416,\n",
       " '14': 417,\n",
       " 'little': 418,\n",
       " 'includes': 419,\n",
       " '25': 420,\n",
       " 'id': 421,\n",
       " 'dx': 422,\n",
       " 'score': 423,\n",
       " 'information': 424,\n",
       " 'post': 425,\n",
       " 'routine': 426,\n",
       " 'esophageal': 427,\n",
       " 'serum': 428,\n",
       " 'chief': 429,\n",
       " 'days': 430,\n",
       " 'block': 431,\n",
       " 'us': 432,\n",
       " 'cervical': 433,\n",
       " 'bowel': 434,\n",
       " 'acquired': 435,\n",
       " 'hip': 436,\n",
       " 'cataract': 437,\n",
       " 'fatigue': 438,\n",
       " 'complaint': 439,\n",
       " 'home': 440,\n",
       " 'nodule': 441,\n",
       " 'dizziness': 442,\n",
       " 'range': 443,\n",
       " 'mi': 444,\n",
       " 'upper': 445,\n",
       " 'behavioral': 446,\n",
       " 'known': 447,\n",
       " 'needed': 448,\n",
       " 'fall': 449,\n",
       " 'cbc': 450,\n",
       " 'st': 451,\n",
       " 'statin': 452,\n",
       " 'disturbance': 453,\n",
       " 'medicine': 454,\n",
       " 'osteopenia': 455,\n",
       " 'work': 456,\n",
       " 'co': 457,\n",
       " 'bleeding': 458,\n",
       " 'nos': 459,\n",
       " 'long': 460,\n",
       " 'er': 461,\n",
       " '65': 462,\n",
       " 'procedure': 463,\n",
       " 'infection': 464,\n",
       " 'ho': 465,\n",
       " 'died': 466,\n",
       " 'hpi': 467,\n",
       " 'given': 468,\n",
       " 'recommended': 469,\n",
       " 'insomnia': 470,\n",
       " 'icd9': 471,\n",
       " 'palpitations': 472,\n",
       " 'dvt': 473,\n",
       " 'lupus': 474,\n",
       " 'taking': 475,\n",
       " 'lungs': 476,\n",
       " 'presence': 477,\n",
       " 'pacemaker': 478,\n",
       " 'related': 479,\n",
       " 'bone': 480,\n",
       " 'cell': 481,\n",
       " 'weakness': 482,\n",
       " 'alive': 483,\n",
       " 'disorders': 484,\n",
       " 'weeks': 485,\n",
       " 'result': 486,\n",
       " 'former': 487,\n",
       " '90': 488,\n",
       " 'degeneration': 489,\n",
       " 'pleasure': 490,\n",
       " 'gait': 491,\n",
       " 'z23': 492,\n",
       " 'hyperglycemia': 493,\n",
       " '2016': 494,\n",
       " 'endocrine': 495,\n",
       " 'positive': 496,\n",
       " 'interest': 497,\n",
       " 'uncontrolled': 498,\n",
       " 'signed': 499,\n",
       " 'scan': 500,\n",
       " 'results': 501,\n",
       " 'printed': 502,\n",
       " 'completed': 503,\n",
       " 'agerelated': 504,\n",
       " 'el': 505,\n",
       " 'pvd': 506,\n",
       " 'shortness': 507,\n",
       " 'mouth': 508,\n",
       " 'colonoscopy': 509,\n",
       " 'auscultation': 510,\n",
       " 'mood': 511,\n",
       " 'alzheimers': 512,\n",
       " 'hopeless': 513,\n",
       " 'carcinoma': 514,\n",
       " 'things': 515,\n",
       " 'eyes': 516,\n",
       " 'med': 517,\n",
       " 'ms': 518,\n",
       " 'location': 519,\n",
       " 'regular': 520,\n",
       " 'hearing': 521,\n",
       " 'kidneys': 522,\n",
       " 'embolism': 523,\n",
       " 'systems': 524,\n",
       " 'name': 525,\n",
       " 'codes': 526,\n",
       " 'e780': 527,\n",
       " 'side': 528,\n",
       " 'remission': 529,\n",
       " 'echo': 530,\n",
       " 'influenza': 531,\n",
       " 'rx': 532,\n",
       " 'improved': 533,\n",
       " 'assessmentplan': 534,\n",
       " 'next': 535,\n",
       " 'additional': 536,\n",
       " 'systemic': 537,\n",
       " 'start': 538,\n",
       " 'ci': 539,\n",
       " 'spinal': 540,\n",
       " 'thoracic': 541,\n",
       " 'currently': 542,\n",
       " 'involving': 543,\n",
       " 'goiter': 544,\n",
       " 'headache': 545,\n",
       " 'small': 546,\n",
       " 'term': 547,\n",
       " 'memory': 548,\n",
       " 'disc': 549,\n",
       " 'vision': 550,\n",
       " 'migraine': 551,\n",
       " 'psa': 552,\n",
       " 'persistent': 553,\n",
       " 'psychiatric': 554,\n",
       " 'within': 555,\n",
       " 'seizures': 556,\n",
       " 'tests': 557,\n",
       " 'less': 558,\n",
       " 'hiv': 559,\n",
       " 'extremities': 560,\n",
       " 'dose': 561,\n",
       " 'complete': 562,\n",
       " 'impairment': 563,\n",
       " 'cerebrovascular': 564,\n",
       " 'get': 565,\n",
       " 'cardiology': 566,\n",
       " 'bipolar': 567,\n",
       " 'call': 568,\n",
       " 'exacerbation': 569,\n",
       " 'hernia': 570,\n",
       " 'data': 571,\n",
       " 'angle': 572,\n",
       " '12510': 573,\n",
       " 'dis': 574,\n",
       " 'open': 575,\n",
       " 'cc': 576,\n",
       " 'tract': 577,\n",
       " 'f411': 578,\n",
       " 'degenerative': 579,\n",
       " 'fh': 580,\n",
       " 'polyneuropathy': 581,\n",
       " 'nephropathy': 582,\n",
       " 'pad': 583,\n",
       " 'ldlhdl': 584,\n",
       " 'uncomplicated': 585,\n",
       " 'month': 586,\n",
       " 'e559': 587,\n",
       " 'iron': 588,\n",
       " 'sugar': 589,\n",
       " 'urine': 590,\n",
       " 'regimen': 591,\n",
       " 'z0000': 592,\n",
       " 'detailed': 593,\n",
       " 'th': 594,\n",
       " 'likely': 595,\n",
       " 'tia': 596,\n",
       " 'pcp': 597,\n",
       " 'referred': 598,\n",
       " 'atherosclerotic': 599,\n",
       " 'relationship': 600,\n",
       " 'f419': 601,\n",
       " 'asymptomatic': 602,\n",
       " 'syncope': 603,\n",
       " 'appointment': 604,\n",
       " '13': 605,\n",
       " 'imaging': 606,\n",
       " 'accident': 607,\n",
       " 'non': 608,\n",
       " 'gi': 609,\n",
       " 'ekg': 610,\n",
       " 'ion': 611,\n",
       " 'return': 612,\n",
       " 'falls': 613,\n",
       " 'recheck': 614,\n",
       " 'capsule': 615,\n",
       " 'personal': 616,\n",
       " 'supple': 617,\n",
       " 'pathological': 618,\n",
       " 'yo': 619,\n",
       " 'annual': 620,\n",
       " 'calc': 621,\n",
       " 'found': 622,\n",
       " '2724': 623,\n",
       " 'intermittent': 624,\n",
       " 'iv': 625,\n",
       " 'study': 626,\n",
       " 'rhythm': 627,\n",
       " 'tenderness': 628,\n",
       " 'ago': 629,\n",
       " 'refills': 630,\n",
       " 'unsp': 631,\n",
       " 'ocular': 632,\n",
       " 'dexa': 633,\n",
       " 'transient': 634,\n",
       " 'physician': 635,\n",
       " 'cyst': 636,\n",
       " 'flutter': 637,\n",
       " 'constipation': 638,\n",
       " 'state': 639,\n",
       " 'arteriosclerosis': 640,\n",
       " 'muscle': 641,\n",
       " 'factor': 642,\n",
       " 'main': 643,\n",
       " 'progress': 644,\n",
       " 'comp': 645,\n",
       " 'e669': 646,\n",
       " 'size': 647,\n",
       " 'seizure': 648,\n",
       " 'possible': 649,\n",
       " 'unchanged': 650,\n",
       " 'denied': 651,\n",
       " 'document': 652,\n",
       " 'distress': 653,\n",
       " 'vital': 654,\n",
       " 'nodules': 655,\n",
       " 'cognitive': 656,\n",
       " 'prostatic': 657,\n",
       " 'diseases': 658,\n",
       " 'hemorrhage': 659,\n",
       " 'recommendations': 660,\n",
       " 'obstruction': 661,\n",
       " 'sick': 662,\n",
       " 'polyps': 663,\n",
       " 'flu': 664,\n",
       " 'indicated': 665,\n",
       " '99214': 666,\n",
       " 'education': 667,\n",
       " 'creatinine': 668,\n",
       " 'cause': 669,\n",
       " 'excess': 670,\n",
       " 'phq2': 671,\n",
       " 'decreased': 672,\n",
       " 'deep': 673,\n",
       " 'lesion': 674,\n",
       " 'internal': 675,\n",
       " 'e6601': 676,\n",
       " 'evaluated': 677,\n",
       " 'states': 678,\n",
       " 'lyme': 679,\n",
       " 'hyperparathyroidism': 680,\n",
       " 'di': 681,\n",
       " 'increase': 682,\n",
       " 'initial': 683,\n",
       " 'repeat': 684,\n",
       " '4019': 685,\n",
       " 'vaccination': 686,\n",
       " 'aspirin': 687,\n",
       " 'previous': 688,\n",
       " 'better': 689,\n",
       " 'immunization': 690,\n",
       " 'thrombosis': 691,\n",
       " 'would': 692,\n",
       " 'e1165': 693,\n",
       " 'lobe': 694,\n",
       " 'sodium': 695,\n",
       " 'mm': 696,\n",
       " 'bph': 697,\n",
       " 'dependent': 698,\n",
       " 'hld': 699,\n",
       " 'detail': 700,\n",
       " 'melanoma': 701,\n",
       " 'bypass': 702,\n",
       " 'week': 703,\n",
       " 'needs': 704,\n",
       " 'compression': 705,\n",
       " 'lipids': 706,\n",
       " 'cord': 707,\n",
       " 'including': 708,\n",
       " 'final': 709,\n",
       " 'poor': 710,\n",
       " 'acid': 711,\n",
       " 'spine': 712,\n",
       " 'could': 713,\n",
       " 'idiopathic': 714,\n",
       " 'resolved': 715,\n",
       " 'hypercholesteremia': 716,\n",
       " 'z1211': 717,\n",
       " 'ultrasound': 718,\n",
       " 'arteries': 719,\n",
       " 'ht': 720,\n",
       " 'fever': 721,\n",
       " 'refill': 722,\n",
       " 'replacement': 723,\n",
       " 'n182': 724,\n",
       " 'complaints': 725,\n",
       " 'hcc': 726,\n",
       " 'es': 727,\n",
       " '17': 728,\n",
       " 'occlusion': 729,\n",
       " 'afib': 730,\n",
       " 'wt': 731,\n",
       " 'nt': 732,\n",
       " 'calories': 733,\n",
       " 'diarrhea': 734,\n",
       " 'intact': 735,\n",
       " 'hospital': 736,\n",
       " 'effort': 737,\n",
       " '39': 738,\n",
       " 'frequency': 739,\n",
       " 'vein': 740,\n",
       " 'testing': 741,\n",
       " 'ef': 742,\n",
       " 'units': 743,\n",
       " 'recorded': 744,\n",
       " 'region': 745,\n",
       " 'psoriasis': 746,\n",
       " 'mlmin': 747,\n",
       " 'incontinence': 748,\n",
       " 'first': 749,\n",
       " 'calcium': 750,\n",
       " 'ent': 751,\n",
       " 'appropriate': 752,\n",
       " 'numbness': 753,\n",
       " 'cabg': 754,\n",
       " 'ic': 755,\n",
       " 'story': 756,\n",
       " 'directed': 757,\n",
       " 'parkinsons': 758,\n",
       " 'icd4011': 759,\n",
       " 'breathing': 760,\n",
       " 'pe': 761,\n",
       " 'cirrhosis': 762,\n",
       " 'openangle': 763,\n",
       " '80': 764,\n",
       " 'elsewhere': 765,\n",
       " '2015': 766,\n",
       " 'hypothyroid': 767,\n",
       " 'dilated': 768,\n",
       " 'est': 769,\n",
       " 'plans': 770,\n",
       " 'issues': 771,\n",
       " 'times': 772,\n",
       " 'masses': 773,\n",
       " 'hypertrophy': 774,\n",
       " 'medicalsurgical': 775,\n",
       " 'cpt99214': 776,\n",
       " 'phq9': 777,\n",
       " 'pr': 778,\n",
       " 'tumor': 779,\n",
       " 'et': 780,\n",
       " 'abdomen': 781,\n",
       " 'smoke': 782,\n",
       " 'exposure': 783,\n",
       " 'e784': 784,\n",
       " 'rash': 785,\n",
       " 'icd10i10': 786,\n",
       " 'difficulty': 787,\n",
       " '18': 788,\n",
       " 'healthy': 789,\n",
       " 'twice': 790,\n",
       " 'daughter': 791,\n",
       " 'neurological': 792,\n",
       " '16': 793,\n",
       " 'ry': 794,\n",
       " 'se': 795,\n",
       " 'mary': 796,\n",
       " 'death': 797,\n",
       " 'm1990': 798,\n",
       " 'stent': 799,\n",
       " 'affect': 800,\n",
       " 'free': 801,\n",
       " 'comprehensive': 802,\n",
       " '75': 803,\n",
       " 'prn': 804,\n",
       " 'thrombocytopenia': 805,\n",
       " 'le': 806,\n",
       " 'requested': 807,\n",
       " 'son': 808,\n",
       " 'maternal': 809,\n",
       " 'system': 810,\n",
       " 'showed': 811,\n",
       " 'fat': 812,\n",
       " 'shoulder': 813,\n",
       " 'profile': 814,\n",
       " 'z1389': 815,\n",
       " 'dry': 816,\n",
       " 'future': 817,\n",
       " 'manifestations': 818,\n",
       " '24': 819,\n",
       " 'classified': 820,\n",
       " 'diverticulosis': 821,\n",
       " 'unknown': 822,\n",
       " 'overweight': 823,\n",
       " 'f0390': 824,\n",
       " '81': 825,\n",
       " 'excessive': 826,\n",
       " 'branch': 827,\n",
       " 'brain': 828,\n",
       " '01011900': 829,\n",
       " 'e1122': 830,\n",
       " '19': 831,\n",
       " 'migdoyle': 832,\n",
       " 'graft': 833,\n",
       " 'i739': 834,\n",
       " 'wall': 835,\n",
       " 'icd2720': 836,\n",
       " 'ischemia': 837,\n",
       " 'provided': 838,\n",
       " 'headaches': 839,\n",
       " 'treated': 840,\n",
       " 'e1169': 841,\n",
       " 'consistent': 842,\n",
       " 'procedures': 843,\n",
       " 'caffeine': 844,\n",
       " 'colorectal': 845,\n",
       " 'swelling': 846,\n",
       " 'esophagus': 847,\n",
       " 'alc': 848,\n",
       " 'atorvastatin': 849,\n",
       " 'disturbances': 850,\n",
       " 'advised': 851,\n",
       " 'summary': 852,\n",
       " 'subjective': 853,\n",
       " 'todays': 854,\n",
       " '69': 855,\n",
       " 'specializing': 856,\n",
       " 'added': 857,\n",
       " 'preventive': 858,\n",
       " 'part': 859,\n",
       " 'colitis': 860,\n",
       " 'borderline': 861,\n",
       " 'apply': 862,\n",
       " 'vessel': 863,\n",
       " 'injury': 864,\n",
       " 'fibrosis': 865,\n",
       " 'still': 866,\n",
       " 'neurologic': 867,\n",
       " 'pertinent': 868,\n",
       " 'po': 869,\n",
       " 'murmur': 870,\n",
       " 'two': 871,\n",
       " 'na': 872,\n",
       " 'icd10e780': 873,\n",
       " 'group': 874,\n",
       " 'hematuria': 875,\n",
       " 'visual': 876,\n",
       " '3059': 877,\n",
       " 'premature': 878,\n",
       " 'number': 879,\n",
       " 'siblings': 880,\n",
       " 'recently': 881,\n",
       " 'c61': 882,\n",
       " 'retinal': 883,\n",
       " 'neuro': 884,\n",
       " 'ne': 885,\n",
       " 'supraventricular': 886,\n",
       " '45': 887,\n",
       " 'documented': 888,\n",
       " 'source': 889,\n",
       " 'sites': 890,\n",
       " 'r7301': 891,\n",
       " 'metastatic': 892,\n",
       " 'ov': 893,\n",
       " 'ab': 894,\n",
       " 'tricuspid': 895,\n",
       " 'legs': 896,\n",
       " '2011': 897,\n",
       " 'pulse': 898,\n",
       " 'm8580': 899,\n",
       " 'ia': 900,\n",
       " 'limb': 901,\n",
       " 'maintenance': 902,\n",
       " 'nd': 903,\n",
       " 'min': 904,\n",
       " 'j45909': 905,\n",
       " 'doctor': 906,\n",
       " 'ecg': 907,\n",
       " 'lesions': 908,\n",
       " 'underlying': 909,\n",
       " 'smoked': 910,\n",
       " 'polyp': 911,\n",
       " 'ing': 912,\n",
       " 'nonproliferative': 913,\n",
       " 'unremarkable': 914,\n",
       " 'diagnostic': 915,\n",
       " 'arterial': 916,\n",
       " '23': 917,\n",
       " 'irregular': 918,\n",
       " 'bruising': 919,\n",
       " 'tabs': 920,\n",
       " 'monitoring': 921,\n",
       " 'remains': 922,\n",
       " 'schedule': 923,\n",
       " 'select': 924,\n",
       " 'b12': 925,\n",
       " 'mmhg': 926,\n",
       " 'av': 927,\n",
       " 'n189': 928,\n",
       " 'impressionstable': 929,\n",
       " 'icd2724': 930,\n",
       " '59': 931,\n",
       " 'z1231': 932,\n",
       " 'ear': 933,\n",
       " 'go': 934,\n",
       " '22': 935,\n",
       " 'hyperplasia': 936,\n",
       " 'hyper': 937,\n",
       " 'electrocardiogram': 938,\n",
       " 'amputation': 939,\n",
       " 'using': 940,\n",
       " 'continues': 941,\n",
       " 'bundle': 942,\n",
       " 'referral': 943,\n",
       " 'reconciled': 944,\n",
       " '00': 945,\n",
       " 'road': 946,\n",
       " 'i4891': 947,\n",
       " 'severity': 948,\n",
       " 'enlarged': 949,\n",
       " 'lisinopril': 950,\n",
       " 'pat': 951,\n",
       " 'pneumococcal': 952,\n",
       " 'table': 953,\n",
       " 'stop': 954,\n",
       " 'mental': 955,\n",
       " 'response': 956,\n",
       " 'effects': 957,\n",
       " 'interstitial': 958,\n",
       " 'follows': 959,\n",
       " 'suspect': 960,\n",
       " 'activity': 961,\n",
       " 'electronically': 962,\n",
       " 'ng': 963,\n",
       " 'andor': 964,\n",
       " 'dependency': 965,\n",
       " 'ok': 966,\n",
       " '05': 967,\n",
       " 'started': 968,\n",
       " 'paternal': 969,\n",
       " 'mri': 970,\n",
       " 'simvastatin': 971,\n",
       " '55': 972,\n",
       " 'bilaterally': 973,\n",
       " 'djd': 974,\n",
       " 'consider': 975,\n",
       " 'head': 976,\n",
       " 'bid': 977,\n",
       " 'sounds': 978,\n",
       " 'icd10e785': 979,\n",
       " 'sob': 980,\n",
       " 'place': 981,\n",
       " 'ml': 982,\n",
       " 'physicians': 983,\n",
       " 'reference': 984,\n",
       " 'posterior': 985,\n",
       " 'hi': 986,\n",
       " 'exertion': 987,\n",
       " 'large': 988,\n",
       " 'tion': 989,\n",
       " 'density': 990,\n",
       " 'recommend': 991,\n",
       " 'eval': 992,\n",
       " 'medicare': 993,\n",
       " 'hyperthyroidism': 994,\n",
       " 'bothered': 995,\n",
       " 'rn': 996,\n",
       " 'mammo': 997,\n",
       " 'irritable': 998,\n",
       " '14891': 999,\n",
       " 'release': 1000,\n",
       " ...}"
      ]
     },
     "execution_count": 28,
     "metadata": {},
     "output_type": "execute_result"
    }
   ],
   "source": [
    "word_index"
   ]
  },
  {
   "cell_type": "code",
   "execution_count": 52,
   "metadata": {},
   "outputs": [
    {
     "name": "stdout",
     "output_type": "stream",
     "text": [
      "[     0      0      0      0      0      0      0      0      0      0\n",
      "      0      0      0      0      0      0      0      0      0      0\n",
      "      0      0      0      0      0      0      0 141873 141873 137127\n",
      "  92616  83813  83813  83813  58943  38049   3280   1407   1405   1381\n",
      "   1381   1381   1371   1365    567    352    352     87     33     33\n",
      "     33     33     32     14     14      3      3      0      0      0\n",
      "      0      0      0      0      0      0      0      0      0      0]\n",
      "[     0      0      0      0      0      0      0      0      0      0\n",
      "      0      0      0      0      0      0      0      0      0      0\n",
      "      0      0      0      0      0      0      0      1      1      3\n",
      "      7     12     17     20     27     35     58    103    171    316\n",
      "    484    790   1258   1981   3122   5096   8340  13563  22754  37316\n",
      "  60100  93196 136472 185382 232575 272486 301710 321093 332223 338540\n",
      " 342099 344149 345457 346280 346918 347360 347727 348071 348481 349227]\n"
     ]
    }
   ],
   "source": [
    "#sequences = tokenizer.texts_to_sequences(trainDFsel['text75'].values)\n",
    "#sequences = tokenizer.texts_to_sequences(trainDFsel['text75'].values)\n",
    "#word_index = tokenizer.word_index\n",
    "#print('Found %s unique tokens.' % len(word_index))\n",
    "#Xsel = pad_sequences(sequences, maxlen=max_len)\n",
    "#word_vector = sequences[0]\n",
    "#print(len(word_vector))\n",
    "print((X!=0).argmax(axis=0)) # find the first non zero row for each column\n",
    "print(np.count_nonzero(X, axis=0))   # find the number of nonzero in each column  ok it seems it's working fine here."
   ]
  },
  {
   "cell_type": "code",
   "execution_count": 53,
   "metadata": {},
   "outputs": [
    {
     "name": "stdout",
     "output_type": "stream",
     "text": [
      "349267\n",
      "349267\n",
      "(349267, 70)\n",
      "18127\n"
     ]
    }
   ],
   "source": [
    "# Training \n",
    "print(len(X))\n",
    "labels=trainDF1['flag']\n",
    "print(len(labels))   # these are training dataset\n",
    "print(X.shape)\n",
    "# below is the  testing dataset \n",
    "# \n",
    "print(len(testDF))\n"
   ]
  },
  {
   "cell_type": "code",
   "execution_count": 54,
   "metadata": {},
   "outputs": [
    {
     "name": "stdout",
     "output_type": "stream",
     "text": [
      "(18127, 70) (18127,)\n"
     ]
    }
   ],
   "source": [
    "# tokenize the test dataset\n",
    "sequences = tokenizer.texts_to_sequences(testDF['text75'].values)\n",
    "#word_index = tokenizer.word_index\n",
    "#print('Found %s unique tokens.' % len(word_index))\n",
    "\n",
    "testX1 = pad_sequences(sequences, maxlen=max_len)\n",
    "y_test1 = testDF['flag']\n",
    "print(testX1.shape,y_test1.shape)"
   ]
  },
  {
   "cell_type": "markdown",
   "metadata": {},
   "source": [
    "#### Now split train and validation data, below X_test,y_test are validation data,  X_test1 and y_test1  are independent test data not seen by the model training "
   ]
  },
  {
   "cell_type": "code",
   "execution_count": 55,
   "metadata": {},
   "outputs": [],
   "source": [
    "X_train, X_test, y_train, y_test = train_test_split(X, labels, test_size=0.20, random_state=12)"
   ]
  },
  {
   "cell_type": "code",
   "execution_count": 56,
   "metadata": {},
   "outputs": [
    {
     "name": "stdout",
     "output_type": "stream",
     "text": [
      "((279413, 70), (279413,), (69854, 70), (69854,))\n"
     ]
    }
   ],
   "source": [
    "print((X_train.shape, y_train.shape, X_test.shape, y_test.shape))"
   ]
  },
  {
   "cell_type": "code",
   "execution_count": 57,
   "metadata": {},
   "outputs": [
    {
     "name": "stdout",
     "output_type": "stream",
     "text": [
      "unspecified duration sequela s069x9s assessment pseudoseizures f445 assessment elevated serum cholesterol e789\n"
     ]
    }
   ],
   "source": [
    "print(trainDF1['text75'][10])"
   ]
  },
  {
   "cell_type": "code",
   "execution_count": 58,
   "metadata": {},
   "outputs": [
    {
     "name": "stdout",
     "output_type": "stream",
     "text": [
      "[    0     0     0     0     0     0     0     0     0     0     0     0\n",
      "     0     0     0     0     0     0     0     0     0     0     0     0\n",
      "     0     0     0     0     0     0     0     0     0     0     0     0\n",
      "     0     0     0     0     0     0     0     0     0     0     0     0\n",
      "     0     0     0     0     0     0   375   316   134 18517  1708   475\n",
      "  1205   222   115  5334  4721  2201  7720  4857  5422  6468]\n"
     ]
    }
   ],
   "source": [
    "print(X_train[10])   # here one instance is still just a sequence"
   ]
  },
  {
   "cell_type": "markdown",
   "metadata": {},
   "source": [
    "### Part 3. Model training"
   ]
  },
  {
   "cell_type": "code",
   "execution_count": 48,
   "metadata": {},
   "outputs": [],
   "source": [
    "from keras.layers import Embedding, Flatten, Dense, Input\n",
    "# Keras\n",
    "from keras.preprocessing.text import Tokenizer\n",
    "from keras.preprocessing.sequence import pad_sequences\n",
    "from keras.models import Sequential\n",
    "from keras.layers import Dense, Flatten, LSTM, Conv1D, MaxPooling1D, Dropout, Activation\n",
    "#from keras.layers.embeddings import Embedding\n",
    "#from keras.layers import Dense, Input, Flatten\n",
    "from keras.layers import GlobalAveragePooling1D, Embedding\n",
    "from keras.models import Model"
   ]
  },
  {
   "cell_type": "markdown",
   "metadata": {},
   "source": [
    "#### A. Using CNN+LSTM"
   ]
  },
  {
   "cell_type": "code",
   "execution_count": 49,
   "metadata": {},
   "outputs": [
    {
     "name": "stdout",
     "output_type": "stream",
     "text": [
      "WARNING:tensorflow:From /opt/conda/lib/python3.7/site-packages/tensorflow/python/framework/op_def_library.py:263: colocate_with (from tensorflow.python.framework.ops) is deprecated and will be removed in a future version.\n",
      "Instructions for updating:\n",
      "Colocations handled automatically by placer.\n",
      "WARNING:tensorflow:From /opt/conda/lib/python3.7/site-packages/keras/backend/tensorflow_backend.py:3445: calling dropout (from tensorflow.python.ops.nn_ops) with keep_prob is deprecated and will be removed in a future version.\n",
      "Instructions for updating:\n",
      "Please use `rate` instead of `keep_prob`. Rate should be set to `rate = 1 - keep_prob`.\n",
      "_________________________________________________________________\n",
      "Layer (type)                 Output Shape              Param #   \n",
      "=================================================================\n",
      "embedding_1 (Embedding)      (None, 70, 128)           25600000  \n",
      "_________________________________________________________________\n",
      "conv1d_1 (Conv1D)            (None, 66, 64)            41024     \n",
      "_________________________________________________________________\n",
      "max_pooling1d_1 (MaxPooling1 (None, 16, 64)            0         \n",
      "_________________________________________________________________\n",
      "lstm_1 (LSTM)                (None, 64)                33024     \n",
      "_________________________________________________________________\n",
      "dense_1 (Dense)              (None, 1)                 65        \n",
      "=================================================================\n",
      "Total params: 25,674,113\n",
      "Trainable params: 25,674,113\n",
      "Non-trainable params: 0\n",
      "_________________________________________________________________\n",
      "None\n",
      "WARNING:tensorflow:From /opt/conda/lib/python3.7/site-packages/tensorflow/python/ops/math_ops.py:3066: to_int32 (from tensorflow.python.ops.math_ops) is deprecated and will be removed in a future version.\n",
      "Instructions for updating:\n",
      "Use tf.cast instead.\n",
      "Train on 279413 samples, validate on 69854 samples\n",
      "Epoch 1/3\n",
      "279413/279413 [==============================] - 176s 631us/step - loss: 0.3892 - acc: 0.8297 - val_loss: 0.3345 - val_acc: 0.8633\n",
      "Epoch 2/3\n",
      "279413/279413 [==============================] - 173s 621us/step - loss: 0.2838 - acc: 0.8876 - val_loss: 0.3202 - val_acc: 0.8726\n",
      "Epoch 3/3\n",
      "279413/279413 [==============================] - 173s 618us/step - loss: 0.2253 - acc: 0.9134 - val_loss: 0.3345 - val_acc: 0.8720\n"
     ]
    }
   ],
   "source": [
    "# this one is actually  not using pre-trained word embeddings, \n",
    "# but instead initializing the Embedding layer from scratch and learning its weights during training\n",
    "batch_size=512\n",
    "epochs=3\n",
    "EMBEDDING_DIM=128\n",
    "n_most_common_words=200000\n",
    "model = Sequential()    \n",
    "model.add(Embedding(n_most_common_words, EMBEDDING_DIM, input_length=max_len))\n",
    "#model.add(Dropout(0.5))\n",
    "model.add(Conv1D(filters=64, kernel_size=5,activation='relu'))\n",
    "model.add(MaxPooling1D(pool_size=4))\n",
    "model.add(LSTM(64, dropout=0.75, recurrent_dropout=0.75))\n",
    "model.add(Dense(1, activation='sigmoid'))\n",
    "model.compile(optimizer='adam', loss='binary_crossentropy', metrics=['acc'])\n",
    "print(model.summary())\n",
    "history = model.fit(X_train, y_train, epochs=epochs, batch_size=batch_size,validation_data=(X_test, y_test),callbacks=[EarlyStopping(monitor='val_loss',patience=7, min_delta=0.0001)])\n"
   ]
  },
  {
   "cell_type": "code",
   "execution_count": 50,
   "metadata": {},
   "outputs": [
    {
     "data": {
      "image/png": "[encoded data removed]",
      "text/plain": [
       "<Figure size 432x288 with 1 Axes>"
      ]
     },
     "metadata": {
      "needs_background": "light"
     },
     "output_type": "display_data"
    },
    {
     "data": {
      "image/png": "[encoded data removed]",
      "text/plain": [
       "<Figure size 432x288 with 1 Axes>"
      ]
     },
     "metadata": {
      "needs_background": "light"
     },
     "output_type": "display_data"
    }
   ],
   "source": [
    "import matplotlib.pyplot as plt\n",
    "acc = history.history['acc']\n",
    "val_acc = history.history['val_acc']\n",
    "loss = history.history['loss']\n",
    "val_loss = history.history['val_loss']\n",
    "\n",
    "epochs = range(1, len(acc) + 1)\n",
    "\n",
    "plt.plot(epochs, acc, 'bo', label='Training acc')\n",
    "plt.plot(epochs, val_acc, 'b', label='Validation acc')\n",
    "plt.title('Training and validation accuracy')\n",
    "plt.legend()\n",
    "\n",
    "plt.figure()\n",
    "\n",
    "plt.plot(epochs, loss, 'bo', label='Training loss')\n",
    "plt.plot(epochs, val_loss, 'b', label='Validation loss')\n",
    "plt.title('Training and validation loss')\n",
    "plt.legend()\n",
    "\n",
    "plt.show()"
   ]
  },
  {
   "cell_type": "code",
   "execution_count": 59,
   "metadata": {},
   "outputs": [
    {
     "name": "stdout",
     "output_type": "stream",
     "text": [
      "69854/69854 [==============================] - 11s 158us/step\n",
      "Test set\n",
      "  Loss: 0.334\n",
      "  Accuracy: 0.872\n",
      "18127/18127 [==============================] - 3s 158us/step\n",
      "Test set\n",
      "  Loss: 0.418\n",
      "  Accuracy: 0.840\n"
     ]
    }
   ],
   "source": [
    "# use independent test dataset for evaluation\n",
    "accr = model.evaluate(X_test,y_test)\n",
    "print('Test set\\n  Loss: {:0.3f}\\n  Accuracy: {:0.3f}'.format(accr[0],accr[1]))\n",
    "accr = model.evaluate(testX1,y_test1)\n",
    "print('Test set\\n  Loss: {:0.3f}\\n  Accuracy: {:0.3f}'.format(accr[0],accr[1]))"
   ]
  },
  {
   "cell_type": "code",
   "execution_count": 48,
   "metadata": {},
   "outputs": [],
   "source": [
    "#joblib.dump(model, '../picklefolder_ngrams/DeleteReason_biclass_Mar2719_cnnlstm.pickle')    \n",
    "#model.save('../picklefolder_ngrams/DeleteReason_biclass_Mar2719_cnnlstm_model.h5')"
   ]
  },
  {
   "cell_type": "code",
   "execution_count": 98,
   "metadata": {},
   "outputs": [
    {
     "data": {
      "text/plain": [
       "['../picklefolder_ngrams/DeleteReason_biclass_Mar2819_cnnlstm.pickle']"
      ]
     },
     "execution_count": 98,
     "metadata": {},
     "output_type": "execute_result"
    }
   ],
   "source": [
    "joblib.dump(model, '../picklefolder_ngrams/DeleteReason_biclass_Mar2819_cnnlstm.pickle')    \n",
    "#model.save('../picklefolder_ngrams/DeleteReason_biclass_Mar2819_cnnlstm_model.h5')"
   ]
  },
  {
   "cell_type": "code",
   "execution_count": 103,
   "metadata": {},
   "outputs": [
    {
     "name": "stdout",
     "output_type": "stream",
     "text": [
      "Test accuracy is 0.8767193873899664\n",
      "[[29066  3794]\n",
      " [ 4819 32186]]\n",
      "Test accuracy is 0.8767193873899664\n",
      "                            precision    recall  f1-score   support\n",
      "\n",
      "Class 0:agreement+addition       0.86      0.88      0.87     32860\n",
      "          Class 1:deletion       0.89      0.87      0.88     37005\n",
      "\n",
      "               avg / total       0.88      0.88      0.88     69865\n",
      "\n",
      "threshold accuracy_score precision recall f1_score tn  fn  fp  tp\n",
      "0.1 0.816474629643 1   0.76  0.95 21738 1700 11122 35305\n",
      "0.2 0.854805696701 1   0.82  0.93 25382 2666 7478 34339\n",
      "0.3 0.869247835111 1   0.85  0.91 27115 3390 5745 33615\n",
      "0.4 0.875016102483 1   0.88  0.89 28252 4124 4608 32881\n",
      "0.5 0.87671938739 1   0.89  0.87 29066 4819 3794 32186\n",
      "0.6 0.873656337222 1   0.91  0.85 29750 5717 3110 31288\n",
      "0.7 0.869047448651 1   0.92  0.82 30345 6634 2515 30371\n",
      "0.8 0.857611107135 1   0.94  0.78 30906 7994 1954 29011\n",
      "0.9 0.832834752737 1   0.95  0.72 31573 10392 1287 26613\n"
     ]
    },
    {
     "data": {
      "image/png": "[encoded data removed]",
      "text/plain": [
       "<Figure size 432x288 with 2 Axes>"
      ]
     },
     "metadata": {},
     "output_type": "display_data"
    }
   ],
   "source": [
    "# testing on the testing data using split\n",
    "\n",
    "predictiont2 = model.predict(X_test)\n",
    "\n",
    "finallabelt2= (predictiont2 > 0.5).astype(np.int) \n",
    "\n",
    "print('Test accuracy is {}'.format(accuracy_score(y_test, finallabelt2)))\n",
    "\n",
    "conf_mat = confusion_matrix(y_test, finallabelt2)\n",
    "print(conf_mat)\n",
    "df_cm = pd.DataFrame(conf_mat, range(2),\n",
    "                  range(2))\n",
    "sns.set(font_scale=1.4)#for label size\n",
    "sns.heatmap(df_cm, annot=True, fmt='d')\n",
    "\n",
    "print('Test accuracy is {}'.format(accuracy_score(y_test, finallabelt2)))\n",
    "target_names = ['Class 0:agreement+addition', 'Class 1:deletion']\n",
    "print(classification_report(y_test, finallabelt2, target_names=target_names))\n",
    "\n",
    "# now try different threshold\n",
    "print(\"threshold accuracy_score precision recall f1_score tn  fn  fp  tp\")\n",
    "for thres in [0.1,0.2,0.3,0.4,0.5,0.6,0.7,0.8,0.9]:  #no, cannot use it, this is for binary class only\n",
    "    prediction2t = np.where(predictiont2 > thres, 1, 0)\n",
    "        #print(prediction)\n",
    "    conf_mat = confusion_matrix(y_test, prediction2t)\n",
    "    tn, fp, fn, tp = conf_mat.ravel()\n",
    "    report = classification_report(y_test,prediction2t)\n",
    "    lines = report.split('\\n')\n",
    "    #print(lines[2])\n",
    "    row_data = lines[3].split('     ')\n",
    "    print(thres,accuracy_score(y_test, prediction2t),row_data[2],row_data[3],row_data[4], tn, fn, fp, tp)\n"
   ]
  },
  {
   "cell_type": "code",
   "execution_count": 104,
   "metadata": {},
   "outputs": [
    {
     "name": "stdout",
     "output_type": "stream",
     "text": [
      "Test accuracy is 0.8433827991394053\n",
      "[[7178 1477]\n",
      " [1362 8110]]\n",
      "Test accuracy is 0.8433827991394053\n",
      "                            precision    recall  f1-score   support\n",
      "\n",
      "Class 0:agreement+addition       0.84      0.83      0.83      8655\n",
      "          Class 1:deletion       0.85      0.86      0.85      9472\n",
      "\n",
      "               avg / total       0.84      0.84      0.84     18127\n",
      "\n",
      "threshold accuracy_score precision recall f1_score tn  fn  fp  tp\n",
      "0.1 0.765267280852 1   0.71  0.95 4914 514 3741 8958\n",
      "0.2 0.808131516522 1   0.76  0.92 5966 789 2689 8683\n",
      "0.3 0.827494897115 1   0.80  0.89 6529 1001 2126 8471\n",
      "0.4 0.83665250731 1   0.82  0.87 6880 1186 1775 8286\n",
      "0.5 0.843382799139 1   0.85  0.86 7178 1362 1477 8110\n",
      "0.6 0.84619628179 1   0.87  0.83 7474 1607 1181 7865\n",
      "0.7 0.844099961384 1   0.89  0.80 7702 1873 953 7599\n",
      "0.8 0.837976499145 1   0.91  0.77 7939 2221 716 7251\n",
      "0.9 0.816902962432 1   0.93  0.70 8180 2844 475 6628\n"
     ]
    },
    {
     "data": {
      "image/png": "[encoded data removed]",
      "text/plain": [
       "<Figure size 432x288 with 2 Axes>"
      ]
     },
     "metadata": {},
     "output_type": "display_data"
    }
   ],
   "source": [
    "# testing on the set aside test data from ibc\n",
    "\n",
    "predictiont2 = model.predict(testX1)\n",
    "\n",
    "finallabelt2= (predictiont2 > 0.5).astype(np.int) \n",
    "\n",
    "print('Test accuracy is {}'.format(accuracy_score(y_test1, finallabelt2)))\n",
    "\n",
    "conf_mat = confusion_matrix(y_test1, finallabelt2)\n",
    "print(conf_mat)\n",
    "df_cm = pd.DataFrame(conf_mat, range(2),\n",
    "                  range(2))\n",
    "sns.set(font_scale=1.4)#for label size\n",
    "sns.heatmap(df_cm, annot=True, fmt='d')\n",
    "\n",
    "print('Test accuracy is {}'.format(accuracy_score(y_test1, finallabelt2)))\n",
    "target_names = ['Class 0:agreement+addition', 'Class 1:deletion']\n",
    "print(classification_report(y_test1, finallabelt2, target_names=target_names))\n",
    "\n",
    "# now try different threshold\n",
    "print(\"threshold accuracy_score precision recall f1_score tn  fn  fp  tp\")\n",
    "for thres in [0.1,0.2,0.3,0.4,0.5,0.6,0.7,0.8,0.9]:  #no, cannot use it, this is for binary class only\n",
    "    prediction2t = np.where(predictiont2 > thres, 1, 0)\n",
    "        #print(prediction)\n",
    "    conf_mat = confusion_matrix(y_test1, prediction2t)\n",
    "    tn, fp, fn, tp = conf_mat.ravel()\n",
    "    report = classification_report(y_test1,prediction2t)\n",
    "    lines = report.split('\\n')\n",
    "    #print(lines[2])\n",
    "    row_data = lines[3].split('     ')\n",
    "    print(thres,accuracy_score(y_test1, prediction2t),row_data[2],row_data[3],row_data[4], tn, fn, fp, tp)\n"
   ]
  },
  {
   "cell_type": "code",
   "execution_count": 109,
   "metadata": {},
   "outputs": [
    {
     "data": {
      "text/plain": [
       "array([[    0,     0,     0, ...,  6116,    82, 50240],\n",
       "       [    0,     0,     0, ...,  2518,  2577,  1211],\n",
       "       [    0,     0,     0, ...,  2518,  2577,  1211],\n",
       "       ..., \n",
       "       [    0,     0,     0, ...,    64,   365,   583],\n",
       "       [    0,     0,     0, ...,     4,   129,    41],\n",
       "       [    0,     0,     0, ...,   113,    64,   365]], dtype=int32)"
      ]
     },
     "execution_count": 109,
     "metadata": {},
     "output_type": "execute_result"
    }
   ],
   "source": [
    "testX1"
   ]
  },
  {
   "cell_type": "code",
   "execution_count": 4,
   "metadata": {},
   "outputs": [],
   "source": [
    "# Keras\n",
    "from keras.preprocessing.text import Tokenizer\n",
    "from keras.preprocessing.sequence import pad_sequences\n",
    "from keras.models import Sequential\n",
    "from keras.layers import Dense, Flatten, LSTM, Conv1D, MaxPooling1D, Dropout, Activation\n",
    "from keras.layers.embeddings import Embedding"
   ]
  },
  {
   "cell_type": "markdown",
   "metadata": {},
   "source": [
    "#### B. Using LSTM only"
   ]
  },
  {
   "cell_type": "code",
   "execution_count": 60,
   "metadata": {
    "scrolled": false
   },
   "outputs": [
    {
     "name": "stdout",
     "output_type": "stream",
     "text": [
      "_________________________________________________________________\n",
      "Layer (type)                 Output Shape              Param #   \n",
      "=================================================================\n",
      "embedding_2 (Embedding)      (None, 70, 128)           25600000  \n",
      "_________________________________________________________________\n",
      "spatial_dropout1d_1 (Spatial (None, 70, 128)           0         \n",
      "_________________________________________________________________\n",
      "lstm_2 (LSTM)                (None, 64)                49408     \n",
      "_________________________________________________________________\n",
      "dense_2 (Dense)              (None, 1)                 65        \n",
      "=================================================================\n",
      "Total params: 25,649,473\n",
      "Trainable params: 25,649,473\n",
      "Non-trainable params: 0\n",
      "_________________________________________________________________\n",
      "None\n",
      "Train on 279413 samples, validate on 69854 samples\n",
      "Epoch 1/3\n",
      "279413/279413 [==============================] - 205s 735us/step - loss: 0.4420 - acc: 0.7976 - val_loss: 0.3596 - val_acc: 0.8496\n",
      "Epoch 2/3\n",
      "279413/279413 [==============================] - 203s 728us/step - loss: 0.3481 - acc: 0.8562 - val_loss: 0.3379 - val_acc: 0.8614\n",
      "Epoch 3/3\n",
      "279413/279413 [==============================] - 203s 726us/step - loss: 0.3163 - acc: 0.8706 - val_loss: 0.3288 - val_acc: 0.8646\n"
     ]
    }
   ],
   "source": [
    "epochs=3\n",
    "batch_siz=256\n",
    "emb_dim=128\n",
    "model2 = Sequential()\n",
    "model2.add(Embedding(n_most_common_words, emb_dim, input_length=X_train.shape[1]))\n",
    "model2.add(SpatialDropout1D(0.5))\n",
    "model2.add(LSTM(64, dropout=0.7, recurrent_dropout=0.7))\n",
    "model2.add(Dense(1, activation='sigmoid'))\n",
    "model2.compile(optimizer='adam', loss='binary_crossentropy', metrics=['acc'])\n",
    "print(model2.summary())\n",
    "#history2 = model2.fit(X_train, y_train, epochs=epochs, batch_size=batch_size,validation_split=0.2,callbacks=[EarlyStopping(monitor='val_loss',patience=7, min_delta=0.0001)])\n",
    "history3 = model2.fit(X_train, y_train, epochs=epochs, batch_size=batch_size,validation_data=(X_test, y_test),callbacks=[EarlyStopping(monitor='val_loss',patience=7, min_delta=0.0001)])\n"
   ]
  },
  {
   "cell_type": "code",
   "execution_count": 61,
   "metadata": {},
   "outputs": [
    {
     "name": "stdout",
     "output_type": "stream",
     "text": [
      "69854/69854 [==============================] - 28s 402us/step\n",
      "Test set\n",
      "  Loss: 0.329\n",
      "  Accuracy: 0.865\n",
      "18127/18127 [==============================] - 7s 402us/step\n",
      "Test set\n",
      "  Loss: 0.367\n",
      "  Accuracy: 0.848\n"
     ]
    }
   ],
   "source": [
    "accr = model2.evaluate(X_test,y_test)\n",
    "print('Test set\\n  Loss: {:0.3f}\\n  Accuracy: {:0.3f}'.format(accr[0],accr[1]))\n",
    "accr = model2.evaluate(testX1,y_test1)\n",
    "print('Test set\\n  Loss: {:0.3f}\\n  Accuracy: {:0.3f}'.format(accr[0],accr[1]))"
   ]
  },
  {
   "cell_type": "code",
   "execution_count": 62,
   "metadata": {},
   "outputs": [
    {
     "data": {
      "image/png": "[encoded data removed]",
      "text/plain": [
       "<Figure size 432x288 with 1 Axes>"
      ]
     },
     "metadata": {
      "needs_background": "light"
     },
     "output_type": "display_data"
    },
    {
     "data": {
      "image/png": "[encoded data removed]",
      "text/plain": [
       "<Figure size 432x288 with 1 Axes>"
      ]
     },
     "metadata": {
      "needs_background": "light"
     },
     "output_type": "display_data"
    }
   ],
   "source": [
    "import matplotlib.pyplot as plt\n",
    "\n",
    "acc = history3.history['acc']\n",
    "val_acc = history3.history['val_acc']\n",
    "loss = history3.history['loss']\n",
    "val_loss = history3.history['val_loss']\n",
    "\n",
    "epochs = range(1, len(acc) + 1)\n",
    "\n",
    "plt.plot(epochs, acc, 'bo', label='Training acc')\n",
    "plt.plot(epochs, val_acc, 'b', label='Validation acc')\n",
    "plt.title('Training and validation accuracy')\n",
    "plt.legend()\n",
    "\n",
    "plt.figure()\n",
    "\n",
    "plt.plot(epochs, loss, 'bo', label='Training loss')\n",
    "plt.plot(epochs, val_loss, 'b', label='Validation loss')\n",
    "plt.title('Training and validation loss')\n",
    "plt.legend()\n",
    "\n",
    "plt.show()"
   ]
  },
  {
   "cell_type": "code",
   "execution_count": 102,
   "metadata": {},
   "outputs": [
    {
     "data": {
      "text/plain": [
       "['../picklefolder_ngrams/DeleteReason_biclass_Mar2819_lstm.pickle']"
      ]
     },
     "execution_count": 102,
     "metadata": {},
     "output_type": "execute_result"
    }
   ],
   "source": [
    "joblib.dump(model2, '../picklefolder_ngrams/DeleteReason_biclass_Mar2819_lstm.pickle')  "
   ]
  },
  {
   "cell_type": "code",
   "execution_count": 63,
   "metadata": {},
   "outputs": [
    {
     "name": "stdout",
     "output_type": "stream",
     "text": [
      "[[0.9958593]]\n"
     ]
    }
   ],
   "source": [
    "# one example of prediction\n",
    "txt = ['gkins diagnosed cancer brother alive stroke diagnosed stroke sister alive breast cancer diagnosed cancer sister aliv']\n",
    "seq = tokenizer.texts_to_sequences(txt)\n",
    "padded = pad_sequences(seq, maxlen=max_len)\n",
    "pred = model2.predict(padded)\n",
    "print(pred) # should be deletion which is 1\n",
    "#classlabels = ['Class 0:family_history', 'Class 1:incorrect_acronym', 'Class 2:medical_history',\n",
    "#       'Class 3:negation', 'Class 4:not_doctors_note', 'Class 5:not_relevant',\n",
    "#       'Class 6:phoneORaddressORother_number', 'Class 7:preventative_screening', 'Class 8:agreedandadded']\n",
    "#print(pred, classlabels[np.argmax(pred)])\n",
    "\n",
    "#labelsnum = [0,1,2,3,4,5,6,7,8]\n",
    "#print(pred, labelsnum[np.argmax(pred)])"
   ]
  },
  {
   "cell_type": "code",
   "execution_count": 101,
   "metadata": {},
   "outputs": [
    {
     "name": "stdout",
     "output_type": "stream",
     "text": [
      "Test accuracy is 0.8673155371072783\n",
      "[[28735  4125]\n",
      " [ 5145 31860]]\n",
      "Test accuracy is 0.8673155371072783\n",
      "                            precision    recall  f1-score   support\n",
      "\n",
      "Class 0:agreement+addition       0.85      0.87      0.86     32860\n",
      "          Class 1:deletion       0.89      0.86      0.87     37005\n",
      "\n",
      "               avg / total       0.87      0.87      0.87     69865\n",
      "\n",
      "threshold accuracy_score precision recall f1_score tn  fn  fp  tp\n",
      "0.1 0.762241465684 1   0.70  0.97 17484 1235 15376 35770\n",
      "0.2 0.828068417663 1   0.78  0.93 23270 2422 9590 34583\n",
      "0.3 0.853961210907 1   0.83  0.91 26012 3355 6848 33650\n",
      "0.4 0.863207614685 1   0.86  0.88 27594 4291 5266 32714\n",
      "0.5 0.867315537107 1   0.89  0.86 28735 5145 4125 31860\n",
      "0.6 0.867129463966 1   0.91  0.84 29624 6047 3236 30958\n",
      "0.7 0.86247763544 1   0.92  0.81 30363 7111 2497 29894\n",
      "0.8 0.851842839762 1   0.94  0.77 31086 8577 1774 28428\n",
      "0.9 0.82494811422 1   0.96  0.70 31777 11147 1083 25858\n"
     ]
    },
    {
     "data": {
      "image/png": "[encoded data removed]",
      "text/plain": [
       "<Figure size 432x288 with 2 Axes>"
      ]
     },
     "metadata": {},
     "output_type": "display_data"
    }
   ],
   "source": [
    "# now use other metrics to evaluate the prediction\n",
    "# for direct multiclass\n",
    "prediction = model2.predict(X_test)\n",
    "\n",
    "finallabel= (prediction > 0.5).astype(np.int) \n",
    "\n",
    "print('Test accuracy is {}'.format(accuracy_score(y_test, finallabel)))\n",
    "\n",
    "conf_mat = confusion_matrix(y_test, finallabel)\n",
    "print(conf_mat)\n",
    "df_cm = pd.DataFrame(conf_mat, range(2),\n",
    "                  range(2))\n",
    "sns.set(font_scale=1.4)#for label size\n",
    "sns.heatmap(df_cm, annot=True, fmt='d')\n",
    "\n",
    "print('Test accuracy is {}'.format(accuracy_score(y_test, finallabel)))\n",
    "target_names = ['Class 0:agreement+addition', 'Class 1:deletion']\n",
    "print(classification_report(y_test, finallabel, target_names=target_names))\n",
    "\n",
    "# now try different threshold\n",
    "print(\"threshold accuracy_score precision recall f1_score tn  fn  fp  tp\")\n",
    "for thres in [0.1,0.2,0.3,0.4,0.5,0.6,0.7,0.8,0.9]:  #no, cannot use it, this is for binary class only\n",
    "    prediction2 = np.where(prediction > thres, 1, 0)\n",
    "        #print(prediction)\n",
    "    conf_mat = confusion_matrix(y_test, prediction2)\n",
    "    tn, fp, fn, tp = conf_mat.ravel()\n",
    "    report = classification_report(y_test,prediction2)\n",
    "    lines = report.split('\\n')\n",
    "    #print(lines[2])\n",
    "    row_data = lines[3].split('     ')\n",
    "    print(thres,accuracy_score(y_test,prediction2),row_data[2],row_data[3],row_data[4], tn, fn, fp, tp)\n"
   ]
  },
  {
   "cell_type": "code",
   "execution_count": 100,
   "metadata": {},
   "outputs": [
    {
     "name": "stdout",
     "output_type": "stream",
     "text": [
      "Test accuracy is 0.84625144811607\n",
      "[[7233 1422]\n",
      " [1365 8107]]\n",
      "Test accuracy is 0.84625144811607\n",
      "                            precision    recall  f1-score   support\n",
      "\n",
      "Class 0:agreement+addition       0.84      0.84      0.84      8655\n",
      "          Class 1:deletion       0.85      0.86      0.85      9472\n",
      "\n",
      "               avg / total       0.85      0.85      0.85     18127\n",
      "\n",
      "threshold accuracy_score precision recall f1_score tn  fn  fp  tp\n",
      "0.1 0.7343189717 1   0.67  0.96 4185 346 4470 9126\n",
      "0.2 0.800022066531 1   0.75  0.93 5687 657 2968 8815\n",
      "0.3 0.827163899156 1   0.79  0.90 6429 907 2226 8565\n",
      "0.4 0.837038671595 1   0.82  0.88 6858 1157 1797 8315\n",
      "0.5 0.846251448116 1   0.85  0.86 7233 1365 1422 8107\n",
      "0.6 0.848292602196 1   0.87  0.83 7512 1607 1143 7865\n",
      "0.7 0.847023776687 1   0.90  0.80 7765 1883 890 7589\n",
      "0.8 0.841286478733 1   0.92  0.76 8038 2260 617 7212\n",
      "0.9 0.820654272632 1   0.95  0.70 8278 2874 377 6598\n"
     ]
    },
    {
     "data": {
      "image/png": "[encoded data removed]",
      "text/plain": [
       "<Figure size 432x288 with 2 Axes>"
      ]
     },
     "metadata": {},
     "output_type": "display_data"
    }
   ],
   "source": [
    "# testing on the set aside test data from ibc\n",
    "\n",
    "predictiont2 = model2.predict(testX1)\n",
    "\n",
    "finallabelt2= (predictiont2 > 0.5).astype(np.int) \n",
    "\n",
    "print('Test accuracy is {}'.format(accuracy_score(y_test1, finallabelt2)))\n",
    "\n",
    "conf_mat = confusion_matrix(y_test1, finallabelt2)\n",
    "print(conf_mat)\n",
    "df_cm = pd.DataFrame(conf_mat, range(2),\n",
    "                  range(2))\n",
    "sns.set(font_scale=1.4)#for label size\n",
    "sns.heatmap(df_cm, annot=True, fmt='d')\n",
    "\n",
    "print('Test accuracy is {}'.format(accuracy_score(y_test1, finallabelt2)))\n",
    "target_names = ['Class 0:agreement+addition', 'Class 1:deletion']\n",
    "print(classification_report(y_test1, finallabelt2, target_names=target_names))\n",
    "\n",
    "# now try different threshold\n",
    "print(\"threshold accuracy_score precision recall f1_score tn  fn  fp  tp\")\n",
    "for thres in [0.1,0.2,0.3,0.4,0.5,0.6,0.7,0.8,0.9]:  #no, cannot use it, this is for binary class only\n",
    "    prediction2t = np.where(predictiont2 > thres, 1, 0)\n",
    "        #print(prediction)\n",
    "    conf_mat = confusion_matrix(y_test1, prediction2t)\n",
    "    tn, fp, fn, tp = conf_mat.ravel()\n",
    "    report = classification_report(y_test1,prediction2t)\n",
    "    lines = report.split('\\n')\n",
    "    #print(lines[2])\n",
    "    row_data = lines[3].split('     ')\n",
    "    print(thres,accuracy_score(y_test1, prediction2t),row_data[2],row_data[3],row_data[4], tn, fn, fp, tp)"
   ]
  },
  {
   "cell_type": "markdown",
   "metadata": {},
   "source": [
    "#### C. using several CNN1d layers"
   ]
  },
  {
   "cell_type": "code",
   "execution_count": 66,
   "metadata": {},
   "outputs": [
    {
     "name": "stdout",
     "output_type": "stream",
     "text": [
      "_________________________________________________________________\n",
      "Layer (type)                 Output Shape              Param #   \n",
      "=================================================================\n",
      "embedding_4 (Embedding)      (None, 70, 128)           25600000  \n",
      "_________________________________________________________________\n",
      "conv1d_5 (Conv1D)            (None, 67, 128)           65664     \n",
      "_________________________________________________________________\n",
      "max_pooling1d_5 (MaxPooling1 (None, 22, 128)           0         \n",
      "_________________________________________________________________\n",
      "dropout_4 (Dropout)          (None, 22, 128)           0         \n",
      "_________________________________________________________________\n",
      "conv1d_6 (Conv1D)            (None, 19, 128)           65664     \n",
      "_________________________________________________________________\n",
      "max_pooling1d_6 (MaxPooling1 (None, 6, 128)            0         \n",
      "_________________________________________________________________\n",
      "dropout_5 (Dropout)          (None, 6, 128)            0         \n",
      "_________________________________________________________________\n",
      "conv1d_7 (Conv1D)            (None, 3, 64)             32832     \n",
      "_________________________________________________________________\n",
      "max_pooling1d_7 (MaxPooling1 (None, 1, 64)             0         \n",
      "_________________________________________________________________\n",
      "dropout_6 (Dropout)          (None, 1, 64)             0         \n",
      "_________________________________________________________________\n",
      "flatten_2 (Flatten)          (None, 64)                0         \n",
      "_________________________________________________________________\n",
      "dense_4 (Dense)              (None, 1)                 65        \n",
      "=================================================================\n",
      "Total params: 25,764,225\n",
      "Trainable params: 25,764,225\n",
      "Non-trainable params: 0\n",
      "_________________________________________________________________\n",
      "None\n",
      "Train on 279413 samples, validate on 69854 samples\n",
      "Epoch 1/3\n",
      "279413/279413 [==============================] - 172s 615us/step - loss: 0.3705 - acc: 0.8402 - val_loss: 0.3109 - val_acc: 0.8725\n",
      "Epoch 2/3\n",
      "279413/279413 [==============================] - 170s 607us/step - loss: 0.2435 - acc: 0.9053 - val_loss: 0.3004 - val_acc: 0.8803\n",
      "Epoch 3/3\n",
      "279413/279413 [==============================] - 170s 607us/step - loss: 0.1686 - acc: 0.9356 - val_loss: 0.3370 - val_acc: 0.8794\n"
     ]
    }
   ],
   "source": [
    "epochs=3\n",
    "batch_size=512\n",
    "model3 = Sequential()\n",
    "model3.add(Embedding(n_most_common_words, emb_dim, input_length=X_train.shape[1]))\n",
    "model3.add(Conv1D(filters=128, kernel_size=4,activation='relu'))\n",
    "model3.add(MaxPooling1D(pool_size=3))\n",
    "model3.add(Dropout(0.25))\n",
    "model3.add(Conv1D(filters=128, kernel_size=4,activation='relu'))\n",
    "model3.add(MaxPooling1D(pool_size=3))\n",
    "model3.add(Dropout(0.25))\n",
    "model3.add(Conv1D(filters=64, kernel_size=4,activation='relu'))\n",
    "model3.add(MaxPooling1D(pool_size=3))\n",
    "model3.add(Dropout(0.25))\n",
    "#model3.add(Conv1D(filters=128, kernel_size=5,activation='relu'))\n",
    "#model3.add(MaxPooling1D(pool_size=15))\n",
    "#model3.add(Dropout(0.25))\n",
    "model3.add(Flatten())\n",
    "#model3.add(Dense(32, activation='relu'))\n",
    "#model3.add(LSTM(64, dropout=0.75, recurrent_dropout=0.75))\n",
    "model3.add(Dense(1, activation='sigmoid'))\n",
    "model3.compile(optimizer='adam', loss='binary_crossentropy', metrics=['acc'])\n",
    "print(model3.summary())\n",
    "#history3 = model3.fit(X_train, y_train, epochs=epochs, batch_size=batch_size,validation_split=0.2,callbacks=[EarlyStopping(monitor='val_loss',patience=7, min_delta=0.0001)])\n",
    "history3a = model3.fit(X_train, y_train, epochs=epochs, batch_size=batch_size,validation_data=(X_test, y_test),callbacks=[EarlyStopping(monitor='val_loss',patience=7, min_delta=0.0001)])\n"
   ]
  },
  {
   "cell_type": "code",
   "execution_count": 381,
   "metadata": {},
   "outputs": [],
   "source": [
    "joblib.dump(model3, '../picklefolder_ngrams/DeleteReason_biclass_Mar2619_cnn1d.pickle')    \n",
    "model3.save('../picklefolder_ngrams/DeleteReason_biclass_Mar2619_cnn1d_model.h5')"
   ]
  },
  {
   "cell_type": "code",
   "execution_count": 67,
   "metadata": {},
   "outputs": [
    {
     "name": "stdout",
     "output_type": "stream",
     "text": [
      "69854/69854 [==============================] - 7s 104us/step\n",
      "Test set\n",
      "  Loss: 0.337\n",
      "  Accuracy: 0.879\n",
      "18127/18127 [==============================] - 2s 105us/step\n",
      "Test set\n",
      "  Loss: 0.439\n",
      "  Accuracy: 0.846\n"
     ]
    }
   ],
   "source": [
    "accr = model3.evaluate(X_test,y_test)\n",
    "print('Test set\\n  Loss: {:0.3f}\\n  Accuracy: {:0.3f}'.format(accr[0],accr[1]))\n",
    "accr = model3.evaluate(testX1,y_test1)\n",
    "print('Test set\\n  Loss: {:0.3f}\\n  Accuracy: {:0.3f}'.format(accr[0],accr[1]))"
   ]
  },
  {
   "cell_type": "code",
   "execution_count": 68,
   "metadata": {},
   "outputs": [
    {
     "name": "stdout",
     "output_type": "stream",
     "text": [
      "69854/69854 [==============================] - 7s 104us/step\n",
      "Test set\n",
      "  Loss: 0.337\n",
      "  Accuracy: 0.879\n"
     ]
    },
    {
     "data": {
      "image/png": "[encoded data removed]",
      "text/plain": [
       "<Figure size 432x288 with 1 Axes>"
      ]
     },
     "metadata": {
      "needs_background": "light"
     },
     "output_type": "display_data"
    },
    {
     "data": {
      "image/png": "[encoded data removed]",
      "text/plain": [
       "<Figure size 432x288 with 1 Axes>"
      ]
     },
     "metadata": {
      "needs_background": "light"
     },
     "output_type": "display_data"
    }
   ],
   "source": [
    "accr = model3.evaluate(X_test,y_test)\n",
    "print('Test set\\n  Loss: {:0.3f}\\n  Accuracy: {:0.3f}'.format(accr[0],accr[1]))\n",
    "import matplotlib.pyplot as plt\n",
    "\n",
    "acc = history3a.history['acc']\n",
    "val_acc = history3a.history['val_acc']\n",
    "loss = history3a.history['loss']\n",
    "val_loss = history3a.history['val_loss']\n",
    "\n",
    "epochs = range(1, len(acc) + 1)\n",
    "\n",
    "plt.plot(epochs, acc, 'bo', label='Training acc')\n",
    "plt.plot(epochs, val_acc, 'b', label='Validation acc')\n",
    "plt.title('Training and validation accuracy')\n",
    "plt.legend()\n",
    "\n",
    "plt.figure()\n",
    "\n",
    "plt.plot(epochs, loss, 'bo', label='Training loss')\n",
    "plt.plot(epochs, val_loss, 'b', label='Validation loss')\n",
    "plt.title('Training and validation loss')\n",
    "plt.legend()\n",
    "\n",
    "plt.show()"
   ]
  },
  {
   "cell_type": "code",
   "execution_count": 363,
   "metadata": {},
   "outputs": [
    {
     "name": "stdout",
     "output_type": "stream",
     "text": [
      "Test accuracy is 0.8277338896733623\n",
      "[[106807  18841]\n",
      " [ 21784  88395]]\n",
      "Test accuracy is 0.8277338896733623\n",
      "                            precision    recall  f1-score   support\n",
      "\n",
      "Class 0:agreement+addition       0.83      0.85      0.84    125648\n",
      "          Class 1:deletion       0.82      0.80      0.81    110179\n",
      "\n",
      "                 micro avg       0.83      0.83      0.83    235827\n",
      "                 macro avg       0.83      0.83      0.83    235827\n",
      "              weighted avg       0.83      0.83      0.83    235827\n",
      "\n",
      "threshold accuracy_score precision recall f1_score tn  fn  fp  tp\n",
      "0.1 0.76932666743  1   0.70  0.90 82358 11109 43290 99070\n",
      "0.2 0.788306682441  1   0.73  0.87 89693 13968 35955 96211\n",
      "0.3 0.821161275002  1   0.79  0.84 100647 17174 25001 93005\n",
      "0.4 0.826029250255  1   0.81  0.82 104123 19502 21525 90677\n",
      "0.5 0.827733889673  1   0.82  0.80 106807 21784 18841 88395\n",
      "0.6 0.827246244069  1   0.84  0.78 109118 24210 16530 85969\n",
      "0.7 0.824761371683  1   0.85  0.76 111287 26965 14361 83214\n",
      "0.8 0.820224147362  1   0.87  0.73 113506 30254 12142 79925\n",
      "0.9 0.809131269956  1   0.89  0.68 116095 35459 9553 74720\n"
     ]
    },
    {
     "data": {
      "image/png": "[encoded data removed]",
      "text/plain": [
       "<Figure size 432x288 with 2 Axes>"
      ]
     },
     "metadata": {},
     "output_type": "display_data"
    }
   ],
   "source": [
    "# now use other metrics to evaluate the prediction\n",
    "# for direct multiclass\n",
    "prediction = model3.predict(X_test)\n",
    "\n",
    "finallabel= (prediction > 0.5).astype(np.int) \n",
    "\n",
    "print('Test accuracy is {}'.format(accuracy_score(y_test, finallabel)))\n",
    "\n",
    "conf_mat = confusion_matrix(y_test, finallabel)\n",
    "print(conf_mat)\n",
    "df_cm = pd.DataFrame(conf_mat, range(2),\n",
    "                  range(2))\n",
    "sns.set(font_scale=1.4)#for label size\n",
    "sns.heatmap(df_cm, annot=True, fmt='d')\n",
    "\n",
    "print('Test accuracy is {}'.format(accuracy_score(y_test, finallabel)))\n",
    "target_names = ['Class 0:agreement+addition', 'Class 1:deletion']\n",
    "print(classification_report(y_test, finallabel, target_names=target_names))\n",
    "\n",
    "# now try different threshold\n",
    "print(\"threshold accuracy_score precision recall f1_score tn  fn  fp  tp\")\n",
    "for thres in [0.1,0.2,0.3,0.4,0.5,0.6,0.7,0.8,0.9]:  #no, cannot use it, this is for binary class only\n",
    "    prediction2 = np.where(prediction > thres, 1, 0)\n",
    "        #print(prediction)\n",
    "    conf_mat = confusion_matrix(y_test, prediction2)\n",
    "    tn, fp, fn, tp = conf_mat.ravel()\n",
    "    report = classification_report(y_test,prediction2)\n",
    "    lines = report.split('\\n')\n",
    "    #print(lines[2])\n",
    "    row_data = lines[3].split('     ')\n",
    "    print(thres,accuracy_score(y_test,prediction2),row_data[2],row_data[3],row_data[4], tn, fn, fp, tp)\n"
   ]
  },
  {
   "cell_type": "markdown",
   "metadata": {},
   "source": [
    "#### D. attention"
   ]
  },
  {
   "cell_type": "code",
   "execution_count": 69,
   "metadata": {},
   "outputs": [],
   "source": [
    "from keras import initializers,regularizers,constraints\n",
    "from keras.layers import * "
   ]
  },
  {
   "cell_type": "code",
   "execution_count": 70,
   "metadata": {},
   "outputs": [],
   "source": [
    "class Attention(Layer):\n",
    "    def __init__(self, step_dim,\n",
    "                 W_regularizer=None, b_regularizer=None,\n",
    "                 W_constraint=None, b_constraint=None,\n",
    "                 bias=True, **kwargs):\n",
    "        self.supports_masking = True\n",
    "        self.init = initializers.get('glorot_uniform')\n",
    "\n",
    "        self.W_regularizer = regularizers.get(W_regularizer)\n",
    "        self.b_regularizer = regularizers.get(b_regularizer)\n",
    "\n",
    "        self.W_constraint = constraints.get(W_constraint)\n",
    "        self.b_constraint = constraints.get(b_constraint)\n",
    "\n",
    "        self.bias = bias\n",
    "        self.step_dim = step_dim\n",
    "        self.features_dim = 0\n",
    "        super(Attention, self).__init__(**kwargs)\n",
    "\n",
    "    def build(self, input_shape):\n",
    "        assert len(input_shape) == 3\n",
    "\n",
    "        self.W = self.add_weight((input_shape[-1],),\n",
    "                                 initializer=self.init,\n",
    "                                 name='{}_W'.format(self.name),\n",
    "                                 regularizer=self.W_regularizer,\n",
    "                                 constraint=self.W_constraint)\n",
    "        self.features_dim = input_shape[-1]\n",
    "\n",
    "        if self.bias:\n",
    "            self.b = self.add_weight((input_shape[1],),\n",
    "                                     initializer='zero',\n",
    "                                     name='{}_b'.format(self.name),\n",
    "                                     regularizer=self.b_regularizer,\n",
    "                                     constraint=self.b_constraint)\n",
    "        else:\n",
    "            self.b = None\n",
    "\n",
    "        self.built = True\n",
    "\n",
    "    def compute_mask(self, input, input_mask=None):\n",
    "        return None\n",
    "\n",
    "    def call(self, x, mask=None):\n",
    "        features_dim = self.features_dim\n",
    "        step_dim = self.step_dim\n",
    "\n",
    "        eij = K.reshape(K.dot(K.reshape(x, (-1, features_dim)),\n",
    "                        K.reshape(self.W, (features_dim, 1))), (-1, step_dim))\n",
    "\n",
    "        if self.bias:\n",
    "            eij += self.b\n",
    "\n",
    "        eij = K.tanh(eij)\n",
    "\n",
    "        a = K.exp(eij)\n",
    "\n",
    "        if mask is not None:\n",
    "            a *= K.cast(mask, K.floatx())\n",
    "\n",
    "        a /= K.cast(K.sum(a, axis=1, keepdims=True) + K.epsilon(), K.floatx())\n",
    "\n",
    "        a = K.expand_dims(a)\n",
    "        weighted_input = x * a\n",
    "        return K.sum(weighted_input, axis=1)\n",
    "\n",
    "    def compute_output_shape(self, input_shape):\n",
    "        return input_shape[0],  self.features_dim"
   ]
  },
  {
   "cell_type": "code",
   "execution_count": 72,
   "metadata": {
    "scrolled": true
   },
   "outputs": [
    {
     "name": "stdout",
     "output_type": "stream",
     "text": [
      "_________________________________________________________________\n",
      "Layer (type)                 Output Shape              Param #   \n",
      "=================================================================\n",
      "embedding_6 (Embedding)      (None, 70, 200)           40000000  \n",
      "_________________________________________________________________\n",
      "lstm_5 (LSTM)                (None, 70, 128)           168448    \n",
      "_________________________________________________________________\n",
      "lstm_6 (LSTM)                (None, 70, 64)            49408     \n",
      "_________________________________________________________________\n",
      "attention_2 (Attention)      (None, 64)                134       \n",
      "_________________________________________________________________\n",
      "dense_7 (Dense)              (None, 64)                4160      \n",
      "_________________________________________________________________\n",
      "dense_8 (Dense)              (None, 1)                 65        \n",
      "=================================================================\n",
      "Total params: 40,222,215\n",
      "Trainable params: 40,222,215\n",
      "Non-trainable params: 0\n",
      "_________________________________________________________________\n",
      "None\n",
      "Train on 279413 samples, validate on 69854 samples\n",
      "Epoch 1/3\n",
      "279413/279413 [==============================] - 421s 2ms/step - loss: 0.3755 - acc: 0.8365 - val_loss: 0.3300 - val_acc: 0.8670\n",
      "Epoch 2/3\n",
      "279413/279413 [==============================] - 414s 1ms/step - loss: 0.2738 - acc: 0.8928 - val_loss: 0.3059 - val_acc: 0.8767\n",
      "Epoch 3/3\n",
      "279413/279413 [==============================] - 413s 1ms/step - loss: 0.2111 - acc: 0.9184 - val_loss: 0.3081 - val_acc: 0.8798\n"
     ]
    }
   ],
   "source": [
    "epochs=3\n",
    "n_most_common_words=200000\n",
    "batch_size=512\n",
    "emb_dim=200\n",
    "model4 = Sequential()\n",
    "model4.add(Embedding(n_most_common_words, emb_dim, input_length=X.shape[1]))\n",
    "model4.add(LSTM(128, return_sequences=True))   #dropout=0.75, recurrent_dropout=0.75))\n",
    "model4.add(LSTM(64, return_sequences=True))   #dropout=0.75, recurrent_dropout=0.75))\n",
    "model4.add(Attention(X.shape[1]))\n",
    "\n",
    "#model3.add(Conv1D(filters=128, kernel_size=5,activation='relu'))\n",
    "#model3.add(MaxPooling1D(pool_size=15))\n",
    "#model3.add(Dropout(0.25))\n",
    "#model3.add(Flatten())\n",
    "model4.add(Dense(64, activation='relu'))\n",
    "\n",
    "model4.add(Dense(1, activation='sigmoid'))\n",
    "#model3.add(Conv1D(filters=128, kernel_size=4,activation='relu'))\n",
    "#model3.add(MaxPooling1D(pool_size=3))\n",
    "#model3.add(Dropout(0.25))))\n",
    "model4.compile(optimizer='adam', loss='binary_crossentropy', metrics=['acc'])\n",
    "print(model4.summary())\n",
    "#history4 = model4.fit(X_train, y_train, epochs=epochs, batch_size=batch_size,validation_split=0.3,callbacks=[EarlyStopping(monitor='val_loss',patience=7, min_delta=0.0001)])\n",
    "history4 = model4.fit(X_train, y_train, epochs=epochs, batch_size=batch_size,validation_data=(X_test, y_test),callbacks=[EarlyStopping(monitor='val_loss',patience=7, min_delta=0.0001)])\n"
   ]
  },
  {
   "cell_type": "code",
   "execution_count": 73,
   "metadata": {},
   "outputs": [
    {
     "data": {
      "image/png": "[encoded data removed]",
      "text/plain": [
       "<Figure size 432x288 with 1 Axes>"
      ]
     },
     "metadata": {
      "needs_background": "light"
     },
     "output_type": "display_data"
    },
    {
     "data": {
      "image/png": "[encoded data removed]",
      "text/plain": [
       "<Figure size 432x288 with 1 Axes>"
      ]
     },
     "metadata": {
      "needs_background": "light"
     },
     "output_type": "display_data"
    }
   ],
   "source": [
    "import matplotlib.pyplot as plt\n",
    "\n",
    "acc = history4.history['acc']\n",
    "val_acc = history4.history['val_acc']\n",
    "loss = history4.history['loss']\n",
    "val_loss = history4.history['val_loss']\n",
    "\n",
    "epochs = range(1, len(acc) + 1)\n",
    "\n",
    "plt.plot(epochs, acc, 'bo', label='Training acc')\n",
    "plt.plot(epochs, val_acc, 'b', label='Validation acc')\n",
    "plt.title('Training and validation accuracy')\n",
    "plt.legend()\n",
    "\n",
    "plt.figure()\n",
    "\n",
    "plt.plot(epochs, loss, 'bo', label='Training loss')\n",
    "plt.plot(epochs, val_loss, 'b', label='Validation loss')\n",
    "plt.title('Training and validation loss')\n",
    "plt.legend()\n",
    "\n",
    "plt.show()"
   ]
  },
  {
   "cell_type": "code",
   "execution_count": 74,
   "metadata": {},
   "outputs": [
    {
     "name": "stdout",
     "output_type": "stream",
     "text": [
      "69854/69854 [==============================] - 57s 817us/step\n",
      "Test set\n",
      "  Loss: 0.308\n",
      "  Accuracy: 0.880\n",
      "18127/18127 [==============================] - 15s 817us/step\n",
      "Test set\n",
      "  Loss: 0.402\n",
      "  Accuracy: 0.847\n"
     ]
    }
   ],
   "source": [
    "accr = model4.evaluate(X_test,y_test)\n",
    "print('Test set\\n  Loss: {:0.3f}\\n  Accuracy: {:0.3f}'.format(accr[0],accr[1]))\n",
    "accr = model4.evaluate(testX1,y_test1)\n",
    "print('Test set\\n  Loss: {:0.3f}\\n  Accuracy: {:0.3f}'.format(accr[0],accr[1]))"
   ]
  },
  {
   "cell_type": "code",
   "execution_count": 75,
   "metadata": {},
   "outputs": [
    {
     "name": "stdout",
     "output_type": "stream",
     "text": [
      "Test accuracy is 0.8798350846050333\n",
      "[[29372  3536]\n",
      " [ 4858 32088]]\n",
      "Test accuracy is 0.8798350846050333\n",
      "                            precision    recall  f1-score   support\n",
      "\n",
      "Class 0:agreement+addition       0.86      0.89      0.87     32908\n",
      "          Class 1:deletion       0.90      0.87      0.88     36946\n",
      "\n",
      "                 micro avg       0.88      0.88      0.88     69854\n",
      "                 macro avg       0.88      0.88      0.88     69854\n",
      "              weighted avg       0.88      0.88      0.88     69854\n",
      "\n",
      "threshold accuracy_score precision recall f1_score tn  fn  fp  tp\n",
      "0.1 0.8135969307412604  1   0.75  0.96 21305 1418 11603 35528\n",
      "0.2 0.860995791221691  1   0.83  0.93 25697 2499 7211 34447\n",
      "0.3 0.8757694620207862  1   0.86  0.91 27557 3327 5351 33619\n",
      "0.4 0.8799209780399118  1   0.88  0.89 28620 4100 4288 32846\n",
      "0.5 0.8798350846050333  1   0.90  0.87 29372 4858 3536 32088\n",
      "0.6 0.8768144988118075  1   0.92  0.85 30013 5710 2895 31236\n",
      "0.7 0.871145532109829  1   0.93  0.82 30567 6660 2341 30286\n",
      "0.8 0.8589629799295674  1   0.94  0.78 31028 7972 1880 28974\n",
      "0.9 0.833595785495462  1   0.96  0.72 31794 10510 1114 26436\n"
     ]
    },
    {
     "data": {
      "image/png": "[encoded data removed]",
      "text/plain": [
       "<Figure size 432x288 with 2 Axes>"
      ]
     },
     "metadata": {},
     "output_type": "display_data"
    }
   ],
   "source": [
    "# now use other metrics to evaluate the prediction\n",
    "# for direct multiclass\n",
    "prediction = model4.predict(X_test)\n",
    "\n",
    "finallabel= (prediction > 0.5).astype(np.int) \n",
    "\n",
    "print('Test accuracy is {}'.format(accuracy_score(y_test, finallabel)))\n",
    "\n",
    "conf_mat = confusion_matrix(y_test, finallabel)\n",
    "print(conf_mat)\n",
    "df_cm = pd.DataFrame(conf_mat, range(2),\n",
    "                  range(2))\n",
    "sns.set(font_scale=1.4)#for label size\n",
    "sns.heatmap(df_cm, annot=True, fmt='d')\n",
    "\n",
    "print('Test accuracy is {}'.format(accuracy_score(y_test, finallabel)))\n",
    "target_names = ['Class 0:agreement+addition', 'Class 1:deletion']\n",
    "print(classification_report(y_test, finallabel, target_names=target_names))\n",
    "\n",
    "# now try different threshold\n",
    "print(\"threshold accuracy_score precision recall f1_score tn  fn  fp  tp\")\n",
    "for thres in [0.1,0.2,0.3,0.4,0.5,0.6,0.7,0.8,0.9]:  #no, cannot use it, this is for binary class only\n",
    "    prediction2 = np.where(prediction > thres, 1, 0)\n",
    "        #print(prediction)\n",
    "    conf_mat = confusion_matrix(y_test, prediction2)\n",
    "    tn, fp, fn, tp = conf_mat.ravel()\n",
    "    report = classification_report(y_test,prediction2)\n",
    "    lines = report.split('\\n')\n",
    "    #print(lines[2])\n",
    "    row_data = lines[3].split('     ')\n",
    "    print(thres,accuracy_score(y_test,prediction2),row_data[2],row_data[3],row_data[4], tn, fn, fp, tp)"
   ]
  },
  {
   "cell_type": "code",
   "execution_count": 76,
   "metadata": {},
   "outputs": [
    {
     "name": "stdout",
     "output_type": "stream",
     "text": [
      "Test accuracy is 0.8468031113808131\n",
      "[[7243 1412]\n",
      " [1365 8107]]\n",
      "Test accuracy is 0.8468031113808131\n",
      "                            precision    recall  f1-score   support\n",
      "\n",
      "Class 0:agreement+addition       0.84      0.84      0.84      8655\n",
      "          Class 1:deletion       0.85      0.86      0.85      9472\n",
      "\n",
      "                 micro avg       0.85      0.85      0.85     18127\n",
      "                 macro avg       0.85      0.85      0.85     18127\n",
      "              weighted avg       0.85      0.85      0.85     18127\n",
      "\n",
      "threshold accuracy_score precision recall f1_score tn  fn  fp  tp\n",
      "0.1 0.7638329563634357  1   0.70  0.95 4850 476 3805 8996\n",
      "0.2 0.8153031389639764  1   0.77  0.92 6076 769 2579 8703\n",
      "0.3 0.8342803552711425  1   0.81  0.90 6625 974 2030 8498\n",
      "0.4 0.844706790974789  1   0.83  0.88 6981 1141 1674 8331\n",
      "0.5 0.8468031113808131  1   0.85  0.86 7243 1365 1412 8107\n",
      "0.6 0.8481822695426712  1   0.87  0.84 7459 1556 1196 7916\n",
      "0.7 0.8457549511778011  1   0.88  0.81 7655 1796 1000 7676\n",
      "0.8 0.8420588073040216  1   0.90  0.78 7879 2087 776 7385\n",
      "0.9 0.824019418546919  1   0.94  0.71 8194 2729 461 6743\n"
     ]
    },
    {
     "data": {
      "image/png": "[encoded data removed]",
      "text/plain": [
       "<Figure size 432x288 with 2 Axes>"
      ]
     },
     "metadata": {},
     "output_type": "display_data"
    }
   ],
   "source": [
    "# testing on the set aside test data from ibc\n",
    "\n",
    "predictiont2 = model4.predict(testX1)\n",
    "\n",
    "finallabelt2= (predictiont2 > 0.5).astype(np.int) \n",
    "\n",
    "print('Test accuracy is {}'.format(accuracy_score(y_test1, finallabelt2)))\n",
    "\n",
    "conf_mat = confusion_matrix(y_test1, finallabelt2)\n",
    "print(conf_mat)\n",
    "df_cm = pd.DataFrame(conf_mat, range(2),\n",
    "                  range(2))\n",
    "sns.set(font_scale=1.4)#for label size\n",
    "sns.heatmap(df_cm, annot=True, fmt='d')\n",
    "\n",
    "print('Test accuracy is {}'.format(accuracy_score(y_test1, finallabelt2)))\n",
    "target_names = ['Class 0:agreement+addition', 'Class 1:deletion']\n",
    "print(classification_report(y_test1, finallabelt2, target_names=target_names))\n",
    "\n",
    "# now try different threshold\n",
    "print(\"threshold accuracy_score precision recall f1_score tn  fn  fp  tp\")\n",
    "for thres in [0.1,0.2,0.3,0.4,0.5,0.6,0.7,0.8,0.9]:  #no, cannot use it, this is for binary class only\n",
    "    prediction2t = np.where(predictiont2 > thres, 1, 0)\n",
    "        #print(prediction)\n",
    "    conf_mat = confusion_matrix(y_test1, prediction2t)\n",
    "    tn, fp, fn, tp = conf_mat.ravel()\n",
    "    report = classification_report(y_test1,prediction2t)\n",
    "    lines = report.split('\\n')\n",
    "    #print(lines[2])\n",
    "    row_data = lines[3].split('     ')\n",
    "    print(thres,accuracy_score(y_test1, prediction2t),row_data[2],row_data[3],row_data[4], tn, fn, fp, tp)"
   ]
  },
  {
   "cell_type": "markdown",
   "metadata": {},
   "source": [
    "#### using bidirectional LSTM in Attention network"
   ]
  },
  {
   "cell_type": "code",
   "execution_count": 77,
   "metadata": {},
   "outputs": [
    {
     "name": "stdout",
     "output_type": "stream",
     "text": [
      "_________________________________________________________________\n",
      "Layer (type)                 Output Shape              Param #   \n",
      "=================================================================\n",
      "embedding_7 (Embedding)      (None, 70, 200)           40000000  \n",
      "_________________________________________________________________\n",
      "bidirectional_1 (Bidirection (None, 70, 256)           336896    \n",
      "_________________________________________________________________\n",
      "bidirectional_2 (Bidirection (None, 70, 128)           164352    \n",
      "_________________________________________________________________\n",
      "attention_3 (Attention)      (None, 128)               198       \n",
      "_________________________________________________________________\n",
      "dense_9 (Dense)              (None, 64)                8256      \n",
      "_________________________________________________________________\n",
      "dense_10 (Dense)             (None, 1)                 65        \n",
      "=================================================================\n",
      "Total params: 40,509,767\n",
      "Trainable params: 40,509,767\n",
      "Non-trainable params: 0\n",
      "_________________________________________________________________\n",
      "None\n",
      "Train on 279413 samples, validate on 69854 samples\n",
      "Epoch 1/3\n",
      "279413/279413 [==============================] - 666s 2ms/step - loss: 0.3562 - acc: 0.8461 - val_loss: 0.3073 - val_acc: 0.8760\n",
      "Epoch 2/3\n",
      "279413/279413 [==============================] - 651s 2ms/step - loss: 0.2434 - acc: 0.9050 - val_loss: 0.2905 - val_acc: 0.8843\n",
      "Epoch 3/3\n",
      "279413/279413 [==============================] - 646s 2ms/step - loss: 0.1806 - acc: 0.9309 - val_loss: 0.3201 - val_acc: 0.8820\n"
     ]
    }
   ],
   "source": [
    "epochs=3\n",
    "model4a = Sequential()\n",
    "model4a.add(Embedding(n_most_common_words, emb_dim, input_length=X.shape[1]))\n",
    "model4a.add(Bidirectional(LSTM(128, return_sequences=True)))   #dropout=0.75, recurrent_dropout=0.75))\n",
    "model4a.add(Bidirectional(LSTM(64, return_sequences=True)))   #dropout=0.75, recurrent_dropout=0.75))\n",
    "model4a.add(Attention(X.shape[1]))\n",
    "\n",
    "#model3.add(Conv1D(filters=128, kernel_size=5,activation='relu'))\n",
    "#model3.add(MaxPooling1D(pool_size=15))\n",
    "#model3.add(Dropout(0.25))\n",
    "#model3.add(Flatten())\n",
    "model4a.add(Dense(64, activation='relu'))\n",
    "\n",
    "model4a.add(Dense(1, activation='sigmoid'))\n",
    "#model3.add(Conv1D(filters=128, kernel_size=4,activation='relu'))\n",
    "#model3.add(MaxPooling1D(pool_size=3))\n",
    "#model3.add(Dropout(0.25))))\n",
    "model4a.compile(optimizer='adam', loss='binary_crossentropy', metrics=['acc'])\n",
    "print(model4a.summary())\n",
    "#history4a = model4a.fit(X_train, y_train, epochs=epochs, batch_size=batch_size,validation_split=0.3,callbacks=[EarlyStopping(monitor='val_loss',patience=7, min_delta=0.0001)])\n",
    "history4a = model4a.fit(X_train, y_train, epochs=epochs, batch_size=batch_size,validation_data=(X_test, y_test),callbacks=[EarlyStopping(monitor='val_loss',patience=7, min_delta=0.0001)])\n"
   ]
  },
  {
   "cell_type": "code",
   "execution_count": 79,
   "metadata": {},
   "outputs": [
    {
     "name": "stdout",
     "output_type": "stream",
     "text": [
      "69854/69854 [==============================] - 72s 1ms/step\n",
      "Test set\n",
      "  Loss: 0.320\n",
      "  Accuracy: 0.882\n",
      "18127/18127 [==============================] - 19s 1ms/step\n",
      "Test set\n",
      "  Loss: 0.427\n",
      "  Accuracy: 0.846\n"
     ]
    }
   ],
   "source": [
    "accr = model4a.evaluate(X_test,y_test)\n",
    "print('Test set\\n  Loss: {:0.3f}\\n  Accuracy: {:0.3f}'.format(accr[0],accr[1]))\n",
    "accr = model4a.evaluate(testX1,y_test1)\n",
    "print('Test set\\n  Loss: {:0.3f}\\n  Accuracy: {:0.3f}'.format(accr[0],accr[1]))"
   ]
  },
  {
   "cell_type": "code",
   "execution_count": 119,
   "metadata": {},
   "outputs": [
    {
     "data": {
      "text/plain": [
       "['../picklefolder_ngrams/DeleteReason_biclass_April0219_attention.pickle']"
      ]
     },
     "execution_count": 119,
     "metadata": {},
     "output_type": "execute_result"
    }
   ],
   "source": [
    "#joblib.dump(model4, '../picklefolder_ngrams/DeleteReason_biclass_April0219_attention.pickle')   \n",
    "#joblib.dump(model4a, '../picklefolder_ngrams/DeleteReason_biclass_April0219_attention.pickle')   \n",
    "#model4.save('../picklefolder_ngrams/DeleteReason_biclass_Mar0619_attention_model.h5')"
   ]
  },
  {
   "cell_type": "code",
   "execution_count": 78,
   "metadata": {},
   "outputs": [
    {
     "data": {
      "image/png": "[encoded data removed]",
      "text/plain": [
       "<Figure size 432x288 with 1 Axes>"
      ]
     },
     "metadata": {},
     "output_type": "display_data"
    },
    {
     "data": {
      "image/png": "[encoded data removed]",
      "text/plain": [
       "<Figure size 432x288 with 1 Axes>"
      ]
     },
     "metadata": {},
     "output_type": "display_data"
    }
   ],
   "source": [
    "#accr = model4.evaluate(X_test,y_test)\n",
    "#print('Test set\\n  Loss: {:0.3f}\\n  Accuracy: {:0.3f}'.format(accr[0],accr[1]))\n",
    "import matplotlib.pyplot as plt\n",
    "\n",
    "acc = history4a.history['acc']\n",
    "val_acc = history4a.history['val_acc']\n",
    "loss = history4a.history['loss']\n",
    "val_loss = history4a.history['val_loss']\n",
    "\n",
    "epochs = range(1, len(acc) + 1)\n",
    "\n",
    "plt.plot(epochs, acc, 'bo', label='Training acc')\n",
    "plt.plot(epochs, val_acc, 'b', label='Validation acc')\n",
    "plt.title('Training and validation accuracy')\n",
    "plt.legend()\n",
    "\n",
    "plt.figure()\n",
    "\n",
    "plt.plot(epochs, loss, 'bo', label='Training loss')\n",
    "plt.plot(epochs, val_loss, 'b', label='Validation loss')\n",
    "plt.title('Training and validation loss')\n",
    "plt.legend()\n",
    "\n",
    "plt.show()"
   ]
  },
  {
   "cell_type": "code",
   "execution_count": 80,
   "metadata": {},
   "outputs": [
    {
     "name": "stdout",
     "output_type": "stream",
     "text": [
      "Test accuracy is 0.8820110516219544\n",
      "[[28783  4125]\n",
      " [ 4117 32829]]\n",
      "Test accuracy is 0.8820110516219544\n",
      "                            precision    recall  f1-score   support\n",
      "\n",
      "Class 0:agreement+addition       0.87      0.87      0.87     32908\n",
      "          Class 1:deletion       0.89      0.89      0.89     36946\n",
      "\n",
      "                 micro avg       0.88      0.88      0.88     69854\n",
      "                 macro avg       0.88      0.88      0.88     69854\n",
      "              weighted avg       0.88      0.88      0.88     69854\n",
      "\n",
      "threshold accuracy_score precision recall f1_score tn  fn  fp  tp\n",
      "0.1 0.8203538809516993  1   0.76  0.96 21842 1483 11066 35463\n",
      "0.2 0.8592349758066825  1   0.82  0.94 25341 2266 7567 34680\n",
      "0.3 0.8730065565321957  1   0.85  0.92 26955 2918 5953 34028\n",
      "0.4 0.8788902568213703  1   0.87  0.90 27961 3513 4947 33433\n",
      "0.5 0.8820110516219544  1   0.89  0.89 28783 4117 4125 32829\n",
      "0.6 0.8821971540641911  1   0.90  0.87 29420 4741 3488 32205\n",
      "0.7 0.8805651788015003  1   0.92  0.85 29986 5421 2922 31525\n",
      "0.8 0.8744667449251295  1   0.93  0.83 30572 6433 2336 30513\n",
      "0.9 0.8577891029862285  1   0.95  0.77 31357 8383 1551 28563\n"
     ]
    },
    {
     "data": {
      "image/png": "[encoded data removed]",
      "text/plain": [
       "<Figure size 432x288 with 2 Axes>"
      ]
     },
     "metadata": {},
     "output_type": "display_data"
    }
   ],
   "source": [
    "# now use other metrics to evaluate the prediction\n",
    "# for direct multiclass\n",
    "prediction = model4a.predict(X_test)\n",
    "\n",
    "finallabel= (prediction > 0.5).astype(np.int) \n",
    "\n",
    "print('Test accuracy is {}'.format(accuracy_score(y_test, finallabel)))\n",
    "\n",
    "conf_mat = confusion_matrix(y_test, finallabel)\n",
    "print(conf_mat)\n",
    "df_cm = pd.DataFrame(conf_mat, range(2),\n",
    "                  range(2))\n",
    "sns.set(font_scale=1.4)#for label size\n",
    "sns.heatmap(df_cm, annot=True, fmt='d')\n",
    "\n",
    "print('Test accuracy is {}'.format(accuracy_score(y_test, finallabel)))\n",
    "target_names = ['Class 0:agreement+addition', 'Class 1:deletion']\n",
    "print(classification_report(y_test, finallabel, target_names=target_names))\n",
    "\n",
    "# now try different threshold\n",
    "print(\"threshold accuracy_score precision recall f1_score tn  fn  fp  tp\")\n",
    "for thres in [0.1,0.2,0.3,0.4,0.5,0.6,0.7,0.8,0.9]:  #no, cannot use it, this is for binary class only\n",
    "    prediction2 = np.where(prediction > thres, 1, 0)\n",
    "        #print(prediction)\n",
    "    conf_mat = confusion_matrix(y_test, prediction2)\n",
    "    tn, fp, fn, tp = conf_mat.ravel()\n",
    "    report = classification_report(y_test,prediction2)\n",
    "    lines = report.split('\\n')\n",
    "    #print(lines[2])\n",
    "    row_data = lines[3].split('     ')\n",
    "    print(thres,accuracy_score(y_test,prediction2),row_data[2],row_data[3],row_data[4], tn, fn, fp, tp)"
   ]
  },
  {
   "cell_type": "code",
   "execution_count": 81,
   "metadata": {},
   "outputs": [
    {
     "name": "stdout",
     "output_type": "stream",
     "text": [
      "Test accuracy is 0.8461962817895956\n",
      "[[7095 1560]\n",
      " [1228 8244]]\n",
      "Test accuracy is 0.8461962817895956\n",
      "                            precision    recall  f1-score   support\n",
      "\n",
      "Class 0:agreement+addition       0.85      0.82      0.84      8655\n",
      "          Class 1:deletion       0.84      0.87      0.86      9472\n",
      "\n",
      "                 micro avg       0.85      0.85      0.85     18127\n",
      "                 macro avg       0.85      0.85      0.85     18127\n",
      "              weighted avg       0.85      0.85      0.85     18127\n",
      "\n",
      "threshold accuracy_score precision recall f1_score tn  fn  fp  tp\n",
      "0.1 0.7689634247255476  1   0.71  0.95 4987 520 3668 8952\n",
      "0.2 0.8124896563137861  1   0.77  0.92 6005 749 2650 8723\n",
      "0.3 0.8313013736415292  1   0.80  0.90 6513 916 2142 8556\n",
      "0.4 0.8392453246538313  1   0.82  0.89 6826 1085 1829 8387\n",
      "0.5 0.8461962817895956  1   0.84  0.87 7095 1228 1560 8244\n",
      "0.6 0.8513819164781817  1   0.86  0.86 7313 1352 1342 8120\n",
      "0.7 0.8535885695371546  1   0.87  0.84 7498 1497 1157 7975\n",
      "0.8 0.8536989021901031  1   0.90  0.82 7750 1747 905 7725\n",
      "0.9 0.8446516246483147  1   0.92  0.77 8042 2203 613 7269\n"
     ]
    },
    {
     "data": {
      "image/png": "[encoded data removed]",
      "text/plain": [
       "<Figure size 432x288 with 2 Axes>"
      ]
     },
     "metadata": {},
     "output_type": "display_data"
    }
   ],
   "source": [
    "# testing on the set aside test data from ibc\n",
    "\n",
    "predictiont2 = model4a.predict(testX1)\n",
    "\n",
    "finallabelt2= (predictiont2 > 0.5).astype(np.int) \n",
    "\n",
    "print('Test accuracy is {}'.format(accuracy_score(y_test1, finallabelt2)))\n",
    "\n",
    "conf_mat = confusion_matrix(y_test1, finallabelt2)\n",
    "print(conf_mat)\n",
    "df_cm = pd.DataFrame(conf_mat, range(2),\n",
    "                  range(2))\n",
    "sns.set(font_scale=1.4)#for label size\n",
    "sns.heatmap(df_cm, annot=True, fmt='d')\n",
    "\n",
    "print('Test accuracy is {}'.format(accuracy_score(y_test1, finallabelt2)))\n",
    "target_names = ['Class 0:agreement+addition', 'Class 1:deletion']\n",
    "print(classification_report(y_test1, finallabelt2, target_names=target_names))\n",
    "\n",
    "# now try different threshold\n",
    "print(\"threshold accuracy_score precision recall f1_score tn  fn  fp  tp\")\n",
    "for thres in [0.1,0.2,0.3,0.4,0.5,0.6,0.7,0.8,0.9]:  #no, cannot use it, this is for binary class only\n",
    "    prediction2t = np.where(predictiont2 > thres, 1, 0)\n",
    "        #print(prediction)\n",
    "    conf_mat = confusion_matrix(y_test1, prediction2t)\n",
    "    tn, fp, fn, tp = conf_mat.ravel()\n",
    "    report = classification_report(y_test1,prediction2t)\n",
    "    lines = report.split('\\n')\n",
    "    #print(lines[2])\n",
    "    row_data = lines[3].split('     ')\n",
    "    print(thres,accuracy_score(y_test1, prediction2t),row_data[2],row_data[3],row_data[4], tn, fn, fp, tp)\n"
   ]
  }
 ],
 "metadata": {
  "kernelspec": {
   "display_name": "Python 3",
   "language": "python",
   "name": "python3"
  },
  "language_info": {
   "codemirror_mode": {
    "name": "ipython",
    "version": 3
   },
   "file_extension": ".py",
   "mimetype": "text/x-python",
   "name": "python",
   "nbconvert_exporter": "python",
   "pygments_lexer": "ipython3",
   "version": "3.6.8"
  }
 },
 "nbformat": 4,
 "nbformat_minor": 2
}
