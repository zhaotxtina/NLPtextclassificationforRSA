{
 "cells": [
  {
   "cell_type": "code",
   "execution_count": 1,
   "metadata": {},
   "outputs": [],
   "source": [
    "import csv\n",
    "import pandas as pd\n",
    "import numpy as np\n",
    "import seaborn as sns\n",
    "import re\n",
    "from nltk.corpus import stopwords\n",
    "import nltk\n",
    "import string\n",
    "import matplotlib.pyplot as plt\n",
    "import random\n",
    "%matplotlib inline\n",
    "import os\n",
    "import json\n",
    "\n",
    "from sklearn import model_selection, preprocessing, linear_model, naive_bayes, metrics, svm\n",
    "from sklearn.feature_extraction.text import TfidfVectorizer, CountVectorizer, TfidfTransformer\n",
    "from sklearn import decomposition, ensemble\n",
    "from sklearn.metrics import roc_curve, auc\n",
    "from sklearn.model_selection import cross_val_score\n",
    "\n",
    "from sklearn.model_selection import train_test_split\n",
    "from sklearn.naive_bayes import MultinomialNB\n",
    "from sklearn.ensemble import RandomForestClassifier\n",
    "#from nltk.corpus import stopwords\n",
    "from sklearn.svm import LinearSVC\n",
    "from sklearn.linear_model import LogisticRegression\n",
    "from sklearn.pipeline import Pipeline\n",
    "from sklearn.metrics import accuracy_score\n",
    "from sklearn.multiclass import OneVsRestClassifier\n",
    "\n",
    "from sklearn.metrics import classification_report\n",
    "from sklearn.multiclass import OneVsRestClassifier\n",
    "from sklearn.metrics import confusion_matrix\n",
    "\n",
    "import joblib\n",
    "\n",
    "from sklearn.svm import SVC\n",
    "from sklearn.neighbors import KNeighborsClassifier\n",
    "from sklearn.tree import DecisionTreeClassifier\n",
    "from sklearn.ensemble import GradientBoostingClassifier\n",
    "from sklearn.discriminant_analysis import LinearDiscriminantAnalysis\n",
    "import os,boto3,sys,glob,json"
   ]
  },
  {
   "cell_type": "markdown",
   "metadata": {},
   "source": [
    "### Part 1  Loading the  data "
   ]
  },
  {
   "cell_type": "markdown",
   "metadata": {},
   "source": [
    "#### Read in csv file"
   ]
  },
  {
   "cell_type": "code",
   "execution_count": 2,
   "metadata": {},
   "outputs": [],
   "source": [
    "testDF=pd.read_csv('run1000charts_0521.csv')\n",
    "# the csv is generated in D drive D:/chartai_qa  with extract1000charts_jsontxt.py, then uploaded to here"
   ]
  },
  {
   "cell_type": "code",
   "execution_count": 3,
   "metadata": {},
   "outputs": [
    {
     "data": {
      "text/plain": [
       "76792"
      ]
     },
     "execution_count": 3,
     "metadata": {},
     "output_type": "execute_result"
    }
   ],
   "source": [
    "len(testDF)"
   ]
  },
  {
   "cell_type": "code",
   "execution_count": 4,
   "metadata": {},
   "outputs": [
    {
     "data": {
      "text/plain": [
       "Index(['Unnamed: 0', 'chart_id', 'code', 'text', 'start_offset', 'end_offset',\n",
       "       'text75'],\n",
       "      dtype='object')"
      ]
     },
     "execution_count": 4,
     "metadata": {},
     "output_type": "execute_result"
    }
   ],
   "source": [
    "testDF.columns"
   ]
  },
  {
   "cell_type": "code",
   "execution_count": 5,
   "metadata": {},
   "outputs": [],
   "source": [
    "testDF=testDF.drop(['Unnamed: 0'],axis=1)"
   ]
  },
  {
   "cell_type": "code",
   "execution_count": 6,
   "metadata": {},
   "outputs": [
    {
     "data": {
      "text/html": [
       "<div>\n",
       "<style scoped>\n",
       "    .dataframe tbody tr th:only-of-type {\n",
       "        vertical-align: middle;\n",
       "    }\n",
       "\n",
       "    .dataframe tbody tr th {\n",
       "        vertical-align: top;\n",
       "    }\n",
       "\n",
       "    .dataframe thead th {\n",
       "        text-align: right;\n",
       "    }\n",
       "</style>\n",
       "<table border=\"1\" class=\"dataframe\">\n",
       "  <thead>\n",
       "    <tr style=\"text-align: right;\">\n",
       "      <th></th>\n",
       "      <th>chart_id</th>\n",
       "      <th>code</th>\n",
       "      <th>text</th>\n",
       "      <th>start_offset</th>\n",
       "      <th>end_offset</th>\n",
       "      <th>text75</th>\n",
       "    </tr>\n",
       "  </thead>\n",
       "  <tbody>\n",
       "    <tr>\n",
       "      <th>0</th>\n",
       "      <td>IBXRMA2018_MULT_1163297620010001_HMK_179342168...</td>\n",
       "      <td>E063</td>\n",
       "      <td>Ht</td>\n",
       "      <td>1187</td>\n",
       "      <td>1189</td>\n",
       "      <td>ocedure codes 36415 venipunct routine vital si...</td>\n",
       "    </tr>\n",
       "    <tr>\n",
       "      <th>1</th>\n",
       "      <td>IBXRMA2018_MULT_1163297620010001_HMK_179342168...</td>\n",
       "      <td>E785</td>\n",
       "      <td>Hyperlipidemia</td>\n",
       "      <td>1374</td>\n",
       "      <td>1388</td>\n",
       "      <td>tion list reviewed reconciled patient past med...</td>\n",
       "    </tr>\n",
       "    <tr>\n",
       "      <th>2</th>\n",
       "      <td>IBXRMA2018_MULT_1163297620010001_HMK_179342168...</td>\n",
       "      <td>I10</td>\n",
       "      <td>Hypertension</td>\n",
       "      <td>1391</td>\n",
       "      <td>1403</td>\n",
       "      <td>reconciled patient past medical history hyperl...</td>\n",
       "    </tr>\n",
       "    <tr>\n",
       "      <th>3</th>\n",
       "      <td>IBXRMA2018_MULT_1163297620010001_HMK_179342168...</td>\n",
       "      <td>E785</td>\n",
       "      <td>Hyperlipidemia</td>\n",
       "      <td>2957</td>\n",
       "      <td>2971</td>\n",
       "      <td>tion list reviewed reconciled patient past med...</td>\n",
       "    </tr>\n",
       "    <tr>\n",
       "      <th>4</th>\n",
       "      <td>IBXRMA2018_MULT_1163297620010001_HMK_179342168...</td>\n",
       "      <td>I10</td>\n",
       "      <td>Hypertension</td>\n",
       "      <td>2974</td>\n",
       "      <td>2986</td>\n",
       "      <td>reconciled patient past medical history hyperl...</td>\n",
       "    </tr>\n",
       "  </tbody>\n",
       "</table>\n",
       "</div>"
      ],
      "text/plain": [
       "                                            chart_id  code            text  \\\n",
       "0  IBXRMA2018_MULT_1163297620010001_HMK_179342168...  E063              Ht   \n",
       "1  IBXRMA2018_MULT_1163297620010001_HMK_179342168...  E785  Hyperlipidemia   \n",
       "2  IBXRMA2018_MULT_1163297620010001_HMK_179342168...   I10    Hypertension   \n",
       "3  IBXRMA2018_MULT_1163297620010001_HMK_179342168...  E785  Hyperlipidemia   \n",
       "4  IBXRMA2018_MULT_1163297620010001_HMK_179342168...   I10    Hypertension   \n",
       "\n",
       "   start_offset  end_offset                                             text75  \n",
       "0          1187        1189  ocedure codes 36415 venipunct routine vital si...  \n",
       "1          1374        1388  tion list reviewed reconciled patient past med...  \n",
       "2          1391        1403  reconciled patient past medical history hyperl...  \n",
       "3          2957        2971  tion list reviewed reconciled patient past med...  \n",
       "4          2974        2986  reconciled patient past medical history hyperl...  "
      ]
     },
     "execution_count": 6,
     "metadata": {},
     "output_type": "execute_result"
    }
   ],
   "source": [
    "testDF.head()"
   ]
  },
  {
   "cell_type": "code",
   "execution_count": 7,
   "metadata": {},
   "outputs": [
    {
     "data": {
      "text/plain": [
       "0"
      ]
     },
     "execution_count": 7,
     "metadata": {},
     "output_type": "execute_result"
    }
   ],
   "source": [
    "# just check if there's null text, if yes, remove them \n",
    "nulltext=testDF[~pd.notnull(testDF['text'])] \n",
    "len(nulltext)"
   ]
  },
  {
   "cell_type": "code",
   "execution_count": 8,
   "metadata": {},
   "outputs": [
    {
     "data": {
      "text/plain": [
       "26"
      ]
     },
     "execution_count": 8,
     "metadata": {},
     "output_type": "execute_result"
    }
   ],
   "source": [
    "nulltext=testDF[~pd.notnull(testDF['text75'])] \n",
    "len(nulltext)"
   ]
  },
  {
   "cell_type": "code",
   "execution_count": 9,
   "metadata": {},
   "outputs": [
    {
     "data": {
      "text/html": [
       "<div>\n",
       "<style scoped>\n",
       "    .dataframe tbody tr th:only-of-type {\n",
       "        vertical-align: middle;\n",
       "    }\n",
       "\n",
       "    .dataframe tbody tr th {\n",
       "        vertical-align: top;\n",
       "    }\n",
       "\n",
       "    .dataframe thead th {\n",
       "        text-align: right;\n",
       "    }\n",
       "</style>\n",
       "<table border=\"1\" class=\"dataframe\">\n",
       "  <thead>\n",
       "    <tr style=\"text-align: right;\">\n",
       "      <th></th>\n",
       "      <th>chart_id</th>\n",
       "      <th>code</th>\n",
       "      <th>text</th>\n",
       "      <th>start_offset</th>\n",
       "      <th>end_offset</th>\n",
       "      <th>text75</th>\n",
       "    </tr>\n",
       "  </thead>\n",
       "  <tbody>\n",
       "    <tr>\n",
       "      <th>1336</th>\n",
       "      <td>IBXRMA2018_MULT_1164353980010001_HMK_160303709...</td>\n",
       "      <td>G129</td>\n",
       "      <td>SMA</td>\n",
       "      <td>4</td>\n",
       "      <td>7</td>\n",
       "      <td>NaN</td>\n",
       "    </tr>\n",
       "    <tr>\n",
       "      <th>2198</th>\n",
       "      <td>IBXRMA2018_MULT_1176161080010001_HMK_192365603...</td>\n",
       "      <td>N08</td>\n",
       "      <td>Kidney</td>\n",
       "      <td>46</td>\n",
       "      <td>52</td>\n",
       "      <td>NaN</td>\n",
       "    </tr>\n",
       "    <tr>\n",
       "      <th>3876</th>\n",
       "      <td>IBXRMA2018_MULT_1202740400010001_HMK_153425750...</td>\n",
       "      <td>G129</td>\n",
       "      <td>SMA</td>\n",
       "      <td>4</td>\n",
       "      <td>7</td>\n",
       "      <td>NaN</td>\n",
       "    </tr>\n",
       "    <tr>\n",
       "      <th>4032</th>\n",
       "      <td>IBXRMA2018_MULT_1202908350010001_HMK_210648786...</td>\n",
       "      <td>E744</td>\n",
       "      <td>PC</td>\n",
       "      <td>25</td>\n",
       "      <td>27</td>\n",
       "      <td>NaN</td>\n",
       "    </tr>\n",
       "    <tr>\n",
       "      <th>5591</th>\n",
       "      <td>IBXRMA2018_MULT_1210779380010001_HMK_184462858...</td>\n",
       "      <td>G129</td>\n",
       "      <td>SMA</td>\n",
       "      <td>4</td>\n",
       "      <td>7</td>\n",
       "      <td>NaN</td>\n",
       "    </tr>\n",
       "    <tr>\n",
       "      <th>6465</th>\n",
       "      <td>IBXRMA2018_MULT_1212745310010001_HMK_165441851...</td>\n",
       "      <td>N08</td>\n",
       "      <td>Kidney</td>\n",
       "      <td>48</td>\n",
       "      <td>54</td>\n",
       "      <td>NaN</td>\n",
       "    </tr>\n",
       "    <tr>\n",
       "      <th>9116</th>\n",
       "      <td>IBXRMA2018_MULT_1216729130010001_HMK_196286386...</td>\n",
       "      <td>N08</td>\n",
       "      <td>Kidney</td>\n",
       "      <td>46</td>\n",
       "      <td>52</td>\n",
       "      <td>NaN</td>\n",
       "    </tr>\n",
       "    <tr>\n",
       "      <th>14970</th>\n",
       "      <td>IBXRMA2018_MULT_1216856710010001_HMK_173309591...</td>\n",
       "      <td>G129</td>\n",
       "      <td>SMA</td>\n",
       "      <td>4</td>\n",
       "      <td>7</td>\n",
       "      <td>NaN</td>\n",
       "    </tr>\n",
       "    <tr>\n",
       "      <th>18950</th>\n",
       "      <td>IBXRMA2018_MULT_1216874020010001_HMK_143364782...</td>\n",
       "      <td>E744</td>\n",
       "      <td>PC</td>\n",
       "      <td>25</td>\n",
       "      <td>27</td>\n",
       "      <td>NaN</td>\n",
       "    </tr>\n",
       "    <tr>\n",
       "      <th>21748</th>\n",
       "      <td>IBXRMA2018_MULT_1216901800010001_HMK_201224196...</td>\n",
       "      <td>G129</td>\n",
       "      <td>SMA</td>\n",
       "      <td>4</td>\n",
       "      <td>7</td>\n",
       "      <td>NaN</td>\n",
       "    </tr>\n",
       "    <tr>\n",
       "      <th>23385</th>\n",
       "      <td>IBXRMA2018_MULT_1216920010010001_HMK_166407506...</td>\n",
       "      <td>N08</td>\n",
       "      <td>Kidney</td>\n",
       "      <td>46</td>\n",
       "      <td>52</td>\n",
       "      <td>NaN</td>\n",
       "    </tr>\n",
       "    <tr>\n",
       "      <th>36203</th>\n",
       "      <td>IBXRMA2018_MULT_1217130710010001_HMK_180325209...</td>\n",
       "      <td>E744</td>\n",
       "      <td>PC</td>\n",
       "      <td>25</td>\n",
       "      <td>27</td>\n",
       "      <td>NaN</td>\n",
       "    </tr>\n",
       "    <tr>\n",
       "      <th>38069</th>\n",
       "      <td>IBXRMA2018_MULT_1217196230010001_HMK_147405194...</td>\n",
       "      <td>H4010X0</td>\n",
       "      <td>glaucoma</td>\n",
       "      <td>52</td>\n",
       "      <td>60</td>\n",
       "      <td>NaN</td>\n",
       "    </tr>\n",
       "    <tr>\n",
       "      <th>42560</th>\n",
       "      <td>IBXRMA2018_MULT_1217427650010001_HMK_140260863...</td>\n",
       "      <td>I200</td>\n",
       "      <td>1200</td>\n",
       "      <td>33</td>\n",
       "      <td>37</td>\n",
       "      <td>NaN</td>\n",
       "    </tr>\n",
       "    <tr>\n",
       "      <th>49636</th>\n",
       "      <td>IBXRMA2018_MULT_1217591910010001_HMK_168240489...</td>\n",
       "      <td>E780</td>\n",
       "      <td>cholesterol</td>\n",
       "      <td>60</td>\n",
       "      <td>71</td>\n",
       "      <td>NaN</td>\n",
       "    </tr>\n",
       "    <tr>\n",
       "      <th>50776</th>\n",
       "      <td>IBXRMA2018_MULT_1217621540010001_HMK_169322472...</td>\n",
       "      <td>E744</td>\n",
       "      <td>PC</td>\n",
       "      <td>18</td>\n",
       "      <td>20</td>\n",
       "      <td>NaN</td>\n",
       "    </tr>\n",
       "    <tr>\n",
       "      <th>55924</th>\n",
       "      <td>IBXRMA2018_MULT_1217796040010001_HMK_211221367...</td>\n",
       "      <td>E785</td>\n",
       "      <td>hyperlipidemia  unspecified</td>\n",
       "      <td>52</td>\n",
       "      <td>79</td>\n",
       "      <td>NaN</td>\n",
       "    </tr>\n",
       "    <tr>\n",
       "      <th>56125</th>\n",
       "      <td>IBXRMA2018_MULT_1217797400010001_HMK_583093637...</td>\n",
       "      <td>E1169</td>\n",
       "      <td>diabetic foot</td>\n",
       "      <td>72</td>\n",
       "      <td>85</td>\n",
       "      <td>NaN</td>\n",
       "    </tr>\n",
       "    <tr>\n",
       "      <th>57927</th>\n",
       "      <td>IBXRMA2018_MULT_1217834870010001_HMK_192226422...</td>\n",
       "      <td>E744</td>\n",
       "      <td>PC</td>\n",
       "      <td>18</td>\n",
       "      <td>20</td>\n",
       "      <td>NaN</td>\n",
       "    </tr>\n",
       "    <tr>\n",
       "      <th>59488</th>\n",
       "      <td>IBXRMA2018_MULT_1217905040010001_HMK_174329240...</td>\n",
       "      <td>J449</td>\n",
       "      <td>cord</td>\n",
       "      <td>65</td>\n",
       "      <td>69</td>\n",
       "      <td>NaN</td>\n",
       "    </tr>\n",
       "    <tr>\n",
       "      <th>61236</th>\n",
       "      <td>IBXRMA2018_MULT_1217936810010001_HMK_MA1462698...</td>\n",
       "      <td>G129</td>\n",
       "      <td>SMA</td>\n",
       "      <td>4</td>\n",
       "      <td>7</td>\n",
       "      <td>NaN</td>\n",
       "    </tr>\n",
       "    <tr>\n",
       "      <th>67867</th>\n",
       "      <td>IBXRMA2018_MULT_1217996130010001_HMK_314380144...</td>\n",
       "      <td>E744</td>\n",
       "      <td>PC</td>\n",
       "      <td>25</td>\n",
       "      <td>27</td>\n",
       "      <td>NaN</td>\n",
       "    </tr>\n",
       "    <tr>\n",
       "      <th>69643</th>\n",
       "      <td>IBXRMA2018_MULT_1218012650010001_HMK_197249628...</td>\n",
       "      <td>N189</td>\n",
       "      <td>CKD</td>\n",
       "      <td>28</td>\n",
       "      <td>31</td>\n",
       "      <td>NaN</td>\n",
       "    </tr>\n",
       "    <tr>\n",
       "      <th>69946</th>\n",
       "      <td>IBXRMA2018_MULT_1218015600010001_HMK_3GM6V72QA...</td>\n",
       "      <td>N08</td>\n",
       "      <td>Kidney</td>\n",
       "      <td>48</td>\n",
       "      <td>54</td>\n",
       "      <td>NaN</td>\n",
       "    </tr>\n",
       "    <tr>\n",
       "      <th>72670</th>\n",
       "      <td>IBXRMA2018_MULT_1218027670010001_HMK_198289883...</td>\n",
       "      <td>N08</td>\n",
       "      <td>Kidney</td>\n",
       "      <td>46</td>\n",
       "      <td>52</td>\n",
       "      <td>NaN</td>\n",
       "    </tr>\n",
       "    <tr>\n",
       "      <th>76646</th>\n",
       "      <td>IBXRMA2018_MULT_1231613440010001_HMK_177320615...</td>\n",
       "      <td>G129</td>\n",
       "      <td>SMA</td>\n",
       "      <td>4</td>\n",
       "      <td>7</td>\n",
       "      <td>NaN</td>\n",
       "    </tr>\n",
       "  </tbody>\n",
       "</table>\n",
       "</div>"
      ],
      "text/plain": [
       "                                                chart_id     code  \\\n",
       "1336   IBXRMA2018_MULT_1164353980010001_HMK_160303709...     G129   \n",
       "2198   IBXRMA2018_MULT_1176161080010001_HMK_192365603...      N08   \n",
       "3876   IBXRMA2018_MULT_1202740400010001_HMK_153425750...     G129   \n",
       "4032   IBXRMA2018_MULT_1202908350010001_HMK_210648786...     E744   \n",
       "5591   IBXRMA2018_MULT_1210779380010001_HMK_184462858...     G129   \n",
       "6465   IBXRMA2018_MULT_1212745310010001_HMK_165441851...      N08   \n",
       "9116   IBXRMA2018_MULT_1216729130010001_HMK_196286386...      N08   \n",
       "14970  IBXRMA2018_MULT_1216856710010001_HMK_173309591...     G129   \n",
       "18950  IBXRMA2018_MULT_1216874020010001_HMK_143364782...     E744   \n",
       "21748  IBXRMA2018_MULT_1216901800010001_HMK_201224196...     G129   \n",
       "23385  IBXRMA2018_MULT_1216920010010001_HMK_166407506...      N08   \n",
       "36203  IBXRMA2018_MULT_1217130710010001_HMK_180325209...     E744   \n",
       "38069  IBXRMA2018_MULT_1217196230010001_HMK_147405194...  H4010X0   \n",
       "42560  IBXRMA2018_MULT_1217427650010001_HMK_140260863...     I200   \n",
       "49636  IBXRMA2018_MULT_1217591910010001_HMK_168240489...     E780   \n",
       "50776  IBXRMA2018_MULT_1217621540010001_HMK_169322472...     E744   \n",
       "55924  IBXRMA2018_MULT_1217796040010001_HMK_211221367...     E785   \n",
       "56125  IBXRMA2018_MULT_1217797400010001_HMK_583093637...    E1169   \n",
       "57927  IBXRMA2018_MULT_1217834870010001_HMK_192226422...     E744   \n",
       "59488  IBXRMA2018_MULT_1217905040010001_HMK_174329240...     J449   \n",
       "61236  IBXRMA2018_MULT_1217936810010001_HMK_MA1462698...     G129   \n",
       "67867  IBXRMA2018_MULT_1217996130010001_HMK_314380144...     E744   \n",
       "69643  IBXRMA2018_MULT_1218012650010001_HMK_197249628...     N189   \n",
       "69946  IBXRMA2018_MULT_1218015600010001_HMK_3GM6V72QA...      N08   \n",
       "72670  IBXRMA2018_MULT_1218027670010001_HMK_198289883...      N08   \n",
       "76646  IBXRMA2018_MULT_1231613440010001_HMK_177320615...     G129   \n",
       "\n",
       "                              text  start_offset  end_offset text75  \n",
       "1336                           SMA             4           7    NaN  \n",
       "2198                        Kidney            46          52    NaN  \n",
       "3876                           SMA             4           7    NaN  \n",
       "4032                            PC            25          27    NaN  \n",
       "5591                           SMA             4           7    NaN  \n",
       "6465                        Kidney            48          54    NaN  \n",
       "9116                        Kidney            46          52    NaN  \n",
       "14970                          SMA             4           7    NaN  \n",
       "18950                           PC            25          27    NaN  \n",
       "21748                          SMA             4           7    NaN  \n",
       "23385                       Kidney            46          52    NaN  \n",
       "36203                           PC            25          27    NaN  \n",
       "38069                     glaucoma            52          60    NaN  \n",
       "42560                         1200            33          37    NaN  \n",
       "49636                  cholesterol            60          71    NaN  \n",
       "50776                           PC            18          20    NaN  \n",
       "55924  hyperlipidemia  unspecified            52          79    NaN  \n",
       "56125                diabetic foot            72          85    NaN  \n",
       "57927                           PC            18          20    NaN  \n",
       "59488                         cord            65          69    NaN  \n",
       "61236                          SMA             4           7    NaN  \n",
       "67867                           PC            25          27    NaN  \n",
       "69643                          CKD            28          31    NaN  \n",
       "69946                       Kidney            48          54    NaN  \n",
       "72670                       Kidney            46          52    NaN  \n",
       "76646                          SMA             4           7    NaN  "
      ]
     },
     "execution_count": 9,
     "metadata": {},
     "output_type": "execute_result"
    }
   ],
   "source": [
    "nulltext   # there are some text not correctly extracted"
   ]
  },
  {
   "cell_type": "code",
   "execution_count": 10,
   "metadata": {},
   "outputs": [
    {
     "data": {
      "text/plain": [
       "76766"
      ]
     },
     "execution_count": 10,
     "metadata": {},
     "output_type": "execute_result"
    }
   ],
   "source": [
    "testDF=testDF[pd.notnull(testDF['text75'])] \n",
    "len(testDF)"
   ]
  },
  {
   "cell_type": "code",
   "execution_count": 11,
   "metadata": {},
   "outputs": [
    {
     "data": {
      "text/plain": [
       "980"
      ]
     },
     "execution_count": 11,
     "metadata": {},
     "output_type": "execute_result"
    }
   ],
   "source": [
    "testDF['chart_id'].nunique()   # only 980 charts not 1044 charts"
   ]
  },
  {
   "cell_type": "code",
   "execution_count": 12,
   "metadata": {},
   "outputs": [
    {
     "data": {
      "text/html": [
       "<div>\n",
       "<style scoped>\n",
       "    .dataframe tbody tr th:only-of-type {\n",
       "        vertical-align: middle;\n",
       "    }\n",
       "\n",
       "    .dataframe tbody tr th {\n",
       "        vertical-align: top;\n",
       "    }\n",
       "\n",
       "    .dataframe thead th {\n",
       "        text-align: right;\n",
       "    }\n",
       "</style>\n",
       "<table border=\"1\" class=\"dataframe\">\n",
       "  <thead>\n",
       "    <tr style=\"text-align: right;\">\n",
       "      <th></th>\n",
       "      <th>chart_id</th>\n",
       "      <th>code</th>\n",
       "      <th>text</th>\n",
       "      <th>start_offset</th>\n",
       "      <th>end_offset</th>\n",
       "      <th>text75</th>\n",
       "    </tr>\n",
       "  </thead>\n",
       "  <tbody>\n",
       "    <tr>\n",
       "      <th>76761</th>\n",
       "      <td>IBXRMA2018_MULT_1231614110010001_HMK_196526763...</td>\n",
       "      <td>E119</td>\n",
       "      <td>dm2</td>\n",
       "      <td>5902</td>\n",
       "      <td>5905</td>\n",
       "      <td>onciled patient past medical history cholecyst...</td>\n",
       "    </tr>\n",
       "    <tr>\n",
       "      <th>76762</th>\n",
       "      <td>IBXRMA2018_MULT_1231614110010001_HMK_196526763...</td>\n",
       "      <td>B182</td>\n",
       "      <td>hepatitis c</td>\n",
       "      <td>6819</td>\n",
       "      <td>6830</td>\n",
       "      <td>lab comp metabolic panel lab glycosolated hemo...</td>\n",
       "    </tr>\n",
       "    <tr>\n",
       "      <th>76763</th>\n",
       "      <td>IBXRMA2018_MULT_1231614110010001_HMK_196526763...</td>\n",
       "      <td>E550</td>\n",
       "      <td>vitamin d deficiency</td>\n",
       "      <td>6951</td>\n",
       "      <td>6971</td>\n",
       "      <td>increat random colon cancer screening notes de...</td>\n",
       "    </tr>\n",
       "    <tr>\n",
       "      <th>76764</th>\n",
       "      <td>IBXRMA2018_MULT_1231614110010001_HMK_196526763...</td>\n",
       "      <td>E782</td>\n",
       "      <td>hyperlipidemia</td>\n",
       "      <td>7001</td>\n",
       "      <td>7015</td>\n",
       "      <td>declined gi referral vitamin deficiency lab vi...</td>\n",
       "    </tr>\n",
       "    <tr>\n",
       "      <th>76765</th>\n",
       "      <td>IBXRMA2018_MULT_1231614110010001_HMK_196526763...</td>\n",
       "      <td>I2510</td>\n",
       "      <td>cad</td>\n",
       "      <td>7144</td>\n",
       "      <td>7147</td>\n",
       "      <td>breast cancer screening imaging mammo digital ...</td>\n",
       "    </tr>\n",
       "  </tbody>\n",
       "</table>\n",
       "</div>"
      ],
      "text/plain": [
       "                                                chart_id   code  \\\n",
       "76761  IBXRMA2018_MULT_1231614110010001_HMK_196526763...   E119   \n",
       "76762  IBXRMA2018_MULT_1231614110010001_HMK_196526763...   B182   \n",
       "76763  IBXRMA2018_MULT_1231614110010001_HMK_196526763...   E550   \n",
       "76764  IBXRMA2018_MULT_1231614110010001_HMK_196526763...   E782   \n",
       "76765  IBXRMA2018_MULT_1231614110010001_HMK_196526763...  I2510   \n",
       "\n",
       "                       text  start_offset  end_offset  \\\n",
       "76761                   dm2          5902        5905   \n",
       "76762           hepatitis c          6819        6830   \n",
       "76763  vitamin d deficiency          6951        6971   \n",
       "76764        hyperlipidemia          7001        7015   \n",
       "76765                   cad          7144        7147   \n",
       "\n",
       "                                                  text75  \n",
       "76761  onciled patient past medical history cholecyst...  \n",
       "76762  lab comp metabolic panel lab glycosolated hemo...  \n",
       "76763  increat random colon cancer screening notes de...  \n",
       "76764  declined gi referral vitamin deficiency lab vi...  \n",
       "76765  breast cancer screening imaging mammo digital ...  "
      ]
     },
     "execution_count": 12,
     "metadata": {},
     "output_type": "execute_result"
    }
   ],
   "source": [
    "testDF=testDF.reset_index(drop=True)   # very very import, to reset the index, otherwise the below running the model will not be right, because I use the index as reference for position and matching them\n",
    "testDF.tail()"
   ]
  },
  {
   "cell_type": "code",
   "execution_count": 13,
   "metadata": {},
   "outputs": [
    {
     "name": "stderr",
     "output_type": "stream",
     "text": [
      "Using TensorFlow backend.\n"
     ]
    }
   ],
   "source": [
    "from keras.layers import Dense, Embedding, LSTM, SpatialDropout1D\n",
    "from keras.models import Sequential\n",
    "from sklearn.feature_extraction.text import CountVectorizer\n",
    "from keras.preprocessing.text import Tokenizer\n",
    "from keras.preprocessing.sequence import pad_sequences\n",
    "from sklearn.model_selection import train_test_split\n",
    "from keras.utils.np_utils import to_categorical\n",
    "from keras.callbacks import EarlyStopping\n",
    "\n",
    "from sklearn.pipeline import Pipeline\n",
    "from sklearn.metrics import classification_report\n",
    "from sklearn.multiclass import OneVsRestClassifier\n",
    "from sklearn.metrics import confusion_matrix\n",
    "from matplotlib import pyplot as plt\n",
    "from sklearn.svm import SVC\n",
    "from sklearn.linear_model import LogisticRegression\n",
    "from sklearn.neighbors import KNeighborsClassifier\n",
    "from sklearn.tree import DecisionTreeClassifier\n",
    "from sklearn.ensemble import RandomForestClassifier, GradientBoostingClassifier\n",
    "from sklearn.discriminant_analysis import LinearDiscriminantAnalysis\n",
    "import pickle"
   ]
  },
  {
   "cell_type": "code",
   "execution_count": 14,
   "metadata": {},
   "outputs": [
    {
     "data": {
      "text/plain": [
       "Index(['chart_id', 'code', 'text', 'start_offset', 'end_offset', 'text75'], dtype='object')"
      ]
     },
     "execution_count": 14,
     "metadata": {},
     "output_type": "execute_result"
    }
   ],
   "source": [
    "testDF.columns"
   ]
  },
  {
   "cell_type": "markdown",
   "metadata": {},
   "source": [
    "### Part 2. Load one LR consolidaetd model  and apply to test data"
   ]
  },
  {
   "cell_type": "code",
   "execution_count": 92,
   "metadata": {},
   "outputs": [],
   "source": [
    "# load the lstm model\n",
    "model2=joblib.load('../../picklefolder_ngrams/refreshed_models_update0531/consolidated_LRMay2919.pickle')\n"
   ]
  },
  {
   "cell_type": "code",
   "execution_count": 213,
   "metadata": {},
   "outputs": [],
   "source": [
    "predictiont2 = model2.predict_proba(testDF['text75'])\n",
    "#prediction = np.where(pred[:,1] > 0.5, 1, 0)\n",
    "finallabelt1= (predictiont2[:,1] > 0.5).astype(np.int) \n",
    "finallabelt2= (predictiont2[:,1] > 0.3).astype(np.int) \n",
    "finallabelt3= (predictiont2[:,1] > 0.2).astype(np.int)"
   ]
  },
  {
   "cell_type": "code",
   "execution_count": 214,
   "metadata": {},
   "outputs": [],
   "source": [
    "testDF['pred']=finallabelt3"
   ]
  },
  {
   "cell_type": "code",
   "execution_count": 215,
   "metadata": {},
   "outputs": [
    {
     "data": {
      "text/html": [
       "<div>\n",
       "<style scoped>\n",
       "    .dataframe tbody tr th:only-of-type {\n",
       "        vertical-align: middle;\n",
       "    }\n",
       "\n",
       "    .dataframe tbody tr th {\n",
       "        vertical-align: top;\n",
       "    }\n",
       "\n",
       "    .dataframe thead th {\n",
       "        text-align: right;\n",
       "    }\n",
       "</style>\n",
       "<table border=\"1\" class=\"dataframe\">\n",
       "  <thead>\n",
       "    <tr style=\"text-align: right;\">\n",
       "      <th></th>\n",
       "      <th>chart_id</th>\n",
       "      <th>code</th>\n",
       "      <th>text</th>\n",
       "      <th>start_offset</th>\n",
       "      <th>end_offset</th>\n",
       "      <th>text75</th>\n",
       "      <th>pred</th>\n",
       "    </tr>\n",
       "  </thead>\n",
       "  <tbody>\n",
       "    <tr>\n",
       "      <th>76761</th>\n",
       "      <td>IBXRMA2018_MULT_1231614110010001_HMK_196526763...</td>\n",
       "      <td>E119</td>\n",
       "      <td>dm2</td>\n",
       "      <td>5902</td>\n",
       "      <td>5905</td>\n",
       "      <td>onciled patient past medical history cholecyst...</td>\n",
       "      <td>1</td>\n",
       "    </tr>\n",
       "    <tr>\n",
       "      <th>76762</th>\n",
       "      <td>IBXRMA2018_MULT_1231614110010001_HMK_196526763...</td>\n",
       "      <td>B182</td>\n",
       "      <td>hepatitis c</td>\n",
       "      <td>6819</td>\n",
       "      <td>6830</td>\n",
       "      <td>lab comp metabolic panel lab glycosolated hemo...</td>\n",
       "      <td>1</td>\n",
       "    </tr>\n",
       "    <tr>\n",
       "      <th>76763</th>\n",
       "      <td>IBXRMA2018_MULT_1231614110010001_HMK_196526763...</td>\n",
       "      <td>E550</td>\n",
       "      <td>vitamin d deficiency</td>\n",
       "      <td>6951</td>\n",
       "      <td>6971</td>\n",
       "      <td>increat random colon cancer screening notes de...</td>\n",
       "      <td>1</td>\n",
       "    </tr>\n",
       "    <tr>\n",
       "      <th>76764</th>\n",
       "      <td>IBXRMA2018_MULT_1231614110010001_HMK_196526763...</td>\n",
       "      <td>E782</td>\n",
       "      <td>hyperlipidemia</td>\n",
       "      <td>7001</td>\n",
       "      <td>7015</td>\n",
       "      <td>declined gi referral vitamin deficiency lab vi...</td>\n",
       "      <td>0</td>\n",
       "    </tr>\n",
       "    <tr>\n",
       "      <th>76765</th>\n",
       "      <td>IBXRMA2018_MULT_1231614110010001_HMK_196526763...</td>\n",
       "      <td>I2510</td>\n",
       "      <td>cad</td>\n",
       "      <td>7144</td>\n",
       "      <td>7147</td>\n",
       "      <td>breast cancer screening imaging mammo digital ...</td>\n",
       "      <td>1</td>\n",
       "    </tr>\n",
       "  </tbody>\n",
       "</table>\n",
       "</div>"
      ],
      "text/plain": [
       "                                                chart_id   code  \\\n",
       "76761  IBXRMA2018_MULT_1231614110010001_HMK_196526763...   E119   \n",
       "76762  IBXRMA2018_MULT_1231614110010001_HMK_196526763...   B182   \n",
       "76763  IBXRMA2018_MULT_1231614110010001_HMK_196526763...   E550   \n",
       "76764  IBXRMA2018_MULT_1231614110010001_HMK_196526763...   E782   \n",
       "76765  IBXRMA2018_MULT_1231614110010001_HMK_196526763...  I2510   \n",
       "\n",
       "                       text  start_offset  end_offset  \\\n",
       "76761                   dm2          5902        5905   \n",
       "76762           hepatitis c          6819        6830   \n",
       "76763  vitamin d deficiency          6951        6971   \n",
       "76764        hyperlipidemia          7001        7015   \n",
       "76765                   cad          7144        7147   \n",
       "\n",
       "                                                  text75  pred  \n",
       "76761  onciled patient past medical history cholecyst...     1  \n",
       "76762  lab comp metabolic panel lab glycosolated hemo...     1  \n",
       "76763  increat random colon cancer screening notes de...     1  \n",
       "76764  declined gi referral vitamin deficiency lab vi...     0  \n",
       "76765  breast cancer screening imaging mammo digital ...     1  "
      ]
     },
     "execution_count": 215,
     "metadata": {},
     "output_type": "execute_result"
    }
   ],
   "source": [
    "testDF=testDF.reset_index(drop=True)\n",
    "testDF.tail()"
   ]
  },
  {
   "cell_type": "code",
   "execution_count": 216,
   "metadata": {},
   "outputs": [
    {
     "name": "stdout",
     "output_type": "stream",
     "text": [
      "980\n"
     ]
    }
   ],
   "source": [
    "print(len(set(testDF['chart_id'].tolist())))\n"
   ]
  },
  {
   "cell_type": "code",
   "execution_count": 217,
   "metadata": {},
   "outputs": [],
   "source": [
    "# to make minimal change in the following code, \n",
    "df_pred=testDF"
   ]
  },
  {
   "cell_type": "markdown",
   "metadata": {},
   "source": [
    "###  Part 3. Load in coder feedback and  evaluate the accuracy"
   ]
  },
  {
   "cell_type": "markdown",
   "metadata": {},
   "source": [
    "#### Select common chart_ids from both 1000 model run and 6000 coder annotation"
   ]
  },
  {
   "cell_type": "code",
   "execution_count": 218,
   "metadata": {},
   "outputs": [
    {
     "name": "stdout",
     "output_type": "stream",
     "text": [
      "76766\n",
      "76766\n"
     ]
    }
   ],
   "source": [
    "# model computation\n",
    "df_pred1=df_pred[['chart_id', 'code', 'text', 'start_offset', 'end_offset', 'text75','pred']]\n",
    "print(len(df_pred1))\n",
    "df_pred1 = df_pred1.drop_duplicates()\n",
    "print(len(df_pred1))"
   ]
  },
  {
   "cell_type": "code",
   "execution_count": 219,
   "metadata": {},
   "outputs": [
    {
     "name": "stdout",
     "output_type": "stream",
     "text": [
      "136527\n"
     ]
    }
   ],
   "source": [
    "# read in all charts with coder feedback\n",
    "df_codeall = pd.read_csv('/home/jovyan/work/Analytics_Data_training/conditions_with_chartids_29042019.csv')\n",
    "print(len(df_codeall))"
   ]
  },
  {
   "cell_type": "code",
   "execution_count": 220,
   "metadata": {},
   "outputs": [
    {
     "name": "stdout",
     "output_type": "stream",
     "text": [
      "unique chart is in 1000 charts run model output: 980\n",
      "unique chart is in 6000 charts with coder feedback: 5982\n"
     ]
    }
   ],
   "source": [
    "print(\"unique chart is in 1000 charts run model output:\",df_pred1['chart_id'].nunique())\n",
    "print(\"unique chart is in 6000 charts with coder feedback:\",df_codeall['chart_id'].nunique())"
   ]
  },
  {
   "cell_type": "code",
   "execution_count": 221,
   "metadata": {},
   "outputs": [
    {
     "name": "stdout",
     "output_type": "stream",
     "text": [
      "798\n"
     ]
    }
   ],
   "source": [
    "# now find overlap chart ids\n",
    "overlapped_charts = pd.merge(df_codeall[['chart_id']].drop_duplicates(),df_pred1[['chart_id']].drop_duplicates(), how = 'inner')\n",
    "overlapped_charts = list(overlapped_charts['chart_id'].unique())\n",
    "print(len(overlapped_charts))  "
   ]
  },
  {
   "cell_type": "code",
   "execution_count": 222,
   "metadata": {},
   "outputs": [
    {
     "data": {
      "text/plain": [
       "60131"
      ]
     },
     "execution_count": 222,
     "metadata": {},
     "output_type": "execute_result"
    }
   ],
   "source": [
    "# select the model output\n",
    "fd_prod = df_pred1[['chart_id','code','start_offset','end_offset','text75','pred']][df_pred1['chart_id'].isin(overlapped_charts)].drop_duplicates()\n",
    "len(fd_prod)"
   ]
  },
  {
   "cell_type": "code",
   "execution_count": 223,
   "metadata": {},
   "outputs": [
    {
     "data": {
      "text/plain": [
       "1    37019\n",
       "0    23112\n",
       "Name: pred, dtype: int64"
      ]
     },
     "execution_count": 223,
     "metadata": {},
     "output_type": "execute_result"
    }
   ],
   "source": [
    "fd_prod['pred'].value_counts()  # 1 delete"
   ]
  },
  {
   "cell_type": "code",
   "execution_count": 224,
   "metadata": {},
   "outputs": [
    {
     "name": "stdout",
     "output_type": "stream",
     "text": [
      "30057\n",
      "17974\n",
      "3232\n",
      "8851\n"
     ]
    }
   ],
   "source": [
    "# select those in the code output\n",
    "data = df_codeall[df_codeall['chart_id'].isin(overlapped_charts)]\n",
    "print(len(data))\n",
    "print(len(data[data['label'] == 'added']))\n",
    "print(len(data[data['label'] == 'deleted']))\n",
    "print(len(data[data['label'] == 'agreed']))"
   ]
  },
  {
   "cell_type": "markdown",
   "metadata": {},
   "source": [
    "#### The accurary number for the pipeline models"
   ]
  },
  {
   "cell_type": "code",
   "execution_count": 225,
   "metadata": {},
   "outputs": [
    {
     "name": "stdout",
     "output_type": "stream",
     "text": [
      "16098\n",
      "770\n",
      "9168\n"
     ]
    }
   ],
   "source": [
    "# Use fuzzy logic to compute the deleted, added, agreed\n",
    "data = data[data['start'] != 0]\n",
    "data = data[data['end'] != 0]\n",
    "#data = data[data['created_at'] == date ] ##Change date to filter for datewise data\n",
    "#label_counts = data.groupby(['label']).size().reset_index(name='counts')\n",
    "instmatches = data[data['label'] == 'agreed']\n",
    "instfuzzymatches = data[data['label'] == 'deleted']\n",
    "instfuzzymatches = instfuzzymatches[instfuzzymatches['deleted_reason'].isin(['Incorrect Specification - Non-Risk Adjusted','repeated_instance','incorrect_year_of_service']) ]\n",
    "instmatches = pd.concat([instmatches, instfuzzymatches])\n",
    "instmatches = instmatches[['chart_id','submission_id','code_id','start']].drop_duplicates()\n",
    "\n",
    "instdeleted = data[data['label'] == 'deleted']\n",
    "instdeleted = instdeleted[instdeleted['deleted_reason'] != 'other']\n",
    "instdeleted = pd.merge(instdeleted, instmatches,how = 'outer', on = ['chart_id','submission_id','code_id','start'], indicator = True)\n",
    "instdeleted = instdeleted[instdeleted['_merge'] == 'left_only']\n",
    "instdeleted = instdeleted[['chart_id','submission_id','code_id','start','deleted_reason']].drop_duplicates()\n",
    "deleted_reason = instdeleted.groupby(['deleted_reason']).size().reset_index(name = 'counts')\n",
    "instdeleted = instdeleted[['chart_id','submission_id','code_id','start']].drop_duplicates()\n",
    "\n",
    "\n",
    "instadded = data[data['label'] == 'added']\n",
    "instadded = pd.merge(instadded, instmatches,how = 'outer', on = ['chart_id','submission_id','code_id','start'], indicator = True)\n",
    "instadded = instadded[instadded['_merge'] == 'left_only']\n",
    "instadded = instadded[['chart_id','submission_id','code_id','start','end']].drop_duplicates()\n",
    "instadded = pd.merge(instadded, instdeleted,how = 'outer', on = ['chart_id','submission_id','code_id','start'], indicator = True)\n",
    "instadded = instadded[instadded['_merge'] == 'left_only']\n",
    "instadded = instadded[['chart_id','submission_id','code_id','start','end']].drop_duplicates()\n",
    "\n",
    "added = len(instadded)\n",
    "deleted = len(instdeleted)\n",
    "agreed = len(instmatches)\n",
    "print(added)\n",
    "print(deleted)\n",
    "print(agreed)"
   ]
  },
  {
   "cell_type": "code",
   "execution_count": 226,
   "metadata": {},
   "outputs": [
    {
     "data": {
      "text/plain": [
       "60131"
      ]
     },
     "execution_count": 226,
     "metadata": {},
     "output_type": "execute_result"
    }
   ],
   "source": [
    "len(fd_prod)"
   ]
  },
  {
   "cell_type": "code",
   "execution_count": 227,
   "metadata": {},
   "outputs": [],
   "source": [
    "instadded.columns = ['chart_id', 'submission_id', 'code_id', 'start_offset', 'end_offset']\n",
    "prod_additions_models = pd.merge(instadded, fd_prod,how = 'inner', on = ['chart_id'], indicator = True)\n",
    "prod_additions_models['abs_diff_start'] = abs(prod_additions_models['start_offset_x'] - prod_additions_models['start_offset_y'])\n",
    "prod_additions_models['abs_diff_end'] = abs(prod_additions_models['end_offset_x'] - prod_additions_models['end_offset_y'])\n",
    "prod_additions_models1 = prod_additions_models[ (\n",
    "                    (prod_additions_models['code_id'] == prod_additions_models['code']) \n",
    "                    & (prod_additions_models['abs_diff_start'] <= 75))\n",
    "          | (prod_additions_models['start_offset_x'] == prod_additions_models['start_offset_y'])\n",
    "          | (prod_additions_models['end_offset_x'] == prod_additions_models['end_offset_y'])\n",
    "          |((prod_additions_models['code_id'] == prod_additions_models['code']) \n",
    "                    & (prod_additions_models['abs_diff_end'] <= 75))\n",
    "          ]\n",
    "instadded_modeldeleted = prod_additions_models1[['chart_id','submission_id','code','start_offset_y','end_offset_y']].drop_duplicates()"
   ]
  },
  {
   "cell_type": "code",
   "execution_count": 228,
   "metadata": {},
   "outputs": [
    {
     "data": {
      "text/plain": [
       "15128"
      ]
     },
     "execution_count": 228,
     "metadata": {},
     "output_type": "execute_result"
    }
   ],
   "source": [
    "len(instadded_modeldeleted)"
   ]
  },
  {
   "cell_type": "code",
   "execution_count": 229,
   "metadata": {},
   "outputs": [
    {
     "name": "stdout",
     "output_type": "stream",
     "text": [
      "TP: 9168\n",
      "TN: 48048\n",
      "FN: 16098\n",
      "FP: 770\n",
      "precision: 0.9225196216542564\n",
      "recall: 0.3628591783424365\n",
      "accuracy: 0.7723125101236434\n",
      "-------------------\n",
      "Agreements =  9168\n",
      "Deletions =  770\n",
      "Additions =  16098\n"
     ]
    }
   ],
   "source": [
    "# initial numbers considering all the additions data for recall\n",
    "\n",
    "total = len(instmatches) + len(instdeleted) + len(instadded)\n",
    "added = len(instadded)\n",
    "deleted = len(instdeleted)\n",
    "agreed = len(instmatches)\n",
    "\n",
    "TP = agreed\n",
    "FN = added\n",
    "FP = deleted\n",
    "TN= len(fd_prod)-(len(data)-len(data[data['label'] == 'added']))\n",
    "\n",
    "\n",
    "precision=TP/(FP+TP)\n",
    "recall=TP/(FN+TP)\n",
    "accuracy=(TP+TN)/(TP+TN+FN+FP)\n",
    "\n",
    "print('TP:',TP)\n",
    "print('TN:',TN)\n",
    "print('FN:',FN)\n",
    "print('FP:',FP)\n",
    "print('precision:',precision)\n",
    "print('recall:',recall)\n",
    "print('accuracy:',accuracy)\n",
    "\n",
    "print('-------------------')\n",
    "print('Agreements = ', agreed)\n",
    "print('Deletions = ', deleted)\n",
    "print('Additions = ', added)"
   ]
  },
  {
   "cell_type": "code",
   "execution_count": 230,
   "metadata": {},
   "outputs": [
    {
     "name": "stdout",
     "output_type": "stream",
     "text": [
      "TP: 9168\n",
      "TN: 48048\n",
      "FN: 15128\n",
      "FP: 770\n",
      "precision: 0.9225196216542564\n",
      "recall: 0.377346065195917\n",
      "accuracy: 0.7825587438794211\n",
      "-------------------\n",
      "Agreements =  9168\n",
      "Deletions =  770\n",
      "Additions =  15128\n"
     ]
    }
   ],
   "source": [
    "# initial numbers considering model deleted additions data for recall\n",
    "\n",
    "total = len(instmatches) + len(instdeleted) + len(instadded_modeldeleted)\n",
    "added = len(instadded_modeldeleted)\n",
    "deleted = len(instdeleted)\n",
    "agreed = len(instmatches)\n",
    "\n",
    "TP = agreed\n",
    "FN = added\n",
    "FP = deleted\n",
    "TN1= len(fd_prod)-(len(data)-len(data[data['label'] == 'added']))\n",
    "\n",
    "precision=TP/(FP+TP)\n",
    "recall=TP/(FN+TP)\n",
    "accuracy=(TP+TN)/(TP+TN+FN+FP)\n",
    "\n",
    "print('TP:',TP)\n",
    "print('TN:',TN)\n",
    "print('FN:',FN)\n",
    "print('FP:',FP)\n",
    "print('precision:',precision)\n",
    "print('recall:',recall)\n",
    "print('accuracy:',accuracy)\n",
    "\n",
    "print('-------------------')\n",
    "print('Agreements = ', agreed)\n",
    "print('Deletions = ', deleted)\n",
    "print('Additions = ', added)"
   ]
  },
  {
   "cell_type": "markdown",
   "metadata": {},
   "source": [
    "####  Refreshed  Model accuracy numbers"
   ]
  },
  {
   "cell_type": "code",
   "execution_count": 231,
   "metadata": {},
   "outputs": [
    {
     "name": "stdout",
     "output_type": "stream",
     "text": [
      "76766\n"
     ]
    }
   ],
   "source": [
    "print(len(df_pred1))   # model output with all the instances"
   ]
  },
  {
   "cell_type": "code",
   "execution_count": 232,
   "metadata": {},
   "outputs": [
    {
     "name": "stdout",
     "output_type": "stream",
     "text": [
      "60131\n"
     ]
    }
   ],
   "source": [
    "print(len(fd_prod))  # already selected  the 798 chart  from previous steps"
   ]
  },
  {
   "cell_type": "code",
   "execution_count": 233,
   "metadata": {},
   "outputs": [
    {
     "data": {
      "text/plain": [
       "chart_id        object\n",
       "code            object\n",
       "start_offset     int64\n",
       "end_offset       int64\n",
       "text75          object\n",
       "pred             int64\n",
       "dtype: object"
      ]
     },
     "execution_count": 233,
     "metadata": {},
     "output_type": "execute_result"
    }
   ],
   "source": [
    "fd_prod.dtypes"
   ]
  },
  {
   "cell_type": "code",
   "execution_count": 234,
   "metadata": {},
   "outputs": [
    {
     "name": "stdout",
     "output_type": "stream",
     "text": [
      "TN: 37019\n"
     ]
    }
   ],
   "source": [
    "TN=len(fd_prod[fd_prod['pred']==1])  # deleted instances but it's not TN true negative\n",
    "print(\"TN:\",TN)"
   ]
  },
  {
   "cell_type": "code",
   "execution_count": 235,
   "metadata": {},
   "outputs": [
    {
     "data": {
      "text/plain": [
       "23112"
      ]
     },
     "execution_count": 235,
     "metadata": {},
     "output_type": "execute_result"
    }
   ],
   "source": [
    "# select those 708 charts and only passed the filtering not deleted, 0 is keep here\n",
    "dev_df_sub_1 = fd_prod[fd_prod['pred']==0]  # select the 798 chart\n",
    "len(dev_df_sub_1[['chart_id','start_offset']].drop_duplicates())  # 36701 pass through"
   ]
  },
  {
   "cell_type": "code",
   "execution_count": 236,
   "metadata": {},
   "outputs": [],
   "source": [
    "dev_df_sub_1.rename(columns={'start_offset':'start','end_offset':'end'},inplace=True)"
   ]
  },
  {
   "cell_type": "code",
   "execution_count": 237,
   "metadata": {},
   "outputs": [],
   "source": [
    "dev_df_sub_1.rename(columns={'code':'code_id'},inplace=True)"
   ]
  },
  {
   "cell_type": "code",
   "execution_count": 238,
   "metadata": {},
   "outputs": [],
   "source": [
    "new_matches = pd.merge(dev_df_sub_1[['chart_id','start']], instmatches,how = 'inner', on = ['chart_id','start'], indicator = True)\n",
    "new_deleted = pd.merge(dev_df_sub_1[['chart_id','start']], instdeleted,how = 'inner', on = ['chart_id','start'], indicator = True)"
   ]
  },
  {
   "cell_type": "code",
   "execution_count": 239,
   "metadata": {},
   "outputs": [],
   "source": [
    "instadded.columns = ['chart_id', 'submission_id', 'code_id', 'start', 'end']\n",
    "new_added = pd.merge(dev_df_sub_1, instadded,how = 'inner', on = ['chart_id'], indicator = True)\n",
    "new_added['abs_diff_start'] = abs(new_added['start_x'] - new_added['start_y'])\n",
    "new_added['abs_diff_end'] = abs(new_added['end_x'] - new_added['end_y'])"
   ]
  },
  {
   "cell_type": "code",
   "execution_count": 240,
   "metadata": {},
   "outputs": [],
   "source": [
    "new_added1 = new_added[ (\n",
    "                    (new_added['code_id_x'] == new_added['code_id_y']) \n",
    "                    & (new_added['abs_diff_start'] <= 5))\n",
    "          | (new_added['start_x'] == new_added['start_y'])\n",
    "          ]"
   ]
  },
  {
   "cell_type": "code",
   "execution_count": 241,
   "metadata": {},
   "outputs": [],
   "source": [
    "#1. if the start offset matches exactly\n",
    "#2. If the end offset matches exactly\n",
    "#3. If the overlap of start offset is between 75 characters and the code id matches\n",
    "#4. If the overlap of end offset is between 75 characters and the code id matches\n",
    "new_added2 = new_added[ (\n",
    "                    (new_added['code_id_x'] == new_added['code_id_y']) \n",
    "                    & (new_added['abs_diff_start'] <= 75))\n",
    "          | (new_added['start_x'] == new_added['start_y'])\n",
    "          | (new_added['end_x'] == new_added['end_y'])\n",
    "          |((new_added['code_id_x'] == new_added['code_id_y']) \n",
    "                    & (new_added['abs_diff_end'] <= 75))\n",
    "          ]"
   ]
  },
  {
   "cell_type": "code",
   "execution_count": 242,
   "metadata": {},
   "outputs": [
    {
     "data": {
      "text/plain": [
       "Index(['chart_id', 'submission_id', 'code', 'start_offset_y', 'end_offset_y'], dtype='object')"
      ]
     },
     "execution_count": 242,
     "metadata": {},
     "output_type": "execute_result"
    }
   ],
   "source": [
    "instadded_modeldeleted.columns"
   ]
  },
  {
   "cell_type": "code",
   "execution_count": 243,
   "metadata": {},
   "outputs": [
    {
     "data": {
      "text/plain": [
       "9350"
      ]
     },
     "execution_count": 243,
     "metadata": {},
     "output_type": "execute_result"
    }
   ],
   "source": [
    "#just validating the additions with a different method of calculation\n",
    "instadded_modeldeleted.columns = ['chart_id', 'submission_id', 'code_id', 'start', 'end']\n",
    "x = pd.merge(dev_df_sub_1[['chart_id','start']].drop_duplicates()\n",
    "             , instadded_modeldeleted[['chart_id','start']].drop_duplicates()\n",
    "             ,how = 'inner', on = ['chart_id','start'], indicator = True)\n",
    "len(x)"
   ]
  },
  {
   "cell_type": "code",
   "execution_count": 244,
   "metadata": {},
   "outputs": [
    {
     "name": "stdout",
     "output_type": "stream",
     "text": [
      "7578\n",
      "497\n",
      "6679\n",
      "9350\n"
     ]
    }
   ],
   "source": [
    "print(len(new_matches))\n",
    "print(len(new_deleted))\n",
    "print(len(new_added1[['chart_id','start_x']].drop_duplicates()))\n",
    "print(len(new_added2[['chart_id','start_x']].drop_duplicates()))"
   ]
  },
  {
   "cell_type": "code",
   "execution_count": 245,
   "metadata": {},
   "outputs": [
    {
     "name": "stdout",
     "output_type": "stream",
     "text": [
      "14257\n",
      "8855\n",
      "8449\n",
      "--------\n",
      "16928\n",
      "6184\n",
      "5778\n"
     ]
    }
   ],
   "source": [
    "#type 1 - older number of additions considering only start offset\n",
    "refreshed_agreements1 = int(len(new_matches)) + int(len(new_added1[['chart_id','start_x']].drop_duplicates()))\n",
    "refreshed_deletions1 = int(len(dev_df_sub_1[['chart_id','start']].drop_duplicates())) - (int(len(new_matches)) + int(len(new_added1[['chart_id','start_x']].drop_duplicates()))) \n",
    "refreshed_additions1 = added - int(len(new_added1[['chart_id','start_x']].drop_duplicates()))\n",
    "\n",
    "#type 2 - new number of additions considering start offset and end offset\n",
    "refreshed_agreements2 = int(len(new_matches)) + int(len(new_added2[['chart_id','start_x']].drop_duplicates()))\n",
    "refreshed_deletions2 = int(len(dev_df_sub_1[['chart_id','start']].drop_duplicates())) - (int(len(new_matches)) + int(len(new_added2[['chart_id','start_x']].drop_duplicates()))) \n",
    "refreshed_additions2 = added - int(len(new_added2[['chart_id','start_x']].drop_duplicates()))\n",
    "\n",
    "print(refreshed_agreements1)\n",
    "print(refreshed_deletions1)\n",
    "print(refreshed_additions1)\n",
    "print(\"--------\")\n",
    "print(refreshed_agreements2)\n",
    "print(refreshed_deletions2)\n",
    "print(refreshed_additions2)"
   ]
  },
  {
   "cell_type": "code",
   "execution_count": 246,
   "metadata": {},
   "outputs": [
    {
     "name": "stdout",
     "output_type": "stream",
     "text": [
      "31561\n",
      "28890\n"
     ]
    }
   ],
   "source": [
    "refreshed_total1 = refreshed_agreements1 + refreshed_deletions1 + refreshed_additions1\n",
    "refreshed_total2 = refreshed_agreements2 + refreshed_deletions2 + refreshed_additions2\n",
    "print(refreshed_total1)\n",
    "print(refreshed_total2)"
   ]
  },
  {
   "cell_type": "code",
   "execution_count": 247,
   "metadata": {},
   "outputs": [
    {
     "name": "stdout",
     "output_type": "stream",
     "text": [
      "Instance level New Models:\n",
      "Agreements =  45.17283989734165 %\n",
      "Deletions =  28.056778936028643 %\n",
      "Additions =  26.7703811666297 %\n",
      "Precision =  61.686569747317414 %\n",
      "Recall =  62.78957103849203 %\n",
      "-------------------\n",
      "Agreements =  14257\n",
      "Deletions =  8855\n",
      "Additions =  8449\n",
      "TP: 14257\n",
      "TN: 28570\n",
      "FN: 8449\n",
      "FP: 8855\n",
      "precision: 0.6168656974731741\n",
      "recall: 0.6278957103849203\n",
      "accuracy: 0.7122283015416341\n"
     ]
    }
   ],
   "source": [
    "#type 1 calculation\n",
    "\n",
    "print('Instance level New Models:')\n",
    "print('Agreements = ', refreshed_agreements1*100/refreshed_total1,'%')\n",
    "print('Deletions = ', refreshed_deletions1*100/refreshed_total1,'%')\n",
    "print('Additions = ', refreshed_additions1*100/refreshed_total1,'%')\n",
    "print('Precision = ', refreshed_agreements1*100/(refreshed_agreements1+refreshed_deletions1),'%')\n",
    "print('Recall = ', refreshed_agreements1*100/(refreshed_agreements1+refreshed_additions1),'%')\n",
    "print('-------------------')\n",
    "print('Agreements = ', refreshed_agreements1)\n",
    "print('Deletions = ', refreshed_deletions1)\n",
    "print('Additions = ', refreshed_additions1)\n",
    "\n",
    "TP = refreshed_agreements1\n",
    "FP = refreshed_deletions1\n",
    "FN = refreshed_additions1\n",
    "\n",
    "TN=len(fd_prod[fd_prod['pred']==1])-FN # deleted instances\n",
    "\n",
    "precision=TP/(FP+TP)\n",
    "recall=TP/(FN+TP)\n",
    "accuracy=(TP+TN)/(TP+TN+FN+FP)\n",
    "\n",
    "print('TP:',TP)\n",
    "print('TN:',TN)\n",
    "print('FN:',FN)\n",
    "print('FP:',FP)\n",
    "print('precision:',precision)\n",
    "print('recall:',recall)\n",
    "print('accuracy:',accuracy)\n"
   ]
  },
  {
   "cell_type": "code",
   "execution_count": 248,
   "metadata": {
    "scrolled": true
   },
   "outputs": [
    {
     "name": "stdout",
     "output_type": "stream",
     "text": [
      "Instance level New Models:\n",
      "Agreements =  58.594669435790934 %\n",
      "Deletions =  21.40533056420907 %\n",
      "Additions =  20.0 %\n",
      "Precision =  73.24333679473867 %\n",
      "Recall =  74.55298159076897 %\n",
      "-------------------\n",
      "Agreements =  16928\n",
      "Deletions =  6184\n",
      "Additions =  5778\n",
      "TP: 16928\n",
      "TN: 31241\n",
      "FN: 5778\n",
      "FP: 6184\n",
      "precision: 0.7324333679473867\n",
      "recall: 0.7455298159076896\n",
      "accuracy: 0.8010676689228517\n"
     ]
    }
   ],
   "source": [
    "#type 2 calculation\n",
    "\n",
    "print('Instance level New Models:')\n",
    "print('Agreements = ', refreshed_agreements2*100/refreshed_total2,'%')\n",
    "print('Deletions = ', refreshed_deletions2*100/refreshed_total2,'%')\n",
    "print('Additions = ', refreshed_additions2*100/refreshed_total2,'%')\n",
    "print('Precision = ', refreshed_agreements2*100/(refreshed_agreements2+refreshed_deletions2),'%')\n",
    "print('Recall = ', refreshed_agreements2*100/(refreshed_agreements2+refreshed_additions2),'%')\n",
    "print('-------------------')\n",
    "print('Agreements = ', refreshed_agreements2)\n",
    "print('Deletions = ', refreshed_deletions2)\n",
    "print('Additions = ', refreshed_additions2)\n",
    "\n",
    "\n",
    "\n",
    "TP = refreshed_agreements2\n",
    "FP = refreshed_deletions2\n",
    "FN = refreshed_additions2\n",
    "\n",
    "TN=len(fd_prod[fd_prod['pred']==1])-FN  # deleted instances\n",
    "\n",
    "precision=TP/(FP+TP)\n",
    "recall=TP/(FN+TP)\n",
    "accuracy=(TP+TN)/(TP+TN+FN+FP)\n",
    "\n",
    "print('TP:',TP)\n",
    "print('TN:',TN)\n",
    "print('FN:',FN)\n",
    "print('FP:',FP)\n",
    "print('precision:',precision)\n",
    "print('recall:',recall)\n",
    "print('accuracy:',accuracy)\n",
    "\n"
   ]
  }
 ],
 "metadata": {
  "kernelspec": {
   "display_name": "Python 3",
   "language": "python",
   "name": "python3"
  },
  "language_info": {
   "codemirror_mode": {
    "name": "ipython",
    "version": 3
   },
   "file_extension": ".py",
   "mimetype": "text/x-python",
   "name": "python",
   "nbconvert_exporter": "python",
   "pygments_lexer": "ipython3",
   "version": "3.6.8"
  }
 },
 "nbformat": 4,
 "nbformat_minor": 2
}
